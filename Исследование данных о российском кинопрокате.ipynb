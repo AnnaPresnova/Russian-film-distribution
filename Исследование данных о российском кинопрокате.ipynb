{
 "cells": [
  {
   "cell_type": "markdown",
   "metadata": {},
   "source": [
    "# Проектная работа"
   ]
  },
  {
   "cell_type": "markdown",
   "metadata": {
    "id": "sIfNaMOxgFyK"
   },
   "source": [
    "## Исследование данных о российском кинопрокате\n",
    "\n"
   ]
  },
  {
   "cell_type": "markdown",
   "metadata": {},
   "source": [
    "**Описание проекта**: заказчик исследования — Министерство культуры Российской Федерации. \n",
    "Работа будет осуществляться с данными, опубликованными на портале открытых данных Министерства культуры. \n",
    "Будет проведен анализ фильмов российского кинопроката, часть которых получили государственную поддержку.\n",
    "Набор данных содержит информацию о прокатных удостоверениях, сборах и государственной поддержке фильмов, а также информацию с сайта КиноПоиск.\n",
    "\n",
    "**Цель исследования**: выявить текущие тренды рынка российского кинопроката, проанализировать, насколько интересны зрителю фильмы, получившие государственную поддержку.\n",
    "    \n",
    "**План работы**: \n",
    "* объединение данных о прокатных удостоверениях с данными о прокате в российских кинотеатрах,\n",
    "* предобработка данных: преобразование типов данных, заполнение пропусков, обработка дубликатов, исправление проблемных категориальных и количественных значений,\n",
    "* добавление новых столбцов: год проката, ФИ главного режиссера, основной жанр,\n",
    "* расчет доли гос поддержки,\n",
    "* исследовательский анализ данных: \n",
    "1. анализ проката: динамика проката, доля фильмов с информацией о прокате, \n",
    "2. анализ суммы сборов: минимальное, максимальное значения, медиана и среднее значение\n",
    "3. анализ возрастного ограничения: влияние на сборы, динамика по годам,\n",
    "* исследование фильмов с гос поддержкой: окупаемость, анализ рейтинга и сборов,\n",
    "* Общий вывод."
   ]
  },
  {
   "cell_type": "code",
   "execution_count": 1,
   "metadata": {},
   "outputs": [],
   "source": [
    "# импортируем все необходимые библиотеки\n",
    "\n",
    "import pandas as pd\n",
    "\n",
    "import matplotlib.pyplot as plt\n",
    "\n",
    "import numpy as np\n",
    "\n",
    "import seaborn as sns\n",
    "\n",
    "# настройка вывода формата числа\n",
    "\n",
    "pd.options.display.float_format = '{:.2f}'.format"
   ]
  },
  {
   "cell_type": "markdown",
   "metadata": {
    "id": "3bSlkCsbgFyL"
   },
   "source": [
    "### Шаг 1. Откроем файлы с данными и объединим их в один датафрейм. \n",
    "\n"
   ]
  },
  {
   "cell_type": "code",
   "execution_count": 2,
   "metadata": {},
   "outputs": [],
   "source": [
    "# прочитаем файл mkrf_movies\n",
    "\n",
    "server_path = '/datasets/mkrf_movies.csv'   #сохраняем путь к файлу на сервере \n",
    "local_path= 'C:\\\\Users\\\\Анна\\\\Documents\\\\Проекты\\\\mkrf_movies.csv'               #сохраняем путь к файлу на компьютере \n",
    "\n",
    "try:\n",
    "    mkrf_movies = pd.read_csv(server_path)    #пробуем найти данные по сетевому адресу\n",
    "except: \n",
    "    mkrf_movies = pd.read_csv(local_path)     #если не находим по сетевому, ищем по локальному"
   ]
  },
  {
   "cell_type": "code",
   "execution_count": 3,
   "metadata": {},
   "outputs": [],
   "source": [
    "# прочитаем файл mkrf_shows\n",
    "\n",
    "server_path = '/datasets/mkrf_shows.csv'   #сохраняем путь к файлу на сервере \n",
    "local_path= 'C:\\\\Users\\\\Анна\\\\Documents\\\\Проекты\\\\mkrf_shows.csv'               #сохраняем путь к файлу на компьютере \n",
    "\n",
    "try:\n",
    "    mkrf_shows = pd.read_csv(server_path)    #пробуем найти данные по сетевому адресу\n",
    "except: \n",
    "    mkrf_shows = pd.read_csv(local_path)     #если не находим по сетевому, ищем по локальному"
   ]
  },
  {
   "cell_type": "code",
   "execution_count": 4,
   "metadata": {},
   "outputs": [
    {
     "data": {
      "text/html": [
       "<div>\n",
       "<style scoped>\n",
       "    .dataframe tbody tr th:only-of-type {\n",
       "        vertical-align: middle;\n",
       "    }\n",
       "\n",
       "    .dataframe tbody tr th {\n",
       "        vertical-align: top;\n",
       "    }\n",
       "\n",
       "    .dataframe thead th {\n",
       "        text-align: right;\n",
       "    }\n",
       "</style>\n",
       "<table border=\"1\" class=\"dataframe\">\n",
       "  <thead>\n",
       "    <tr style=\"text-align: right;\">\n",
       "      <th></th>\n",
       "      <th>title</th>\n",
       "      <th>puNumber</th>\n",
       "      <th>show_start_date</th>\n",
       "      <th>type</th>\n",
       "      <th>film_studio</th>\n",
       "      <th>production_country</th>\n",
       "      <th>director</th>\n",
       "      <th>producer</th>\n",
       "      <th>age_restriction</th>\n",
       "      <th>refundable_support</th>\n",
       "      <th>nonrefundable_support</th>\n",
       "      <th>budget</th>\n",
       "      <th>financing_source</th>\n",
       "      <th>ratings</th>\n",
       "      <th>genres</th>\n",
       "    </tr>\n",
       "  </thead>\n",
       "  <tbody>\n",
       "    <tr>\n",
       "      <th>0</th>\n",
       "      <td>Открытый простор</td>\n",
       "      <td>221048915</td>\n",
       "      <td>2015-11-27T12:00:00.000Z</td>\n",
       "      <td>Художественный</td>\n",
       "      <td>Тачстоун Пикчерз, Кобальт Пикчерз, Бикон Пикче...</td>\n",
       "      <td>США</td>\n",
       "      <td>Кевин Костнер</td>\n",
       "      <td>Дэвид Валдес, Кевин Костнер, Джейк Эбертс</td>\n",
       "      <td>«18+» - запрещено для детей</td>\n",
       "      <td>NaN</td>\n",
       "      <td>NaN</td>\n",
       "      <td>NaN</td>\n",
       "      <td>NaN</td>\n",
       "      <td>7.2</td>\n",
       "      <td>боевик,драма,мелодрама</td>\n",
       "    </tr>\n",
       "    <tr>\n",
       "      <th>1</th>\n",
       "      <td>Особо важное задание</td>\n",
       "      <td>111013716</td>\n",
       "      <td>2016-09-13T12:00:00.000Z</td>\n",
       "      <td>Художественный</td>\n",
       "      <td>Киностудия \"Мосфильм\"</td>\n",
       "      <td>СССР</td>\n",
       "      <td>Е.Матвеев</td>\n",
       "      <td>NaN</td>\n",
       "      <td>«6+» - для детей старше 6 лет</td>\n",
       "      <td>NaN</td>\n",
       "      <td>NaN</td>\n",
       "      <td>NaN</td>\n",
       "      <td>NaN</td>\n",
       "      <td>6.6</td>\n",
       "      <td>драма,военный</td>\n",
       "    </tr>\n",
       "    <tr>\n",
       "      <th>2</th>\n",
       "      <td>Особо опасен</td>\n",
       "      <td>221038416</td>\n",
       "      <td>2016-10-10T12:00:00.000Z</td>\n",
       "      <td>Художественный</td>\n",
       "      <td>Юниверсал Пикчерз, Кикстарт Продакшнз, Марк Пл...</td>\n",
       "      <td>США</td>\n",
       "      <td>Тимур Бекмамбетов</td>\n",
       "      <td>Джим Лемли, Джейсон Нетер, Марк Е.Платт, Яйн Смит</td>\n",
       "      <td>«18+» - запрещено для детей</td>\n",
       "      <td>NaN</td>\n",
       "      <td>NaN</td>\n",
       "      <td>NaN</td>\n",
       "      <td>NaN</td>\n",
       "      <td>6.8</td>\n",
       "      <td>фантастика,боевик,триллер</td>\n",
       "    </tr>\n",
       "    <tr>\n",
       "      <th>3</th>\n",
       "      <td>Особо опасен</td>\n",
       "      <td>221026916</td>\n",
       "      <td>2016-06-10T12:00:00.000Z</td>\n",
       "      <td>Художественный</td>\n",
       "      <td>Юниверсал Пикчерз, Кикстарт Продакшнз, Марк Пл...</td>\n",
       "      <td>США</td>\n",
       "      <td>Тимур Бекмамбетов</td>\n",
       "      <td>Джим Лемли, Джейсон Нетер, Марк Е.Платт, Яйн Смит</td>\n",
       "      <td>«18+» - запрещено для детей</td>\n",
       "      <td>NaN</td>\n",
       "      <td>NaN</td>\n",
       "      <td>NaN</td>\n",
       "      <td>NaN</td>\n",
       "      <td>6.8</td>\n",
       "      <td>фантастика,боевик,триллер</td>\n",
       "    </tr>\n",
       "    <tr>\n",
       "      <th>4</th>\n",
       "      <td>Особо опасен</td>\n",
       "      <td>221030815</td>\n",
       "      <td>2015-07-29T12:00:00.000Z</td>\n",
       "      <td>Художественный</td>\n",
       "      <td>Юниверсал Пикчерз, Кикстарт Продакшнз, Марк Пл...</td>\n",
       "      <td>США</td>\n",
       "      <td>Тимур Бекмамбетов</td>\n",
       "      <td>Джим Лемли, Джейсон Нетер, Марк Е.Платт, Яйн Смит</td>\n",
       "      <td>«18+» - запрещено для детей</td>\n",
       "      <td>NaN</td>\n",
       "      <td>NaN</td>\n",
       "      <td>NaN</td>\n",
       "      <td>NaN</td>\n",
       "      <td>6.8</td>\n",
       "      <td>фантастика,боевик,триллер</td>\n",
       "    </tr>\n",
       "  </tbody>\n",
       "</table>\n",
       "</div>"
      ],
      "text/plain": [
       "                  title   puNumber           show_start_date            type  \\\n",
       "0      Открытый простор  221048915  2015-11-27T12:00:00.000Z  Художественный   \n",
       "1  Особо важное задание  111013716  2016-09-13T12:00:00.000Z  Художественный   \n",
       "2          Особо опасен  221038416  2016-10-10T12:00:00.000Z  Художественный   \n",
       "3          Особо опасен  221026916  2016-06-10T12:00:00.000Z  Художественный   \n",
       "4          Особо опасен  221030815  2015-07-29T12:00:00.000Z  Художественный   \n",
       "\n",
       "                                         film_studio production_country  \\\n",
       "0  Тачстоун Пикчерз, Кобальт Пикчерз, Бикон Пикче...                США   \n",
       "1                              Киностудия \"Мосфильм\"               СССР   \n",
       "2  Юниверсал Пикчерз, Кикстарт Продакшнз, Марк Пл...                США   \n",
       "3  Юниверсал Пикчерз, Кикстарт Продакшнз, Марк Пл...                США   \n",
       "4  Юниверсал Пикчерз, Кикстарт Продакшнз, Марк Пл...                США   \n",
       "\n",
       "            director                                           producer  \\\n",
       "0      Кевин Костнер          Дэвид Валдес, Кевин Костнер, Джейк Эбертс   \n",
       "1          Е.Матвеев                                                NaN   \n",
       "2  Тимур Бекмамбетов  Джим Лемли, Джейсон Нетер, Марк Е.Платт, Яйн Смит   \n",
       "3  Тимур Бекмамбетов  Джим Лемли, Джейсон Нетер, Марк Е.Платт, Яйн Смит   \n",
       "4  Тимур Бекмамбетов  Джим Лемли, Джейсон Нетер, Марк Е.Платт, Яйн Смит   \n",
       "\n",
       "                 age_restriction  refundable_support  nonrefundable_support  \\\n",
       "0    «18+» - запрещено для детей                 NaN                    NaN   \n",
       "1  «6+» - для детей старше 6 лет                 NaN                    NaN   \n",
       "2    «18+» - запрещено для детей                 NaN                    NaN   \n",
       "3    «18+» - запрещено для детей                 NaN                    NaN   \n",
       "4    «18+» - запрещено для детей                 NaN                    NaN   \n",
       "\n",
       "   budget financing_source ratings                     genres  \n",
       "0     NaN              NaN     7.2     боевик,драма,мелодрама  \n",
       "1     NaN              NaN     6.6              драма,военный  \n",
       "2     NaN              NaN     6.8  фантастика,боевик,триллер  \n",
       "3     NaN              NaN     6.8  фантастика,боевик,триллер  \n",
       "4     NaN              NaN     6.8  фантастика,боевик,триллер  "
      ]
     },
     "metadata": {},
     "output_type": "display_data"
    },
    {
     "data": {
      "text/html": [
       "<div>\n",
       "<style scoped>\n",
       "    .dataframe tbody tr th:only-of-type {\n",
       "        vertical-align: middle;\n",
       "    }\n",
       "\n",
       "    .dataframe tbody tr th {\n",
       "        vertical-align: top;\n",
       "    }\n",
       "\n",
       "    .dataframe thead th {\n",
       "        text-align: right;\n",
       "    }\n",
       "</style>\n",
       "<table border=\"1\" class=\"dataframe\">\n",
       "  <thead>\n",
       "    <tr style=\"text-align: right;\">\n",
       "      <th></th>\n",
       "      <th>puNumber</th>\n",
       "      <th>box_office</th>\n",
       "    </tr>\n",
       "  </thead>\n",
       "  <tbody>\n",
       "    <tr>\n",
       "      <th>0</th>\n",
       "      <td>111000113</td>\n",
       "      <td>2450.00</td>\n",
       "    </tr>\n",
       "    <tr>\n",
       "      <th>1</th>\n",
       "      <td>111000115</td>\n",
       "      <td>61040.00</td>\n",
       "    </tr>\n",
       "    <tr>\n",
       "      <th>2</th>\n",
       "      <td>111000116</td>\n",
       "      <td>153030013.40</td>\n",
       "    </tr>\n",
       "    <tr>\n",
       "      <th>3</th>\n",
       "      <td>111000117</td>\n",
       "      <td>12260956.00</td>\n",
       "    </tr>\n",
       "    <tr>\n",
       "      <th>4</th>\n",
       "      <td>111000118</td>\n",
       "      <td>163684057.79</td>\n",
       "    </tr>\n",
       "  </tbody>\n",
       "</table>\n",
       "</div>"
      ],
      "text/plain": [
       "    puNumber   box_office\n",
       "0  111000113      2450.00\n",
       "1  111000115     61040.00\n",
       "2  111000116 153030013.40\n",
       "3  111000117  12260956.00\n",
       "4  111000118 163684057.79"
      ]
     },
     "metadata": {},
     "output_type": "display_data"
    }
   ],
   "source": [
    "# выведем первые 5 строк каждого датафрейма\n",
    "\n",
    "display(mkrf_movies.head())\n",
    "\n",
    "display(mkrf_shows.head())"
   ]
  },
  {
   "cell_type": "markdown",
   "metadata": {},
   "source": [
    "При объединении таблиц вылезает ошибка, что мы пытаемся объединить таблицы по столбцам с разными типами данных - object и int64.\n",
    "Проверим типы данных в обеих таблицах."
   ]
  },
  {
   "cell_type": "code",
   "execution_count": 5,
   "metadata": {},
   "outputs": [
    {
     "name": "stdout",
     "output_type": "stream",
     "text": [
      "<class 'pandas.core.frame.DataFrame'>\n",
      "RangeIndex: 3158 entries, 0 to 3157\n",
      "Data columns (total 2 columns):\n",
      " #   Column      Non-Null Count  Dtype  \n",
      "---  ------      --------------  -----  \n",
      " 0   puNumber    3158 non-null   int64  \n",
      " 1   box_office  3158 non-null   float64\n",
      "dtypes: float64(1), int64(1)\n",
      "memory usage: 49.5 KB\n",
      "<class 'pandas.core.frame.DataFrame'>\n",
      "RangeIndex: 7486 entries, 0 to 7485\n",
      "Data columns (total 15 columns):\n",
      " #   Column                 Non-Null Count  Dtype  \n",
      "---  ------                 --------------  -----  \n",
      " 0   title                  7486 non-null   object \n",
      " 1   puNumber               7486 non-null   object \n",
      " 2   show_start_date        7486 non-null   object \n",
      " 3   type                   7486 non-null   object \n",
      " 4   film_studio            7468 non-null   object \n",
      " 5   production_country     7484 non-null   object \n",
      " 6   director               7477 non-null   object \n",
      " 7   producer               6918 non-null   object \n",
      " 8   age_restriction        7486 non-null   object \n",
      " 9   refundable_support     332 non-null    float64\n",
      " 10  nonrefundable_support  332 non-null    float64\n",
      " 11  budget                 332 non-null    float64\n",
      " 12  financing_source       332 non-null    object \n",
      " 13  ratings                6519 non-null   object \n",
      " 14  genres                 6510 non-null   object \n",
      "dtypes: float64(3), object(12)\n",
      "memory usage: 877.4+ KB\n"
     ]
    }
   ],
   "source": [
    "# Проверим типы данных в таблицах\n",
    "\n",
    "mkrf_shows.info()\n",
    "\n",
    "mkrf_movies.info()"
   ]
  },
  {
   "cell_type": "markdown",
   "metadata": {},
   "source": [
    "Столбец puNumber в одной таблице имеет тип int64, а во второй - object. Исправим это."
   ]
  },
  {
   "cell_type": "code",
   "execution_count": 6,
   "metadata": {
    "scrolled": true
   },
   "outputs": [
    {
     "name": "stdout",
     "output_type": "stream",
     "text": [
      "<class 'pandas.core.frame.DataFrame'>\n",
      "RangeIndex: 7486 entries, 0 to 7485\n",
      "Data columns (total 15 columns):\n",
      " #   Column                 Non-Null Count  Dtype  \n",
      "---  ------                 --------------  -----  \n",
      " 0   title                  7486 non-null   object \n",
      " 1   puNumber               7485 non-null   float64\n",
      " 2   show_start_date        7486 non-null   object \n",
      " 3   type                   7486 non-null   object \n",
      " 4   film_studio            7468 non-null   object \n",
      " 5   production_country     7484 non-null   object \n",
      " 6   director               7477 non-null   object \n",
      " 7   producer               6918 non-null   object \n",
      " 8   age_restriction        7486 non-null   object \n",
      " 9   refundable_support     332 non-null    float64\n",
      " 10  nonrefundable_support  332 non-null    float64\n",
      " 11  budget                 332 non-null    float64\n",
      " 12  financing_source       332 non-null    object \n",
      " 13  ratings                6519 non-null   object \n",
      " 14  genres                 6510 non-null   object \n",
      "dtypes: float64(4), object(11)\n",
      "memory usage: 877.4+ KB\n"
     ]
    }
   ],
   "source": [
    "# переведем в числовые значения столбец puNumber (некорректные значения заменим на NaN с помощью параметра errors='coerce')\n",
    "\n",
    "mkrf_movies['puNumber'] = pd.to_numeric(mkrf_movies['puNumber'], errors='coerce')\n",
    "\n",
    "# проверяем типы данных\n",
    "\n",
    "mkrf_movies.info()"
   ]
  },
  {
   "cell_type": "code",
   "execution_count": 7,
   "metadata": {
    "scrolled": true
   },
   "outputs": [
    {
     "data": {
      "text/html": [
       "<div>\n",
       "<style scoped>\n",
       "    .dataframe tbody tr th:only-of-type {\n",
       "        vertical-align: middle;\n",
       "    }\n",
       "\n",
       "    .dataframe tbody tr th {\n",
       "        vertical-align: top;\n",
       "    }\n",
       "\n",
       "    .dataframe thead th {\n",
       "        text-align: right;\n",
       "    }\n",
       "</style>\n",
       "<table border=\"1\" class=\"dataframe\">\n",
       "  <thead>\n",
       "    <tr style=\"text-align: right;\">\n",
       "      <th></th>\n",
       "      <th>title</th>\n",
       "      <th>puNumber</th>\n",
       "      <th>show_start_date</th>\n",
       "      <th>type</th>\n",
       "      <th>film_studio</th>\n",
       "      <th>production_country</th>\n",
       "      <th>director</th>\n",
       "      <th>producer</th>\n",
       "      <th>age_restriction</th>\n",
       "      <th>refundable_support</th>\n",
       "      <th>nonrefundable_support</th>\n",
       "      <th>budget</th>\n",
       "      <th>financing_source</th>\n",
       "      <th>ratings</th>\n",
       "      <th>genres</th>\n",
       "      <th>box_office</th>\n",
       "    </tr>\n",
       "  </thead>\n",
       "  <tbody>\n",
       "    <tr>\n",
       "      <th>0</th>\n",
       "      <td>Открытый простор</td>\n",
       "      <td>221048915.00</td>\n",
       "      <td>2015-11-27T12:00:00.000Z</td>\n",
       "      <td>Художественный</td>\n",
       "      <td>Тачстоун Пикчерз, Кобальт Пикчерз, Бикон Пикче...</td>\n",
       "      <td>США</td>\n",
       "      <td>Кевин Костнер</td>\n",
       "      <td>Дэвид Валдес, Кевин Костнер, Джейк Эбертс</td>\n",
       "      <td>«18+» - запрещено для детей</td>\n",
       "      <td>NaN</td>\n",
       "      <td>NaN</td>\n",
       "      <td>NaN</td>\n",
       "      <td>NaN</td>\n",
       "      <td>7.2</td>\n",
       "      <td>боевик,драма,мелодрама</td>\n",
       "      <td>NaN</td>\n",
       "    </tr>\n",
       "    <tr>\n",
       "      <th>1</th>\n",
       "      <td>Особо важное задание</td>\n",
       "      <td>111013716.00</td>\n",
       "      <td>2016-09-13T12:00:00.000Z</td>\n",
       "      <td>Художественный</td>\n",
       "      <td>Киностудия \"Мосфильм\"</td>\n",
       "      <td>СССР</td>\n",
       "      <td>Е.Матвеев</td>\n",
       "      <td>NaN</td>\n",
       "      <td>«6+» - для детей старше 6 лет</td>\n",
       "      <td>NaN</td>\n",
       "      <td>NaN</td>\n",
       "      <td>NaN</td>\n",
       "      <td>NaN</td>\n",
       "      <td>6.6</td>\n",
       "      <td>драма,военный</td>\n",
       "      <td>NaN</td>\n",
       "    </tr>\n",
       "    <tr>\n",
       "      <th>2</th>\n",
       "      <td>Особо опасен</td>\n",
       "      <td>221038416.00</td>\n",
       "      <td>2016-10-10T12:00:00.000Z</td>\n",
       "      <td>Художественный</td>\n",
       "      <td>Юниверсал Пикчерз, Кикстарт Продакшнз, Марк Пл...</td>\n",
       "      <td>США</td>\n",
       "      <td>Тимур Бекмамбетов</td>\n",
       "      <td>Джим Лемли, Джейсон Нетер, Марк Е.Платт, Яйн Смит</td>\n",
       "      <td>«18+» - запрещено для детей</td>\n",
       "      <td>NaN</td>\n",
       "      <td>NaN</td>\n",
       "      <td>NaN</td>\n",
       "      <td>NaN</td>\n",
       "      <td>6.8</td>\n",
       "      <td>фантастика,боевик,триллер</td>\n",
       "      <td>NaN</td>\n",
       "    </tr>\n",
       "    <tr>\n",
       "      <th>3</th>\n",
       "      <td>Особо опасен</td>\n",
       "      <td>221026916.00</td>\n",
       "      <td>2016-06-10T12:00:00.000Z</td>\n",
       "      <td>Художественный</td>\n",
       "      <td>Юниверсал Пикчерз, Кикстарт Продакшнз, Марк Пл...</td>\n",
       "      <td>США</td>\n",
       "      <td>Тимур Бекмамбетов</td>\n",
       "      <td>Джим Лемли, Джейсон Нетер, Марк Е.Платт, Яйн Смит</td>\n",
       "      <td>«18+» - запрещено для детей</td>\n",
       "      <td>NaN</td>\n",
       "      <td>NaN</td>\n",
       "      <td>NaN</td>\n",
       "      <td>NaN</td>\n",
       "      <td>6.8</td>\n",
       "      <td>фантастика,боевик,триллер</td>\n",
       "      <td>NaN</td>\n",
       "    </tr>\n",
       "    <tr>\n",
       "      <th>4</th>\n",
       "      <td>Особо опасен</td>\n",
       "      <td>221030815.00</td>\n",
       "      <td>2015-07-29T12:00:00.000Z</td>\n",
       "      <td>Художественный</td>\n",
       "      <td>Юниверсал Пикчерз, Кикстарт Продакшнз, Марк Пл...</td>\n",
       "      <td>США</td>\n",
       "      <td>Тимур Бекмамбетов</td>\n",
       "      <td>Джим Лемли, Джейсон Нетер, Марк Е.Платт, Яйн Смит</td>\n",
       "      <td>«18+» - запрещено для детей</td>\n",
       "      <td>NaN</td>\n",
       "      <td>NaN</td>\n",
       "      <td>NaN</td>\n",
       "      <td>NaN</td>\n",
       "      <td>6.8</td>\n",
       "      <td>фантастика,боевик,триллер</td>\n",
       "      <td>NaN</td>\n",
       "    </tr>\n",
       "  </tbody>\n",
       "</table>\n",
       "</div>"
      ],
      "text/plain": [
       "                  title     puNumber           show_start_date  \\\n",
       "0      Открытый простор 221048915.00  2015-11-27T12:00:00.000Z   \n",
       "1  Особо важное задание 111013716.00  2016-09-13T12:00:00.000Z   \n",
       "2          Особо опасен 221038416.00  2016-10-10T12:00:00.000Z   \n",
       "3          Особо опасен 221026916.00  2016-06-10T12:00:00.000Z   \n",
       "4          Особо опасен 221030815.00  2015-07-29T12:00:00.000Z   \n",
       "\n",
       "             type                                        film_studio  \\\n",
       "0  Художественный  Тачстоун Пикчерз, Кобальт Пикчерз, Бикон Пикче...   \n",
       "1  Художественный                              Киностудия \"Мосфильм\"   \n",
       "2  Художественный  Юниверсал Пикчерз, Кикстарт Продакшнз, Марк Пл...   \n",
       "3  Художественный  Юниверсал Пикчерз, Кикстарт Продакшнз, Марк Пл...   \n",
       "4  Художественный  Юниверсал Пикчерз, Кикстарт Продакшнз, Марк Пл...   \n",
       "\n",
       "  production_country           director  \\\n",
       "0                США      Кевин Костнер   \n",
       "1               СССР          Е.Матвеев   \n",
       "2                США  Тимур Бекмамбетов   \n",
       "3                США  Тимур Бекмамбетов   \n",
       "4                США  Тимур Бекмамбетов   \n",
       "\n",
       "                                            producer  \\\n",
       "0          Дэвид Валдес, Кевин Костнер, Джейк Эбертс   \n",
       "1                                                NaN   \n",
       "2  Джим Лемли, Джейсон Нетер, Марк Е.Платт, Яйн Смит   \n",
       "3  Джим Лемли, Джейсон Нетер, Марк Е.Платт, Яйн Смит   \n",
       "4  Джим Лемли, Джейсон Нетер, Марк Е.Платт, Яйн Смит   \n",
       "\n",
       "                 age_restriction  refundable_support  nonrefundable_support  \\\n",
       "0    «18+» - запрещено для детей                 NaN                    NaN   \n",
       "1  «6+» - для детей старше 6 лет                 NaN                    NaN   \n",
       "2    «18+» - запрещено для детей                 NaN                    NaN   \n",
       "3    «18+» - запрещено для детей                 NaN                    NaN   \n",
       "4    «18+» - запрещено для детей                 NaN                    NaN   \n",
       "\n",
       "   budget financing_source ratings                     genres  box_office  \n",
       "0     NaN              NaN     7.2     боевик,драма,мелодрама         NaN  \n",
       "1     NaN              NaN     6.6              драма,военный         NaN  \n",
       "2     NaN              NaN     6.8  фантастика,боевик,триллер         NaN  \n",
       "3     NaN              NaN     6.8  фантастика,боевик,триллер         NaN  \n",
       "4     NaN              NaN     6.8  фантастика,боевик,триллер         NaN  "
      ]
     },
     "execution_count": 7,
     "metadata": {},
     "output_type": "execute_result"
    }
   ],
   "source": [
    "# объединим данные в один датафрейм (объединение по левой таблице, чтобы все объекты из датасета `mkrf_movies` обязательно вошли в получившийся датафрейм)\n",
    "\n",
    "df = mkrf_movies.merge(mkrf_shows, on='puNumber', how='left')\n",
    "\n",
    "# посмотрим первые 5 строк таблицы\n",
    "\n",
    "df.head()"
   ]
  },
  {
   "cell_type": "code",
   "execution_count": 8,
   "metadata": {},
   "outputs": [
    {
     "name": "stdout",
     "output_type": "stream",
     "text": [
      "<class 'pandas.core.frame.DataFrame'>\n",
      "RangeIndex: 3158 entries, 0 to 3157\n",
      "Data columns (total 2 columns):\n",
      " #   Column      Non-Null Count  Dtype  \n",
      "---  ------      --------------  -----  \n",
      " 0   puNumber    3158 non-null   int64  \n",
      " 1   box_office  3158 non-null   float64\n",
      "dtypes: float64(1), int64(1)\n",
      "memory usage: 49.5 KB\n",
      "<class 'pandas.core.frame.DataFrame'>\n",
      "Int64Index: 7486 entries, 0 to 7485\n",
      "Data columns (total 16 columns):\n",
      " #   Column                 Non-Null Count  Dtype  \n",
      "---  ------                 --------------  -----  \n",
      " 0   title                  7486 non-null   object \n",
      " 1   puNumber               7485 non-null   float64\n",
      " 2   show_start_date        7486 non-null   object \n",
      " 3   type                   7486 non-null   object \n",
      " 4   film_studio            7468 non-null   object \n",
      " 5   production_country     7484 non-null   object \n",
      " 6   director               7477 non-null   object \n",
      " 7   producer               6918 non-null   object \n",
      " 8   age_restriction        7486 non-null   object \n",
      " 9   refundable_support     332 non-null    float64\n",
      " 10  nonrefundable_support  332 non-null    float64\n",
      " 11  budget                 332 non-null    float64\n",
      " 12  financing_source       332 non-null    object \n",
      " 13  ratings                6519 non-null   object \n",
      " 14  genres                 6510 non-null   object \n",
      " 15  box_office             3158 non-null   float64\n",
      "dtypes: float64(5), object(11)\n",
      "memory usage: 994.2+ KB\n"
     ]
    }
   ],
   "source": [
    "# выполним проверку объединения - сравним, сколько значений в столбце box_office старого и нового датафреймов\n",
    "\n",
    "mkrf_shows.info()\n",
    "\n",
    "df.info()"
   ]
  },
  {
   "cell_type": "markdown",
   "metadata": {},
   "source": [
    "Сравниваем количество значений в столбце box_office: в исходном датафрейме - 3158, в объединенном столбце - тоже 3158. Значит, объединение прошло успешно. Далее работаем с датафреймом df. "
   ]
  },
  {
   "cell_type": "markdown",
   "metadata": {
    "id": "KLDGpPG0gFyM"
   },
   "source": [
    "### Шаг 2. Предобработка данных"
   ]
  },
  {
   "cell_type": "markdown",
   "metadata": {
    "id": "ssWwKXsxgFyO"
   },
   "source": [
    "#### Шаг 2.1. Проверяем типы данных\n",
    "\n",
    "- Проверяем типы данных в датафрейме и преобразуем их там, где это необходимо."
   ]
  },
  {
   "cell_type": "code",
   "execution_count": 9,
   "metadata": {
    "id": "kVGSplJOgFyO",
    "scrolled": false
   },
   "outputs": [
    {
     "name": "stdout",
     "output_type": "stream",
     "text": [
      "<class 'pandas.core.frame.DataFrame'>\n",
      "Int64Index: 7486 entries, 0 to 7485\n",
      "Data columns (total 16 columns):\n",
      " #   Column                 Non-Null Count  Dtype  \n",
      "---  ------                 --------------  -----  \n",
      " 0   title                  7486 non-null   object \n",
      " 1   puNumber               7485 non-null   float64\n",
      " 2   show_start_date        7486 non-null   object \n",
      " 3   type                   7486 non-null   object \n",
      " 4   film_studio            7468 non-null   object \n",
      " 5   production_country     7484 non-null   object \n",
      " 6   director               7477 non-null   object \n",
      " 7   producer               6918 non-null   object \n",
      " 8   age_restriction        7486 non-null   object \n",
      " 9   refundable_support     332 non-null    float64\n",
      " 10  nonrefundable_support  332 non-null    float64\n",
      " 11  budget                 332 non-null    float64\n",
      " 12  financing_source       332 non-null    object \n",
      " 13  ratings                6519 non-null   object \n",
      " 14  genres                 6510 non-null   object \n",
      " 15  box_office             3158 non-null   float64\n",
      "dtypes: float64(5), object(11)\n",
      "memory usage: 994.2+ KB\n"
     ]
    }
   ],
   "source": [
    "# проверяем типы данных\n",
    "\n",
    "df.info()"
   ]
  },
  {
   "cell_type": "markdown",
   "metadata": {},
   "source": [
    "Анализируем, какие типы данных могут помешать нам при дальнейшем анализе:\n",
    "* show_start_date - дату необходимо перевести в формат даты\n",
    "* ratings - рейтинг перевести в числовой формат"
   ]
  },
  {
   "cell_type": "code",
   "execution_count": 10,
   "metadata": {
    "scrolled": true
   },
   "outputs": [],
   "source": [
    "# переводим дату премьеры фильма в формат даты\n",
    "\n",
    "df['show_start_date'] = pd.to_datetime(df['show_start_date'], format='%Y-%m-%dT%H:%M:%S')\n"
   ]
  },
  {
   "cell_type": "code",
   "execution_count": 11,
   "metadata": {
    "scrolled": false
   },
   "outputs": [
    {
     "data": {
      "text/plain": [
       "array(['7.2', '6.6', '6.8', '7.7', '8.3', '8.0', '7.8', '8.1', '7.1',\n",
       "       '6.0', '7.4', '5.8', '8.7', '6.3', '6.9', '5.0', '4.3', '7.3',\n",
       "       '7.0', '6.4', nan, '8.2', '7.5', '6.7', '7.9', '5.9', '6.2', '5.6',\n",
       "       '6.5', '2.4', '7.6', '6.1', '8.6', '8.5', '8.8', '5.5', '5.1',\n",
       "       '5.7', '5.4', '99%', '4.4', '4.5', '5.3', '4.1', '8.4', '2.6',\n",
       "       '3.8', '4.6', '4.8', '4.0', '3.0', '1.6', '4.2', '5.2', '4.7',\n",
       "       '4.9', '3.9', '2.7', '3.3', '2.9', '28%', '3.7', '1.4', '3.1',\n",
       "       '97%', '3.5', '3.2', '2.8', '1.5', '2.1', '2.5', '9.2', '3.4',\n",
       "       '1.1', '3.6', '83%', '64%', '91%', '94%', '62%', '79%', '90%',\n",
       "       '19%', '88%', '1.0', '89%', '1.3', '1.9', '1.8', '1.2', '1.7',\n",
       "       '9.0', '98%', '8.9', '9.1'], dtype=object)"
      ]
     },
     "execution_count": 11,
     "metadata": {},
     "output_type": "execute_result"
    }
   ],
   "source": [
    "# перед тем, как переводить рейтинг в числовой тип данных, посмотрим, какие данные представлены в этом столбце\n",
    "\n",
    "df['ratings'].unique()"
   ]
  },
  {
   "cell_type": "markdown",
   "metadata": {},
   "source": [
    "Видим, что есть числа с плавающей запятой, процентные числа и nan."
   ]
  },
  {
   "cell_type": "code",
   "execution_count": 12,
   "metadata": {
    "scrolled": true
   },
   "outputs": [
    {
     "data": {
      "text/plain": [
       "array([7.2, 6.6, 6.8, 7.7, 8.3, 8. , 7.8, 8.1, 7.1, 6. , 7.4, 5.8, 8.7,\n",
       "       6.3, 6.9, 5. , 4.3, 7.3, 7. , 6.4, 8.2, 7.5, 6.7, 7.9, 5.9, 6.2,\n",
       "       5.6, 6.5, 2.4, 7.6, 6.1, 8.6, 8.5, 8.8, 5.5, 5.1, 5.7, 5.4, 9.9,\n",
       "       4.4, 4.5, 5.3, 4.1, 8.4, 2.6, 3.8, 4.6, 4.8, 4. , 3. , 1.6, 4.2,\n",
       "       5.2, 4.7, 4.9, 3.9, 2.7, 3.3, 2.9, 2.8, 3.7, 1.4, 3.1, 9.7, 3.5,\n",
       "       3.2, 1.5, 2.1, 2.5, 9.2, 3.4, 1.1, 3.6, 9.1, 9.4, 9. , 1.9, 1. ,\n",
       "       8.9, 1.3, 1.8, 1.2, 1.7, 9.8])"
      ]
     },
     "execution_count": 12,
     "metadata": {},
     "output_type": "execute_result"
    }
   ],
   "source": [
    "# с помощью функции преобразуем процентные числа в числа с плавающей запятой\n",
    "\n",
    "def convert_percent(row):\n",
    "    \"\"\"\n",
    "    Преобразование процентной строки в числовое дробное значение:\n",
    "     - удаляет %\n",
    "     - делит на 10, чтобы получить рейтинг, аналогичный рейтингу по десятибальной шкале\n",
    "    \"\"\"\n",
    "    if '%' in row:\n",
    "        new_val = row.replace('%', '')\n",
    "        new_val = float(new_val) \n",
    "        return new_val / 10\n",
    "    return row\n",
    "\n",
    "bool_series = pd.notnull(df['ratings']) \n",
    "df.loc[bool_series, 'ratings'].apply(convert_percent).astype(float).unique()"
   ]
  },
  {
   "cell_type": "code",
   "execution_count": 13,
   "metadata": {},
   "outputs": [],
   "source": [
    "# df.loc[bool_series, 'ratings'] = df.loc[bool_series, 'ratings'].apply(convert_percent) # закомментировала, так как появляется ошибка, подробнее ниже"
   ]
  },
  {
   "cell_type": "code",
   "execution_count": 14,
   "metadata": {},
   "outputs": [],
   "source": [
    "# сохраним результат функции и переведем столбец 'ratings' в числовой тип\n",
    "\n",
    "df.loc[bool_series, 'ratings'] = df.loc[bool_series, 'ratings'].apply(convert_percent)    \n",
    "\n",
    "df['ratings'] = pd.to_numeric(df['ratings'], errors='coerce')\n"
   ]
  },
  {
   "cell_type": "code",
   "execution_count": 15,
   "metadata": {
    "scrolled": true
   },
   "outputs": [
    {
     "data": {
      "text/html": [
       "<div>\n",
       "<style scoped>\n",
       "    .dataframe tbody tr th:only-of-type {\n",
       "        vertical-align: middle;\n",
       "    }\n",
       "\n",
       "    .dataframe tbody tr th {\n",
       "        vertical-align: top;\n",
       "    }\n",
       "\n",
       "    .dataframe thead th {\n",
       "        text-align: right;\n",
       "    }\n",
       "</style>\n",
       "<table border=\"1\" class=\"dataframe\">\n",
       "  <thead>\n",
       "    <tr style=\"text-align: right;\">\n",
       "      <th></th>\n",
       "      <th>title</th>\n",
       "      <th>puNumber</th>\n",
       "      <th>show_start_date</th>\n",
       "      <th>type</th>\n",
       "      <th>film_studio</th>\n",
       "      <th>production_country</th>\n",
       "      <th>director</th>\n",
       "      <th>producer</th>\n",
       "      <th>age_restriction</th>\n",
       "      <th>refundable_support</th>\n",
       "      <th>nonrefundable_support</th>\n",
       "      <th>budget</th>\n",
       "      <th>financing_source</th>\n",
       "      <th>ratings</th>\n",
       "      <th>genres</th>\n",
       "      <th>box_office</th>\n",
       "    </tr>\n",
       "  </thead>\n",
       "  <tbody>\n",
       "    <tr>\n",
       "      <th>259</th>\n",
       "      <td>Прошлое</td>\n",
       "      <td>221030715.00</td>\n",
       "      <td>2015-07-29 12:00:00+00:00</td>\n",
       "      <td>Художественный</td>\n",
       "      <td>20 Сенчюри Фокс де Архентина, Чемо, ЭйчБи Филм...</td>\n",
       "      <td>Аргентина - Бразилия</td>\n",
       "      <td>Эктор Бабенко</td>\n",
       "      <td>Эктор Бабенко, Оскар Крамер, Хуго Сидмэн</td>\n",
       "      <td>«16+» - для детей старше 16 лет</td>\n",
       "      <td>NaN</td>\n",
       "      <td>NaN</td>\n",
       "      <td>NaN</td>\n",
       "      <td>NaN</td>\n",
       "      <td>9.90</td>\n",
       "      <td>ужасы,триллер,драма</td>\n",
       "      <td>NaN</td>\n",
       "    </tr>\n",
       "    <tr>\n",
       "      <th>1341</th>\n",
       "      <td>Сказка о добре и Вре</td>\n",
       "      <td>111008913.00</td>\n",
       "      <td>2013-11-15 12:00:00+00:00</td>\n",
       "      <td>Художественный</td>\n",
       "      <td>НП \"Студия игрового кино \"Лик\"</td>\n",
       "      <td>Россия</td>\n",
       "      <td>Е.Шиляева</td>\n",
       "      <td>К.Терещенко</td>\n",
       "      <td>«6+» - для детей старше 6 лет</td>\n",
       "      <td>NaN</td>\n",
       "      <td>NaN</td>\n",
       "      <td>NaN</td>\n",
       "      <td>NaN</td>\n",
       "      <td>9.90</td>\n",
       "      <td>триллер,драма,детектив</td>\n",
       "      <td>NaN</td>\n",
       "    </tr>\n",
       "    <tr>\n",
       "      <th>1805</th>\n",
       "      <td>Спираль.</td>\n",
       "      <td>111001014.00</td>\n",
       "      <td>2014-01-30 12:00:00+00:00</td>\n",
       "      <td>Художественный</td>\n",
       "      <td>ООО \"Компания Питон\"</td>\n",
       "      <td>Россия</td>\n",
       "      <td>А.Волгин</td>\n",
       "      <td>Е.Ковалева</td>\n",
       "      <td>«12+» - для детей старше 12 лет</td>\n",
       "      <td>NaN</td>\n",
       "      <td>NaN</td>\n",
       "      <td>NaN</td>\n",
       "      <td>NaN</td>\n",
       "      <td>9.90</td>\n",
       "      <td>аниме,мультфильм,ужасы</td>\n",
       "      <td>4295.00</td>\n",
       "    </tr>\n",
       "    <tr>\n",
       "      <th>6882</th>\n",
       "      <td>Животные рядом со Святыми</td>\n",
       "      <td>112003719.00</td>\n",
       "      <td>2019-05-03 12:00:00+00:00</td>\n",
       "      <td>Документальный</td>\n",
       "      <td>ООО \"Кинопрограмма \"XXI век\"</td>\n",
       "      <td>Россия</td>\n",
       "      <td>Т.Мирошник</td>\n",
       "      <td>В.Есинов, Е.Калинина</td>\n",
       "      <td>«0+» - для любой зрительской аудитории</td>\n",
       "      <td>NaN</td>\n",
       "      <td>NaN</td>\n",
       "      <td>NaN</td>\n",
       "      <td>NaN</td>\n",
       "      <td>9.90</td>\n",
       "      <td>криминал,драма</td>\n",
       "      <td>NaN</td>\n",
       "    </tr>\n",
       "  </tbody>\n",
       "</table>\n",
       "</div>"
      ],
      "text/plain": [
       "                          title     puNumber           show_start_date  \\\n",
       "259                     Прошлое 221030715.00 2015-07-29 12:00:00+00:00   \n",
       "1341       Сказка о добре и Вре 111008913.00 2013-11-15 12:00:00+00:00   \n",
       "1805                   Спираль. 111001014.00 2014-01-30 12:00:00+00:00   \n",
       "6882  Животные рядом со Святыми 112003719.00 2019-05-03 12:00:00+00:00   \n",
       "\n",
       "                type                                        film_studio  \\\n",
       "259   Художественный  20 Сенчюри Фокс де Архентина, Чемо, ЭйчБи Филм...   \n",
       "1341  Художественный                     НП \"Студия игрового кино \"Лик\"   \n",
       "1805  Художественный                               ООО \"Компания Питон\"   \n",
       "6882  Документальный                       ООО \"Кинопрограмма \"XXI век\"   \n",
       "\n",
       "        production_country       director  \\\n",
       "259   Аргентина - Бразилия  Эктор Бабенко   \n",
       "1341                Россия      Е.Шиляева   \n",
       "1805                Россия       А.Волгин   \n",
       "6882                Россия     Т.Мирошник   \n",
       "\n",
       "                                      producer  \\\n",
       "259   Эктор Бабенко, Оскар Крамер, Хуго Сидмэн   \n",
       "1341                               К.Терещенко   \n",
       "1805                                Е.Ковалева   \n",
       "6882                      В.Есинов, Е.Калинина   \n",
       "\n",
       "                             age_restriction  refundable_support  \\\n",
       "259          «16+» - для детей старше 16 лет                 NaN   \n",
       "1341           «6+» - для детей старше 6 лет                 NaN   \n",
       "1805         «12+» - для детей старше 12 лет                 NaN   \n",
       "6882  «0+» - для любой зрительской аудитории                 NaN   \n",
       "\n",
       "      nonrefundable_support  budget financing_source  ratings  \\\n",
       "259                     NaN     NaN              NaN     9.90   \n",
       "1341                    NaN     NaN              NaN     9.90   \n",
       "1805                    NaN     NaN              NaN     9.90   \n",
       "6882                    NaN     NaN              NaN     9.90   \n",
       "\n",
       "                      genres  box_office  \n",
       "259      ужасы,триллер,драма         NaN  \n",
       "1341  триллер,драма,детектив         NaN  \n",
       "1805  аниме,мультфильм,ужасы     4295.00  \n",
       "6882          криминал,драма         NaN  "
      ]
     },
     "execution_count": 15,
     "metadata": {},
     "output_type": "execute_result"
    }
   ],
   "source": [
    "df[df['ratings'] == 9.9]"
   ]
  },
  {
   "cell_type": "markdown",
   "metadata": {},
   "source": [
    "Проверив данные фильмы по Кинопоиску делаем вывод, что процентные значения - это вовсе не рейтинг."
   ]
  },
  {
   "cell_type": "code",
   "execution_count": 16,
   "metadata": {},
   "outputs": [
    {
     "name": "stdout",
     "output_type": "stream",
     "text": [
      "<class 'pandas.core.frame.DataFrame'>\n",
      "Int64Index: 7486 entries, 0 to 7485\n",
      "Data columns (total 16 columns):\n",
      " #   Column                 Non-Null Count  Dtype              \n",
      "---  ------                 --------------  -----              \n",
      " 0   title                  7486 non-null   object             \n",
      " 1   puNumber               7485 non-null   float64            \n",
      " 2   show_start_date        7486 non-null   datetime64[ns, UTC]\n",
      " 3   type                   7486 non-null   object             \n",
      " 4   film_studio            7468 non-null   object             \n",
      " 5   production_country     7484 non-null   object             \n",
      " 6   director               7477 non-null   object             \n",
      " 7   producer               6918 non-null   object             \n",
      " 8   age_restriction        7486 non-null   object             \n",
      " 9   refundable_support     332 non-null    float64            \n",
      " 10  nonrefundable_support  332 non-null    float64            \n",
      " 11  budget                 332 non-null    float64            \n",
      " 12  financing_source       332 non-null    object             \n",
      " 13  ratings                6519 non-null   float64            \n",
      " 14  genres                 6510 non-null   object             \n",
      " 15  box_office             3158 non-null   float64            \n",
      "dtypes: datetime64[ns, UTC](1), float64(6), object(9)\n",
      "memory usage: 994.2+ KB\n"
     ]
    }
   ],
   "source": [
    "# проверим типы всех столбцов\n",
    "\n",
    "df.info()"
   ]
  },
  {
   "cell_type": "markdown",
   "metadata": {},
   "source": [
    "Мы поменяли типы данных в нужных местах, чтобы данные стали пригодными для дальнейшего анализа."
   ]
  },
  {
   "cell_type": "markdown",
   "metadata": {
    "id": "i0MOLbF-gFyP"
   },
   "source": [
    "#### Шаг 2.2. Изучим пропуски в датафрейме\n",
    "\n",
    "- Объясним, почему заполнили пропуски определённым образом или почему не стали этого делать."
   ]
  },
  {
   "cell_type": "code",
   "execution_count": 17,
   "metadata": {},
   "outputs": [
    {
     "data": {
      "text/plain": [
       "title                       0\n",
       "puNumber                    1\n",
       "show_start_date             0\n",
       "type                        0\n",
       "film_studio                18\n",
       "production_country          2\n",
       "director                    9\n",
       "producer                  568\n",
       "age_restriction             0\n",
       "refundable_support       7154\n",
       "nonrefundable_support    7154\n",
       "budget                   7154\n",
       "financing_source         7154\n",
       "ratings                   967\n",
       "genres                    976\n",
       "box_office               4328\n",
       "dtype: int64"
      ]
     },
     "execution_count": 17,
     "metadata": {},
     "output_type": "execute_result"
    }
   ],
   "source": [
    "# проверим пропущенные значения\n",
    "\n",
    "df.isna().sum()"
   ]
  },
  {
   "cell_type": "markdown",
   "metadata": {},
   "source": [
    "Пропущенные значения есть в столбцах:\n",
    "* номер прокатного удостоверения - данных для заполнения нет, оставим незаполненным\n",
    "* студия-производитель - не будем заполнять, т к в дальнейшем не используются\n",
    "* страна-производитель - не будем заполнять, т к в дальнейшем не используются\n",
    "* режиссер - значения этого столбца нужны в дальнейшем, но заполнять нечем, т к в большинстве случаев это не фильмы, а концерты\n",
    "* продюсер - не будем заполнять, т к в дальнейшем не используются\n",
    "* refundable_support, nonrefundable_support, financing_source, budget — показатели государственного финансирования. В этом случае пропуски заполнять не нужно, т к пропущенные значения означают, что фильм снимался не за счет гос. средств\n",
    "* рейтинг, жанр, сборы в рублях  - не будем заполнять, т к пропущенных слишком много, чтобы вручную каждый искать и заполнять."
   ]
  },
  {
   "cell_type": "markdown",
   "metadata": {
    "id": "4c6k1t9ygFyQ"
   },
   "source": [
    "#### Шаг 2.3. Изучим дубликаты в датафрейме\n",
    "- Проверим, есть ли в данных дубликаты. Опишем причины, которые могли повлиять на появление дублей."
   ]
  },
  {
   "cell_type": "code",
   "execution_count": 18,
   "metadata": {
    "id": "aKck8RIdgFyQ",
    "scrolled": true
   },
   "outputs": [
    {
     "name": "stdout",
     "output_type": "stream",
     "text": [
      "0\n"
     ]
    }
   ],
   "source": [
    "# проверяем количество грубых дубликатов\n",
    "\n",
    "print(df.duplicated().sum())\n",
    "\n"
   ]
  },
  {
   "cell_type": "markdown",
   "metadata": {},
   "source": [
    "Проверив грубые дубликаты, мы их не обнаружили.\n",
    "Исходя из того, что могут быть еще неявные  дубликаты, проанализируем, в каких столбцах нам не нужны повторы (дубликаты). Это столбцы - название фильма и номер прокатного удостоверения."
   ]
  },
  {
   "cell_type": "code",
   "execution_count": 19,
   "metadata": {
    "scrolled": true
   },
   "outputs": [
    {
     "data": {
      "text/plain": [
       "День святого Валентина_                                        5\n",
       "Там, где живут чудовища                                        4\n",
       "Шерлок Холмс                                                   4\n",
       "Дитя тьмы                                                      4\n",
       "Жена путешественника во времени                                4\n",
       "Знакомство с Факерами 2.                                       4\n",
       "Двойной копец                                                  4\n",
       "Непокоренный.                                                  4\n",
       "Начало_                                                        4\n",
       "Лузеры                                                         4\n",
       "Прощание                                                       4\n",
       "Кошки против собак: Месть Китти Галор                          4\n",
       "Код доступа \"Кейптаун\"                                         4\n",
       "Красавчик-2                                                    4\n",
       "Белая мгла /По комиксу Грега Рукка и Стива Либера/             4\n",
       "Белоснежка и охотник                                           4\n",
       "Кошмар на улице Вязов /Фильм ужасов/                           4\n",
       "Гарри Поттер и Дары Смерти - Часть 1/По роману Дж.К.Ролинг/    4\n",
       "Безумцы                                                        4\n",
       "Дорога /По новелле Кормака МкКарфи/                            4\n",
       "Name: title, dtype: int64"
      ]
     },
     "metadata": {},
     "output_type": "display_data"
    },
    {
     "data": {
      "text/plain": [
       "221154310.00    2\n",
       "221054410.00    2\n",
       "112000515.00    1\n",
       "121028212.00    1\n",
       "111001214.00    1\n",
       "121013111.00    1\n",
       "121010510.00    1\n",
       "121013013.00    1\n",
       "221103810.00    1\n",
       "111018419.00    1\n",
       "111013818.00    1\n",
       "221053612.00    1\n",
       "121013715.00    1\n",
       "124006419.00    1\n",
       "124000919.00    1\n",
       "121008912.00    1\n",
       "124003114.00    1\n",
       "221038510.00    1\n",
       "121031519.00    1\n",
       "111011719.00    1\n",
       "Name: puNumber, dtype: int64"
      ]
     },
     "metadata": {},
     "output_type": "display_data"
    },
    {
     "data": {
      "text/html": [
       "<div>\n",
       "<style scoped>\n",
       "    .dataframe tbody tr th:only-of-type {\n",
       "        vertical-align: middle;\n",
       "    }\n",
       "\n",
       "    .dataframe tbody tr th {\n",
       "        vertical-align: top;\n",
       "    }\n",
       "\n",
       "    .dataframe thead th {\n",
       "        text-align: right;\n",
       "    }\n",
       "</style>\n",
       "<table border=\"1\" class=\"dataframe\">\n",
       "  <thead>\n",
       "    <tr style=\"text-align: right;\">\n",
       "      <th></th>\n",
       "      <th>title</th>\n",
       "      <th>puNumber</th>\n",
       "      <th>show_start_date</th>\n",
       "      <th>type</th>\n",
       "      <th>film_studio</th>\n",
       "      <th>production_country</th>\n",
       "      <th>director</th>\n",
       "      <th>producer</th>\n",
       "      <th>age_restriction</th>\n",
       "      <th>refundable_support</th>\n",
       "      <th>nonrefundable_support</th>\n",
       "      <th>budget</th>\n",
       "      <th>financing_source</th>\n",
       "      <th>ratings</th>\n",
       "      <th>genres</th>\n",
       "      <th>box_office</th>\n",
       "    </tr>\n",
       "  </thead>\n",
       "  <tbody>\n",
       "    <tr>\n",
       "      <th>3902</th>\n",
       "      <td>День святого Валентина_</td>\n",
       "      <td>221083810.00</td>\n",
       "      <td>2010-07-15 12:00:00+00:00</td>\n",
       "      <td>Художественный</td>\n",
       "      <td>Уорнер Бразерс, Нью Лайн Синема, Уэйн Райс, Ка...</td>\n",
       "      <td>США</td>\n",
       "      <td>Гарри Маршалл</td>\n",
       "      <td>Сэмюэл Дж.Браун</td>\n",
       "      <td>«16+» - для детей старше 16 лет</td>\n",
       "      <td>NaN</td>\n",
       "      <td>NaN</td>\n",
       "      <td>NaN</td>\n",
       "      <td>NaN</td>\n",
       "      <td>6.70</td>\n",
       "      <td>мелодрама,комедия</td>\n",
       "      <td>NaN</td>\n",
       "    </tr>\n",
       "    <tr>\n",
       "      <th>3991</th>\n",
       "      <td>День святого Валентина_</td>\n",
       "      <td>221068010.00</td>\n",
       "      <td>2010-05-14 12:00:00+00:00</td>\n",
       "      <td>Художественный</td>\n",
       "      <td>Уорнер Бразерс, Нью Лайн Синема, Уэйн Райс, Ка...</td>\n",
       "      <td>США</td>\n",
       "      <td>Гарри Маршалл</td>\n",
       "      <td>Сэмюэл Дж.Браун</td>\n",
       "      <td>«16+» - для детей старше 16 лет</td>\n",
       "      <td>NaN</td>\n",
       "      <td>NaN</td>\n",
       "      <td>NaN</td>\n",
       "      <td>NaN</td>\n",
       "      <td>6.70</td>\n",
       "      <td>мелодрама,комедия</td>\n",
       "      <td>NaN</td>\n",
       "    </tr>\n",
       "    <tr>\n",
       "      <th>4070</th>\n",
       "      <td>День святого Валентина_</td>\n",
       "      <td>121002210.00</td>\n",
       "      <td>2010-02-03 12:00:00+00:00</td>\n",
       "      <td>Художественный</td>\n",
       "      <td>Уорнер Бразерс, Нью Лайн Синема, Уэйн Райс, Ка...</td>\n",
       "      <td>США</td>\n",
       "      <td>Гарри Маршалл</td>\n",
       "      <td>Сэмюэл Дж.Браун</td>\n",
       "      <td>«16+» - для детей старше 16 лет</td>\n",
       "      <td>NaN</td>\n",
       "      <td>NaN</td>\n",
       "      <td>NaN</td>\n",
       "      <td>NaN</td>\n",
       "      <td>6.70</td>\n",
       "      <td>мелодрама,комедия</td>\n",
       "      <td>NaN</td>\n",
       "    </tr>\n",
       "    <tr>\n",
       "      <th>4196</th>\n",
       "      <td>День святого Валентина_</td>\n",
       "      <td>221136210.00</td>\n",
       "      <td>2010-11-30 12:00:00+00:00</td>\n",
       "      <td>Художественный</td>\n",
       "      <td>Уорнер Бразерс, Нью Лайн Синема, Уэйн Райс, Ка...</td>\n",
       "      <td>США</td>\n",
       "      <td>Гарри Маршалл</td>\n",
       "      <td>Сэмюэл Дж.Браун</td>\n",
       "      <td>«16+» - для детей старше 16 лет</td>\n",
       "      <td>NaN</td>\n",
       "      <td>NaN</td>\n",
       "      <td>NaN</td>\n",
       "      <td>NaN</td>\n",
       "      <td>6.70</td>\n",
       "      <td>мелодрама,комедия</td>\n",
       "      <td>NaN</td>\n",
       "    </tr>\n",
       "    <tr>\n",
       "      <th>5070</th>\n",
       "      <td>День святого Валентина_</td>\n",
       "      <td>221066410.00</td>\n",
       "      <td>2010-06-01 12:00:00+00:00</td>\n",
       "      <td>Художественный</td>\n",
       "      <td>Уорнер Бразерс, Нью Лайн Синема, Уэйн Райс, Ка...</td>\n",
       "      <td>США</td>\n",
       "      <td>Гарри Маршалл</td>\n",
       "      <td>Сэмюэл Дж.Браун</td>\n",
       "      <td>«16+» - для детей старше 16 лет</td>\n",
       "      <td>NaN</td>\n",
       "      <td>NaN</td>\n",
       "      <td>NaN</td>\n",
       "      <td>NaN</td>\n",
       "      <td>6.70</td>\n",
       "      <td>мелодрама,комедия</td>\n",
       "      <td>NaN</td>\n",
       "    </tr>\n",
       "  </tbody>\n",
       "</table>\n",
       "</div>"
      ],
      "text/plain": [
       "                        title     puNumber           show_start_date  \\\n",
       "3902  День святого Валентина_ 221083810.00 2010-07-15 12:00:00+00:00   \n",
       "3991  День святого Валентина_ 221068010.00 2010-05-14 12:00:00+00:00   \n",
       "4070  День святого Валентина_ 121002210.00 2010-02-03 12:00:00+00:00   \n",
       "4196  День святого Валентина_ 221136210.00 2010-11-30 12:00:00+00:00   \n",
       "5070  День святого Валентина_ 221066410.00 2010-06-01 12:00:00+00:00   \n",
       "\n",
       "                type                                        film_studio  \\\n",
       "3902  Художественный  Уорнер Бразерс, Нью Лайн Синема, Уэйн Райс, Ка...   \n",
       "3991  Художественный  Уорнер Бразерс, Нью Лайн Синема, Уэйн Райс, Ка...   \n",
       "4070  Художественный  Уорнер Бразерс, Нью Лайн Синема, Уэйн Райс, Ка...   \n",
       "4196  Художественный  Уорнер Бразерс, Нью Лайн Синема, Уэйн Райс, Ка...   \n",
       "5070  Художественный  Уорнер Бразерс, Нью Лайн Синема, Уэйн Райс, Ка...   \n",
       "\n",
       "     production_country       director         producer  \\\n",
       "3902                США  Гарри Маршалл  Сэмюэл Дж.Браун   \n",
       "3991                США  Гарри Маршалл  Сэмюэл Дж.Браун   \n",
       "4070                США  Гарри Маршалл  Сэмюэл Дж.Браун   \n",
       "4196                США  Гарри Маршалл  Сэмюэл Дж.Браун   \n",
       "5070                США  Гарри Маршалл  Сэмюэл Дж.Браун   \n",
       "\n",
       "                      age_restriction  refundable_support  \\\n",
       "3902  «16+» - для детей старше 16 лет                 NaN   \n",
       "3991  «16+» - для детей старше 16 лет                 NaN   \n",
       "4070  «16+» - для детей старше 16 лет                 NaN   \n",
       "4196  «16+» - для детей старше 16 лет                 NaN   \n",
       "5070  «16+» - для детей старше 16 лет                 NaN   \n",
       "\n",
       "      nonrefundable_support  budget financing_source  ratings  \\\n",
       "3902                    NaN     NaN              NaN     6.70   \n",
       "3991                    NaN     NaN              NaN     6.70   \n",
       "4070                    NaN     NaN              NaN     6.70   \n",
       "4196                    NaN     NaN              NaN     6.70   \n",
       "5070                    NaN     NaN              NaN     6.70   \n",
       "\n",
       "                 genres  box_office  \n",
       "3902  мелодрама,комедия         NaN  \n",
       "3991  мелодрама,комедия         NaN  \n",
       "4070  мелодрама,комедия         NaN  \n",
       "4196  мелодрама,комедия         NaN  \n",
       "5070  мелодрама,комедия         NaN  "
      ]
     },
     "metadata": {},
     "output_type": "display_data"
    },
    {
     "data": {
      "text/html": [
       "<div>\n",
       "<style scoped>\n",
       "    .dataframe tbody tr th:only-of-type {\n",
       "        vertical-align: middle;\n",
       "    }\n",
       "\n",
       "    .dataframe tbody tr th {\n",
       "        vertical-align: top;\n",
       "    }\n",
       "\n",
       "    .dataframe thead th {\n",
       "        text-align: right;\n",
       "    }\n",
       "</style>\n",
       "<table border=\"1\" class=\"dataframe\">\n",
       "  <thead>\n",
       "    <tr style=\"text-align: right;\">\n",
       "      <th></th>\n",
       "      <th>title</th>\n",
       "      <th>puNumber</th>\n",
       "      <th>show_start_date</th>\n",
       "      <th>type</th>\n",
       "      <th>film_studio</th>\n",
       "      <th>production_country</th>\n",
       "      <th>director</th>\n",
       "      <th>producer</th>\n",
       "      <th>age_restriction</th>\n",
       "      <th>refundable_support</th>\n",
       "      <th>nonrefundable_support</th>\n",
       "      <th>budget</th>\n",
       "      <th>financing_source</th>\n",
       "      <th>ratings</th>\n",
       "      <th>genres</th>\n",
       "      <th>box_office</th>\n",
       "    </tr>\n",
       "  </thead>\n",
       "  <tbody>\n",
       "    <tr>\n",
       "      <th>3795</th>\n",
       "      <td>Белая мгла /По комиксу Грега Рукка и Стива Либ...</td>\n",
       "      <td>221010210.00</td>\n",
       "      <td>2010-01-15 12:00:00+00:00</td>\n",
       "      <td>Художественный</td>\n",
       "      <td>Уорнер Бразерс, Дарк Касл Интертейнмент, Дон К...</td>\n",
       "      <td>США-Канада-Франция</td>\n",
       "      <td>Доминик Сена</td>\n",
       "      <td>Джоэл Сильвер</td>\n",
       "      <td>«16+» - для детей старше 16 лет</td>\n",
       "      <td>NaN</td>\n",
       "      <td>NaN</td>\n",
       "      <td>NaN</td>\n",
       "      <td>NaN</td>\n",
       "      <td>6.10</td>\n",
       "      <td>ужасы,боевик,триллер</td>\n",
       "      <td>NaN</td>\n",
       "    </tr>\n",
       "    <tr>\n",
       "      <th>3903</th>\n",
       "      <td>Белая мгла /По комиксу Грега Рукка и Стива Либ...</td>\n",
       "      <td>221084010.00</td>\n",
       "      <td>2010-07-15 12:00:00+00:00</td>\n",
       "      <td>Художественный</td>\n",
       "      <td>Уорнер Бразерс, Дарк Касл Интертейнмент, Дон К...</td>\n",
       "      <td>США-Канада-Франция</td>\n",
       "      <td>Доминик Сена</td>\n",
       "      <td>Джоэл Сильвер</td>\n",
       "      <td>«16+» - для детей старше 16 лет</td>\n",
       "      <td>NaN</td>\n",
       "      <td>NaN</td>\n",
       "      <td>NaN</td>\n",
       "      <td>NaN</td>\n",
       "      <td>6.10</td>\n",
       "      <td>ужасы,боевик,триллер</td>\n",
       "      <td>NaN</td>\n",
       "    </tr>\n",
       "    <tr>\n",
       "      <th>4079</th>\n",
       "      <td>Белая мгла /По комиксу Грега Рукка и Стива Либ...</td>\n",
       "      <td>221003910.00</td>\n",
       "      <td>2010-01-19 12:00:00+00:00</td>\n",
       "      <td>Художественный</td>\n",
       "      <td>Уорнер Бразерс, Дарк Касл Интертейнмент, Дон К...</td>\n",
       "      <td>США-Канада-Франция</td>\n",
       "      <td>Доминик Сена</td>\n",
       "      <td>Джоэл Сильвер</td>\n",
       "      <td>«16+» - для детей старше 16 лет</td>\n",
       "      <td>NaN</td>\n",
       "      <td>NaN</td>\n",
       "      <td>NaN</td>\n",
       "      <td>NaN</td>\n",
       "      <td>6.10</td>\n",
       "      <td>ужасы,боевик,триллер</td>\n",
       "      <td>NaN</td>\n",
       "    </tr>\n",
       "    <tr>\n",
       "      <th>4569</th>\n",
       "      <td>Белая мгла /По комиксу Грега Рукка и Стива Либ...</td>\n",
       "      <td>221150810.00</td>\n",
       "      <td>2010-12-16 12:00:00+00:00</td>\n",
       "      <td>Художественный</td>\n",
       "      <td>Уорнер Бразерс, Дарк Касл Интертейнмент, Дон К...</td>\n",
       "      <td>США-Канада-Франция</td>\n",
       "      <td>Доминик Сена</td>\n",
       "      <td>Джоэл Сильвер</td>\n",
       "      <td>«16+» - для детей старше 16 лет</td>\n",
       "      <td>NaN</td>\n",
       "      <td>NaN</td>\n",
       "      <td>NaN</td>\n",
       "      <td>NaN</td>\n",
       "      <td>6.10</td>\n",
       "      <td>ужасы,боевик,триллер</td>\n",
       "      <td>NaN</td>\n",
       "    </tr>\n",
       "  </tbody>\n",
       "</table>\n",
       "</div>"
      ],
      "text/plain": [
       "                                                  title     puNumber  \\\n",
       "3795  Белая мгла /По комиксу Грега Рукка и Стива Либ... 221010210.00   \n",
       "3903  Белая мгла /По комиксу Грега Рукка и Стива Либ... 221084010.00   \n",
       "4079  Белая мгла /По комиксу Грега Рукка и Стива Либ... 221003910.00   \n",
       "4569  Белая мгла /По комиксу Грега Рукка и Стива Либ... 221150810.00   \n",
       "\n",
       "               show_start_date            type  \\\n",
       "3795 2010-01-15 12:00:00+00:00  Художественный   \n",
       "3903 2010-07-15 12:00:00+00:00  Художественный   \n",
       "4079 2010-01-19 12:00:00+00:00  Художественный   \n",
       "4569 2010-12-16 12:00:00+00:00  Художественный   \n",
       "\n",
       "                                            film_studio  production_country  \\\n",
       "3795  Уорнер Бразерс, Дарк Касл Интертейнмент, Дон К...  США-Канада-Франция   \n",
       "3903  Уорнер Бразерс, Дарк Касл Интертейнмент, Дон К...  США-Канада-Франция   \n",
       "4079  Уорнер Бразерс, Дарк Касл Интертейнмент, Дон К...  США-Канада-Франция   \n",
       "4569  Уорнер Бразерс, Дарк Касл Интертейнмент, Дон К...  США-Канада-Франция   \n",
       "\n",
       "          director       producer                  age_restriction  \\\n",
       "3795  Доминик Сена  Джоэл Сильвер  «16+» - для детей старше 16 лет   \n",
       "3903  Доминик Сена  Джоэл Сильвер  «16+» - для детей старше 16 лет   \n",
       "4079  Доминик Сена  Джоэл Сильвер  «16+» - для детей старше 16 лет   \n",
       "4569  Доминик Сена  Джоэл Сильвер  «16+» - для детей старше 16 лет   \n",
       "\n",
       "      refundable_support  nonrefundable_support  budget financing_source  \\\n",
       "3795                 NaN                    NaN     NaN              NaN   \n",
       "3903                 NaN                    NaN     NaN              NaN   \n",
       "4079                 NaN                    NaN     NaN              NaN   \n",
       "4569                 NaN                    NaN     NaN              NaN   \n",
       "\n",
       "      ratings                genres  box_office  \n",
       "3795     6.10  ужасы,боевик,триллер         NaN  \n",
       "3903     6.10  ужасы,боевик,триллер         NaN  \n",
       "4079     6.10  ужасы,боевик,триллер         NaN  \n",
       "4569     6.10  ужасы,боевик,триллер         NaN  "
      ]
     },
     "metadata": {},
     "output_type": "display_data"
    },
    {
     "data": {
      "text/html": [
       "<div>\n",
       "<style scoped>\n",
       "    .dataframe tbody tr th:only-of-type {\n",
       "        vertical-align: middle;\n",
       "    }\n",
       "\n",
       "    .dataframe tbody tr th {\n",
       "        vertical-align: top;\n",
       "    }\n",
       "\n",
       "    .dataframe thead th {\n",
       "        text-align: right;\n",
       "    }\n",
       "</style>\n",
       "<table border=\"1\" class=\"dataframe\">\n",
       "  <thead>\n",
       "    <tr style=\"text-align: right;\">\n",
       "      <th></th>\n",
       "      <th>title</th>\n",
       "      <th>puNumber</th>\n",
       "      <th>show_start_date</th>\n",
       "      <th>type</th>\n",
       "      <th>film_studio</th>\n",
       "      <th>production_country</th>\n",
       "      <th>director</th>\n",
       "      <th>producer</th>\n",
       "      <th>age_restriction</th>\n",
       "      <th>refundable_support</th>\n",
       "      <th>nonrefundable_support</th>\n",
       "      <th>budget</th>\n",
       "      <th>financing_source</th>\n",
       "      <th>ratings</th>\n",
       "      <th>genres</th>\n",
       "      <th>box_office</th>\n",
       "    </tr>\n",
       "  </thead>\n",
       "  <tbody>\n",
       "    <tr>\n",
       "      <th>5067</th>\n",
       "      <td>Анализируй это!</td>\n",
       "      <td>221054410.00</td>\n",
       "      <td>2010-05-25 12:00:00+00:00</td>\n",
       "      <td>Художественный</td>\n",
       "      <td>Уорнер Бразерс, Вилладж Роудшоу Филмз ЛТД</td>\n",
       "      <td>США-Австралия</td>\n",
       "      <td>ХЭрольд Рэмис</td>\n",
       "      <td>Джейн Розенталь, Пола Уейнстейн</td>\n",
       "      <td>«16+» - для детей старше 16 лет</td>\n",
       "      <td>NaN</td>\n",
       "      <td>NaN</td>\n",
       "      <td>NaN</td>\n",
       "      <td>NaN</td>\n",
       "      <td>7.40</td>\n",
       "      <td>комедия,криминал</td>\n",
       "      <td>NaN</td>\n",
       "    </tr>\n",
       "    <tr>\n",
       "      <th>5068</th>\n",
       "      <td>Анализируй то!</td>\n",
       "      <td>221054410.00</td>\n",
       "      <td>2010-05-25 12:00:00+00:00</td>\n",
       "      <td>Художественный</td>\n",
       "      <td>Уорнер Бразерс, Виллидж Роадшоу Пикчерз, Эн-Пи...</td>\n",
       "      <td>США</td>\n",
       "      <td>Гарольд Реймис</td>\n",
       "      <td>Джейн Розенталь, Паул Уэйнстейн</td>\n",
       "      <td>«12+» - для детей старше 12 лет</td>\n",
       "      <td>NaN</td>\n",
       "      <td>NaN</td>\n",
       "      <td>NaN</td>\n",
       "      <td>NaN</td>\n",
       "      <td>6.80</td>\n",
       "      <td>комедия,криминал</td>\n",
       "      <td>NaN</td>\n",
       "    </tr>\n",
       "  </tbody>\n",
       "</table>\n",
       "</div>"
      ],
      "text/plain": [
       "                title     puNumber           show_start_date            type  \\\n",
       "5067  Анализируй это! 221054410.00 2010-05-25 12:00:00+00:00  Художественный   \n",
       "5068   Анализируй то! 221054410.00 2010-05-25 12:00:00+00:00  Художественный   \n",
       "\n",
       "                                            film_studio production_country  \\\n",
       "5067          Уорнер Бразерс, Вилладж Роудшоу Филмз ЛТД      США-Австралия   \n",
       "5068  Уорнер Бразерс, Виллидж Роадшоу Пикчерз, Эн-Пи...                США   \n",
       "\n",
       "            director                         producer  \\\n",
       "5067   ХЭрольд Рэмис  Джейн Розенталь, Пола Уейнстейн   \n",
       "5068  Гарольд Реймис  Джейн Розенталь, Паул Уэйнстейн   \n",
       "\n",
       "                      age_restriction  refundable_support  \\\n",
       "5067  «16+» - для детей старше 16 лет                 NaN   \n",
       "5068  «12+» - для детей старше 12 лет                 NaN   \n",
       "\n",
       "      nonrefundable_support  budget financing_source  ratings  \\\n",
       "5067                    NaN     NaN              NaN     7.40   \n",
       "5068                    NaN     NaN              NaN     6.80   \n",
       "\n",
       "                genres  box_office  \n",
       "5067  комедия,криминал         NaN  \n",
       "5068  комедия,криминал         NaN  "
      ]
     },
     "metadata": {},
     "output_type": "display_data"
    },
    {
     "data": {
      "text/html": [
       "<div>\n",
       "<style scoped>\n",
       "    .dataframe tbody tr th:only-of-type {\n",
       "        vertical-align: middle;\n",
       "    }\n",
       "\n",
       "    .dataframe tbody tr th {\n",
       "        vertical-align: top;\n",
       "    }\n",
       "\n",
       "    .dataframe thead th {\n",
       "        text-align: right;\n",
       "    }\n",
       "</style>\n",
       "<table border=\"1\" class=\"dataframe\">\n",
       "  <thead>\n",
       "    <tr style=\"text-align: right;\">\n",
       "      <th></th>\n",
       "      <th>title</th>\n",
       "      <th>puNumber</th>\n",
       "      <th>show_start_date</th>\n",
       "      <th>type</th>\n",
       "      <th>film_studio</th>\n",
       "      <th>production_country</th>\n",
       "      <th>director</th>\n",
       "      <th>producer</th>\n",
       "      <th>age_restriction</th>\n",
       "      <th>refundable_support</th>\n",
       "      <th>nonrefundable_support</th>\n",
       "      <th>budget</th>\n",
       "      <th>financing_source</th>\n",
       "      <th>ratings</th>\n",
       "      <th>genres</th>\n",
       "      <th>box_office</th>\n",
       "    </tr>\n",
       "  </thead>\n",
       "  <tbody>\n",
       "    <tr>\n",
       "      <th>4638</th>\n",
       "      <td>Как жениться и остаться холостым</td>\n",
       "      <td>221154310.00</td>\n",
       "      <td>2010-12-17 12:00:00+00:00</td>\n",
       "      <td>Художественный</td>\n",
       "      <td>Ше Вам, Скрипт Ассосье, Тэ Фэ 1 Фильм Продюксь...</td>\n",
       "      <td>Франция</td>\n",
       "      <td>Эрик Лартиго</td>\n",
       "      <td>Амандин Било, Алан Шаба</td>\n",
       "      <td>«16+» - для детей старше 16 лет</td>\n",
       "      <td>NaN</td>\n",
       "      <td>NaN</td>\n",
       "      <td>NaN</td>\n",
       "      <td>NaN</td>\n",
       "      <td>7.00</td>\n",
       "      <td>мелодрама,комедия</td>\n",
       "      <td>NaN</td>\n",
       "    </tr>\n",
       "    <tr>\n",
       "      <th>4639</th>\n",
       "      <td>Иоанна - женщина на папском престоле /По роман...</td>\n",
       "      <td>221154310.00</td>\n",
       "      <td>2010-12-17 12:00:00+00:00</td>\n",
       "      <td>Художественный</td>\n",
       "      <td>Константин Фильм, А Эр Ди Дегето Фильм, Дюне ...</td>\n",
       "      <td>Германия - Великобритания - Италия - Испания</td>\n",
       "      <td>Зенке Вортманн</td>\n",
       "      <td>Оливер Бербен, Дорис Д.Хайнце, Фарук Элтан</td>\n",
       "      <td>«16+» - для детей старше 16 лет</td>\n",
       "      <td>NaN</td>\n",
       "      <td>NaN</td>\n",
       "      <td>NaN</td>\n",
       "      <td>NaN</td>\n",
       "      <td>7.60</td>\n",
       "      <td>драма,мелодрама,история</td>\n",
       "      <td>NaN</td>\n",
       "    </tr>\n",
       "  </tbody>\n",
       "</table>\n",
       "</div>"
      ],
      "text/plain": [
       "                                                  title     puNumber  \\\n",
       "4638                   Как жениться и остаться холостым 221154310.00   \n",
       "4639  Иоанна - женщина на папском престоле /По роман... 221154310.00   \n",
       "\n",
       "               show_start_date            type  \\\n",
       "4638 2010-12-17 12:00:00+00:00  Художественный   \n",
       "4639 2010-12-17 12:00:00+00:00  Художественный   \n",
       "\n",
       "                                            film_studio  \\\n",
       "4638  Ше Вам, Скрипт Ассосье, Тэ Фэ 1 Фильм Продюксь...   \n",
       "4639   Константин Фильм, А Эр Ди Дегето Фильм, Дюне ...   \n",
       "\n",
       "                                production_country        director  \\\n",
       "4638                                       Франция    Эрик Лартиго   \n",
       "4639  Германия - Великобритания - Италия - Испания  Зенке Вортманн   \n",
       "\n",
       "                                        producer  \\\n",
       "4638                     Амандин Било, Алан Шаба   \n",
       "4639  Оливер Бербен, Дорис Д.Хайнце, Фарук Элтан   \n",
       "\n",
       "                      age_restriction  refundable_support  \\\n",
       "4638  «16+» - для детей старше 16 лет                 NaN   \n",
       "4639  «16+» - для детей старше 16 лет                 NaN   \n",
       "\n",
       "      nonrefundable_support  budget financing_source  ratings  \\\n",
       "4638                    NaN     NaN              NaN     7.00   \n",
       "4639                    NaN     NaN              NaN     7.60   \n",
       "\n",
       "                       genres  box_office  \n",
       "4638        мелодрама,комедия         NaN  \n",
       "4639  драма,мелодрама,история         NaN  "
      ]
     },
     "metadata": {},
     "output_type": "display_data"
    }
   ],
   "source": [
    "# проверим уникальные значения в колонках с названием фильмов и номером прокатного удостоверения\n",
    "\n",
    "display(df['title'].value_counts().sort_values(ascending=False).head(20))\n",
    "\n",
    "display(df['puNumber'].value_counts().sort_values(ascending=False).head(20))\n",
    "\n",
    "# отфильтруем первые два дубликата по названию фильма\n",
    "\n",
    "display(df[df['title'] == \"День святого Валентина_\"])\n",
    "\n",
    "display(df[df['title'] == \"Белая мгла /По комиксу Грега Рукка и Стива Либера/\"])\n",
    "\n",
    "# отфильтруем дубликаты по номеру прокатного удостоверения\n",
    "\n",
    "display(df[df['puNumber'] == 221054410.0])\n",
    "\n",
    "display(df[df['puNumber'] == 221154310.0])"
   ]
  },
  {
   "cell_type": "markdown",
   "metadata": {},
   "source": [
    "Выявлено много неявных дубликатов в названии фильма и два дубликата в номере прокатного удостоверения.\n",
    "Сначала решим, что делать с дубликатами в номере прокатного удостоверения.\n",
    "В первом случае, речь о двух частях одного фильма.\n",
    "Во втором случае, речь идет о двух разных фильмах, а номер прокатного удостоверения один и тот же.\n",
    "Оставим оба.\n",
    "\n",
    "Вернемся к дубликатам в названии фильма.\n",
    "Проверив первые два фильма, предположим, что дублирование происходит по причине нескольких дат премьеры фильма и разных номеров прокатного удостоверения.\n",
    "Не найдя точной информации, как один и тот же фильм может получить несколько прокатных удостоверений и несколько дат премьеры, я остановилась на версии, что разница заключается в том, каким образом транслировался фильм: кинотеатр, ТВ или онлайн-показ.\n",
    "Но так как речь идет об одном и том же фильме, и для дальнейших анализов нам просто нужен конкретный фильм, предлагаю удалить дубликаты фильмов.\n",
    "Для этого вычленим из даты премьеры год, удалим полную дату премьеры и удалим столбец с номером прокатного удостоверения. Очищенную таблицу назовем df_cleaned.\n",
    "Удалим явные дубликаты в получившейся таблице df_cleaned.\n",
    "При этом, если фильм будет иметь разные года премьеры, он останется не удаленным, так как, в этом случае, скорее всего речь пойдет о разных фильмах, например, вторая часть фильма или ремейк фильма."
   ]
  },
  {
   "cell_type": "code",
   "execution_count": 20,
   "metadata": {
    "scrolled": false
   },
   "outputs": [
    {
     "name": "stdout",
     "output_type": "stream",
     "text": [
      "276\n"
     ]
    },
    {
     "data": {
      "text/html": [
       "<div>\n",
       "<style scoped>\n",
       "    .dataframe tbody tr th:only-of-type {\n",
       "        vertical-align: middle;\n",
       "    }\n",
       "\n",
       "    .dataframe tbody tr th {\n",
       "        vertical-align: top;\n",
       "    }\n",
       "\n",
       "    .dataframe thead th {\n",
       "        text-align: right;\n",
       "    }\n",
       "</style>\n",
       "<table border=\"1\" class=\"dataframe\">\n",
       "  <thead>\n",
       "    <tr style=\"text-align: right;\">\n",
       "      <th></th>\n",
       "      <th>title</th>\n",
       "      <th>type</th>\n",
       "      <th>film_studio</th>\n",
       "      <th>production_country</th>\n",
       "      <th>director</th>\n",
       "      <th>producer</th>\n",
       "      <th>age_restriction</th>\n",
       "      <th>refundable_support</th>\n",
       "      <th>nonrefundable_support</th>\n",
       "      <th>budget</th>\n",
       "      <th>financing_source</th>\n",
       "      <th>ratings</th>\n",
       "      <th>genres</th>\n",
       "      <th>box_office</th>\n",
       "      <th>year</th>\n",
       "    </tr>\n",
       "  </thead>\n",
       "  <tbody>\n",
       "    <tr>\n",
       "      <th>0</th>\n",
       "      <td>Открытый простор</td>\n",
       "      <td>Художественный</td>\n",
       "      <td>Тачстоун Пикчерз, Кобальт Пикчерз, Бикон Пикче...</td>\n",
       "      <td>США</td>\n",
       "      <td>Кевин Костнер</td>\n",
       "      <td>Дэвид Валдес, Кевин Костнер, Джейк Эбертс</td>\n",
       "      <td>«18+» - запрещено для детей</td>\n",
       "      <td>NaN</td>\n",
       "      <td>NaN</td>\n",
       "      <td>NaN</td>\n",
       "      <td>NaN</td>\n",
       "      <td>7.20</td>\n",
       "      <td>боевик,драма,мелодрама</td>\n",
       "      <td>NaN</td>\n",
       "      <td>2015</td>\n",
       "    </tr>\n",
       "    <tr>\n",
       "      <th>1</th>\n",
       "      <td>Особо важное задание</td>\n",
       "      <td>Художественный</td>\n",
       "      <td>Киностудия \"Мосфильм\"</td>\n",
       "      <td>СССР</td>\n",
       "      <td>Е.Матвеев</td>\n",
       "      <td>NaN</td>\n",
       "      <td>«6+» - для детей старше 6 лет</td>\n",
       "      <td>NaN</td>\n",
       "      <td>NaN</td>\n",
       "      <td>NaN</td>\n",
       "      <td>NaN</td>\n",
       "      <td>6.60</td>\n",
       "      <td>драма,военный</td>\n",
       "      <td>NaN</td>\n",
       "      <td>2016</td>\n",
       "    </tr>\n",
       "    <tr>\n",
       "      <th>2</th>\n",
       "      <td>Особо опасен</td>\n",
       "      <td>Художественный</td>\n",
       "      <td>Юниверсал Пикчерз, Кикстарт Продакшнз, Марк Пл...</td>\n",
       "      <td>США</td>\n",
       "      <td>Тимур Бекмамбетов</td>\n",
       "      <td>Джим Лемли, Джейсон Нетер, Марк Е.Платт, Яйн Смит</td>\n",
       "      <td>«18+» - запрещено для детей</td>\n",
       "      <td>NaN</td>\n",
       "      <td>NaN</td>\n",
       "      <td>NaN</td>\n",
       "      <td>NaN</td>\n",
       "      <td>6.80</td>\n",
       "      <td>фантастика,боевик,триллер</td>\n",
       "      <td>NaN</td>\n",
       "      <td>2016</td>\n",
       "    </tr>\n",
       "    <tr>\n",
       "      <th>3</th>\n",
       "      <td>Особо опасен</td>\n",
       "      <td>Художественный</td>\n",
       "      <td>Юниверсал Пикчерз, Кикстарт Продакшнз, Марк Пл...</td>\n",
       "      <td>США</td>\n",
       "      <td>Тимур Бекмамбетов</td>\n",
       "      <td>Джим Лемли, Джейсон Нетер, Марк Е.Платт, Яйн Смит</td>\n",
       "      <td>«18+» - запрещено для детей</td>\n",
       "      <td>NaN</td>\n",
       "      <td>NaN</td>\n",
       "      <td>NaN</td>\n",
       "      <td>NaN</td>\n",
       "      <td>6.80</td>\n",
       "      <td>фантастика,боевик,триллер</td>\n",
       "      <td>NaN</td>\n",
       "      <td>2016</td>\n",
       "    </tr>\n",
       "    <tr>\n",
       "      <th>4</th>\n",
       "      <td>Особо опасен</td>\n",
       "      <td>Художественный</td>\n",
       "      <td>Юниверсал Пикчерз, Кикстарт Продакшнз, Марк Пл...</td>\n",
       "      <td>США</td>\n",
       "      <td>Тимур Бекмамбетов</td>\n",
       "      <td>Джим Лемли, Джейсон Нетер, Марк Е.Платт, Яйн Смит</td>\n",
       "      <td>«18+» - запрещено для детей</td>\n",
       "      <td>NaN</td>\n",
       "      <td>NaN</td>\n",
       "      <td>NaN</td>\n",
       "      <td>NaN</td>\n",
       "      <td>6.80</td>\n",
       "      <td>фантастика,боевик,триллер</td>\n",
       "      <td>NaN</td>\n",
       "      <td>2015</td>\n",
       "    </tr>\n",
       "    <tr>\n",
       "      <th>5</th>\n",
       "      <td>Остановился поезд</td>\n",
       "      <td>Художественный</td>\n",
       "      <td>Киностудия \"Мосфильм\"</td>\n",
       "      <td>СССР</td>\n",
       "      <td>В.Абдрашитов</td>\n",
       "      <td>NaN</td>\n",
       "      <td>«6+» - для детей старше 6 лет</td>\n",
       "      <td>NaN</td>\n",
       "      <td>NaN</td>\n",
       "      <td>NaN</td>\n",
       "      <td>NaN</td>\n",
       "      <td>7.70</td>\n",
       "      <td>драма</td>\n",
       "      <td>NaN</td>\n",
       "      <td>2016</td>\n",
       "    </tr>\n",
       "    <tr>\n",
       "      <th>6</th>\n",
       "      <td>Любовь и голуби</td>\n",
       "      <td>Художественный</td>\n",
       "      <td>Киностудия \"Мосфильм\"</td>\n",
       "      <td>СССР</td>\n",
       "      <td>В.Меньшов</td>\n",
       "      <td>NaN</td>\n",
       "      <td>«12+» - для детей старше 12 лет</td>\n",
       "      <td>NaN</td>\n",
       "      <td>NaN</td>\n",
       "      <td>NaN</td>\n",
       "      <td>NaN</td>\n",
       "      <td>8.30</td>\n",
       "      <td>мелодрама,комедия</td>\n",
       "      <td>2700.00</td>\n",
       "      <td>2013</td>\n",
       "    </tr>\n",
       "    <tr>\n",
       "      <th>7</th>\n",
       "      <td>Любовь и сигареты</td>\n",
       "      <td>Художественный</td>\n",
       "      <td>Юнайтед Артистс, Грин Стрит Филмз, Айкон Интер...</td>\n",
       "      <td>США</td>\n",
       "      <td>Джон Туртурро</td>\n",
       "      <td>Джон Пенотти, Джон Туртурро</td>\n",
       "      <td>«18+» - запрещено для детей</td>\n",
       "      <td>NaN</td>\n",
       "      <td>NaN</td>\n",
       "      <td>NaN</td>\n",
       "      <td>NaN</td>\n",
       "      <td>6.60</td>\n",
       "      <td>мюзикл,мелодрама,комедия</td>\n",
       "      <td>NaN</td>\n",
       "      <td>2014</td>\n",
       "    </tr>\n",
       "    <tr>\n",
       "      <th>8</th>\n",
       "      <td>Отпетые мошенники.</td>\n",
       "      <td>Художественный</td>\n",
       "      <td>Пульсар Продюксьон, ТФ1 Фильм</td>\n",
       "      <td>Франция</td>\n",
       "      <td>Эрик Беснард</td>\n",
       "      <td>Патрис Леду</td>\n",
       "      <td>«18+» - запрещено для детей</td>\n",
       "      <td>NaN</td>\n",
       "      <td>NaN</td>\n",
       "      <td>NaN</td>\n",
       "      <td>NaN</td>\n",
       "      <td>8.00</td>\n",
       "      <td>комедия,криминал</td>\n",
       "      <td>NaN</td>\n",
       "      <td>2016</td>\n",
       "    </tr>\n",
       "    <tr>\n",
       "      <th>9</th>\n",
       "      <td>Отпуск за свой счет</td>\n",
       "      <td>Художественный</td>\n",
       "      <td>Киностудия \"Мосфильм\", Телевидение ВНР</td>\n",
       "      <td>СССР, Венгрия</td>\n",
       "      <td>В.Титов</td>\n",
       "      <td>NaN</td>\n",
       "      <td>«12+» - для детей старше 12 лет</td>\n",
       "      <td>NaN</td>\n",
       "      <td>NaN</td>\n",
       "      <td>NaN</td>\n",
       "      <td>NaN</td>\n",
       "      <td>7.80</td>\n",
       "      <td>мелодрама,комедия</td>\n",
       "      <td>NaN</td>\n",
       "      <td>2014</td>\n",
       "    </tr>\n",
       "  </tbody>\n",
       "</table>\n",
       "</div>"
      ],
      "text/plain": [
       "                  title            type  \\\n",
       "0      Открытый простор  Художественный   \n",
       "1  Особо важное задание  Художественный   \n",
       "2          Особо опасен  Художественный   \n",
       "3          Особо опасен  Художественный   \n",
       "4          Особо опасен  Художественный   \n",
       "5     Остановился поезд  Художественный   \n",
       "6       Любовь и голуби  Художественный   \n",
       "7     Любовь и сигареты  Художественный   \n",
       "8    Отпетые мошенники.  Художественный   \n",
       "9   Отпуск за свой счет  Художественный   \n",
       "\n",
       "                                         film_studio production_country  \\\n",
       "0  Тачстоун Пикчерз, Кобальт Пикчерз, Бикон Пикче...                США   \n",
       "1                              Киностудия \"Мосфильм\"               СССР   \n",
       "2  Юниверсал Пикчерз, Кикстарт Продакшнз, Марк Пл...                США   \n",
       "3  Юниверсал Пикчерз, Кикстарт Продакшнз, Марк Пл...                США   \n",
       "4  Юниверсал Пикчерз, Кикстарт Продакшнз, Марк Пл...                США   \n",
       "5                              Киностудия \"Мосфильм\"               СССР   \n",
       "6                              Киностудия \"Мосфильм\"               СССР   \n",
       "7  Юнайтед Артистс, Грин Стрит Филмз, Айкон Интер...                США   \n",
       "8                     Пульсар Продюксьон, ТФ1 Фильм             Франция   \n",
       "9             Киностудия \"Мосфильм\", Телевидение ВНР      СССР, Венгрия   \n",
       "\n",
       "            director                                           producer  \\\n",
       "0      Кевин Костнер          Дэвид Валдес, Кевин Костнер, Джейк Эбертс   \n",
       "1          Е.Матвеев                                                NaN   \n",
       "2  Тимур Бекмамбетов  Джим Лемли, Джейсон Нетер, Марк Е.Платт, Яйн Смит   \n",
       "3  Тимур Бекмамбетов  Джим Лемли, Джейсон Нетер, Марк Е.Платт, Яйн Смит   \n",
       "4  Тимур Бекмамбетов  Джим Лемли, Джейсон Нетер, Марк Е.Платт, Яйн Смит   \n",
       "5       В.Абдрашитов                                                NaN   \n",
       "6          В.Меньшов                                                NaN   \n",
       "7      Джон Туртурро                        Джон Пенотти, Джон Туртурро   \n",
       "8       Эрик Беснард                                        Патрис Леду   \n",
       "9            В.Титов                                                NaN   \n",
       "\n",
       "                   age_restriction  refundable_support  nonrefundable_support  \\\n",
       "0      «18+» - запрещено для детей                 NaN                    NaN   \n",
       "1    «6+» - для детей старше 6 лет                 NaN                    NaN   \n",
       "2      «18+» - запрещено для детей                 NaN                    NaN   \n",
       "3      «18+» - запрещено для детей                 NaN                    NaN   \n",
       "4      «18+» - запрещено для детей                 NaN                    NaN   \n",
       "5    «6+» - для детей старше 6 лет                 NaN                    NaN   \n",
       "6  «12+» - для детей старше 12 лет                 NaN                    NaN   \n",
       "7      «18+» - запрещено для детей                 NaN                    NaN   \n",
       "8      «18+» - запрещено для детей                 NaN                    NaN   \n",
       "9  «12+» - для детей старше 12 лет                 NaN                    NaN   \n",
       "\n",
       "   budget financing_source  ratings                     genres  box_office  \\\n",
       "0     NaN              NaN     7.20     боевик,драма,мелодрама         NaN   \n",
       "1     NaN              NaN     6.60              драма,военный         NaN   \n",
       "2     NaN              NaN     6.80  фантастика,боевик,триллер         NaN   \n",
       "3     NaN              NaN     6.80  фантастика,боевик,триллер         NaN   \n",
       "4     NaN              NaN     6.80  фантастика,боевик,триллер         NaN   \n",
       "5     NaN              NaN     7.70                      драма         NaN   \n",
       "6     NaN              NaN     8.30          мелодрама,комедия     2700.00   \n",
       "7     NaN              NaN     6.60   мюзикл,мелодрама,комедия         NaN   \n",
       "8     NaN              NaN     8.00           комедия,криминал         NaN   \n",
       "9     NaN              NaN     7.80          мелодрама,комедия         NaN   \n",
       "\n",
       "   year  \n",
       "0  2015  \n",
       "1  2016  \n",
       "2  2016  \n",
       "3  2016  \n",
       "4  2015  \n",
       "5  2016  \n",
       "6  2013  \n",
       "7  2014  \n",
       "8  2016  \n",
       "9  2014  "
      ]
     },
     "execution_count": 20,
     "metadata": {},
     "output_type": "execute_result"
    }
   ],
   "source": [
    "# создадим столбец с годом премьеры фильма\n",
    "\n",
    "df['year'] = df['show_start_date'].dt.year\n",
    "\n",
    "# создадим очищенный датафрейм, удалив полную дату и номер прокатного удостоверения\n",
    "\n",
    "df_cleaned = df.drop('show_start_date', 1)\n",
    "\n",
    "df_cleaned = df_cleaned.drop('puNumber', 1)\n",
    "\n",
    "# проверим количество грубых дубликатов\n",
    "\n",
    "print(df_cleaned.duplicated().sum())\n",
    "\n",
    "# выведем на экран первые 10 строк очищенного датафрейма\n",
    "\n",
    "df_cleaned.head(10)\n"
   ]
  },
  {
   "cell_type": "code",
   "execution_count": 21,
   "metadata": {},
   "outputs": [
    {
     "data": {
      "text/plain": [
       "0"
      ]
     },
     "execution_count": 21,
     "metadata": {},
     "output_type": "execute_result"
    }
   ],
   "source": [
    "# удалим грубые дубликаты и проверим, как сработал код\n",
    "\n",
    "df_cleaned = df_cleaned.drop_duplicates().reset_index(drop=True)\n",
    "\n",
    "df_cleaned.duplicated().sum()"
   ]
  },
  {
   "cell_type": "code",
   "execution_count": 22,
   "metadata": {
    "scrolled": false
   },
   "outputs": [
    {
     "data": {
      "text/plain": [
       "Гарри Поттер и Дары Смерти - Часть 1/По роману Дж.К.Ролинг/    4\n",
       "Прощание                                                       4\n",
       "Рапунцель: Запутанная история                                  4\n",
       "Неудержимые.                                                   3\n",
       "Белоснежка и охотник                                           3\n",
       "Лесной патруль                                                 3\n",
       "Машина Джейн Мэнсфилд                                          3\n",
       "Гарри Поттер и орден Феникса /По роману Дж.К.Ролинг/           3\n",
       "Багровый пик                                                   3\n",
       "Она                                                            3\n",
       "Успех                                                          3\n",
       "Медведь Йоги                                                   3\n",
       "Неудержимые 2                                                  3\n",
       "Гарри Поттер и узник Азкабана /По роману Дж.К.Ролинг/          3\n",
       "Алекс и Эмма                                                   3\n",
       "Арктика 3D                                                     3\n",
       "Образцовый самец 2                                             3\n",
       "Скауты против зомби                                            3\n",
       "Механик_                                                       3\n",
       "Гарри Поттер и кубок огня /По роману Дж.К.Ролинг/              3\n",
       "Name: title, dtype: int64"
      ]
     },
     "execution_count": 22,
     "metadata": {},
     "output_type": "execute_result"
    }
   ],
   "source": [
    "# проверим неявные дубликаты в названии фильма\n",
    "\n",
    "df_cleaned['title'].value_counts().sort_values(ascending=False).head(20)"
   ]
  },
  {
   "cell_type": "code",
   "execution_count": 23,
   "metadata": {
    "scrolled": false
   },
   "outputs": [
    {
     "data": {
      "text/html": [
       "<div>\n",
       "<style scoped>\n",
       "    .dataframe tbody tr th:only-of-type {\n",
       "        vertical-align: middle;\n",
       "    }\n",
       "\n",
       "    .dataframe tbody tr th {\n",
       "        vertical-align: top;\n",
       "    }\n",
       "\n",
       "    .dataframe thead th {\n",
       "        text-align: right;\n",
       "    }\n",
       "</style>\n",
       "<table border=\"1\" class=\"dataframe\">\n",
       "  <thead>\n",
       "    <tr style=\"text-align: right;\">\n",
       "      <th></th>\n",
       "      <th>title</th>\n",
       "      <th>type</th>\n",
       "      <th>film_studio</th>\n",
       "      <th>production_country</th>\n",
       "      <th>director</th>\n",
       "      <th>producer</th>\n",
       "      <th>age_restriction</th>\n",
       "      <th>refundable_support</th>\n",
       "      <th>nonrefundable_support</th>\n",
       "      <th>budget</th>\n",
       "      <th>financing_source</th>\n",
       "      <th>ratings</th>\n",
       "      <th>genres</th>\n",
       "      <th>box_office</th>\n",
       "      <th>year</th>\n",
       "    </tr>\n",
       "  </thead>\n",
       "  <tbody>\n",
       "    <tr>\n",
       "      <th>265</th>\n",
       "      <td>Прощание</td>\n",
       "      <td>Художественный</td>\n",
       "      <td>Киностудия \"Мосфильм\"</td>\n",
       "      <td>СССР</td>\n",
       "      <td>Э.Климов</td>\n",
       "      <td>NaN</td>\n",
       "      <td>«12+» - для детей старше 12 лет</td>\n",
       "      <td>NaN</td>\n",
       "      <td>NaN</td>\n",
       "      <td>NaN</td>\n",
       "      <td>NaN</td>\n",
       "      <td>7.20</td>\n",
       "      <td>драма</td>\n",
       "      <td>NaN</td>\n",
       "      <td>2014</td>\n",
       "    </tr>\n",
       "    <tr>\n",
       "      <th>5242</th>\n",
       "      <td>Прощание</td>\n",
       "      <td>Художественный</td>\n",
       "      <td>Всероссийский государственный институт кинемат...</td>\n",
       "      <td>Россия</td>\n",
       "      <td>А.Петровская</td>\n",
       "      <td>В.Найговзина</td>\n",
       "      <td>«16+» - для детей старше 16 лет</td>\n",
       "      <td>NaN</td>\n",
       "      <td>NaN</td>\n",
       "      <td>NaN</td>\n",
       "      <td>NaN</td>\n",
       "      <td>7.20</td>\n",
       "      <td>драма</td>\n",
       "      <td>NaN</td>\n",
       "      <td>2017</td>\n",
       "    </tr>\n",
       "    <tr>\n",
       "      <th>6633</th>\n",
       "      <td>Прощание</td>\n",
       "      <td>Художественный</td>\n",
       "      <td>ИП Киселев Алексей Евгеньевич</td>\n",
       "      <td>Россия</td>\n",
       "      <td>М.Фомина</td>\n",
       "      <td>А.Киселев</td>\n",
       "      <td>«16+» - для детей старше 16 лет</td>\n",
       "      <td>NaN</td>\n",
       "      <td>NaN</td>\n",
       "      <td>NaN</td>\n",
       "      <td>NaN</td>\n",
       "      <td>7.20</td>\n",
       "      <td>драма</td>\n",
       "      <td>NaN</td>\n",
       "      <td>2019</td>\n",
       "    </tr>\n",
       "    <tr>\n",
       "      <th>7005</th>\n",
       "      <td>Прощание</td>\n",
       "      <td>Художественный</td>\n",
       "      <td>Биг Бич Филмз, Депз оф Филд, Киндред Спирит</td>\n",
       "      <td>США</td>\n",
       "      <td>Лулу Ванг</td>\n",
       "      <td>Анита Го, Даниэль Тейт Мелиа, Эндрю Миано</td>\n",
       "      <td>«16+» - для детей старше 16 лет</td>\n",
       "      <td>NaN</td>\n",
       "      <td>NaN</td>\n",
       "      <td>NaN</td>\n",
       "      <td>NaN</td>\n",
       "      <td>7.20</td>\n",
       "      <td>драма</td>\n",
       "      <td>2617932.50</td>\n",
       "      <td>2019</td>\n",
       "    </tr>\n",
       "  </tbody>\n",
       "</table>\n",
       "</div>"
      ],
      "text/plain": [
       "         title             type  \\\n",
       "265   Прощание   Художественный   \n",
       "5242  Прощание   Художественный   \n",
       "6633  Прощание   Художественный   \n",
       "7005  Прощание   Художественный   \n",
       "\n",
       "                                            film_studio production_country  \\\n",
       "265                               Киностудия \"Мосфильм\"               СССР   \n",
       "5242  Всероссийский государственный институт кинемат...             Россия   \n",
       "6633                      ИП Киселев Алексей Евгеньевич             Россия   \n",
       "7005        Биг Бич Филмз, Депз оф Филд, Киндред Спирит                США   \n",
       "\n",
       "          director                                   producer  \\\n",
       "265       Э.Климов                                        NaN   \n",
       "5242  А.Петровская                               В.Найговзина   \n",
       "6633      М.Фомина                                  А.Киселев   \n",
       "7005     Лулу Ванг  Анита Го, Даниэль Тейт Мелиа, Эндрю Миано   \n",
       "\n",
       "                      age_restriction  refundable_support  \\\n",
       "265   «12+» - для детей старше 12 лет                 NaN   \n",
       "5242  «16+» - для детей старше 16 лет                 NaN   \n",
       "6633  «16+» - для детей старше 16 лет                 NaN   \n",
       "7005  «16+» - для детей старше 16 лет                 NaN   \n",
       "\n",
       "      nonrefundable_support  budget financing_source  ratings genres  \\\n",
       "265                     NaN     NaN              NaN     7.20  драма   \n",
       "5242                    NaN     NaN              NaN     7.20  драма   \n",
       "6633                    NaN     NaN              NaN     7.20  драма   \n",
       "7005                    NaN     NaN              NaN     7.20  драма   \n",
       "\n",
       "      box_office  year  \n",
       "265          NaN  2014  \n",
       "5242         NaN  2017  \n",
       "6633         NaN  2019  \n",
       "7005  2617932.50  2019  "
      ]
     },
     "metadata": {},
     "output_type": "display_data"
    },
    {
     "data": {
      "text/html": [
       "<div>\n",
       "<style scoped>\n",
       "    .dataframe tbody tr th:only-of-type {\n",
       "        vertical-align: middle;\n",
       "    }\n",
       "\n",
       "    .dataframe tbody tr th {\n",
       "        vertical-align: top;\n",
       "    }\n",
       "\n",
       "    .dataframe thead th {\n",
       "        text-align: right;\n",
       "    }\n",
       "</style>\n",
       "<table border=\"1\" class=\"dataframe\">\n",
       "  <thead>\n",
       "    <tr style=\"text-align: right;\">\n",
       "      <th></th>\n",
       "      <th>title</th>\n",
       "      <th>type</th>\n",
       "      <th>film_studio</th>\n",
       "      <th>production_country</th>\n",
       "      <th>director</th>\n",
       "      <th>producer</th>\n",
       "      <th>age_restriction</th>\n",
       "      <th>refundable_support</th>\n",
       "      <th>nonrefundable_support</th>\n",
       "      <th>budget</th>\n",
       "      <th>financing_source</th>\n",
       "      <th>ratings</th>\n",
       "      <th>genres</th>\n",
       "      <th>box_office</th>\n",
       "      <th>year</th>\n",
       "    </tr>\n",
       "  </thead>\n",
       "  <tbody>\n",
       "    <tr>\n",
       "      <th>370</th>\n",
       "      <td>Гарри Поттер и Дары Смерти - Часть 1/По роману...</td>\n",
       "      <td>Художественный</td>\n",
       "      <td>Уорнер Бразерс, Хэйдэй Филмз</td>\n",
       "      <td>США - Великобритания</td>\n",
       "      <td>Дэвид Йейтс</td>\n",
       "      <td>Дейвид Баррон, Дейвид Хейман</td>\n",
       "      <td>«16+» - для детей старше 16 лет</td>\n",
       "      <td>NaN</td>\n",
       "      <td>NaN</td>\n",
       "      <td>NaN</td>\n",
       "      <td>NaN</td>\n",
       "      <td>8.10</td>\n",
       "      <td>фэнтези,драма,детектив</td>\n",
       "      <td>745510.00</td>\n",
       "      <td>2016</td>\n",
       "    </tr>\n",
       "    <tr>\n",
       "      <th>4090</th>\n",
       "      <td>Гарри Поттер и Дары Смерти - Часть 1/По роману...</td>\n",
       "      <td>Художественный</td>\n",
       "      <td>Уорнер Бразерс, Хэйдэй Филмз</td>\n",
       "      <td>США - Великобритания</td>\n",
       "      <td>Дэвид Йейтс</td>\n",
       "      <td>Дейвид Баррон, Дейвид Хейман</td>\n",
       "      <td>«16+» - для детей старше 16 лет</td>\n",
       "      <td>NaN</td>\n",
       "      <td>NaN</td>\n",
       "      <td>NaN</td>\n",
       "      <td>NaN</td>\n",
       "      <td>8.10</td>\n",
       "      <td>фэнтези,драма,детектив</td>\n",
       "      <td>1700.00</td>\n",
       "      <td>2010</td>\n",
       "    </tr>\n",
       "    <tr>\n",
       "      <th>4379</th>\n",
       "      <td>Гарри Поттер и Дары Смерти - Часть 1/По роману...</td>\n",
       "      <td>Художественный</td>\n",
       "      <td>Уорнер Бразерс, Хэйдэй Филмз</td>\n",
       "      <td>США - Великобритания</td>\n",
       "      <td>Дэвид Йейтс</td>\n",
       "      <td>Дейвид Баррон, Дейвид Хейман</td>\n",
       "      <td>«16+» - для детей старше 16 лет</td>\n",
       "      <td>NaN</td>\n",
       "      <td>NaN</td>\n",
       "      <td>NaN</td>\n",
       "      <td>NaN</td>\n",
       "      <td>8.10</td>\n",
       "      <td>фэнтези,драма,детектив</td>\n",
       "      <td>NaN</td>\n",
       "      <td>2010</td>\n",
       "    </tr>\n",
       "    <tr>\n",
       "      <th>4843</th>\n",
       "      <td>Гарри Поттер и Дары Смерти - Часть 1/По роману...</td>\n",
       "      <td>Художественный</td>\n",
       "      <td>Уорнер Бразерс, Хэйдэй Филмз</td>\n",
       "      <td>США - Великобритания</td>\n",
       "      <td>Дэвид Йейтс</td>\n",
       "      <td>Дейвид Баррон, Дейвид Хейман</td>\n",
       "      <td>«16+» - для детей старше 16 лет</td>\n",
       "      <td>NaN</td>\n",
       "      <td>NaN</td>\n",
       "      <td>NaN</td>\n",
       "      <td>NaN</td>\n",
       "      <td>8.10</td>\n",
       "      <td>фэнтези,драма,детектив</td>\n",
       "      <td>NaN</td>\n",
       "      <td>2011</td>\n",
       "    </tr>\n",
       "  </tbody>\n",
       "</table>\n",
       "</div>"
      ],
      "text/plain": [
       "                                                  title            type  \\\n",
       "370   Гарри Поттер и Дары Смерти - Часть 1/По роману...  Художественный   \n",
       "4090  Гарри Поттер и Дары Смерти - Часть 1/По роману...  Художественный   \n",
       "4379  Гарри Поттер и Дары Смерти - Часть 1/По роману...  Художественный   \n",
       "4843  Гарри Поттер и Дары Смерти - Часть 1/По роману...  Художественный   \n",
       "\n",
       "                       film_studio    production_country     director  \\\n",
       "370   Уорнер Бразерс, Хэйдэй Филмз  США - Великобритания  Дэвид Йейтс   \n",
       "4090  Уорнер Бразерс, Хэйдэй Филмз  США - Великобритания  Дэвид Йейтс   \n",
       "4379  Уорнер Бразерс, Хэйдэй Филмз  США - Великобритания  Дэвид Йейтс   \n",
       "4843  Уорнер Бразерс, Хэйдэй Филмз  США - Великобритания  Дэвид Йейтс   \n",
       "\n",
       "                          producer                  age_restriction  \\\n",
       "370   Дейвид Баррон, Дейвид Хейман  «16+» - для детей старше 16 лет   \n",
       "4090  Дейвид Баррон, Дейвид Хейман  «16+» - для детей старше 16 лет   \n",
       "4379  Дейвид Баррон, Дейвид Хейман  «16+» - для детей старше 16 лет   \n",
       "4843  Дейвид Баррон, Дейвид Хейман  «16+» - для детей старше 16 лет   \n",
       "\n",
       "      refundable_support  nonrefundable_support  budget financing_source  \\\n",
       "370                  NaN                    NaN     NaN              NaN   \n",
       "4090                 NaN                    NaN     NaN              NaN   \n",
       "4379                 NaN                    NaN     NaN              NaN   \n",
       "4843                 NaN                    NaN     NaN              NaN   \n",
       "\n",
       "      ratings                  genres  box_office  year  \n",
       "370      8.10  фэнтези,драма,детектив   745510.00  2016  \n",
       "4090     8.10  фэнтези,драма,детектив     1700.00  2010  \n",
       "4379     8.10  фэнтези,драма,детектив         NaN  2010  \n",
       "4843     8.10  фэнтези,драма,детектив         NaN  2011  "
      ]
     },
     "metadata": {},
     "output_type": "display_data"
    },
    {
     "data": {
      "text/html": [
       "<div>\n",
       "<style scoped>\n",
       "    .dataframe tbody tr th:only-of-type {\n",
       "        vertical-align: middle;\n",
       "    }\n",
       "\n",
       "    .dataframe tbody tr th {\n",
       "        vertical-align: top;\n",
       "    }\n",
       "\n",
       "    .dataframe thead th {\n",
       "        text-align: right;\n",
       "    }\n",
       "</style>\n",
       "<table border=\"1\" class=\"dataframe\">\n",
       "  <thead>\n",
       "    <tr style=\"text-align: right;\">\n",
       "      <th></th>\n",
       "      <th>title</th>\n",
       "      <th>type</th>\n",
       "      <th>film_studio</th>\n",
       "      <th>production_country</th>\n",
       "      <th>director</th>\n",
       "      <th>producer</th>\n",
       "      <th>age_restriction</th>\n",
       "      <th>refundable_support</th>\n",
       "      <th>nonrefundable_support</th>\n",
       "      <th>budget</th>\n",
       "      <th>financing_source</th>\n",
       "      <th>ratings</th>\n",
       "      <th>genres</th>\n",
       "      <th>box_office</th>\n",
       "      <th>year</th>\n",
       "    </tr>\n",
       "  </thead>\n",
       "  <tbody>\n",
       "    <tr>\n",
       "      <th>377</th>\n",
       "      <td>Рапунцель: Запутанная история</td>\n",
       "      <td>Анимационный</td>\n",
       "      <td>Уолт Дисней Анимейшн Студиос, Уолт Дисней Пикчерз</td>\n",
       "      <td>США</td>\n",
       "      <td>Натан Грино, Байрон Ховард</td>\n",
       "      <td>Рой Конли</td>\n",
       "      <td>«12+» - для детей старше 12 лет</td>\n",
       "      <td>NaN</td>\n",
       "      <td>NaN</td>\n",
       "      <td>NaN</td>\n",
       "      <td>NaN</td>\n",
       "      <td>7.90</td>\n",
       "      <td>мультфильм,мюзикл,фэнтези</td>\n",
       "      <td>NaN</td>\n",
       "      <td>2014</td>\n",
       "    </tr>\n",
       "    <tr>\n",
       "      <th>378</th>\n",
       "      <td>Рапунцель: Запутанная история</td>\n",
       "      <td>Анимационный</td>\n",
       "      <td>Уолт Дисней Анимейшн Студиос, Уолт Дисней Пикчерз</td>\n",
       "      <td>США</td>\n",
       "      <td>Натан Грино, Байрон Ховард</td>\n",
       "      <td>Рой Конли</td>\n",
       "      <td>«12+» - для детей старше 12 лет</td>\n",
       "      <td>NaN</td>\n",
       "      <td>NaN</td>\n",
       "      <td>NaN</td>\n",
       "      <td>NaN</td>\n",
       "      <td>7.90</td>\n",
       "      <td>мультфильм,мюзикл,фэнтези</td>\n",
       "      <td>NaN</td>\n",
       "      <td>2012</td>\n",
       "    </tr>\n",
       "    <tr>\n",
       "      <th>4251</th>\n",
       "      <td>Рапунцель: Запутанная история</td>\n",
       "      <td>Анимационный</td>\n",
       "      <td>Уолт Дисней Анимейшн Студиос, Уолт Дисней Пикчерз</td>\n",
       "      <td>США</td>\n",
       "      <td>Натан Грино, Байрон Ховард</td>\n",
       "      <td>Рой Конли</td>\n",
       "      <td>«12+» - для детей старше 12 лет</td>\n",
       "      <td>NaN</td>\n",
       "      <td>NaN</td>\n",
       "      <td>NaN</td>\n",
       "      <td>NaN</td>\n",
       "      <td>7.90</td>\n",
       "      <td>мультфильм,мюзикл,фэнтези</td>\n",
       "      <td>17055.00</td>\n",
       "      <td>2010</td>\n",
       "    </tr>\n",
       "    <tr>\n",
       "      <th>4572</th>\n",
       "      <td>Рапунцель: Запутанная история</td>\n",
       "      <td>Анимационный</td>\n",
       "      <td>Уолт Дисней Анимейшн Студиос, Уолт Дисней Пикчерз</td>\n",
       "      <td>США</td>\n",
       "      <td>Натан Грино, Байрон Ховард</td>\n",
       "      <td>Рой Конли</td>\n",
       "      <td>«12+» - для детей старше 12 лет</td>\n",
       "      <td>NaN</td>\n",
       "      <td>NaN</td>\n",
       "      <td>NaN</td>\n",
       "      <td>NaN</td>\n",
       "      <td>7.90</td>\n",
       "      <td>мультфильм,мюзикл,фэнтези</td>\n",
       "      <td>NaN</td>\n",
       "      <td>2010</td>\n",
       "    </tr>\n",
       "  </tbody>\n",
       "</table>\n",
       "</div>"
      ],
      "text/plain": [
       "                              title          type  \\\n",
       "377   Рапунцель: Запутанная история  Анимационный   \n",
       "378   Рапунцель: Запутанная история  Анимационный   \n",
       "4251  Рапунцель: Запутанная история  Анимационный   \n",
       "4572  Рапунцель: Запутанная история  Анимационный   \n",
       "\n",
       "                                            film_studio production_country  \\\n",
       "377   Уолт Дисней Анимейшн Студиос, Уолт Дисней Пикчерз                США   \n",
       "378   Уолт Дисней Анимейшн Студиос, Уолт Дисней Пикчерз                США   \n",
       "4251  Уолт Дисней Анимейшн Студиос, Уолт Дисней Пикчерз                США   \n",
       "4572  Уолт Дисней Анимейшн Студиос, Уолт Дисней Пикчерз                США   \n",
       "\n",
       "                        director   producer                  age_restriction  \\\n",
       "377   Натан Грино, Байрон Ховард  Рой Конли  «12+» - для детей старше 12 лет   \n",
       "378   Натан Грино, Байрон Ховард  Рой Конли  «12+» - для детей старше 12 лет   \n",
       "4251  Натан Грино, Байрон Ховард  Рой Конли  «12+» - для детей старше 12 лет   \n",
       "4572  Натан Грино, Байрон Ховард  Рой Конли  «12+» - для детей старше 12 лет   \n",
       "\n",
       "      refundable_support  nonrefundable_support  budget financing_source  \\\n",
       "377                  NaN                    NaN     NaN              NaN   \n",
       "378                  NaN                    NaN     NaN              NaN   \n",
       "4251                 NaN                    NaN     NaN              NaN   \n",
       "4572                 NaN                    NaN     NaN              NaN   \n",
       "\n",
       "      ratings                     genres  box_office  year  \n",
       "377      7.90  мультфильм,мюзикл,фэнтези         NaN  2014  \n",
       "378      7.90  мультфильм,мюзикл,фэнтези         NaN  2012  \n",
       "4251     7.90  мультфильм,мюзикл,фэнтези    17055.00  2010  \n",
       "4572     7.90  мультфильм,мюзикл,фэнтези         NaN  2010  "
      ]
     },
     "metadata": {},
     "output_type": "display_data"
    }
   ],
   "source": [
    "# выведем строки с первыми тремя фильмами, которые являются неявными дубликатами\n",
    "\n",
    "display(df_cleaned[df_cleaned['title'] == \"Прощание\"])\n",
    "\n",
    "display(df_cleaned[df_cleaned['title'] == \"Гарри Поттер и Дары Смерти - Часть 1/По роману Дж.К.Ролинг/\"])\n",
    "\n",
    "display(df_cleaned[df_cleaned['title'] == \"Рапунцель: Запутанная история\"])\n"
   ]
  },
  {
   "cell_type": "markdown",
   "metadata": {},
   "source": [
    "Неявные дубликаты в названии фильма частично удалены, но их остается еще очень много.\n",
    "Часть из них не являются дубликатами, так как это разные фильмы с одинаковыми названиями.\n",
    "Но есть и сложные случаи, когда дубликаты происходят из-за наличия информации в колонке со сборами (как например, фильм \"Рапунцель: Запутанная история\" 2010 г имеет две строчки - одна с информацией по сбору, вторая - без этой информации).\n",
    "Чтобы понять, как поступить с такими фильма, проведем эксперимент. \n",
    "Создадим таблицу df_experiment, из которой будет удален столбец box_office, и после этого удалим грубые дубликаты.\n"
   ]
  },
  {
   "cell_type": "code",
   "execution_count": 24,
   "metadata": {
    "scrolled": false
   },
   "outputs": [
    {
     "data": {
      "text/plain": [
       "Прощание                                                       4\n",
       "Машина Джейн Мэнсфилд                                          3\n",
       "Дом грёз                                                       3\n",
       "Рапунцель: Запутанная история                                  3\n",
       "Успех                                                          3\n",
       "Дитя тьмы                                                      3\n",
       "Алекс и Эмма                                                   3\n",
       "Отверженные /По одноименному произведению Виктора Гюго/        3\n",
       "Арктика 3D                                                     3\n",
       "Турист                                                         3\n",
       "Гарри Поттер и Дары Смерти - Часть 1/По роману Дж.К.Ролинг/    3\n",
       "Механик_                                                       3\n",
       "Там, где живут чудовища                                        3\n",
       "Лузеры                                                         2\n",
       "Паранормальное явление 5: Призраки в 3 D                       2\n",
       "Вечное возвращение.                                            2\n",
       "Дьявол                                                         2\n",
       "Расплата_                                                      2\n",
       "Красный дракон /По одноименному роману Томаса Гарриса/         2\n",
       "Серфинг на Таити 3D                                            2\n",
       "Name: title, dtype: int64"
      ]
     },
     "metadata": {},
     "output_type": "display_data"
    },
    {
     "data": {
      "text/html": [
       "<div>\n",
       "<style scoped>\n",
       "    .dataframe tbody tr th:only-of-type {\n",
       "        vertical-align: middle;\n",
       "    }\n",
       "\n",
       "    .dataframe tbody tr th {\n",
       "        vertical-align: top;\n",
       "    }\n",
       "\n",
       "    .dataframe thead th {\n",
       "        text-align: right;\n",
       "    }\n",
       "</style>\n",
       "<table border=\"1\" class=\"dataframe\">\n",
       "  <thead>\n",
       "    <tr style=\"text-align: right;\">\n",
       "      <th></th>\n",
       "      <th>title</th>\n",
       "      <th>type</th>\n",
       "      <th>film_studio</th>\n",
       "      <th>production_country</th>\n",
       "      <th>director</th>\n",
       "      <th>producer</th>\n",
       "      <th>age_restriction</th>\n",
       "      <th>refundable_support</th>\n",
       "      <th>nonrefundable_support</th>\n",
       "      <th>budget</th>\n",
       "      <th>financing_source</th>\n",
       "      <th>ratings</th>\n",
       "      <th>genres</th>\n",
       "      <th>year</th>\n",
       "    </tr>\n",
       "  </thead>\n",
       "  <tbody>\n",
       "    <tr>\n",
       "      <th>39</th>\n",
       "      <td>Алекс и Эмма</td>\n",
       "      <td>Художественный</td>\n",
       "      <td>Эскейп Артистс, Франчайз Пикчерз, Рейнер-Грэйс...</td>\n",
       "      <td>США</td>\n",
       "      <td>Роб Райнер</td>\n",
       "      <td>Тодд Блэк, Элан Грейсман, Джереми Левен, Роб Р...</td>\n",
       "      <td>«16+» - для детей старше 16 лет</td>\n",
       "      <td>NaN</td>\n",
       "      <td>NaN</td>\n",
       "      <td>NaN</td>\n",
       "      <td>NaN</td>\n",
       "      <td>6.40</td>\n",
       "      <td>мелодрама,комедия</td>\n",
       "      <td>2015</td>\n",
       "    </tr>\n",
       "    <tr>\n",
       "      <th>40</th>\n",
       "      <td>Алекс и Эмма</td>\n",
       "      <td>Художественный</td>\n",
       "      <td>Эскейп Артистс, Франчайз Пикчерз, Рейнер-Грэйс...</td>\n",
       "      <td>США</td>\n",
       "      <td>Роб Райнер</td>\n",
       "      <td>Тодд Блэк, Элан Грейсман, Джереми Левен, Роб Р...</td>\n",
       "      <td>«16+» - для детей старше 16 лет</td>\n",
       "      <td>NaN</td>\n",
       "      <td>NaN</td>\n",
       "      <td>NaN</td>\n",
       "      <td>NaN</td>\n",
       "      <td>6.40</td>\n",
       "      <td>мелодрама,комедия</td>\n",
       "      <td>2016</td>\n",
       "    </tr>\n",
       "    <tr>\n",
       "      <th>4341</th>\n",
       "      <td>Алекс и Эмма</td>\n",
       "      <td>Художественный</td>\n",
       "      <td>Эскейп Артистс, Франчайз Пикчерз, Рейнер-Грэйс...</td>\n",
       "      <td>США</td>\n",
       "      <td>Роб Райнер</td>\n",
       "      <td>Тодд Блэк, Элан Грейсман, Джереми Левен, Роб Р...</td>\n",
       "      <td>«16+» - для детей старше 16 лет</td>\n",
       "      <td>NaN</td>\n",
       "      <td>NaN</td>\n",
       "      <td>NaN</td>\n",
       "      <td>NaN</td>\n",
       "      <td>6.40</td>\n",
       "      <td>мелодрама,комедия</td>\n",
       "      <td>2010</td>\n",
       "    </tr>\n",
       "  </tbody>\n",
       "</table>\n",
       "</div>"
      ],
      "text/plain": [
       "             title            type  \\\n",
       "39    Алекс и Эмма  Художественный   \n",
       "40    Алекс и Эмма  Художественный   \n",
       "4341  Алекс и Эмма  Художественный   \n",
       "\n",
       "                                            film_studio production_country  \\\n",
       "39    Эскейп Артистс, Франчайз Пикчерз, Рейнер-Грэйс...                США   \n",
       "40    Эскейп Артистс, Франчайз Пикчерз, Рейнер-Грэйс...                США   \n",
       "4341  Эскейп Артистс, Франчайз Пикчерз, Рейнер-Грэйс...                США   \n",
       "\n",
       "        director                                           producer  \\\n",
       "39    Роб Райнер  Тодд Блэк, Элан Грейсман, Джереми Левен, Роб Р...   \n",
       "40    Роб Райнер  Тодд Блэк, Элан Грейсман, Джереми Левен, Роб Р...   \n",
       "4341  Роб Райнер  Тодд Блэк, Элан Грейсман, Джереми Левен, Роб Р...   \n",
       "\n",
       "                      age_restriction  refundable_support  \\\n",
       "39    «16+» - для детей старше 16 лет                 NaN   \n",
       "40    «16+» - для детей старше 16 лет                 NaN   \n",
       "4341  «16+» - для детей старше 16 лет                 NaN   \n",
       "\n",
       "      nonrefundable_support  budget financing_source  ratings  \\\n",
       "39                      NaN     NaN              NaN     6.40   \n",
       "40                      NaN     NaN              NaN     6.40   \n",
       "4341                    NaN     NaN              NaN     6.40   \n",
       "\n",
       "                 genres  year  \n",
       "39    мелодрама,комедия  2015  \n",
       "40    мелодрама,комедия  2016  \n",
       "4341  мелодрама,комедия  2010  "
      ]
     },
     "metadata": {},
     "output_type": "display_data"
    },
    {
     "data": {
      "text/html": [
       "<div>\n",
       "<style scoped>\n",
       "    .dataframe tbody tr th:only-of-type {\n",
       "        vertical-align: middle;\n",
       "    }\n",
       "\n",
       "    .dataframe tbody tr th {\n",
       "        vertical-align: top;\n",
       "    }\n",
       "\n",
       "    .dataframe thead th {\n",
       "        text-align: right;\n",
       "    }\n",
       "</style>\n",
       "<table border=\"1\" class=\"dataframe\">\n",
       "  <thead>\n",
       "    <tr style=\"text-align: right;\">\n",
       "      <th></th>\n",
       "      <th>title</th>\n",
       "      <th>type</th>\n",
       "      <th>film_studio</th>\n",
       "      <th>production_country</th>\n",
       "      <th>director</th>\n",
       "      <th>producer</th>\n",
       "      <th>age_restriction</th>\n",
       "      <th>refundable_support</th>\n",
       "      <th>nonrefundable_support</th>\n",
       "      <th>budget</th>\n",
       "      <th>financing_source</th>\n",
       "      <th>ratings</th>\n",
       "      <th>genres</th>\n",
       "      <th>year</th>\n",
       "    </tr>\n",
       "  </thead>\n",
       "  <tbody>\n",
       "    <tr>\n",
       "      <th>4457</th>\n",
       "      <td>Турист</td>\n",
       "      <td>Художественный</td>\n",
       "      <td>ДжиКей Филмз, Спайгласс Интертейнмент, Студио ...</td>\n",
       "      <td>США - Франция</td>\n",
       "      <td>Флориан Хенкель фон Доннерсмарк</td>\n",
       "      <td>Гэри Барбер, Риджер Бирнбаум, Джонатан Гликман...</td>\n",
       "      <td>«16+» - для детей старше 16 лет</td>\n",
       "      <td>NaN</td>\n",
       "      <td>NaN</td>\n",
       "      <td>NaN</td>\n",
       "      <td>NaN</td>\n",
       "      <td>7.10</td>\n",
       "      <td>боевик</td>\n",
       "      <td>2010</td>\n",
       "    </tr>\n",
       "    <tr>\n",
       "      <th>4556</th>\n",
       "      <td>Турист</td>\n",
       "      <td>Художественный</td>\n",
       "      <td>ДжиКей Филмз, Спайгласс Интертейнмент, Студио ...</td>\n",
       "      <td>США - Франция</td>\n",
       "      <td>Флориан Хенкель фон Доннерсмарк</td>\n",
       "      <td>Гэри Барбер, Риджер Бирнбаум, Джонатан Гликман...</td>\n",
       "      <td>«16+» - для детей старше 16 лет</td>\n",
       "      <td>NaN</td>\n",
       "      <td>NaN</td>\n",
       "      <td>NaN</td>\n",
       "      <td>NaN</td>\n",
       "      <td>7.10</td>\n",
       "      <td>боевик</td>\n",
       "      <td>2011</td>\n",
       "    </tr>\n",
       "    <tr>\n",
       "      <th>5815</th>\n",
       "      <td>Турист</td>\n",
       "      <td>Художественный</td>\n",
       "      <td>ИП Казиев Михаил Эльшадович</td>\n",
       "      <td>Россия</td>\n",
       "      <td>Д.Кудрявцев</td>\n",
       "      <td>Д.Кудрявцев</td>\n",
       "      <td>«16+» - для детей старше 16 лет</td>\n",
       "      <td>NaN</td>\n",
       "      <td>NaN</td>\n",
       "      <td>NaN</td>\n",
       "      <td>NaN</td>\n",
       "      <td>7.10</td>\n",
       "      <td>боевик</td>\n",
       "      <td>2018</td>\n",
       "    </tr>\n",
       "  </tbody>\n",
       "</table>\n",
       "</div>"
      ],
      "text/plain": [
       "       title             type  \\\n",
       "4457  Турист   Художественный   \n",
       "4556  Турист   Художественный   \n",
       "5815  Турист   Художественный   \n",
       "\n",
       "                                            film_studio production_country  \\\n",
       "4457  ДжиКей Филмз, Спайгласс Интертейнмент, Студио ...      США - Франция   \n",
       "4556  ДжиКей Филмз, Спайгласс Интертейнмент, Студио ...      США - Франция   \n",
       "5815                        ИП Казиев Михаил Эльшадович             Россия   \n",
       "\n",
       "                             director  \\\n",
       "4457  Флориан Хенкель фон Доннерсмарк   \n",
       "4556  Флориан Хенкель фон Доннерсмарк   \n",
       "5815                      Д.Кудрявцев   \n",
       "\n",
       "                                               producer  \\\n",
       "4457  Гэри Барбер, Риджер Бирнбаум, Джонатан Гликман...   \n",
       "4556  Гэри Барбер, Риджер Бирнбаум, Джонатан Гликман...   \n",
       "5815                                        Д.Кудрявцев   \n",
       "\n",
       "                      age_restriction  refundable_support  \\\n",
       "4457  «16+» - для детей старше 16 лет                 NaN   \n",
       "4556  «16+» - для детей старше 16 лет                 NaN   \n",
       "5815  «16+» - для детей старше 16 лет                 NaN   \n",
       "\n",
       "      nonrefundable_support  budget financing_source  ratings  genres  year  \n",
       "4457                    NaN     NaN              NaN     7.10  боевик  2010  \n",
       "4556                    NaN     NaN              NaN     7.10  боевик  2011  \n",
       "5815                    NaN     NaN              NaN     7.10  боевик  2018  "
      ]
     },
     "metadata": {},
     "output_type": "display_data"
    },
    {
     "data": {
      "text/html": [
       "<div>\n",
       "<style scoped>\n",
       "    .dataframe tbody tr th:only-of-type {\n",
       "        vertical-align: middle;\n",
       "    }\n",
       "\n",
       "    .dataframe tbody tr th {\n",
       "        vertical-align: top;\n",
       "    }\n",
       "\n",
       "    .dataframe thead th {\n",
       "        text-align: right;\n",
       "    }\n",
       "</style>\n",
       "<table border=\"1\" class=\"dataframe\">\n",
       "  <thead>\n",
       "    <tr style=\"text-align: right;\">\n",
       "      <th></th>\n",
       "      <th>title</th>\n",
       "      <th>type</th>\n",
       "      <th>film_studio</th>\n",
       "      <th>production_country</th>\n",
       "      <th>director</th>\n",
       "      <th>producer</th>\n",
       "      <th>age_restriction</th>\n",
       "      <th>refundable_support</th>\n",
       "      <th>nonrefundable_support</th>\n",
       "      <th>budget</th>\n",
       "      <th>financing_source</th>\n",
       "      <th>ratings</th>\n",
       "      <th>genres</th>\n",
       "      <th>year</th>\n",
       "    </tr>\n",
       "  </thead>\n",
       "  <tbody>\n",
       "    <tr>\n",
       "      <th>305</th>\n",
       "      <td>Успех</td>\n",
       "      <td>Художественный</td>\n",
       "      <td>Киностудия \"Мосфильм\"</td>\n",
       "      <td>СССР</td>\n",
       "      <td>К.Худяков</td>\n",
       "      <td>NaN</td>\n",
       "      <td>«12+» - для детей старше 12 лет</td>\n",
       "      <td>NaN</td>\n",
       "      <td>NaN</td>\n",
       "      <td>NaN</td>\n",
       "      <td>NaN</td>\n",
       "      <td>7.80</td>\n",
       "      <td>драма</td>\n",
       "      <td>2014</td>\n",
       "    </tr>\n",
       "    <tr>\n",
       "      <th>5560</th>\n",
       "      <td>Успех</td>\n",
       "      <td>Художественный</td>\n",
       "      <td>Сунцов Валентин Валерьевич</td>\n",
       "      <td>Россия</td>\n",
       "      <td>В.Сунцов</td>\n",
       "      <td>В.Сунцов</td>\n",
       "      <td>«12+» - для детей старше 12 лет</td>\n",
       "      <td>NaN</td>\n",
       "      <td>NaN</td>\n",
       "      <td>NaN</td>\n",
       "      <td>NaN</td>\n",
       "      <td>7.80</td>\n",
       "      <td>драма</td>\n",
       "      <td>2018</td>\n",
       "    </tr>\n",
       "    <tr>\n",
       "      <th>6941</th>\n",
       "      <td>Успех</td>\n",
       "      <td>Художественный</td>\n",
       "      <td>ООО \"Кинодом\"</td>\n",
       "      <td>Россия</td>\n",
       "      <td>П.Руминов</td>\n",
       "      <td>С.Бобза, Г.Малков, В.Поляков, М.Кучмент</td>\n",
       "      <td>«12+» - для детей старше 12 лет</td>\n",
       "      <td>5000000.00</td>\n",
       "      <td>20000000.00</td>\n",
       "      <td>75000000.00</td>\n",
       "      <td>Фонд кино</td>\n",
       "      <td>7.80</td>\n",
       "      <td>драма</td>\n",
       "      <td>2019</td>\n",
       "    </tr>\n",
       "  </tbody>\n",
       "</table>\n",
       "</div>"
      ],
      "text/plain": [
       "      title             type                 film_studio production_country  \\\n",
       "305   Успех   Художественный       Киностудия \"Мосфильм\"               СССР   \n",
       "5560  Успех   Художественный  Сунцов Валентин Валерьевич             Россия   \n",
       "6941  Успех   Художественный               ООО \"Кинодом\"             Россия   \n",
       "\n",
       "       director                                 producer  \\\n",
       "305   К.Худяков                                      NaN   \n",
       "5560   В.Сунцов                                 В.Сунцов   \n",
       "6941  П.Руминов  С.Бобза, Г.Малков, В.Поляков, М.Кучмент   \n",
       "\n",
       "                      age_restriction  refundable_support  \\\n",
       "305   «12+» - для детей старше 12 лет                 NaN   \n",
       "5560  «12+» - для детей старше 12 лет                 NaN   \n",
       "6941  «12+» - для детей старше 12 лет          5000000.00   \n",
       "\n",
       "      nonrefundable_support      budget financing_source  ratings genres  year  \n",
       "305                     NaN         NaN              NaN     7.80  драма  2014  \n",
       "5560                    NaN         NaN              NaN     7.80  драма  2018  \n",
       "6941            20000000.00 75000000.00        Фонд кино     7.80  драма  2019  "
      ]
     },
     "metadata": {},
     "output_type": "display_data"
    },
    {
     "data": {
      "text/html": [
       "<div>\n",
       "<style scoped>\n",
       "    .dataframe tbody tr th:only-of-type {\n",
       "        vertical-align: middle;\n",
       "    }\n",
       "\n",
       "    .dataframe tbody tr th {\n",
       "        vertical-align: top;\n",
       "    }\n",
       "\n",
       "    .dataframe thead th {\n",
       "        text-align: right;\n",
       "    }\n",
       "</style>\n",
       "<table border=\"1\" class=\"dataframe\">\n",
       "  <thead>\n",
       "    <tr style=\"text-align: right;\">\n",
       "      <th></th>\n",
       "      <th>title</th>\n",
       "      <th>type</th>\n",
       "      <th>film_studio</th>\n",
       "      <th>production_country</th>\n",
       "      <th>director</th>\n",
       "      <th>producer</th>\n",
       "      <th>age_restriction</th>\n",
       "      <th>refundable_support</th>\n",
       "      <th>nonrefundable_support</th>\n",
       "      <th>budget</th>\n",
       "      <th>financing_source</th>\n",
       "      <th>ratings</th>\n",
       "      <th>genres</th>\n",
       "      <th>year</th>\n",
       "    </tr>\n",
       "  </thead>\n",
       "  <tbody>\n",
       "    <tr>\n",
       "      <th>4115</th>\n",
       "      <td>Паранормальные явления 2</td>\n",
       "      <td>Художественный</td>\n",
       "      <td>Парамаунт Пикчерз</td>\n",
       "      <td>США</td>\n",
       "      <td>Тод Уильямс</td>\n",
       "      <td>Джейсон Блан, Орен Пели</td>\n",
       "      <td>«16+» - для детей старше 16 лет</td>\n",
       "      <td>NaN</td>\n",
       "      <td>NaN</td>\n",
       "      <td>NaN</td>\n",
       "      <td>NaN</td>\n",
       "      <td>5.90</td>\n",
       "      <td>ужасы</td>\n",
       "      <td>2010</td>\n",
       "    </tr>\n",
       "    <tr>\n",
       "      <th>4650</th>\n",
       "      <td>Паранормальные явления 2</td>\n",
       "      <td>Художественный</td>\n",
       "      <td>Парамаунт Пикчерз</td>\n",
       "      <td>США</td>\n",
       "      <td>Тод Уильямс</td>\n",
       "      <td>Джейсон Блан, Орен Пели</td>\n",
       "      <td>«16+» - для детей старше 16 лет</td>\n",
       "      <td>NaN</td>\n",
       "      <td>NaN</td>\n",
       "      <td>NaN</td>\n",
       "      <td>NaN</td>\n",
       "      <td>5.90</td>\n",
       "      <td>ужасы</td>\n",
       "      <td>2011</td>\n",
       "    </tr>\n",
       "  </tbody>\n",
       "</table>\n",
       "</div>"
      ],
      "text/plain": [
       "                         title            type        film_studio  \\\n",
       "4115  Паранормальные явления 2  Художественный  Парамаунт Пикчерз   \n",
       "4650  Паранормальные явления 2  Художественный  Парамаунт Пикчерз   \n",
       "\n",
       "     production_country     director                 producer  \\\n",
       "4115                США  Тод Уильямс  Джейсон Блан, Орен Пели   \n",
       "4650                США  Тод Уильямс  Джейсон Блан, Орен Пели   \n",
       "\n",
       "                      age_restriction  refundable_support  \\\n",
       "4115  «16+» - для детей старше 16 лет                 NaN   \n",
       "4650  «16+» - для детей старше 16 лет                 NaN   \n",
       "\n",
       "      nonrefundable_support  budget financing_source  ratings genres  year  \n",
       "4115                    NaN     NaN              NaN     5.90  ужасы  2010  \n",
       "4650                    NaN     NaN              NaN     5.90  ужасы  2011  "
      ]
     },
     "metadata": {},
     "output_type": "display_data"
    }
   ],
   "source": [
    "# создаем экспериментальный датафрейм, из которого удалим столбец со сборами\n",
    "\n",
    "df_experiment = df_cleaned.drop('box_office', 1)\n",
    "\n",
    "# удаляем грубые дубликаты\n",
    "\n",
    "df_experiment = df_experiment.drop_duplicates().reset_index(drop=True)\n",
    "\n",
    "# проверяем неявные дубликаты по названию фильма\n",
    "\n",
    "display(df_experiment['title'].value_counts().sort_values(ascending=False).head(20))\n",
    "\n",
    "# отфильтровываем некоторые из этих фильмов\n",
    "\n",
    "display(df_experiment[df_experiment['title'] == \"Алекс и Эмма\"])\n",
    "\n",
    "display(df_experiment[df_experiment['title'] == \"Турист\"])\n",
    "\n",
    "display(df_experiment[df_experiment['title'] == \"Успех\"])\n",
    "\n",
    "display(df_experiment[df_experiment['title'] == \"Паранормальные явления 2\"])\n"
   ]
  },
  {
   "cell_type": "markdown",
   "metadata": {},
   "source": [
    "Просмотрев некоторые из фильмов, видим, что данные теперь очищены от неявных дубликатов. Однако, потеряна очень важная колонка box_office.\n"
   ]
  },
  {
   "cell_type": "code",
   "execution_count": 25,
   "metadata": {},
   "outputs": [
    {
     "data": {
      "text/plain": [
       "count    406\n",
       "dtype: int64"
      ]
     },
     "execution_count": 25,
     "metadata": {},
     "output_type": "execute_result"
    }
   ],
   "source": [
    "# посчитаем, сколько повторяющихся фильмов в датафрейме df_cleaned\n",
    "\n",
    "# создадим датафрейм с уникалльными названиями фильмов\n",
    "\n",
    "df2 = df_cleaned['title'].value_counts().to_frame()\n",
    "\n",
    "# дадим название столбцу со счетчиком\n",
    "\n",
    "df2.columns = ['count']\n",
    "\n",
    "# переведем столбец в числовой тип данных\n",
    "\n",
    "df2['count'] = pd.to_numeric(df2['count'], errors='coerce')\n",
    "\n",
    "# посчитаем количество строк с повторяющимися фильмами\n",
    "\n",
    "df2.loc[df2['count'] > 1].count()"
   ]
  },
  {
   "cell_type": "code",
   "execution_count": 26,
   "metadata": {},
   "outputs": [
    {
     "data": {
      "text/plain": [
       "count    319\n",
       "dtype: int64"
      ]
     },
     "execution_count": 26,
     "metadata": {},
     "output_type": "execute_result"
    }
   ],
   "source": [
    "# по аналогии посчитаем, сколько повторяющихся фильмов в датафрейме df_experiment\n",
    "\n",
    "df1 = df_experiment['title'].value_counts().to_frame()\n",
    "\n",
    "df1.columns = ['count']\n",
    "\n",
    "df1['count'] = pd.to_numeric(df1['count'], errors='coerce')\n",
    "\n",
    "df1.loc[df1['count'] > 1].count()"
   ]
  },
  {
   "cell_type": "markdown",
   "metadata": {},
   "source": [
    "Таким образом, можно было удалить еще 87 фильмов - неявных дубликатов. Однако, мы этого делать не будем, так как способ удаления предполагает исключение очень важной колонки со сборами.\n",
    "87 фильмов это немного более 1% от всех фильмов, оставим их, так как искажение будет незначительным."
   ]
  },
  {
   "cell_type": "markdown",
   "metadata": {},
   "source": [
    "Итак, продолжаем работать с датафреймом df_cleaned. \n",
    "Кроме этого создадим датафрейм с названием фильма, номером прокатного удостоверения и полной датой выхода премьеры, чтобы эти данные не были потеряны."
   ]
  },
  {
   "cell_type": "markdown",
   "metadata": {
    "id": "52fOPrEBgFyQ"
   },
   "source": [
    "#### Шаг 2.4. Изучим категориальные значения\n",
    "\n",
    "- Посмотрим, какая общая проблема встречается почти во всех категориальных столбцах;\n",
    "- Исправим проблемные значения в поле `type`.\n",
    "\n"
   ]
  },
  {
   "cell_type": "code",
   "execution_count": 28,
   "metadata": {
    "id": "PnXKIVdFgFyR",
    "scrolled": true
   },
   "outputs": [
    {
     "data": {
      "text/html": [
       "<div>\n",
       "<style scoped>\n",
       "    .dataframe tbody tr th:only-of-type {\n",
       "        vertical-align: middle;\n",
       "    }\n",
       "\n",
       "    .dataframe tbody tr th {\n",
       "        vertical-align: top;\n",
       "    }\n",
       "\n",
       "    .dataframe thead th {\n",
       "        text-align: right;\n",
       "    }\n",
       "</style>\n",
       "<table border=\"1\" class=\"dataframe\">\n",
       "  <thead>\n",
       "    <tr style=\"text-align: right;\">\n",
       "      <th></th>\n",
       "      <th>title</th>\n",
       "      <th>type</th>\n",
       "      <th>film_studio</th>\n",
       "      <th>production_country</th>\n",
       "      <th>director</th>\n",
       "      <th>producer</th>\n",
       "      <th>age_restriction</th>\n",
       "      <th>refundable_support</th>\n",
       "      <th>nonrefundable_support</th>\n",
       "      <th>budget</th>\n",
       "      <th>financing_source</th>\n",
       "      <th>ratings</th>\n",
       "      <th>genres</th>\n",
       "      <th>box_office</th>\n",
       "      <th>year</th>\n",
       "    </tr>\n",
       "  </thead>\n",
       "  <tbody>\n",
       "    <tr>\n",
       "      <th>0</th>\n",
       "      <td>Открытый простор</td>\n",
       "      <td>Художественный</td>\n",
       "      <td>Тачстоун Пикчерз, Кобальт Пикчерз, Бикон Пикче...</td>\n",
       "      <td>США</td>\n",
       "      <td>Кевин Костнер</td>\n",
       "      <td>Дэвид Валдес, Кевин Костнер, Джейк Эбертс</td>\n",
       "      <td>«18+» - запрещено для детей</td>\n",
       "      <td>NaN</td>\n",
       "      <td>NaN</td>\n",
       "      <td>NaN</td>\n",
       "      <td>NaN</td>\n",
       "      <td>7.20</td>\n",
       "      <td>боевик,драма,мелодрама</td>\n",
       "      <td>NaN</td>\n",
       "      <td>2015</td>\n",
       "    </tr>\n",
       "    <tr>\n",
       "      <th>1</th>\n",
       "      <td>Особо важное задание</td>\n",
       "      <td>Художественный</td>\n",
       "      <td>Киностудия \"Мосфильм\"</td>\n",
       "      <td>СССР</td>\n",
       "      <td>Е.Матвеев</td>\n",
       "      <td>NaN</td>\n",
       "      <td>«6+» - для детей старше 6 лет</td>\n",
       "      <td>NaN</td>\n",
       "      <td>NaN</td>\n",
       "      <td>NaN</td>\n",
       "      <td>NaN</td>\n",
       "      <td>6.60</td>\n",
       "      <td>драма,военный</td>\n",
       "      <td>NaN</td>\n",
       "      <td>2016</td>\n",
       "    </tr>\n",
       "    <tr>\n",
       "      <th>2</th>\n",
       "      <td>Особо опасен</td>\n",
       "      <td>Художественный</td>\n",
       "      <td>Юниверсал Пикчерз, Кикстарт Продакшнз, Марк Пл...</td>\n",
       "      <td>США</td>\n",
       "      <td>Тимур Бекмамбетов</td>\n",
       "      <td>Джим Лемли, Джейсон Нетер, Марк Е.Платт, Яйн Смит</td>\n",
       "      <td>«18+» - запрещено для детей</td>\n",
       "      <td>NaN</td>\n",
       "      <td>NaN</td>\n",
       "      <td>NaN</td>\n",
       "      <td>NaN</td>\n",
       "      <td>6.80</td>\n",
       "      <td>фантастика,боевик,триллер</td>\n",
       "      <td>NaN</td>\n",
       "      <td>2016</td>\n",
       "    </tr>\n",
       "    <tr>\n",
       "      <th>3</th>\n",
       "      <td>Особо опасен</td>\n",
       "      <td>Художественный</td>\n",
       "      <td>Юниверсал Пикчерз, Кикстарт Продакшнз, Марк Пл...</td>\n",
       "      <td>США</td>\n",
       "      <td>Тимур Бекмамбетов</td>\n",
       "      <td>Джим Лемли, Джейсон Нетер, Марк Е.Платт, Яйн Смит</td>\n",
       "      <td>«18+» - запрещено для детей</td>\n",
       "      <td>NaN</td>\n",
       "      <td>NaN</td>\n",
       "      <td>NaN</td>\n",
       "      <td>NaN</td>\n",
       "      <td>6.80</td>\n",
       "      <td>фантастика,боевик,триллер</td>\n",
       "      <td>NaN</td>\n",
       "      <td>2015</td>\n",
       "    </tr>\n",
       "    <tr>\n",
       "      <th>4</th>\n",
       "      <td>Остановился поезд</td>\n",
       "      <td>Художественный</td>\n",
       "      <td>Киностудия \"Мосфильм\"</td>\n",
       "      <td>СССР</td>\n",
       "      <td>В.Абдрашитов</td>\n",
       "      <td>NaN</td>\n",
       "      <td>«6+» - для детей старше 6 лет</td>\n",
       "      <td>NaN</td>\n",
       "      <td>NaN</td>\n",
       "      <td>NaN</td>\n",
       "      <td>NaN</td>\n",
       "      <td>7.70</td>\n",
       "      <td>драма</td>\n",
       "      <td>NaN</td>\n",
       "      <td>2016</td>\n",
       "    </tr>\n",
       "  </tbody>\n",
       "</table>\n",
       "</div>"
      ],
      "text/plain": [
       "                  title            type  \\\n",
       "0      Открытый простор  Художественный   \n",
       "1  Особо важное задание  Художественный   \n",
       "2          Особо опасен  Художественный   \n",
       "3          Особо опасен  Художественный   \n",
       "4     Остановился поезд  Художественный   \n",
       "\n",
       "                                         film_studio production_country  \\\n",
       "0  Тачстоун Пикчерз, Кобальт Пикчерз, Бикон Пикче...                США   \n",
       "1                              Киностудия \"Мосфильм\"               СССР   \n",
       "2  Юниверсал Пикчерз, Кикстарт Продакшнз, Марк Пл...                США   \n",
       "3  Юниверсал Пикчерз, Кикстарт Продакшнз, Марк Пл...                США   \n",
       "4                              Киностудия \"Мосфильм\"               СССР   \n",
       "\n",
       "            director                                           producer  \\\n",
       "0      Кевин Костнер          Дэвид Валдес, Кевин Костнер, Джейк Эбертс   \n",
       "1          Е.Матвеев                                                NaN   \n",
       "2  Тимур Бекмамбетов  Джим Лемли, Джейсон Нетер, Марк Е.Платт, Яйн Смит   \n",
       "3  Тимур Бекмамбетов  Джим Лемли, Джейсон Нетер, Марк Е.Платт, Яйн Смит   \n",
       "4       В.Абдрашитов                                                NaN   \n",
       "\n",
       "                 age_restriction  refundable_support  nonrefundable_support  \\\n",
       "0    «18+» - запрещено для детей                 NaN                    NaN   \n",
       "1  «6+» - для детей старше 6 лет                 NaN                    NaN   \n",
       "2    «18+» - запрещено для детей                 NaN                    NaN   \n",
       "3    «18+» - запрещено для детей                 NaN                    NaN   \n",
       "4  «6+» - для детей старше 6 лет                 NaN                    NaN   \n",
       "\n",
       "   budget financing_source  ratings                     genres  box_office  \\\n",
       "0     NaN              NaN     7.20     боевик,драма,мелодрама         NaN   \n",
       "1     NaN              NaN     6.60              драма,военный         NaN   \n",
       "2     NaN              NaN     6.80  фантастика,боевик,триллер         NaN   \n",
       "3     NaN              NaN     6.80  фантастика,боевик,триллер         NaN   \n",
       "4     NaN              NaN     7.70                      драма         NaN   \n",
       "\n",
       "   year  \n",
       "0  2015  \n",
       "1  2016  \n",
       "2  2016  \n",
       "3  2015  \n",
       "4  2016  "
      ]
     },
     "metadata": {},
     "output_type": "display_data"
    },
    {
     "name": "stdout",
     "output_type": "stream",
     "text": [
      "Художественный                4260\n",
      " Художественный               1388\n",
      "Анимационный                   818\n",
      "Прочие                         404\n",
      "Документальный                 285\n",
      "Научно-популярный               53\n",
      " Анимационный                    1\n",
      "Музыкально-развлекательный       1\n",
      "Name: type, dtype: int64\n",
      "«16+» - для детей старше 16 лет           2687\n",
      "«18+» - запрещено для детей               1559\n",
      "«12+» - для детей старше 12 лет           1548\n",
      "«0+» - для любой зрительской аудитории     792\n",
      "«6+» - для детей старше 6 лет              624\n",
      "Name: age_restriction, dtype: int64\n",
      "драма                          469\n",
      "комедия                        343\n",
      "мелодрама,комедия              195\n",
      "драма,мелодрама                177\n",
      "драма,мелодрама,комедия        177\n",
      "                              ... \n",
      "фантастика,фэнтези,детектив      1\n",
      "биография,мелодрама,драма        1\n",
      "документальный,ужасы,боевик      1\n",
      "мелодрама,история,драма          1\n",
      "ужасы,комедия,криминал           1\n",
      "Name: genres, Length: 742, dtype: int64\n"
     ]
    },
    {
     "data": {
      "text/plain": [
       "Киностудия \"Мосфильм\"                                                                                                                                                                                                                     341\n",
       "ООО \"Мульт в кино\"                                                                                                                                                                                                                         57\n",
       "Анимаккорд Лтд                                                                                                                                                                                                                             23\n",
       "ООО \"Мульт в кино\"                                                                                                                                                                                                                         18\n",
       "ФГУП \"ТПО \"Киностудия \"Союзмультфильм\"                                                                                                                                                                                                     16\n",
       "                                                                                                                                                                                                                                         ... \n",
       "ХХ век Фокс, Мирамакс, Юниверсал Пикчерз, Самуэль Голдвин Филмз                                                                                                                                                                             1\n",
       "МК2 Продюксьон, Франс 2 Синема, СинеСинема, Канал +, Франс Телевизьон, Национальный центр кинематографии Франции, Иль-де-Франс, А Сэ Эс Е, Программ Медиа де ля Коммюнете Еуропенн, Ле Текс Сельтер дю Гувернеман Федераль де Бельжик       1\n",
       "Лайонз Гейт Интертейнмент, Меленни Продакшнз, Ю Кей  Эф Эсм, Дейвис Филмз                                                                                                                                                                   1\n",
       "ООО \"РЕН -ТВ\"                                                                                                                                                                                                                               1\n",
       "Кавликс Интертейнмент, Филм Грит, Ритмик Филмз                                                                                                                                                                                              1\n",
       "Name: film_studio, Length: 5490, dtype: int64"
      ]
     },
     "execution_count": 28,
     "metadata": {},
     "output_type": "execute_result"
    }
   ],
   "source": [
    "# выведем на экран первые 5 строк датафрейма\n",
    "\n",
    "display(df_cleaned.head(5))\n",
    "\n",
    "# посмотрим уникальные значения в основных категориальных столбцах\n",
    "\n",
    "print(df_cleaned['type'].value_counts().sort_values(ascending=False))\n",
    "\n",
    "print(df_cleaned['age_restriction'].value_counts().sort_values(ascending=False))\n",
    "\n",
    "print(df_cleaned['genres'].value_counts().sort_values(ascending=False))\n",
    "\n",
    "df_cleaned['film_studio'].value_counts().sort_values(ascending=False)"
   ]
  },
  {
   "cell_type": "markdown",
   "metadata": {},
   "source": [
    "Проверив 4 столбца с категориальными данными: тип фильма, студия, возрастная категория и жанр - обнаружили лишние пробелы в наименовании типа фильмов Художественный и анимационный, заменим на корректные значения."
   ]
  },
  {
   "cell_type": "code",
   "execution_count": 29,
   "metadata": {
    "scrolled": true
   },
   "outputs": [
    {
     "data": {
      "text/plain": [
       "Художественный                5648\n",
       "Анимационный                   819\n",
       "Прочие                         404\n",
       "Документальный                 285\n",
       "Научно-популярный               53\n",
       "Музыкально-развлекательный       1\n",
       "Name: type, dtype: int64"
      ]
     },
     "execution_count": 29,
     "metadata": {},
     "output_type": "execute_result"
    }
   ],
   "source": [
    "# заменим типы фильмов на корректные\n",
    "\n",
    "df_cleaned.loc[df_cleaned['type'] == ' Художественный', 'type'] = 'Художественный'\n",
    "\n",
    "df_cleaned.loc[df_cleaned['type'] == ' Анимационный', 'type'] = 'Анимационный'\n",
    "\n",
    "# проверим, как сработал код\n",
    "\n",
    "df_cleaned['type'].value_counts().sort_values(ascending=False)"
   ]
  },
  {
   "cell_type": "code",
   "execution_count": 30,
   "metadata": {
    "scrolled": true
   },
   "outputs": [
    {
     "name": "stdout",
     "output_type": "stream",
     "text": [
      "США                                                1990\n",
      "Россия                                             1815\n",
      "СССР                                                347\n",
      "Франция                                             294\n",
      "Великобритания                                      255\n",
      "                                                   ... \n",
      "Франция - Великобритания - Камбоджа - США - КНР       1\n",
      "Германия-Австрия-Франция-Италия                       1\n",
      "США - Чехия - Франция                                 1\n",
      "Великобритания, США, Испания                          1\n",
      "Германия - Франция - Канада                           1\n",
      "Name: production_country, Length: 950, dtype: int64\n",
      "Министерство культуры               164\n",
      "Фонд кино                           146\n",
      "Министерство культуры, Фонд кино     22\n",
      "Name: financing_source, dtype: int64\n",
      "О.Семёнова                                 47\n",
      "Д.Червяцов                                 17\n",
      "Ридли Скотт                                15\n",
      "Стивен Содерберг                           14\n",
      "Вуди Аллен                                 13\n",
      "                                           ..\n",
      "Ринат Газизов, Илья Трусов                  1\n",
      "Мигель Гомеш                                1\n",
      "Ж.Бадмацыренов, А.Кузьминов, Е.Замалиев     1\n",
      "С.Осипьян                                   1\n",
      "Зоя Ахтар                                   1\n",
      "Name: director, Length: 4811, dtype: int64\n",
      "П.Смирнов                                                                                                                                                  67\n",
      "Олег Кузовков, Дмитрий Ловейко, Марина Ратина                                                                                                              28\n",
      "С.Сельянов                                                                                                                                                 18\n",
      "Д.Ловейко, О.Кузовков                                                                                                                                      17\n",
      "А.Тельнов                                                                                                                                                  11\n",
      "                                                                                                                                                           ..\n",
      "Клара Беверли, Альваро Лонгария, Хулио Медем                                                                                                                1\n",
      "Трип Винсон, Тара Фарни                                                                                                                                     1\n",
      "София Коппола, Росс Кац, Фрэнсис Форд Коппола                                                                                                               1\n",
      "Жаклин де Гойж, Арсен Готлиб, Дэвид Гордон Грин, Дастин Гай Дэфа, Дидье Дюпик, Алекс Липсшульц, Диана Патиньо Мартинез, Александр Мермаз, Герт Эмбрехтс     1\n",
      "Бэйзил Айваник, Кевин Де Ля Ной                                                                                                                             1\n",
      "Name: producer, Length: 5349, dtype: int64\n"
     ]
    }
   ],
   "source": [
    "# посмотрим уникальные значения в категориальных столбцах\n",
    "\n",
    "print(df_cleaned['production_country'].value_counts().sort_values(ascending=False))\n",
    "\n",
    "print(df_cleaned['financing_source'].value_counts().sort_values(ascending=False))\n",
    "\n",
    "print(df_cleaned['director'].value_counts().sort_values(ascending=False))\n",
    "\n",
    "print(df_cleaned['producer'].value_counts().sort_values(ascending=False))"
   ]
  },
  {
   "cell_type": "markdown",
   "metadata": {},
   "source": [
    "В категориальных столбцах прослеживается проблемы: использованы разные данные - строки, списки строк, строки со знаком тире. Такие данные не получится разбить по категориям."
   ]
  },
  {
   "cell_type": "markdown",
   "metadata": {
    "id": "XFSN5lrEgFyR"
   },
   "source": [
    "#### Шаг 2.5. Проверим количественные значения\n",
    "\n",
    "- Проверим, обнаружились ли в таких столбцах подозрительные данные. Как с такими данными лучше поступить?\n",
    "\n"
   ]
  },
  {
   "cell_type": "code",
   "execution_count": 31,
   "metadata": {
    "scrolled": true
   },
   "outputs": [
    {
     "data": {
      "text/plain": [
       "0.00        24\n",
       "200.00      13\n",
       "300.00      12\n",
       "360.00       9\n",
       "400.00       8\n",
       "250.00       8\n",
       "500.00       8\n",
       "600.00       7\n",
       "150.00       6\n",
       "550.00       6\n",
       "100.00       6\n",
       "1700.00      5\n",
       "1600.00      5\n",
       "420.00       5\n",
       "240.00       5\n",
       "120.00       5\n",
       "450.00       5\n",
       "900.00       4\n",
       "1000.00      4\n",
       "750.00       4\n",
       "780.00       4\n",
       "540.00       4\n",
       "1200.00      4\n",
       "2000.00      3\n",
       "350.00       3\n",
       "225.00       3\n",
       "1950.00      3\n",
       "760.00       3\n",
       "6000.00      3\n",
       "650.00       3\n",
       "5000.00      3\n",
       "520.00       3\n",
       "2200.00      3\n",
       "1900.00      3\n",
       "1100.00      3\n",
       "180.00       3\n",
       "1820.00      3\n",
       "2820.00      3\n",
       "1360.00      3\n",
       "1020.00      2\n",
       "1660.00      2\n",
       "9000.00      2\n",
       "370.00       2\n",
       "1580.00      2\n",
       "12910.00     2\n",
       "4960.00      2\n",
       "620.00       2\n",
       "1070.00      2\n",
       "2400.00      2\n",
       "125.00       2\n",
       "Name: box_office, dtype: int64"
      ]
     },
     "metadata": {},
     "output_type": "display_data"
    },
    {
     "data": {
      "text/plain": [
       "0.00            17\n",
       "38000000.00      6\n",
       "80000000.00      4\n",
       "50000000.00      4\n",
       "40000000.00      3\n",
       "38500000.00      3\n",
       "37142857.00      3\n",
       "54000000.00      2\n",
       "150000000.00     2\n",
       "300000000.00     2\n",
       "42000000.00      2\n",
       "54687500.00      2\n",
       "60000000.00      2\n",
       "39000000.00      2\n",
       "37878787.00      2\n",
       "120000000.00     2\n",
       "292412422.00     1\n",
       "128570000.00     1\n",
       "47200000.00      1\n",
       "67942718.00      1\n",
       "204674000.00     1\n",
       "74071918.00      1\n",
       "493733957.00     1\n",
       "52124638.00      1\n",
       "39700000.00      1\n",
       "37000990.00      1\n",
       "499826569.00     1\n",
       "43000000.00      1\n",
       "37943652.00      1\n",
       "71517631.00      1\n",
       "44600000.00      1\n",
       "360000000.00     1\n",
       "240153900.00     1\n",
       "40574140.00      1\n",
       "55195000.00      1\n",
       "31305313.00      1\n",
       "298500000.00     1\n",
       "69883049.00      1\n",
       "40287770.00      1\n",
       "157236080.00     1\n",
       "139551503.00     1\n",
       "138325738.00     1\n",
       "57876000.00      1\n",
       "130000000.00     1\n",
       "944000000.00     1\n",
       "80324137.00      1\n",
       "148585222.00     1\n",
       "35760060.00      1\n",
       "35714286.00      1\n",
       "684200536.00     1\n",
       "Name: budget, dtype: int64"
      ]
     },
     "execution_count": 31,
     "metadata": {},
     "output_type": "execute_result"
    }
   ],
   "source": [
    "# проверим уникальные значения в столбцах с бюджетом и сборами\n",
    "\n",
    "display(df_cleaned['box_office'].value_counts().head(50))\n",
    "\n",
    "df_cleaned['budget'].value_counts().head(50)"
   ]
  },
  {
   "cell_type": "markdown",
   "metadata": {},
   "source": [
    "Проверены уникальные значения в столбцах с бюджетом и сборами.\n",
    "Вызывают подозрения очень низкие значения сборов, и таких значений очень много. Изменить мы их не сможем, только дать заказчику рекомендации по проверке данных. "
   ]
  },
  {
   "cell_type": "code",
   "execution_count": 32,
   "metadata": {
    "scrolled": true
   },
   "outputs": [
    {
     "data": {
      "text/html": [
       "<div>\n",
       "<style scoped>\n",
       "    .dataframe tbody tr th:only-of-type {\n",
       "        vertical-align: middle;\n",
       "    }\n",
       "\n",
       "    .dataframe tbody tr th {\n",
       "        vertical-align: top;\n",
       "    }\n",
       "\n",
       "    .dataframe thead th {\n",
       "        text-align: right;\n",
       "    }\n",
       "</style>\n",
       "<table border=\"1\" class=\"dataframe\">\n",
       "  <thead>\n",
       "    <tr style=\"text-align: right;\">\n",
       "      <th></th>\n",
       "      <th>title</th>\n",
       "      <th>type</th>\n",
       "      <th>film_studio</th>\n",
       "      <th>production_country</th>\n",
       "      <th>director</th>\n",
       "      <th>producer</th>\n",
       "      <th>age_restriction</th>\n",
       "      <th>refundable_support</th>\n",
       "      <th>nonrefundable_support</th>\n",
       "      <th>budget</th>\n",
       "      <th>financing_source</th>\n",
       "      <th>ratings</th>\n",
       "      <th>genres</th>\n",
       "      <th>box_office</th>\n",
       "      <th>year</th>\n",
       "    </tr>\n",
       "  </thead>\n",
       "  <tbody>\n",
       "    <tr>\n",
       "      <th>1994</th>\n",
       "      <td>14+</td>\n",
       "      <td>Художественный</td>\n",
       "      <td>ООО Киностудия  \"Сентябрь\"</td>\n",
       "      <td>Россия</td>\n",
       "      <td>А.Зайцев</td>\n",
       "      <td>О.Гранина, А.Зайцев</td>\n",
       "      <td>«16+» - для детей старше 16 лет</td>\n",
       "      <td>0.00</td>\n",
       "      <td>23000000.00</td>\n",
       "      <td>0.00</td>\n",
       "      <td>Министерство культуры, Фонд кино</td>\n",
       "      <td>6.60</td>\n",
       "      <td>мелодрама</td>\n",
       "      <td>10234016.10</td>\n",
       "      <td>2014</td>\n",
       "    </tr>\n",
       "    <tr>\n",
       "      <th>1999</th>\n",
       "      <td>Дуxless 2</td>\n",
       "      <td>Художественный</td>\n",
       "      <td>ООО \"Киностудия \"Слово\", ООО \"Арт Пикчерс Студия\"</td>\n",
       "      <td>Россия</td>\n",
       "      <td>Р.Прыгунов</td>\n",
       "      <td>П.Ануров, Ф.Бондарчук, Д.Рудовский</td>\n",
       "      <td>«16+» - для детей старше 16 лет</td>\n",
       "      <td>0.00</td>\n",
       "      <td>75000000.00</td>\n",
       "      <td>0.00</td>\n",
       "      <td>Фонд кино</td>\n",
       "      <td>6.60</td>\n",
       "      <td>драма</td>\n",
       "      <td>446163511.00</td>\n",
       "      <td>2015</td>\n",
       "    </tr>\n",
       "    <tr>\n",
       "      <th>2398</th>\n",
       "      <td>Воин (2015)</td>\n",
       "      <td>Художественный</td>\n",
       "      <td>ООО \"Форпост Продакшн\", ООО \"Арт Пикчерс Студия\"</td>\n",
       "      <td>Россия</td>\n",
       "      <td>А.Андрианов</td>\n",
       "      <td>ООО \"Арт Пикчерс Студия\"</td>\n",
       "      <td>«12+» - для детей старше 12 лет</td>\n",
       "      <td>10000000.00</td>\n",
       "      <td>70000000.00</td>\n",
       "      <td>0.00</td>\n",
       "      <td>Фонд кино</td>\n",
       "      <td>7.80</td>\n",
       "      <td>боевик,драма,криминал</td>\n",
       "      <td>196572438.40</td>\n",
       "      <td>2015</td>\n",
       "    </tr>\n",
       "    <tr>\n",
       "      <th>2458</th>\n",
       "      <td>Бармен.</td>\n",
       "      <td>Художественный</td>\n",
       "      <td>АО \"ВайТ Медиа\", ООО \"Арт Пикчерс Студия\"</td>\n",
       "      <td>Россия</td>\n",
       "      <td>Д.Штурманова</td>\n",
       "      <td>Т.Вайнштейн</td>\n",
       "      <td>«16+» - для детей старше 16 лет</td>\n",
       "      <td>20000000.00</td>\n",
       "      <td>0.00</td>\n",
       "      <td>0.00</td>\n",
       "      <td>Фонд кино</td>\n",
       "      <td>6.20</td>\n",
       "      <td>комедия,фэнтези</td>\n",
       "      <td>67418974.80</td>\n",
       "      <td>2015</td>\n",
       "    </tr>\n",
       "    <tr>\n",
       "      <th>2538</th>\n",
       "      <td>Савва. Сердце воина</td>\n",
       "      <td>Анимационный</td>\n",
       "      <td>ООО \"Глюкоза Продакшн\", ООО \"Арт Пикчерс Студия\"</td>\n",
       "      <td>Россия</td>\n",
       "      <td>М.Фадеев</td>\n",
       "      <td>А.Чистяков</td>\n",
       "      <td>«6+» - для детей старше 6 лет</td>\n",
       "      <td>60000000.00</td>\n",
       "      <td>100000000.00</td>\n",
       "      <td>0.00</td>\n",
       "      <td>Фонд кино</td>\n",
       "      <td>4.60</td>\n",
       "      <td>мультфильм,приключения,фэнтези</td>\n",
       "      <td>184487551.40</td>\n",
       "      <td>2015</td>\n",
       "    </tr>\n",
       "    <tr>\n",
       "      <th>2607</th>\n",
       "      <td>Тряпичный союз</td>\n",
       "      <td>Художественный</td>\n",
       "      <td>ООО \"Кинокомпания \"КОКТЕБЕЛЬ\"</td>\n",
       "      <td>Россия</td>\n",
       "      <td>М.Местецкий</td>\n",
       "      <td>Р.Борисевич, А.Кушаев</td>\n",
       "      <td>«18+» - запрещено для детей</td>\n",
       "      <td>0.00</td>\n",
       "      <td>59000000.00</td>\n",
       "      <td>0.00</td>\n",
       "      <td>Фонд кино</td>\n",
       "      <td>6.30</td>\n",
       "      <td>комедия,драма</td>\n",
       "      <td>1957738.51</td>\n",
       "      <td>2015</td>\n",
       "    </tr>\n",
       "    <tr>\n",
       "      <th>2710</th>\n",
       "      <td>Срочно выйду замуж</td>\n",
       "      <td>Художественный</td>\n",
       "      <td>АО \"ВайТ Медиа\", ООО \"Арт Пикчерс Студия\"</td>\n",
       "      <td>Россия</td>\n",
       "      <td>С Чекалов</td>\n",
       "      <td>Ф.Бондарчук, Т.Вайнштейн, Д.Рудовский</td>\n",
       "      <td>«16+» - для детей старше 16 лет</td>\n",
       "      <td>0.00</td>\n",
       "      <td>35000000.00</td>\n",
       "      <td>0.00</td>\n",
       "      <td>Фонд кино</td>\n",
       "      <td>5.10</td>\n",
       "      <td>комедия,мелодрама</td>\n",
       "      <td>72937783.20</td>\n",
       "      <td>2015</td>\n",
       "    </tr>\n",
       "    <tr>\n",
       "      <th>2796</th>\n",
       "      <td>Помню - не помню!</td>\n",
       "      <td>Художественный</td>\n",
       "      <td>ООО \"КиноФирма\"</td>\n",
       "      <td>Россия</td>\n",
       "      <td>В.Ровенский</td>\n",
       "      <td>ООО \"КиноФирма\"</td>\n",
       "      <td>«12+» - для детей старше 12 лет</td>\n",
       "      <td>0.00</td>\n",
       "      <td>6000000.00</td>\n",
       "      <td>0.00</td>\n",
       "      <td>Министерство культуры</td>\n",
       "      <td>4.30</td>\n",
       "      <td>комедия</td>\n",
       "      <td>15362931.43</td>\n",
       "      <td>2016</td>\n",
       "    </tr>\n",
       "    <tr>\n",
       "      <th>2969</th>\n",
       "      <td>Любовь с ограничениями</td>\n",
       "      <td>Художественный</td>\n",
       "      <td>АО \"ВайТ Медиа\", ООО \"Арт Пикчерс Студия\"</td>\n",
       "      <td>Россия</td>\n",
       "      <td>Д.Тюрин</td>\n",
       "      <td>Ф.Бондарчук, Т.Вайнштейн, Д.Рудовский</td>\n",
       "      <td>«16+» - для детей старше 16 лет</td>\n",
       "      <td>19000000.00</td>\n",
       "      <td>51000000.00</td>\n",
       "      <td>0.00</td>\n",
       "      <td>Фонд кино</td>\n",
       "      <td>6.30</td>\n",
       "      <td>комедия,мелодрама</td>\n",
       "      <td>70299052.00</td>\n",
       "      <td>2016</td>\n",
       "    </tr>\n",
       "    <tr>\n",
       "      <th>3483</th>\n",
       "      <td>Притяжение (2016)</td>\n",
       "      <td>Художественный</td>\n",
       "      <td>ООО \"Водород 2011\",  ООО \"Арт Пикчерс Студия\"</td>\n",
       "      <td>Россия</td>\n",
       "      <td>Ф.Бондарчук</td>\n",
       "      <td>ООО \"Арт Пикчерс Студия\"</td>\n",
       "      <td>«12+» - для детей старше 12 лет</td>\n",
       "      <td>0.00</td>\n",
       "      <td>250000000.00</td>\n",
       "      <td>0.00</td>\n",
       "      <td>Фонд кино</td>\n",
       "      <td>5.60</td>\n",
       "      <td>фантастика</td>\n",
       "      <td>1038321489.00</td>\n",
       "      <td>2016</td>\n",
       "    </tr>\n",
       "    <tr>\n",
       "      <th>3593</th>\n",
       "      <td>Чудо-юдо</td>\n",
       "      <td>Анимационный</td>\n",
       "      <td>ООО \"КиноФирма\"</td>\n",
       "      <td>Россия</td>\n",
       "      <td>А.Лукичев</td>\n",
       "      <td>ООО \"КиноФирма\"</td>\n",
       "      <td>«6+» - для детей старше 6 лет</td>\n",
       "      <td>20000000.00</td>\n",
       "      <td>20000000.00</td>\n",
       "      <td>0.00</td>\n",
       "      <td>Фонд кино</td>\n",
       "      <td>5.20</td>\n",
       "      <td>мультфильм,фэнтези,семейный</td>\n",
       "      <td>55108014.76</td>\n",
       "      <td>2017</td>\n",
       "    </tr>\n",
       "    <tr>\n",
       "      <th>3657</th>\n",
       "      <td>Мифы</td>\n",
       "      <td>Художественный</td>\n",
       "      <td>ООО \"ХАЙПФИЛМ\", ООО \"Арт Пикчерс Студия\"</td>\n",
       "      <td>Россия</td>\n",
       "      <td>А.Молочников</td>\n",
       "      <td>Ф.Бондарчук, Д.Рудовский, И.Стюарт, М.Османн, ...</td>\n",
       "      <td>«16+» - для детей старше 16 лет</td>\n",
       "      <td>25000000.00</td>\n",
       "      <td>20000000.00</td>\n",
       "      <td>0.00</td>\n",
       "      <td>Фонд кино</td>\n",
       "      <td>4.80</td>\n",
       "      <td>комедия</td>\n",
       "      <td>50451949.00</td>\n",
       "      <td>2017</td>\n",
       "    </tr>\n",
       "    <tr>\n",
       "      <th>5401</th>\n",
       "      <td>Селфи</td>\n",
       "      <td>Художественный</td>\n",
       "      <td>ООО \"Киностудия \"Слово\", ООО \"Арт Пикчерс Студия\"</td>\n",
       "      <td>Россия</td>\n",
       "      <td>Н.Хомерики</td>\n",
       "      <td>П.Ануров, Ф.Бондарчук, Д.Рудовский</td>\n",
       "      <td>«16+» - для детей старше 16 лет</td>\n",
       "      <td>20000000.00</td>\n",
       "      <td>40000000.00</td>\n",
       "      <td>0.00</td>\n",
       "      <td>Фонд кино</td>\n",
       "      <td>5.80</td>\n",
       "      <td>триллер,драма</td>\n",
       "      <td>225196400.03</td>\n",
       "      <td>2018</td>\n",
       "    </tr>\n",
       "    <tr>\n",
       "      <th>5534</th>\n",
       "      <td>Два хвоста</td>\n",
       "      <td>Анимационный</td>\n",
       "      <td>ООО \"ЛИЦЕНЗИОННЫЕ БРЕНДЫ\"</td>\n",
       "      <td>Россия</td>\n",
       "      <td>В.Ровенский, Н.Лопато, В.Азеев</td>\n",
       "      <td>ООО \"ЛИЦЕНЗИОННЫЕ БРЕНДЫ\"</td>\n",
       "      <td>«6+» - для детей старше 6 лет</td>\n",
       "      <td>10000000.00</td>\n",
       "      <td>60000000.00</td>\n",
       "      <td>0.00</td>\n",
       "      <td>Фонд кино</td>\n",
       "      <td>5.00</td>\n",
       "      <td>мультфильм,детский</td>\n",
       "      <td>106514301.03</td>\n",
       "      <td>2018</td>\n",
       "    </tr>\n",
       "    <tr>\n",
       "      <th>5736</th>\n",
       "      <td>Принцесса и дракон</td>\n",
       "      <td>Анимационный</td>\n",
       "      <td>ООО \"ЛИЦЕНЗИОННЫЕ БРЕНДЫ\"</td>\n",
       "      <td>Россия</td>\n",
       "      <td>М.Нефедова</td>\n",
       "      <td>ООО \"ЛИЦЕНЗИОННЫЕ БРЕНДЫ\"</td>\n",
       "      <td>«6+» - для детей старше 6 лет</td>\n",
       "      <td>40000000.00</td>\n",
       "      <td>40000000.00</td>\n",
       "      <td>0.00</td>\n",
       "      <td>Фонд кино</td>\n",
       "      <td>5.20</td>\n",
       "      <td>мультфильм,фэнтези,детский</td>\n",
       "      <td>83366328.66</td>\n",
       "      <td>2018</td>\n",
       "    </tr>\n",
       "    <tr>\n",
       "      <th>6049</th>\n",
       "      <td>Баба Яга</td>\n",
       "      <td>Анимационный</td>\n",
       "      <td>ООО \"Арт Пикчерс Студия\"</td>\n",
       "      <td>Россия</td>\n",
       "      <td>В.Саков</td>\n",
       "      <td>ООО \"Арт Пикчерс Студия\", ООО \"КРИЭЙТИВ АНИМЭЙ...</td>\n",
       "      <td>«6+» - для детей старше 6 лет</td>\n",
       "      <td>0.00</td>\n",
       "      <td>138969465.00</td>\n",
       "      <td>0.00</td>\n",
       "      <td>Фонд кино</td>\n",
       "      <td>NaN</td>\n",
       "      <td>NaN</td>\n",
       "      <td>1334699.40</td>\n",
       "      <td>2018</td>\n",
       "    </tr>\n",
       "    <tr>\n",
       "      <th>6547</th>\n",
       "      <td>Большое путешествие</td>\n",
       "      <td>Анимационный</td>\n",
       "      <td>ООО \"ЛИЦЕНЗИОННЫЕ БРЕНДЫ\"</td>\n",
       "      <td>Россия</td>\n",
       "      <td>Н.Лопато, В.Ровенский</td>\n",
       "      <td>ООО \"ЛИЦЕНЗИОННЫЕ БРЕНДЫ\"</td>\n",
       "      <td>«6+» - для детей старше 6 лет</td>\n",
       "      <td>60000000.00</td>\n",
       "      <td>120000000.00</td>\n",
       "      <td>0.00</td>\n",
       "      <td>Фонд кино</td>\n",
       "      <td>6.20</td>\n",
       "      <td>мультфильм,комедия,приключения</td>\n",
       "      <td>147606826.51</td>\n",
       "      <td>2019</td>\n",
       "    </tr>\n",
       "  </tbody>\n",
       "</table>\n",
       "</div>"
      ],
      "text/plain": [
       "                       title            type  \\\n",
       "1994                     14+  Художественный   \n",
       "1999               Дуxless 2  Художественный   \n",
       "2398             Воин (2015)  Художественный   \n",
       "2458                 Бармен.  Художественный   \n",
       "2538     Савва. Сердце воина    Анимационный   \n",
       "2607          Тряпичный союз  Художественный   \n",
       "2710      Срочно выйду замуж  Художественный   \n",
       "2796       Помню - не помню!  Художественный   \n",
       "2969  Любовь с ограничениями  Художественный   \n",
       "3483       Притяжение (2016)  Художественный   \n",
       "3593                Чудо-юдо    Анимационный   \n",
       "3657                    Мифы  Художественный   \n",
       "5401                   Селфи  Художественный   \n",
       "5534              Два хвоста    Анимационный   \n",
       "5736      Принцесса и дракон    Анимационный   \n",
       "6049                Баба Яга    Анимационный   \n",
       "6547     Большое путешествие    Анимационный   \n",
       "\n",
       "                                            film_studio production_country  \\\n",
       "1994                         ООО Киностудия  \"Сентябрь\"             Россия   \n",
       "1999  ООО \"Киностудия \"Слово\", ООО \"Арт Пикчерс Студия\"             Россия   \n",
       "2398   ООО \"Форпост Продакшн\", ООО \"Арт Пикчерс Студия\"             Россия   \n",
       "2458          АО \"ВайТ Медиа\", ООО \"Арт Пикчерс Студия\"             Россия   \n",
       "2538   ООО \"Глюкоза Продакшн\", ООО \"Арт Пикчерс Студия\"             Россия   \n",
       "2607                      ООО \"Кинокомпания \"КОКТЕБЕЛЬ\"             Россия   \n",
       "2710          АО \"ВайТ Медиа\", ООО \"Арт Пикчерс Студия\"             Россия   \n",
       "2796                                    ООО \"КиноФирма\"             Россия   \n",
       "2969          АО \"ВайТ Медиа\", ООО \"Арт Пикчерс Студия\"             Россия   \n",
       "3483      ООО \"Водород 2011\",  ООО \"Арт Пикчерс Студия\"             Россия   \n",
       "3593                                    ООО \"КиноФирма\"             Россия   \n",
       "3657           ООО \"ХАЙПФИЛМ\", ООО \"Арт Пикчерс Студия\"             Россия   \n",
       "5401  ООО \"Киностудия \"Слово\", ООО \"Арт Пикчерс Студия\"             Россия   \n",
       "5534                          ООО \"ЛИЦЕНЗИОННЫЕ БРЕНДЫ\"             Россия   \n",
       "5736                          ООО \"ЛИЦЕНЗИОННЫЕ БРЕНДЫ\"             Россия   \n",
       "6049                           ООО \"Арт Пикчерс Студия\"             Россия   \n",
       "6547                          ООО \"ЛИЦЕНЗИОННЫЕ БРЕНДЫ\"             Россия   \n",
       "\n",
       "                            director  \\\n",
       "1994                        А.Зайцев   \n",
       "1999                      Р.Прыгунов   \n",
       "2398                     А.Андрианов   \n",
       "2458                    Д.Штурманова   \n",
       "2538                        М.Фадеев   \n",
       "2607                     М.Местецкий   \n",
       "2710                       С Чекалов   \n",
       "2796                     В.Ровенский   \n",
       "2969                         Д.Тюрин   \n",
       "3483                     Ф.Бондарчук   \n",
       "3593                       А.Лукичев   \n",
       "3657                    А.Молочников   \n",
       "5401                      Н.Хомерики   \n",
       "5534  В.Ровенский, Н.Лопато, В.Азеев   \n",
       "5736                      М.Нефедова   \n",
       "6049                         В.Саков   \n",
       "6547           Н.Лопато, В.Ровенский   \n",
       "\n",
       "                                               producer  \\\n",
       "1994                                О.Гранина, А.Зайцев   \n",
       "1999                 П.Ануров, Ф.Бондарчук, Д.Рудовский   \n",
       "2398                           ООО \"Арт Пикчерс Студия\"   \n",
       "2458                                        Т.Вайнштейн   \n",
       "2538                                         А.Чистяков   \n",
       "2607                              Р.Борисевич, А.Кушаев   \n",
       "2710              Ф.Бондарчук, Т.Вайнштейн, Д.Рудовский   \n",
       "2796                                    ООО \"КиноФирма\"   \n",
       "2969              Ф.Бондарчук, Т.Вайнштейн, Д.Рудовский   \n",
       "3483                           ООО \"Арт Пикчерс Студия\"   \n",
       "3593                                    ООО \"КиноФирма\"   \n",
       "3657  Ф.Бондарчук, Д.Рудовский, И.Стюарт, М.Османн, ...   \n",
       "5401                 П.Ануров, Ф.Бондарчук, Д.Рудовский   \n",
       "5534                          ООО \"ЛИЦЕНЗИОННЫЕ БРЕНДЫ\"   \n",
       "5736                          ООО \"ЛИЦЕНЗИОННЫЕ БРЕНДЫ\"   \n",
       "6049  ООО \"Арт Пикчерс Студия\", ООО \"КРИЭЙТИВ АНИМЭЙ...   \n",
       "6547                          ООО \"ЛИЦЕНЗИОННЫЕ БРЕНДЫ\"   \n",
       "\n",
       "                      age_restriction  refundable_support  \\\n",
       "1994  «16+» - для детей старше 16 лет                0.00   \n",
       "1999  «16+» - для детей старше 16 лет                0.00   \n",
       "2398  «12+» - для детей старше 12 лет         10000000.00   \n",
       "2458  «16+» - для детей старше 16 лет         20000000.00   \n",
       "2538    «6+» - для детей старше 6 лет         60000000.00   \n",
       "2607      «18+» - запрещено для детей                0.00   \n",
       "2710  «16+» - для детей старше 16 лет                0.00   \n",
       "2796  «12+» - для детей старше 12 лет                0.00   \n",
       "2969  «16+» - для детей старше 16 лет         19000000.00   \n",
       "3483  «12+» - для детей старше 12 лет                0.00   \n",
       "3593    «6+» - для детей старше 6 лет         20000000.00   \n",
       "3657  «16+» - для детей старше 16 лет         25000000.00   \n",
       "5401  «16+» - для детей старше 16 лет         20000000.00   \n",
       "5534    «6+» - для детей старше 6 лет         10000000.00   \n",
       "5736    «6+» - для детей старше 6 лет         40000000.00   \n",
       "6049    «6+» - для детей старше 6 лет                0.00   \n",
       "6547    «6+» - для детей старше 6 лет         60000000.00   \n",
       "\n",
       "      nonrefundable_support  budget                  financing_source  \\\n",
       "1994            23000000.00    0.00  Министерство культуры, Фонд кино   \n",
       "1999            75000000.00    0.00                         Фонд кино   \n",
       "2398            70000000.00    0.00                         Фонд кино   \n",
       "2458                   0.00    0.00                         Фонд кино   \n",
       "2538           100000000.00    0.00                         Фонд кино   \n",
       "2607            59000000.00    0.00                         Фонд кино   \n",
       "2710            35000000.00    0.00                         Фонд кино   \n",
       "2796             6000000.00    0.00             Министерство культуры   \n",
       "2969            51000000.00    0.00                         Фонд кино   \n",
       "3483           250000000.00    0.00                         Фонд кино   \n",
       "3593            20000000.00    0.00                         Фонд кино   \n",
       "3657            20000000.00    0.00                         Фонд кино   \n",
       "5401            40000000.00    0.00                         Фонд кино   \n",
       "5534            60000000.00    0.00                         Фонд кино   \n",
       "5736            40000000.00    0.00                         Фонд кино   \n",
       "6049           138969465.00    0.00                         Фонд кино   \n",
       "6547           120000000.00    0.00                         Фонд кино   \n",
       "\n",
       "      ratings                          genres    box_office  year  \n",
       "1994     6.60                       мелодрама   10234016.10  2014  \n",
       "1999     6.60                           драма  446163511.00  2015  \n",
       "2398     7.80           боевик,драма,криминал  196572438.40  2015  \n",
       "2458     6.20                 комедия,фэнтези   67418974.80  2015  \n",
       "2538     4.60  мультфильм,приключения,фэнтези  184487551.40  2015  \n",
       "2607     6.30                   комедия,драма    1957738.51  2015  \n",
       "2710     5.10               комедия,мелодрама   72937783.20  2015  \n",
       "2796     4.30                         комедия   15362931.43  2016  \n",
       "2969     6.30               комедия,мелодрама   70299052.00  2016  \n",
       "3483     5.60                      фантастика 1038321489.00  2016  \n",
       "3593     5.20     мультфильм,фэнтези,семейный   55108014.76  2017  \n",
       "3657     4.80                         комедия   50451949.00  2017  \n",
       "5401     5.80                   триллер,драма  225196400.03  2018  \n",
       "5534     5.00              мультфильм,детский  106514301.03  2018  \n",
       "5736     5.20      мультфильм,фэнтези,детский   83366328.66  2018  \n",
       "6049      NaN                             NaN    1334699.40  2018  \n",
       "6547     6.20  мультфильм,комедия,приключения  147606826.51  2019  "
      ]
     },
     "execution_count": 32,
     "metadata": {},
     "output_type": "execute_result"
    }
   ],
   "source": [
    "# проверим нет ли таких фильмов, для которых бюджет оказался меньше суммарной поддержки\n",
    "\n",
    "df_cleaned[(df_cleaned['nonrefundable_support'] + df_cleaned['refundable_support']) > df_cleaned['budget']]"
   ]
  },
  {
   "cell_type": "markdown",
   "metadata": {},
   "source": [
    "Мы видим фильмы с бюджетом 0 руб., но при этом с суммами в столбцах _support, очевидно, что в этом случае, бюджет указан неверный."
   ]
  },
  {
   "cell_type": "code",
   "execution_count": 33,
   "metadata": {
    "scrolled": false
   },
   "outputs": [
    {
     "data": {
      "text/html": [
       "<div>\n",
       "<style scoped>\n",
       "    .dataframe tbody tr th:only-of-type {\n",
       "        vertical-align: middle;\n",
       "    }\n",
       "\n",
       "    .dataframe tbody tr th {\n",
       "        vertical-align: top;\n",
       "    }\n",
       "\n",
       "    .dataframe thead th {\n",
       "        text-align: right;\n",
       "    }\n",
       "</style>\n",
       "<table border=\"1\" class=\"dataframe\">\n",
       "  <thead>\n",
       "    <tr style=\"text-align: right;\">\n",
       "      <th></th>\n",
       "      <th>refundable_support</th>\n",
       "      <th>nonrefundable_support</th>\n",
       "      <th>budget</th>\n",
       "      <th>ratings</th>\n",
       "      <th>box_office</th>\n",
       "    </tr>\n",
       "  </thead>\n",
       "  <tbody>\n",
       "    <tr>\n",
       "      <th>count</th>\n",
       "      <td>332.00</td>\n",
       "      <td>332.00</td>\n",
       "      <td>332.00</td>\n",
       "      <td>6247.00</td>\n",
       "      <td>3158.00</td>\n",
       "    </tr>\n",
       "    <tr>\n",
       "      <th>mean</th>\n",
       "      <td>11864457.83</td>\n",
       "      <td>48980988.89</td>\n",
       "      <td>127229716.68</td>\n",
       "      <td>6.48</td>\n",
       "      <td>76478696.16</td>\n",
       "    </tr>\n",
       "    <tr>\n",
       "      <th>std</th>\n",
       "      <td>24916555.26</td>\n",
       "      <td>59980117.92</td>\n",
       "      <td>188588333.12</td>\n",
       "      <td>1.12</td>\n",
       "      <td>240353122.82</td>\n",
       "    </tr>\n",
       "    <tr>\n",
       "      <th>min</th>\n",
       "      <td>0.00</td>\n",
       "      <td>0.00</td>\n",
       "      <td>0.00</td>\n",
       "      <td>1.00</td>\n",
       "      <td>0.00</td>\n",
       "    </tr>\n",
       "    <tr>\n",
       "      <th>25%</th>\n",
       "      <td>0.00</td>\n",
       "      <td>25000000.00</td>\n",
       "      <td>42000000.00</td>\n",
       "      <td>5.90</td>\n",
       "      <td>86239.00</td>\n",
       "    </tr>\n",
       "    <tr>\n",
       "      <th>50%</th>\n",
       "      <td>0.00</td>\n",
       "      <td>30000000.00</td>\n",
       "      <td>68649916.00</td>\n",
       "      <td>6.60</td>\n",
       "      <td>2327987.55</td>\n",
       "    </tr>\n",
       "    <tr>\n",
       "      <th>75%</th>\n",
       "      <td>15000000.00</td>\n",
       "      <td>40375000.00</td>\n",
       "      <td>141985319.50</td>\n",
       "      <td>7.20</td>\n",
       "      <td>23979671.02</td>\n",
       "    </tr>\n",
       "    <tr>\n",
       "      <th>max</th>\n",
       "      <td>180000000.00</td>\n",
       "      <td>400000000.00</td>\n",
       "      <td>2305074303.00</td>\n",
       "      <td>9.90</td>\n",
       "      <td>3073568690.79</td>\n",
       "    </tr>\n",
       "  </tbody>\n",
       "</table>\n",
       "</div>"
      ],
      "text/plain": [
       "       refundable_support  nonrefundable_support        budget  ratings  \\\n",
       "count              332.00                 332.00        332.00  6247.00   \n",
       "mean          11864457.83            48980988.89  127229716.68     6.48   \n",
       "std           24916555.26            59980117.92  188588333.12     1.12   \n",
       "min                  0.00                   0.00          0.00     1.00   \n",
       "25%                  0.00            25000000.00   42000000.00     5.90   \n",
       "50%                  0.00            30000000.00   68649916.00     6.60   \n",
       "75%           15000000.00            40375000.00  141985319.50     7.20   \n",
       "max          180000000.00           400000000.00 2305074303.00     9.90   \n",
       "\n",
       "         box_office  \n",
       "count       3158.00  \n",
       "mean    76478696.16  \n",
       "std    240353122.82  \n",
       "min            0.00  \n",
       "25%        86239.00  \n",
       "50%      2327987.55  \n",
       "75%     23979671.02  \n",
       "max   3073568690.79  "
      ]
     },
     "execution_count": 33,
     "metadata": {},
     "output_type": "execute_result"
    }
   ],
   "source": [
    "# посмотрим статистические данные в количественных столбцах\n",
    "\n",
    "df_cleaned[['refundable_support', 'nonrefundable_support', 'budget', 'ratings', 'box_office']].describe()"
   ]
  },
  {
   "cell_type": "markdown",
   "metadata": {},
   "source": [
    "Данные в столбцах 'refundable_support', 'nonrefundable_support', 'budget' указаны только для фильмов с гос поддержкой. В столбцах 'refundable_support', 'nonrefundable_support' они могут быть нулевыми, а вот в столбце 'budget' ноль будет означать ошибку."
   ]
  },
  {
   "cell_type": "code",
   "execution_count": 34,
   "metadata": {
    "scrolled": false
   },
   "outputs": [
    {
     "data": {
      "text/plain": [
       "(0.0, 180000000.0)"
      ]
     },
     "execution_count": 34,
     "metadata": {},
     "output_type": "execute_result"
    },
    {
     "data": {
      "image/png": "[encoded data removed]",
      "text/plain": [
       "<Figure size 576x720 with 1 Axes>"
      ]
     },
     "metadata": {
      "needs_background": "light"
     },
     "output_type": "display_data"
    }
   ],
   "source": [
    "# построим диаграмму размаха по столбцу 'refundable_support'\n",
    "\n",
    "df_cleaned[['refundable_support']].boxplot(figsize=(8, 10))\n",
    "plt.ylim(0, 180000000)"
   ]
  },
  {
   "cell_type": "markdown",
   "metadata": {},
   "source": [
    "В столбце объем возвратных средств разброс значений очень велик, в наборе данных серьезные аномалии, среднее несопоставимо больше медианы. Медиана равна нулю, это значит, что как минимум половина значений нулевые. После 35 млн руб наблюдаются выбросы.\n",
    "Попробуем исключить нулевые значения."
   ]
  },
  {
   "cell_type": "code",
   "execution_count": 35,
   "metadata": {},
   "outputs": [
    {
     "data": {
      "text/html": [
       "<div>\n",
       "<style scoped>\n",
       "    .dataframe tbody tr th:only-of-type {\n",
       "        vertical-align: middle;\n",
       "    }\n",
       "\n",
       "    .dataframe tbody tr th {\n",
       "        vertical-align: top;\n",
       "    }\n",
       "\n",
       "    .dataframe thead th {\n",
       "        text-align: right;\n",
       "    }\n",
       "</style>\n",
       "<table border=\"1\" class=\"dataframe\">\n",
       "  <thead>\n",
       "    <tr style=\"text-align: right;\">\n",
       "      <th></th>\n",
       "      <th>refundable_support</th>\n",
       "    </tr>\n",
       "  </thead>\n",
       "  <tbody>\n",
       "    <tr>\n",
       "      <th>count</th>\n",
       "      <td>111.00</td>\n",
       "    </tr>\n",
       "    <tr>\n",
       "      <th>mean</th>\n",
       "      <td>35486486.49</td>\n",
       "    </tr>\n",
       "    <tr>\n",
       "      <th>std</th>\n",
       "      <td>31972875.36</td>\n",
       "    </tr>\n",
       "    <tr>\n",
       "      <th>min</th>\n",
       "      <td>3500000.00</td>\n",
       "    </tr>\n",
       "    <tr>\n",
       "      <th>25%</th>\n",
       "      <td>15000000.00</td>\n",
       "    </tr>\n",
       "    <tr>\n",
       "      <th>50%</th>\n",
       "      <td>25000000.00</td>\n",
       "    </tr>\n",
       "    <tr>\n",
       "      <th>75%</th>\n",
       "      <td>50000000.00</td>\n",
       "    </tr>\n",
       "    <tr>\n",
       "      <th>max</th>\n",
       "      <td>180000000.00</td>\n",
       "    </tr>\n",
       "  </tbody>\n",
       "</table>\n",
       "</div>"
      ],
      "text/plain": [
       "       refundable_support\n",
       "count              111.00\n",
       "mean          35486486.49\n",
       "std           31972875.36\n",
       "min            3500000.00\n",
       "25%           15000000.00\n",
       "50%           25000000.00\n",
       "75%           50000000.00\n",
       "max          180000000.00"
      ]
     },
     "execution_count": 35,
     "metadata": {},
     "output_type": "execute_result"
    }
   ],
   "source": [
    "# посмотрим статистические данные\n",
    "\n",
    "df_cleaned[['refundable_support']].query('refundable_support != 0').describe()"
   ]
  },
  {
   "cell_type": "code",
   "execution_count": 36,
   "metadata": {
    "scrolled": true
   },
   "outputs": [
    {
     "data": {
      "text/plain": [
       "(3500000.0, 180000000.0)"
      ]
     },
     "execution_count": 36,
     "metadata": {},
     "output_type": "execute_result"
    },
    {
     "data": {
      "image/png": "[encoded data removed]",
      "text/plain": [
       "<Figure size 576x720 with 1 Axes>"
      ]
     },
     "metadata": {
      "needs_background": "light"
     },
     "output_type": "display_data"
    }
   ],
   "source": [
    "# построим диаграмму размаха\n",
    "\n",
    "df_cleaned[['refundable_support']].query('refundable_support != 0').boxplot(figsize=(8, 10))\n",
    "plt.ylim(3500000, 180000000)"
   ]
  },
  {
   "cell_type": "markdown",
   "metadata": {},
   "source": [
    "Проанализировав статистические данные и график разброса по объему возвратных средств для фильмов с гос поддержкой, видим  высокое стандартное отклонение, что все же доказывает наличие аномалий и выбросов. Среднее значение почти на 50% больше медианы. После 100 млн руб находятся аномальные значения. Посчитаем их процент.\n"
   ]
  },
  {
   "cell_type": "code",
   "execution_count": 37,
   "metadata": {},
   "outputs": [
    {
     "data": {
      "text/plain": [
       "0.0007154099298898269"
      ]
     },
     "execution_count": 37,
     "metadata": {},
     "output_type": "execute_result"
    }
   ],
   "source": [
    "# посчитаем процент выбросов\n",
    "\n",
    "len(df_cleaned[['refundable_support']].query('refundable_support > 100000000')) / len(df_cleaned[['refundable_support']].query('refundable_support != 0'))"
   ]
  },
  {
   "cell_type": "markdown",
   "metadata": {},
   "source": [
    "Выбросы занимают 0,07%, при необходимости их можно отбросить."
   ]
  },
  {
   "cell_type": "markdown",
   "metadata": {},
   "source": [
    "Далее посмотрим столбцы 'nonrefundable_support' и 'budget', но сразу исключим нулевые значения."
   ]
  },
  {
   "cell_type": "code",
   "execution_count": 38,
   "metadata": {
    "scrolled": true
   },
   "outputs": [
    {
     "data": {
      "text/html": [
       "<div>\n",
       "<style scoped>\n",
       "    .dataframe tbody tr th:only-of-type {\n",
       "        vertical-align: middle;\n",
       "    }\n",
       "\n",
       "    .dataframe tbody tr th {\n",
       "        vertical-align: top;\n",
       "    }\n",
       "\n",
       "    .dataframe thead th {\n",
       "        text-align: right;\n",
       "    }\n",
       "</style>\n",
       "<table border=\"1\" class=\"dataframe\">\n",
       "  <thead>\n",
       "    <tr style=\"text-align: right;\">\n",
       "      <th></th>\n",
       "      <th>nonrefundable_support</th>\n",
       "    </tr>\n",
       "  </thead>\n",
       "  <tbody>\n",
       "    <tr>\n",
       "      <th>count</th>\n",
       "      <td>323.00</td>\n",
       "    </tr>\n",
       "    <tr>\n",
       "      <th>mean</th>\n",
       "      <td>50345784.25</td>\n",
       "    </tr>\n",
       "    <tr>\n",
       "      <th>std</th>\n",
       "      <td>60243206.31</td>\n",
       "    </tr>\n",
       "    <tr>\n",
       "      <th>min</th>\n",
       "      <td>3000000.00</td>\n",
       "    </tr>\n",
       "    <tr>\n",
       "      <th>25%</th>\n",
       "      <td>25000000.00</td>\n",
       "    </tr>\n",
       "    <tr>\n",
       "      <th>50%</th>\n",
       "      <td>30000000.00</td>\n",
       "    </tr>\n",
       "    <tr>\n",
       "      <th>75%</th>\n",
       "      <td>45000000.00</td>\n",
       "    </tr>\n",
       "    <tr>\n",
       "      <th>max</th>\n",
       "      <td>400000000.00</td>\n",
       "    </tr>\n",
       "  </tbody>\n",
       "</table>\n",
       "</div>"
      ],
      "text/plain": [
       "       nonrefundable_support\n",
       "count                 323.00\n",
       "mean             50345784.25\n",
       "std              60243206.31\n",
       "min               3000000.00\n",
       "25%              25000000.00\n",
       "50%              30000000.00\n",
       "75%              45000000.00\n",
       "max             400000000.00"
      ]
     },
     "execution_count": 38,
     "metadata": {},
     "output_type": "execute_result"
    }
   ],
   "source": [
    "# посмотрим статистические данные\n",
    "\n",
    "df_cleaned[['nonrefundable_support']].query('nonrefundable_support != 0').describe()"
   ]
  },
  {
   "cell_type": "code",
   "execution_count": 39,
   "metadata": {
    "scrolled": true
   },
   "outputs": [
    {
     "data": {
      "text/plain": [
       "(3000000.0, 400000000.0)"
      ]
     },
     "execution_count": 39,
     "metadata": {},
     "output_type": "execute_result"
    },
    {
     "data": {
      "image/png": "[encoded data removed]",
      "text/plain": [
       "<Figure size 576x720 with 1 Axes>"
      ]
     },
     "metadata": {
      "needs_background": "light"
     },
     "output_type": "display_data"
    }
   ],
   "source": [
    "# построим диаграмму размаха\n",
    "\n",
    "df_cleaned[['nonrefundable_support']].query('nonrefundable_support != 0').boxplot(figsize=(8, 10))\n",
    "plt.ylim(3000000, 400000000)"
   ]
  },
  {
   "cell_type": "markdown",
   "metadata": {},
   "source": [
    "Проанализировав статистические данные и график разброса по объему невозвратных средств для фильмов с гос поддержкой видим очень высокое стандартное отклонение, что все же доказывает наличие большого количества аномалий и выбросов. Выбросы наблюдаются для значений, свыше 75 млн руб. Среднее значение более, чем на 50% больше медианы."
   ]
  },
  {
   "cell_type": "code",
   "execution_count": 40,
   "metadata": {},
   "outputs": [
    {
     "data": {
      "text/plain": [
       "0.005554784057769754"
      ]
     },
     "execution_count": 40,
     "metadata": {},
     "output_type": "execute_result"
    }
   ],
   "source": [
    "# посчитаем процент выбросов\n",
    "\n",
    "len(df_cleaned[['nonrefundable_support']].query('nonrefundable_support > 75000000')) / len(df_cleaned[['nonrefundable_support']].query('nonrefundable_support != 0'))"
   ]
  },
  {
   "cell_type": "markdown",
   "metadata": {},
   "source": [
    "Выбросы занимают 0,5%, при необходимости их можно отбросить."
   ]
  },
  {
   "cell_type": "code",
   "execution_count": 41,
   "metadata": {},
   "outputs": [
    {
     "data": {
      "text/html": [
       "<div>\n",
       "<style scoped>\n",
       "    .dataframe tbody tr th:only-of-type {\n",
       "        vertical-align: middle;\n",
       "    }\n",
       "\n",
       "    .dataframe tbody tr th {\n",
       "        vertical-align: top;\n",
       "    }\n",
       "\n",
       "    .dataframe thead th {\n",
       "        text-align: right;\n",
       "    }\n",
       "</style>\n",
       "<table border=\"1\" class=\"dataframe\">\n",
       "  <thead>\n",
       "    <tr style=\"text-align: right;\">\n",
       "      <th></th>\n",
       "      <th>budget</th>\n",
       "    </tr>\n",
       "  </thead>\n",
       "  <tbody>\n",
       "    <tr>\n",
       "      <th>count</th>\n",
       "      <td>315.00</td>\n",
       "    </tr>\n",
       "    <tr>\n",
       "      <th>mean</th>\n",
       "      <td>134096082.35</td>\n",
       "    </tr>\n",
       "    <tr>\n",
       "      <th>std</th>\n",
       "      <td>191226039.63</td>\n",
       "    </tr>\n",
       "    <tr>\n",
       "      <th>min</th>\n",
       "      <td>14462464.00</td>\n",
       "    </tr>\n",
       "    <tr>\n",
       "      <th>25%</th>\n",
       "      <td>46153866.50</td>\n",
       "    </tr>\n",
       "    <tr>\n",
       "      <th>50%</th>\n",
       "      <td>73379554.00</td>\n",
       "    </tr>\n",
       "    <tr>\n",
       "      <th>75%</th>\n",
       "      <td>150004286.50</td>\n",
       "    </tr>\n",
       "    <tr>\n",
       "      <th>max</th>\n",
       "      <td>2305074303.00</td>\n",
       "    </tr>\n",
       "  </tbody>\n",
       "</table>\n",
       "</div>"
      ],
      "text/plain": [
       "             budget\n",
       "count        315.00\n",
       "mean   134096082.35\n",
       "std    191226039.63\n",
       "min     14462464.00\n",
       "25%     46153866.50\n",
       "50%     73379554.00\n",
       "75%    150004286.50\n",
       "max   2305074303.00"
      ]
     },
     "execution_count": 41,
     "metadata": {},
     "output_type": "execute_result"
    }
   ],
   "source": [
    "# посмотрим статистические данные по бюджету\n",
    "\n",
    "df_cleaned[['budget']].query('budget != 0').describe()"
   ]
  },
  {
   "cell_type": "code",
   "execution_count": 42,
   "metadata": {
    "scrolled": true
   },
   "outputs": [
    {
     "data": {
      "text/plain": [
       "(0.0, 2305074303.0)"
      ]
     },
     "execution_count": 42,
     "metadata": {},
     "output_type": "execute_result"
    },
    {
     "data": {
      "image/png": "[encoded data removed]",
      "text/plain": [
       "<Figure size 576x720 with 1 Axes>"
      ]
     },
     "metadata": {
      "needs_background": "light"
     },
     "output_type": "display_data"
    }
   ],
   "source": [
    "# построим диаграмму размаха по бюджету\n",
    "\n",
    "df_cleaned[['budget']].query('budget != 0').boxplot(figsize=(8, 10))\n",
    "plt.ylim(0, 2305074303)"
   ]
  },
  {
   "cell_type": "markdown",
   "metadata": {},
   "source": [
    "Проанализировав статистические данные и график разброса по объему бюджета для фильмов с гос поддержкой видим очень высокое стандартное отклонение, что все же доказывает наличие большого количества аномалий и выбросов. Выбросы находятся свыше 300 млн руб. Среднее значение почти на 50% больше медианы."
   ]
  },
  {
   "cell_type": "code",
   "execution_count": 43,
   "metadata": {},
   "outputs": [
    {
     "data": {
      "text/plain": [
       "0.0038926734325038233"
      ]
     },
     "execution_count": 43,
     "metadata": {},
     "output_type": "execute_result"
    }
   ],
   "source": [
    "# посчитаем процент выбросов по бюджету\n",
    "\n",
    "len(df_cleaned[['budget']].query('budget > 300000000')) / len(df_cleaned[['budget']].query('budget != 0'))"
   ]
  },
  {
   "cell_type": "markdown",
   "metadata": {},
   "source": [
    "Выбросы занимают 0,3%, при необходимости их можно отбросить."
   ]
  },
  {
   "cell_type": "code",
   "execution_count": 44,
   "metadata": {
    "scrolled": false
   },
   "outputs": [
    {
     "data": {
      "text/plain": [
       "(1.0, 9.2)"
      ]
     },
     "execution_count": 44,
     "metadata": {},
     "output_type": "execute_result"
    },
    {
     "data": {
      "image/png": "[encoded data removed]",
      "text/plain": [
       "<Figure size 576x720 with 1 Axes>"
      ]
     },
     "metadata": {
      "needs_background": "light"
     },
     "output_type": "display_data"
    }
   ],
   "source": [
    "# построим диаграмму размаха по рейтингу\n",
    "\n",
    "df_cleaned[['ratings']].boxplot(figsize=(8, 10))\n",
    "plt.ylim(1, 9.20)"
   ]
  },
  {
   "cell_type": "markdown",
   "metadata": {},
   "source": [
    "Видим аномальные значения в рейтинге, меньше 3,7, среднее и медиана почти на одном уровне, стандартное отклонение небольшое.\n",
    "Аномальные значения наблюдаются для значений, менее 3.7."
   ]
  },
  {
   "cell_type": "code",
   "execution_count": 45,
   "metadata": {
    "scrolled": true
   },
   "outputs": [
    {
     "data": {
      "text/plain": [
       "0.014563106796116505"
      ]
     },
     "execution_count": 45,
     "metadata": {},
     "output_type": "execute_result"
    }
   ],
   "source": [
    "# проверим процент аномальных значений меньше 3.7\n",
    "\n",
    "len(df_cleaned[['ratings']].query('ratings < 3.7')) / len(df_cleaned[['ratings']].query('ratings != 0'))"
   ]
  },
  {
   "cell_type": "markdown",
   "metadata": {},
   "source": [
    "Выбросы занимают 1,4%, при необходимости их можно отбросить либо диапазон уменьшить, чтобы процент выбросов был меньше."
   ]
  },
  {
   "cell_type": "code",
   "execution_count": 46,
   "metadata": {
    "scrolled": true
   },
   "outputs": [
    {
     "data": {
      "text/plain": [
       "(0.0, 3073568690.79)"
      ]
     },
     "execution_count": 46,
     "metadata": {},
     "output_type": "execute_result"
    },
    {
     "data": {
      "image/png": "[encoded data removed]",
      "text/plain": [
       "<Figure size 576x720 with 1 Axes>"
      ]
     },
     "metadata": {
      "needs_background": "light"
     },
     "output_type": "display_data"
    }
   ],
   "source": [
    "# построим диаграмму размаха по столбцу со сборами\n",
    "\n",
    "df_cleaned[['box_office']].boxplot(figsize=(8, 10))\n",
    "plt.ylim(0, 3073568690.79)"
   ]
  },
  {
   "cell_type": "markdown",
   "metadata": {},
   "source": [
    "Что касается сборов, то среднее значение несравненно больше медианы, стандартное отклонение очень велико, в данных наблюдается огромное количество выбросов и аномалий, свыше 50 млн руб."
   ]
  },
  {
   "cell_type": "code",
   "execution_count": 47,
   "metadata": {},
   "outputs": [
    {
     "data": {
      "text/plain": [
       "0.08307820762593933"
      ]
     },
     "execution_count": 47,
     "metadata": {},
     "output_type": "execute_result"
    }
   ],
   "source": [
    "# посчитаем процент выбросов\n",
    "\n",
    "len(df_cleaned[['box_office']].query('box_office > 50000000')) / len(df_cleaned[['box_office']].query('box_office != 0'))"
   ]
  },
  {
   "cell_type": "markdown",
   "metadata": {},
   "source": [
    "Выбросы занимают 8,3%, такой процент отбрасывать нельзя, но можно диапазон уменьшить, чтобы процент выбросов был меньше."
   ]
  },
  {
   "cell_type": "markdown",
   "metadata": {},
   "source": [
    "В целом по количественным показателям можем сказать следующее, у всех рублевых показателях среднее намного больше медианы, стандартное отклонение велико, в данных много аномалий и выбросов.\n",
    "Что касается рейтинга, нужно выяснять, что подразумевали под процентными значениями."
   ]
  },
  {
   "cell_type": "markdown",
   "metadata": {
    "id": "Eu6oWp2CgFyS"
   },
   "source": [
    "#### Шаг 2.6. Добавление новых столбцов\n",
    "\n",
    "\n",
    "\n"
   ]
  },
  {
   "cell_type": "markdown",
   "metadata": {
    "id": "nFTDLDYOgFyT"
   },
   "source": [
    "- Создадим два столбца: с именем и фамилией главного режиссёра и основным жанром фильма. В столбцы войдут первые значения из списка режиссёров и жанров соответственно.\n",
    "\n"
   ]
  },
  {
   "cell_type": "code",
   "execution_count": 48,
   "metadata": {
    "scrolled": true
   },
   "outputs": [],
   "source": [
    "# заменим пропущенные значения в колонках режиссер и жанр на пустые значения, так как в дальнейшем будет использован\n",
    "# метод split(), для которого не допустимы значения float, которыми являются пропущенные значения \n",
    "\n",
    "df_cleaned['director'] = df_cleaned['director'].fillna(value=\"unknown\")\n",
    "\n",
    "df_cleaned['genres'] = df_cleaned['genres'].fillna(value=\"unknown\")\n"
   ]
  },
  {
   "cell_type": "code",
   "execution_count": 49,
   "metadata": {
    "id": "LSbRZKbMgFyU",
    "scrolled": true
   },
   "outputs": [
    {
     "data": {
      "text/html": [
       "<div>\n",
       "<style scoped>\n",
       "    .dataframe tbody tr th:only-of-type {\n",
       "        vertical-align: middle;\n",
       "    }\n",
       "\n",
       "    .dataframe tbody tr th {\n",
       "        vertical-align: top;\n",
       "    }\n",
       "\n",
       "    .dataframe thead th {\n",
       "        text-align: right;\n",
       "    }\n",
       "</style>\n",
       "<table border=\"1\" class=\"dataframe\">\n",
       "  <thead>\n",
       "    <tr style=\"text-align: right;\">\n",
       "      <th></th>\n",
       "      <th>title</th>\n",
       "      <th>type</th>\n",
       "      <th>film_studio</th>\n",
       "      <th>production_country</th>\n",
       "      <th>director</th>\n",
       "      <th>producer</th>\n",
       "      <th>age_restriction</th>\n",
       "      <th>refundable_support</th>\n",
       "      <th>nonrefundable_support</th>\n",
       "      <th>budget</th>\n",
       "      <th>financing_source</th>\n",
       "      <th>ratings</th>\n",
       "      <th>genres</th>\n",
       "      <th>box_office</th>\n",
       "      <th>year</th>\n",
       "      <th>director_main</th>\n",
       "      <th>genre_main</th>\n",
       "    </tr>\n",
       "  </thead>\n",
       "  <tbody>\n",
       "    <tr>\n",
       "      <th>0</th>\n",
       "      <td>Открытый простор</td>\n",
       "      <td>Художественный</td>\n",
       "      <td>Тачстоун Пикчерз, Кобальт Пикчерз, Бикон Пикче...</td>\n",
       "      <td>США</td>\n",
       "      <td>Кевин Костнер</td>\n",
       "      <td>Дэвид Валдес, Кевин Костнер, Джейк Эбертс</td>\n",
       "      <td>«18+» - запрещено для детей</td>\n",
       "      <td>NaN</td>\n",
       "      <td>NaN</td>\n",
       "      <td>NaN</td>\n",
       "      <td>NaN</td>\n",
       "      <td>7.20</td>\n",
       "      <td>боевик,драма,мелодрама</td>\n",
       "      <td>NaN</td>\n",
       "      <td>2015</td>\n",
       "      <td>Кевин Костнер</td>\n",
       "      <td>боевик</td>\n",
       "    </tr>\n",
       "    <tr>\n",
       "      <th>1</th>\n",
       "      <td>Особо важное задание</td>\n",
       "      <td>Художественный</td>\n",
       "      <td>Киностудия \"Мосфильм\"</td>\n",
       "      <td>СССР</td>\n",
       "      <td>Е.Матвеев</td>\n",
       "      <td>NaN</td>\n",
       "      <td>«6+» - для детей старше 6 лет</td>\n",
       "      <td>NaN</td>\n",
       "      <td>NaN</td>\n",
       "      <td>NaN</td>\n",
       "      <td>NaN</td>\n",
       "      <td>6.60</td>\n",
       "      <td>драма,военный</td>\n",
       "      <td>NaN</td>\n",
       "      <td>2016</td>\n",
       "      <td>Е.Матвеев</td>\n",
       "      <td>драма</td>\n",
       "    </tr>\n",
       "    <tr>\n",
       "      <th>2</th>\n",
       "      <td>Особо опасен</td>\n",
       "      <td>Художественный</td>\n",
       "      <td>Юниверсал Пикчерз, Кикстарт Продакшнз, Марк Пл...</td>\n",
       "      <td>США</td>\n",
       "      <td>Тимур Бекмамбетов</td>\n",
       "      <td>Джим Лемли, Джейсон Нетер, Марк Е.Платт, Яйн Смит</td>\n",
       "      <td>«18+» - запрещено для детей</td>\n",
       "      <td>NaN</td>\n",
       "      <td>NaN</td>\n",
       "      <td>NaN</td>\n",
       "      <td>NaN</td>\n",
       "      <td>6.80</td>\n",
       "      <td>фантастика,боевик,триллер</td>\n",
       "      <td>NaN</td>\n",
       "      <td>2016</td>\n",
       "      <td>Тимур Бекмамбетов</td>\n",
       "      <td>фантастика</td>\n",
       "    </tr>\n",
       "    <tr>\n",
       "      <th>3</th>\n",
       "      <td>Особо опасен</td>\n",
       "      <td>Художественный</td>\n",
       "      <td>Юниверсал Пикчерз, Кикстарт Продакшнз, Марк Пл...</td>\n",
       "      <td>США</td>\n",
       "      <td>Тимур Бекмамбетов</td>\n",
       "      <td>Джим Лемли, Джейсон Нетер, Марк Е.Платт, Яйн Смит</td>\n",
       "      <td>«18+» - запрещено для детей</td>\n",
       "      <td>NaN</td>\n",
       "      <td>NaN</td>\n",
       "      <td>NaN</td>\n",
       "      <td>NaN</td>\n",
       "      <td>6.80</td>\n",
       "      <td>фантастика,боевик,триллер</td>\n",
       "      <td>NaN</td>\n",
       "      <td>2015</td>\n",
       "      <td>Тимур Бекмамбетов</td>\n",
       "      <td>фантастика</td>\n",
       "    </tr>\n",
       "    <tr>\n",
       "      <th>4</th>\n",
       "      <td>Остановился поезд</td>\n",
       "      <td>Художественный</td>\n",
       "      <td>Киностудия \"Мосфильм\"</td>\n",
       "      <td>СССР</td>\n",
       "      <td>В.Абдрашитов</td>\n",
       "      <td>NaN</td>\n",
       "      <td>«6+» - для детей старше 6 лет</td>\n",
       "      <td>NaN</td>\n",
       "      <td>NaN</td>\n",
       "      <td>NaN</td>\n",
       "      <td>NaN</td>\n",
       "      <td>7.70</td>\n",
       "      <td>драма</td>\n",
       "      <td>NaN</td>\n",
       "      <td>2016</td>\n",
       "      <td>В.Абдрашитов</td>\n",
       "      <td>драма</td>\n",
       "    </tr>\n",
       "  </tbody>\n",
       "</table>\n",
       "</div>"
      ],
      "text/plain": [
       "                  title            type  \\\n",
       "0      Открытый простор  Художественный   \n",
       "1  Особо важное задание  Художественный   \n",
       "2          Особо опасен  Художественный   \n",
       "3          Особо опасен  Художественный   \n",
       "4     Остановился поезд  Художественный   \n",
       "\n",
       "                                         film_studio production_country  \\\n",
       "0  Тачстоун Пикчерз, Кобальт Пикчерз, Бикон Пикче...                США   \n",
       "1                              Киностудия \"Мосфильм\"               СССР   \n",
       "2  Юниверсал Пикчерз, Кикстарт Продакшнз, Марк Пл...                США   \n",
       "3  Юниверсал Пикчерз, Кикстарт Продакшнз, Марк Пл...                США   \n",
       "4                              Киностудия \"Мосфильм\"               СССР   \n",
       "\n",
       "            director                                           producer  \\\n",
       "0      Кевин Костнер          Дэвид Валдес, Кевин Костнер, Джейк Эбертс   \n",
       "1          Е.Матвеев                                                NaN   \n",
       "2  Тимур Бекмамбетов  Джим Лемли, Джейсон Нетер, Марк Е.Платт, Яйн Смит   \n",
       "3  Тимур Бекмамбетов  Джим Лемли, Джейсон Нетер, Марк Е.Платт, Яйн Смит   \n",
       "4       В.Абдрашитов                                                NaN   \n",
       "\n",
       "                 age_restriction  refundable_support  nonrefundable_support  \\\n",
       "0    «18+» - запрещено для детей                 NaN                    NaN   \n",
       "1  «6+» - для детей старше 6 лет                 NaN                    NaN   \n",
       "2    «18+» - запрещено для детей                 NaN                    NaN   \n",
       "3    «18+» - запрещено для детей                 NaN                    NaN   \n",
       "4  «6+» - для детей старше 6 лет                 NaN                    NaN   \n",
       "\n",
       "   budget financing_source  ratings                     genres  box_office  \\\n",
       "0     NaN              NaN     7.20     боевик,драма,мелодрама         NaN   \n",
       "1     NaN              NaN     6.60              драма,военный         NaN   \n",
       "2     NaN              NaN     6.80  фантастика,боевик,триллер         NaN   \n",
       "3     NaN              NaN     6.80  фантастика,боевик,триллер         NaN   \n",
       "4     NaN              NaN     7.70                      драма         NaN   \n",
       "\n",
       "   year      director_main  genre_main  \n",
       "0  2015      Кевин Костнер      боевик  \n",
       "1  2016          Е.Матвеев       драма  \n",
       "2  2016  Тимур Бекмамбетов  фантастика  \n",
       "3  2015  Тимур Бекмамбетов  фантастика  \n",
       "4  2016       В.Абдрашитов       драма  "
      ]
     },
     "execution_count": 49,
     "metadata": {},
     "output_type": "execute_result"
    }
   ],
   "source": [
    "# создадим функцию, которая принимает строку, разделяет ее по запятой и возвращает первый элемент\n",
    "\n",
    "def main_value(row):\n",
    "    values = row.split(',')\n",
    "    main_value = values[0]\n",
    "    return main_value\n",
    "\n",
    "# применим функцию к колонкам режиссер и жанр и создадим новые столбцы с глдавным режиссером и основным жанром\n",
    "\n",
    "df_cleaned['director_main'] = df_cleaned['director'].apply(main_value)\n",
    "\n",
    "df_cleaned['genre_main'] = df_cleaned['genres'].apply(main_value)\n",
    "\n",
    "# проверим работу кода\n",
    "\n",
    "df_cleaned.head()    \n",
    " "
   ]
  },
  {
   "cell_type": "code",
   "execution_count": 50,
   "metadata": {
    "scrolled": true
   },
   "outputs": [
    {
     "data": {
      "text/plain": [
       "драма              1637\n",
       "unknown             972\n",
       "комедия             679\n",
       "боевик              577\n",
       "ужасы               547\n",
       "мультфильм          524\n",
       "триллер             505\n",
       "фантастика          380\n",
       "мелодрама           352\n",
       "фэнтези             325\n",
       "документальный      216\n",
       "аниме                74\n",
       "мюзикл               62\n",
       "приключения          55\n",
       "детектив             53\n",
       "военный              46\n",
       "криминал             39\n",
       "семейный             32\n",
       "биография            32\n",
       "детский              28\n",
       "история              22\n",
       "короткометражка      13\n",
       "концерт              12\n",
       "спорт                 9\n",
       "музыка                7\n",
       "вестерн               7\n",
       "для взрослых          3\n",
       "фильм-нуар            1\n",
       "реальное ТВ           1\n",
       "Name: genre_main, dtype: int64"
      ]
     },
     "execution_count": 50,
     "metadata": {},
     "output_type": "execute_result"
    }
   ],
   "source": [
    "# проверим, какие жанры являются самыми популярными\n",
    "\n",
    "df_cleaned['genre_main'].value_counts()"
   ]
  },
  {
   "cell_type": "markdown",
   "metadata": {},
   "source": [
    "Самым популярным жанром является драма, также у большого количества фильмов жанр не указан.\n",
    "На втором месте по популярности - комедия.\n",
    "Самые непопулярные фильмы - реальное ТВ и фильм-нуар."
   ]
  },
  {
   "cell_type": "markdown",
   "metadata": {
    "id": "1FsCXHwdgFyU"
   },
   "source": [
    "- Посчитайте, какую долю от общего бюджета фильма составляет государственная поддержка."
   ]
  },
  {
   "cell_type": "code",
   "execution_count": 51,
   "metadata": {
    "id": "LV6qFuZLgFyV",
    "scrolled": true
   },
   "outputs": [
    {
     "data": {
      "text/html": [
       "<div>\n",
       "<style scoped>\n",
       "    .dataframe tbody tr th:only-of-type {\n",
       "        vertical-align: middle;\n",
       "    }\n",
       "\n",
       "    .dataframe tbody tr th {\n",
       "        vertical-align: top;\n",
       "    }\n",
       "\n",
       "    .dataframe thead th {\n",
       "        text-align: right;\n",
       "    }\n",
       "</style>\n",
       "<table border=\"1\" class=\"dataframe\">\n",
       "  <thead>\n",
       "    <tr style=\"text-align: right;\">\n",
       "      <th></th>\n",
       "      <th>title</th>\n",
       "      <th>type</th>\n",
       "      <th>film_studio</th>\n",
       "      <th>production_country</th>\n",
       "      <th>director</th>\n",
       "      <th>producer</th>\n",
       "      <th>age_restriction</th>\n",
       "      <th>refundable_support</th>\n",
       "      <th>nonrefundable_support</th>\n",
       "      <th>budget</th>\n",
       "      <th>financing_source</th>\n",
       "      <th>ratings</th>\n",
       "      <th>genres</th>\n",
       "      <th>box_office</th>\n",
       "      <th>year</th>\n",
       "      <th>director_main</th>\n",
       "      <th>genre_main</th>\n",
       "      <th>support_part</th>\n",
       "    </tr>\n",
       "  </thead>\n",
       "  <tbody>\n",
       "    <tr>\n",
       "      <th>1242</th>\n",
       "      <td>Пока еще жива</td>\n",
       "      <td>Художественный</td>\n",
       "      <td>АНО содействия развитию кинематографии \"Ангел-...</td>\n",
       "      <td>Россия</td>\n",
       "      <td>А.Атанесян</td>\n",
       "      <td>А.Атанесян, М.Бабаханов, Р.Бутко</td>\n",
       "      <td>«16+» - для детей старше 16 лет</td>\n",
       "      <td>0.00</td>\n",
       "      <td>26500000.00</td>\n",
       "      <td>79411900.00</td>\n",
       "      <td>Министерство культуры</td>\n",
       "      <td>8.10</td>\n",
       "      <td>драма,мелодрама</td>\n",
       "      <td>365353.60</td>\n",
       "      <td>2013</td>\n",
       "      <td>А.Атанесян</td>\n",
       "      <td>драма</td>\n",
       "      <td>0.33</td>\n",
       "    </tr>\n",
       "    <tr>\n",
       "      <th>1403</th>\n",
       "      <td>Бесславные придурки</td>\n",
       "      <td>Художественный</td>\n",
       "      <td>ООО \"Компания \"АТК-Студио\"</td>\n",
       "      <td>Россия</td>\n",
       "      <td>А.Якимчук</td>\n",
       "      <td>А.Тютрюмов</td>\n",
       "      <td>«12+» - для детей старше 12 лет</td>\n",
       "      <td>0.00</td>\n",
       "      <td>26000000.00</td>\n",
       "      <td>37142857.00</td>\n",
       "      <td>Министерство культуры</td>\n",
       "      <td>NaN</td>\n",
       "      <td>unknown</td>\n",
       "      <td>28140.00</td>\n",
       "      <td>2014</td>\n",
       "      <td>А.Якимчук</td>\n",
       "      <td>unknown</td>\n",
       "      <td>0.70</td>\n",
       "    </tr>\n",
       "    <tr>\n",
       "      <th>1452</th>\n",
       "      <td>Невидимки</td>\n",
       "      <td>Художественный</td>\n",
       "      <td>ООО \"Компания \"РЕАЛ-ДАКОТА\"</td>\n",
       "      <td>Россия</td>\n",
       "      <td>Р.Давлетьяров, С.Комаров</td>\n",
       "      <td>Р.Давлетьяров, А.Котелевский, А.Олейников</td>\n",
       "      <td>«12+» - для детей старше 12 лет</td>\n",
       "      <td>0.00</td>\n",
       "      <td>107847945.00</td>\n",
       "      <td>176023490.00</td>\n",
       "      <td>Фонд кино</td>\n",
       "      <td>5.30</td>\n",
       "      <td>комедия,фантастика</td>\n",
       "      <td>19957031.50</td>\n",
       "      <td>2013</td>\n",
       "      <td>Р.Давлетьяров</td>\n",
       "      <td>комедия</td>\n",
       "      <td>0.61</td>\n",
       "    </tr>\n",
       "    <tr>\n",
       "      <th>1478</th>\n",
       "      <td>БЕРЦЫ</td>\n",
       "      <td>Художественный</td>\n",
       "      <td>ООО \"Студия \"Пассажир\"</td>\n",
       "      <td>Россия</td>\n",
       "      <td>Е.Миндадзе (псевдоним Катя Шагалова)</td>\n",
       "      <td>Л.Антонова</td>\n",
       "      <td>«16+» - для детей старше 16 лет</td>\n",
       "      <td>0.00</td>\n",
       "      <td>28000000.00</td>\n",
       "      <td>40574140.00</td>\n",
       "      <td>Министерство культуры</td>\n",
       "      <td>4.20</td>\n",
       "      <td>драма</td>\n",
       "      <td>55917.50</td>\n",
       "      <td>2014</td>\n",
       "      <td>Е.Миндадзе (псевдоним Катя Шагалова)</td>\n",
       "      <td>драма</td>\n",
       "      <td>0.69</td>\n",
       "    </tr>\n",
       "    <tr>\n",
       "      <th>1739</th>\n",
       "      <td>Братья Ч</td>\n",
       "      <td>Художественный</td>\n",
       "      <td>ООО \"Студия \"Пассажир\"</td>\n",
       "      <td>Россия</td>\n",
       "      <td>М.Угаров</td>\n",
       "      <td>А.Миндадзе, Л.Антонова</td>\n",
       "      <td>«16+» - для детей старше 16 лет</td>\n",
       "      <td>0.00</td>\n",
       "      <td>25000000.00</td>\n",
       "      <td>40015122.00</td>\n",
       "      <td>Министерство культуры</td>\n",
       "      <td>6.40</td>\n",
       "      <td>драма</td>\n",
       "      <td>232100.00</td>\n",
       "      <td>2014</td>\n",
       "      <td>М.Угаров</td>\n",
       "      <td>драма</td>\n",
       "      <td>0.62</td>\n",
       "    </tr>\n",
       "    <tr>\n",
       "      <th>...</th>\n",
       "      <td>...</td>\n",
       "      <td>...</td>\n",
       "      <td>...</td>\n",
       "      <td>...</td>\n",
       "      <td>...</td>\n",
       "      <td>...</td>\n",
       "      <td>...</td>\n",
       "      <td>...</td>\n",
       "      <td>...</td>\n",
       "      <td>...</td>\n",
       "      <td>...</td>\n",
       "      <td>...</td>\n",
       "      <td>...</td>\n",
       "      <td>...</td>\n",
       "      <td>...</td>\n",
       "      <td>...</td>\n",
       "      <td>...</td>\n",
       "      <td>...</td>\n",
       "    </tr>\n",
       "    <tr>\n",
       "      <th>7188</th>\n",
       "      <td>Союз спасения</td>\n",
       "      <td>Художественный</td>\n",
       "      <td>ЗАО \"Дирекция кино\"</td>\n",
       "      <td>Россия</td>\n",
       "      <td>А.Кравчук</td>\n",
       "      <td>А.Максимов, К.Эрнст</td>\n",
       "      <td>«12+» - для детей старше 12 лет</td>\n",
       "      <td>100000000.00</td>\n",
       "      <td>400000000.00</td>\n",
       "      <td>980000000.00</td>\n",
       "      <td>Фонд кино</td>\n",
       "      <td>6.00</td>\n",
       "      <td>история,биография,драма</td>\n",
       "      <td>717703185.53</td>\n",
       "      <td>2019</td>\n",
       "      <td>А.Кравчук</td>\n",
       "      <td>история</td>\n",
       "      <td>0.51</td>\n",
       "    </tr>\n",
       "    <tr>\n",
       "      <th>7190</th>\n",
       "      <td>Иван Царевич и Серый Волк 4</td>\n",
       "      <td>Анимационный</td>\n",
       "      <td>ООО \"Студия анимационного кино \"Мельница\"</td>\n",
       "      <td>Россия</td>\n",
       "      <td>Д.Шмидт, К.Феоктистов</td>\n",
       "      <td>С.Сельянов, А.Боярский</td>\n",
       "      <td>«6+» - для детей старше 6 лет</td>\n",
       "      <td>100000000.00</td>\n",
       "      <td>0.00</td>\n",
       "      <td>190000000.00</td>\n",
       "      <td>Фонд кино</td>\n",
       "      <td>6.70</td>\n",
       "      <td>мультфильм,приключения,семейный</td>\n",
       "      <td>501069235.00</td>\n",
       "      <td>2019</td>\n",
       "      <td>Д.Шмидт</td>\n",
       "      <td>мультфильм</td>\n",
       "      <td>0.53</td>\n",
       "    </tr>\n",
       "    <tr>\n",
       "      <th>7198</th>\n",
       "      <td>Вторжение</td>\n",
       "      <td>Художественный</td>\n",
       "      <td>ООО \"Арт Пикчерс Студия\", ООО \"Водород 2011\"</td>\n",
       "      <td>Россия</td>\n",
       "      <td>Ф.Бондарчук</td>\n",
       "      <td>Ф.Бондарчук, М.Врубель, А.Андрющенко, Д.Рудовский</td>\n",
       "      <td>«12+» - для детей старше 12 лет</td>\n",
       "      <td>100000000.00</td>\n",
       "      <td>400000000.00</td>\n",
       "      <td>944000000.00</td>\n",
       "      <td>Фонд кино</td>\n",
       "      <td>5.70</td>\n",
       "      <td>фантастика,боевик</td>\n",
       "      <td>NaN</td>\n",
       "      <td>2019</td>\n",
       "      <td>Ф.Бондарчук</td>\n",
       "      <td>фантастика</td>\n",
       "      <td>0.53</td>\n",
       "    </tr>\n",
       "    <tr>\n",
       "      <th>7200</th>\n",
       "      <td>Я свободен</td>\n",
       "      <td>Художественный</td>\n",
       "      <td>АО \"ТПО \"Киностудия им. М.Горького\"</td>\n",
       "      <td>Россия</td>\n",
       "      <td>И.Северов</td>\n",
       "      <td>С.Зернов</td>\n",
       "      <td>«12+» - для детей старше 12 лет</td>\n",
       "      <td>0.00</td>\n",
       "      <td>30000000.00</td>\n",
       "      <td>46154000.00</td>\n",
       "      <td>Министерство культуры</td>\n",
       "      <td>5.90</td>\n",
       "      <td>драма</td>\n",
       "      <td>NaN</td>\n",
       "      <td>2019</td>\n",
       "      <td>И.Северов</td>\n",
       "      <td>драма</td>\n",
       "      <td>0.65</td>\n",
       "    </tr>\n",
       "    <tr>\n",
       "      <th>7202</th>\n",
       "      <td>(Не)идеальный мужчина</td>\n",
       "      <td>Художественный</td>\n",
       "      <td>ООО \"Нон-Стоп Продакшн\"</td>\n",
       "      <td>Россия</td>\n",
       "      <td>М.Бальчюнас (псевдоним М.Вайсберг)</td>\n",
       "      <td>С.Мелькумов, А.Роднянский, М.Вайсберг, Р.Минас...</td>\n",
       "      <td>«12+» - для детей старше 12 лет</td>\n",
       "      <td>40000000.00</td>\n",
       "      <td>60000000.00</td>\n",
       "      <td>150147502.00</td>\n",
       "      <td>Фонд кино</td>\n",
       "      <td>4.50</td>\n",
       "      <td>комедия,фантастика,мелодрама</td>\n",
       "      <td>NaN</td>\n",
       "      <td>2019</td>\n",
       "      <td>М.Бальчюнас (псевдоним М.Вайсберг)</td>\n",
       "      <td>комедия</td>\n",
       "      <td>0.67</td>\n",
       "    </tr>\n",
       "  </tbody>\n",
       "</table>\n",
       "<p>315 rows × 18 columns</p>\n",
       "</div>"
      ],
      "text/plain": [
       "                            title            type  \\\n",
       "1242                Пока еще жива  Художественный   \n",
       "1403          Бесславные придурки  Художественный   \n",
       "1452                    Невидимки  Художественный   \n",
       "1478                        БЕРЦЫ  Художественный   \n",
       "1739                     Братья Ч  Художественный   \n",
       "...                           ...             ...   \n",
       "7188                Союз спасения  Художественный   \n",
       "7190  Иван Царевич и Серый Волк 4    Анимационный   \n",
       "7198                    Вторжение  Художественный   \n",
       "7200                   Я свободен  Художественный   \n",
       "7202        (Не)идеальный мужчина  Художественный   \n",
       "\n",
       "                                            film_studio production_country  \\\n",
       "1242  АНО содействия развитию кинематографии \"Ангел-...             Россия   \n",
       "1403                         ООО \"Компания \"АТК-Студио\"             Россия   \n",
       "1452                        ООО \"Компания \"РЕАЛ-ДАКОТА\"             Россия   \n",
       "1478                             ООО \"Студия \"Пассажир\"             Россия   \n",
       "1739                             ООО \"Студия \"Пассажир\"             Россия   \n",
       "...                                                 ...                ...   \n",
       "7188                                ЗАО \"Дирекция кино\"             Россия   \n",
       "7190          ООО \"Студия анимационного кино \"Мельница\"             Россия   \n",
       "7198       ООО \"Арт Пикчерс Студия\", ООО \"Водород 2011\"             Россия   \n",
       "7200                АО \"ТПО \"Киностудия им. М.Горького\"             Россия   \n",
       "7202                           ООО \"Нон-Стоп Продакшн\"              Россия   \n",
       "\n",
       "                                  director  \\\n",
       "1242                            А.Атанесян   \n",
       "1403                             А.Якимчук   \n",
       "1452              Р.Давлетьяров, С.Комаров   \n",
       "1478  Е.Миндадзе (псевдоним Катя Шагалова)   \n",
       "1739                              М.Угаров   \n",
       "...                                    ...   \n",
       "7188                             А.Кравчук   \n",
       "7190                 Д.Шмидт, К.Феоктистов   \n",
       "7198                           Ф.Бондарчук   \n",
       "7200                             И.Северов   \n",
       "7202    М.Бальчюнас (псевдоним М.Вайсберг)   \n",
       "\n",
       "                                               producer  \\\n",
       "1242                   А.Атанесян, М.Бабаханов, Р.Бутко   \n",
       "1403                                         А.Тютрюмов   \n",
       "1452          Р.Давлетьяров, А.Котелевский, А.Олейников   \n",
       "1478                                         Л.Антонова   \n",
       "1739                             А.Миндадзе, Л.Антонова   \n",
       "...                                                 ...   \n",
       "7188                                А.Максимов, К.Эрнст   \n",
       "7190                             С.Сельянов, А.Боярский   \n",
       "7198  Ф.Бондарчук, М.Врубель, А.Андрющенко, Д.Рудовский   \n",
       "7200                                           С.Зернов   \n",
       "7202  С.Мелькумов, А.Роднянский, М.Вайсберг, Р.Минас...   \n",
       "\n",
       "                      age_restriction  refundable_support  \\\n",
       "1242  «16+» - для детей старше 16 лет                0.00   \n",
       "1403  «12+» - для детей старше 12 лет                0.00   \n",
       "1452  «12+» - для детей старше 12 лет                0.00   \n",
       "1478  «16+» - для детей старше 16 лет                0.00   \n",
       "1739  «16+» - для детей старше 16 лет                0.00   \n",
       "...                               ...                 ...   \n",
       "7188  «12+» - для детей старше 12 лет        100000000.00   \n",
       "7190    «6+» - для детей старше 6 лет        100000000.00   \n",
       "7198  «12+» - для детей старше 12 лет        100000000.00   \n",
       "7200  «12+» - для детей старше 12 лет                0.00   \n",
       "7202  «12+» - для детей старше 12 лет         40000000.00   \n",
       "\n",
       "      nonrefundable_support       budget       financing_source  ratings  \\\n",
       "1242            26500000.00  79411900.00  Министерство культуры     8.10   \n",
       "1403            26000000.00  37142857.00  Министерство культуры      NaN   \n",
       "1452           107847945.00 176023490.00              Фонд кино     5.30   \n",
       "1478            28000000.00  40574140.00  Министерство культуры     4.20   \n",
       "1739            25000000.00  40015122.00  Министерство культуры     6.40   \n",
       "...                     ...          ...                    ...      ...   \n",
       "7188           400000000.00 980000000.00              Фонд кино     6.00   \n",
       "7190                   0.00 190000000.00              Фонд кино     6.70   \n",
       "7198           400000000.00 944000000.00              Фонд кино     5.70   \n",
       "7200            30000000.00  46154000.00  Министерство культуры     5.90   \n",
       "7202            60000000.00 150147502.00              Фонд кино     4.50   \n",
       "\n",
       "                               genres   box_office  year  \\\n",
       "1242                  драма,мелодрама    365353.60  2013   \n",
       "1403                          unknown     28140.00  2014   \n",
       "1452               комедия,фантастика  19957031.50  2013   \n",
       "1478                            драма     55917.50  2014   \n",
       "1739                            драма    232100.00  2014   \n",
       "...                               ...          ...   ...   \n",
       "7188          история,биография,драма 717703185.53  2019   \n",
       "7190  мультфильм,приключения,семейный 501069235.00  2019   \n",
       "7198                фантастика,боевик          NaN  2019   \n",
       "7200                            драма          NaN  2019   \n",
       "7202     комедия,фантастика,мелодрама          NaN  2019   \n",
       "\n",
       "                             director_main  genre_main  support_part  \n",
       "1242                            А.Атанесян       драма          0.33  \n",
       "1403                             А.Якимчук     unknown          0.70  \n",
       "1452                         Р.Давлетьяров     комедия          0.61  \n",
       "1478  Е.Миндадзе (псевдоним Катя Шагалова)       драма          0.69  \n",
       "1739                              М.Угаров       драма          0.62  \n",
       "...                                    ...         ...           ...  \n",
       "7188                             А.Кравчук     история          0.51  \n",
       "7190                               Д.Шмидт  мультфильм          0.53  \n",
       "7198                           Ф.Бондарчук  фантастика          0.53  \n",
       "7200                             И.Северов       драма          0.65  \n",
       "7202    М.Бальчюнас (псевдоним М.Вайсберг)     комедия          0.67  \n",
       "\n",
       "[315 rows x 18 columns]"
      ]
     },
     "execution_count": 51,
     "metadata": {},
     "output_type": "execute_result"
    }
   ],
   "source": [
    "# добавим колонку с долей гос поддержки, обозначим ее 'support_part'\n",
    "\n",
    "df_cleaned['support_part'] = (df_cleaned['nonrefundable_support'] + df_cleaned['refundable_support']) / df_cleaned['budget']\n",
    "\n",
    "# заменим методом replace() бесконечности в столбце 'replace' на пропуски\n",
    "\n",
    "df_cleaned['support_part'] = df_cleaned['support_part'].replace(float('inf'), np.nan)\n",
    "\n",
    "# отфильтруем датафрейм по непропущенным значениям в колонке 'support_part', чтобы посмотреть, как сработал код\n",
    "\n",
    "df_cleaned[(df_cleaned['support_part'].isna()) != True]"
   ]
  },
  {
   "cell_type": "markdown",
   "metadata": {},
   "source": [
    "### Вывод\n",
    "Данные подготовлены к анализу: изменены типы данных, заменены пропущенные значения, удалены дубликаты и добавлены необходимые столбцы.\n",
    "В связи с тем, что в столбце бюджет были выявлены нули и при расчете доли гос поддержки от общего бюджета произошло деление на ноль, которое Python возвращает значением бесконечности, мы заменили бесконечность на пропуски."
   ]
  },
  {
   "cell_type": "markdown",
   "metadata": {
    "id": "6t4EukPLgFyV"
   },
   "source": [
    "### Шаг 3. Исследовательский анализ данных\n"
   ]
  },
  {
   "cell_type": "markdown",
   "metadata": {
    "id": "vAH8WCzugFyV"
   },
   "source": [
    "- Посмотрим, сколько фильмов выходило в прокат каждый год. Обращаем внимание, что данные о прокате в кинотеатрах известны не для всех фильмов. Посчитаем, какую долю составляют фильмы с указанной информацией о прокате в кинотеатрах."
   ]
  },
  {
   "cell_type": "code",
   "execution_count": 52,
   "metadata": {
    "id": "ABeV47y7gFyW",
    "scrolled": false
   },
   "outputs": [
    {
     "data": {
      "text/plain": [
       "year\n",
       "2010    105\n",
       "2011    109\n",
       "2012    128\n",
       "2013    184\n",
       "2014    279\n",
       "2015    465\n",
       "2016    526\n",
       "2017    357\n",
       "2018    475\n",
       "2019    530\n",
       "Name: box_office, dtype: int64"
      ]
     },
     "metadata": {},
     "output_type": "display_data"
    },
    {
     "data": {
      "text/plain": [
       "(array([0, 1, 2, 3, 4, 5, 6, 7, 8, 9]),\n",
       " [Text(0, 0, '2010'),\n",
       "  Text(1, 0, '2011'),\n",
       "  Text(2, 0, '2012'),\n",
       "  Text(3, 0, '2013'),\n",
       "  Text(4, 0, '2014'),\n",
       "  Text(5, 0, '2015'),\n",
       "  Text(6, 0, '2016'),\n",
       "  Text(7, 0, '2017'),\n",
       "  Text(8, 0, '2018'),\n",
       "  Text(9, 0, '2019')])"
      ]
     },
     "execution_count": 52,
     "metadata": {},
     "output_type": "execute_result"
    },
    {
     "data": {
      "image/png": "[encoded data removed]",
      "text/plain": [
       "<Figure size 432x288 with 1 Axes>"
      ]
     },
     "metadata": {
      "needs_background": "light"
     },
     "output_type": "display_data"
    }
   ],
   "source": [
    "# посмотрим, сколько фильмов выходило в прокат каждый год, отобразим это на графике\n",
    "\n",
    "display(df_cleaned.groupby('year')['box_office'].count())\n",
    "\n",
    "\n",
    "df_cleaned.groupby('year')['box_office'].count().plot(kind='bar', grid=True, title=\"Количество фильмов, выходивших каждый год\")\n",
    "\n",
    "plt.xticks(rotation = 'horizontal')"
   ]
  },
  {
   "cell_type": "markdown",
   "metadata": {},
   "source": [
    "Наибольшее количество фильмов вышло в прокат в 2019 году, наименьшее - в 2010 г.\n",
    "Далее расчитаем, какую долю составляют фильмы с указанной информацией о прокате в кинотеатрах (то есть с указанием данных в колонке 'box_office')."
   ]
  },
  {
   "cell_type": "code",
   "execution_count": 53,
   "metadata": {},
   "outputs": [
    {
     "data": {
      "text/plain": [
       "0.438002773925104"
      ]
     },
     "execution_count": 53,
     "metadata": {},
     "output_type": "execute_result"
    }
   ],
   "source": [
    "# сохраним в переменную df_cleaned_cinema количество фильмов с указанной информацией о прокате в кинотеатрах\n",
    "\n",
    "df_cleaned_cinema = len(df_cleaned[(df_cleaned['box_office'].isna()) != True])\n",
    "\n",
    "# сохраним в переменную df_cleaned_len общее количество фильмов\n",
    "\n",
    "df_cleaned_len = len(df_cleaned)\n",
    "\n",
    "# расчитаем, какую долю составляют фильмы с указанной информацией о прокате в кинотеатрах \n",
    "\n",
    "cinema_part = df_cleaned_cinema / df_cleaned_len\n",
    "\n",
    "cinema_part\n"
   ]
  },
  {
   "cell_type": "markdown",
   "metadata": {},
   "source": [
    "Данные о прокате в кинотеатрах известны всего для 43,8% фильмов."
   ]
  },
  {
   "cell_type": "markdown",
   "metadata": {
    "id": "BEOdcIrIgFyW"
   },
   "source": [
    "- Изучим, как менялась динамика проката по годам. В каком году сумма сборов была минимальной? А максимальной?"
   ]
  },
  {
   "cell_type": "code",
   "execution_count": 54,
   "metadata": {
    "id": "tfEhofYvgFyX",
    "scrolled": false
   },
   "outputs": [
    {
     "data": {
      "text/html": [
       "<style  type=\"text/css\" >\n",
       "</style><table id=\"T_3ad9a_\" ><thead>    <tr>        <th class=\"blank level0\" ></th>        <th class=\"col_heading level0 col0\" >sum</th>        <th class=\"col_heading level0 col1\" >median</th>    </tr>    <tr>        <th class=\"blank level1\" ></th>        <th class=\"col_heading level1 col0\" >box_office</th>        <th class=\"col_heading level1 col1\" >box_office</th>    </tr>    <tr>        <th class=\"index_name level0\" >year</th>        <th class=\"blank\" ></th>        <th class=\"blank\" ></th>    </tr></thead><tbody>\n",
       "                <tr>\n",
       "                        <th id=\"T_3ad9a_level0_row0\" class=\"row_heading level0 row0\" >2010</th>\n",
       "                        <td id=\"T_3ad9a_row0_col0\" class=\"data row0 col0\" >2428654.000000</td>\n",
       "                        <td id=\"T_3ad9a_row0_col1\" class=\"data row0 col1\" >1700.000000</td>\n",
       "            </tr>\n",
       "            <tr>\n",
       "                        <th id=\"T_3ad9a_level0_row1\" class=\"row_heading level0 row1\" >2011</th>\n",
       "                        <td id=\"T_3ad9a_row1_col0\" class=\"data row1 col0\" >14102765.000000</td>\n",
       "                        <td id=\"T_3ad9a_row1_col1\" class=\"data row1 col1\" >3000.000000</td>\n",
       "            </tr>\n",
       "            <tr>\n",
       "                        <th id=\"T_3ad9a_level0_row2\" class=\"row_heading level0 row2\" >2012</th>\n",
       "                        <td id=\"T_3ad9a_row2_col0\" class=\"data row2 col0\" >6955423.000000</td>\n",
       "                        <td id=\"T_3ad9a_row2_col1\" class=\"data row2 col1\" >5660.000000</td>\n",
       "            </tr>\n",
       "            <tr>\n",
       "                        <th id=\"T_3ad9a_level0_row3\" class=\"row_heading level0 row3\" >2013</th>\n",
       "                        <td id=\"T_3ad9a_row3_col0\" class=\"data row3 col0\" >29799706.200000</td>\n",
       "                        <td id=\"T_3ad9a_row3_col1\" class=\"data row3 col1\" >3522.500000</td>\n",
       "            </tr>\n",
       "            <tr>\n",
       "                        <th id=\"T_3ad9a_level0_row4\" class=\"row_heading level0 row4\" >2014</th>\n",
       "                        <td id=\"T_3ad9a_row4_col0\" class=\"data row4 col0\" >7444951859.200001</td>\n",
       "                        <td id=\"T_3ad9a_row4_col1\" class=\"data row4 col1\" >18160.000000</td>\n",
       "            </tr>\n",
       "            <tr>\n",
       "                        <th id=\"T_3ad9a_level0_row5\" class=\"row_heading level0 row5\" >2015</th>\n",
       "                        <td id=\"T_3ad9a_row5_col0\" class=\"data row5 col0\" >39497365196.400009</td>\n",
       "                        <td id=\"T_3ad9a_row5_col1\" class=\"data row5 col1\" >4920933.000000</td>\n",
       "            </tr>\n",
       "            <tr>\n",
       "                        <th id=\"T_3ad9a_level0_row6\" class=\"row_heading level0 row6\" >2016</th>\n",
       "                        <td id=\"T_3ad9a_row6_col0\" class=\"data row6 col0\" >47866299741.910042</td>\n",
       "                        <td id=\"T_3ad9a_row6_col1\" class=\"data row6 col1\" >3846679.410000</td>\n",
       "            </tr>\n",
       "            <tr>\n",
       "                        <th id=\"T_3ad9a_level0_row7\" class=\"row_heading level0 row7\" >2017</th>\n",
       "                        <td id=\"T_3ad9a_row7_col0\" class=\"data row7 col0\" >48563707217.510002</td>\n",
       "                        <td id=\"T_3ad9a_row7_col1\" class=\"data row7 col1\" >9968340.000000</td>\n",
       "            </tr>\n",
       "            <tr>\n",
       "                        <th id=\"T_3ad9a_level0_row8\" class=\"row_heading level0 row8\" >2018</th>\n",
       "                        <td id=\"T_3ad9a_row8_col0\" class=\"data row8 col0\" >49668403134.319992</td>\n",
       "                        <td id=\"T_3ad9a_row8_col1\" class=\"data row8 col1\" >8891102.210000</td>\n",
       "            </tr>\n",
       "            <tr>\n",
       "                        <th id=\"T_3ad9a_level0_row9\" class=\"row_heading level0 row9\" >2019</th>\n",
       "                        <td id=\"T_3ad9a_row9_col0\" class=\"data row9 col0\" >48425708779.589996</td>\n",
       "                        <td id=\"T_3ad9a_row9_col1\" class=\"data row9 col1\" >4627798.345000</td>\n",
       "            </tr>\n",
       "    </tbody></table>"
      ],
      "text/plain": [
       "<pandas.io.formats.style.Styler at 0x7f09e2efeb80>"
      ]
     },
     "metadata": {},
     "output_type": "display_data"
    },
    {
     "data": {
      "text/plain": [
       "<AxesSubplot:title={'center':'Динамика проката по годам, медиана сборов'}, xlabel='year'>"
      ]
     },
     "execution_count": 54,
     "metadata": {},
     "output_type": "execute_result"
    },
    {
     "data": {
      "image/png": "[encoded data removed]",
      "text/plain": [
       "<Figure size 432x288 with 1 Axes>"
      ]
     },
     "metadata": {
      "needs_background": "light"
     },
     "output_type": "display_data"
    },
    {
     "data": {
      "image/png": "[encoded data removed]",
      "text/plain": [
       "<Figure size 432x288 with 1 Axes>"
      ]
     },
     "metadata": {
      "needs_background": "light"
     },
     "output_type": "display_data"
    }
   ],
   "source": [
    "# создадим сводную таблицу с суммарным и медианным значениями сборов по годам\n",
    "\n",
    "display(df_cleaned.pivot_table(index='year', values='box_office', aggfunc=['sum', 'median']).style.format({'box_office': '{:.2f}'}))\n",
    "\n",
    "# построим графики с динамикой проката по годам, в одном случае возьмем суммарные сборы, во втором - медианные\n",
    "\n",
    "df_cleaned.pivot_table(index='year', values='box_office', aggfunc='sum').plot(title=\"Динамика проката по годам, сумма сборов\", style='o-')\n",
    "\n",
    "df_cleaned.pivot_table(index='year', values='box_office', aggfunc='median').plot(title=\"Динамика проката по годам, медиана сборов\", style='o-')"
   ]
  },
  {
   "cell_type": "markdown",
   "metadata": {},
   "source": [
    "Минимальная сумма сборов была в 2010 году, а максимальная - в 2018 году.\n",
    "До 2013 года включительно сборы в тысячи раз меньше сборов в последующих годам.\n",
    "Плюс к этому, если смотреть по медианному значению, то видим значительный спад в 2018 и 2019 г по сравнению с 2017 годом."
   ]
  },
  {
   "cell_type": "markdown",
   "metadata": {
    "id": "G-7qS-N-gFyY"
   },
   "source": [
    "- С помощью сводной таблицы посчитайте среднюю и медианную сумму сборов для каждого года."
   ]
  },
  {
   "cell_type": "code",
   "execution_count": 55,
   "metadata": {
    "id": "jmp-rgg9gFyY",
    "scrolled": false
   },
   "outputs": [
    {
     "data": {
      "text/html": [
       "<style  type=\"text/css\" >\n",
       "</style><table id=\"T_a3421_\" ><thead>    <tr>        <th class=\"blank level0\" ></th>        <th class=\"col_heading level0 col0\" >box_office_ mean</th>    </tr>    <tr>        <th class=\"index_name level0\" >year</th>        <th class=\"blank\" ></th>    </tr></thead><tbody>\n",
       "                <tr>\n",
       "                        <th id=\"T_a3421_level0_row0\" class=\"row_heading level0 row0\" >2010</th>\n",
       "                        <td id=\"T_a3421_row0_col0\" class=\"data row0 col0\" >23130.038095</td>\n",
       "            </tr>\n",
       "            <tr>\n",
       "                        <th id=\"T_a3421_level0_row1\" class=\"row_heading level0 row1\" >2011</th>\n",
       "                        <td id=\"T_a3421_row1_col0\" class=\"data row1 col0\" >129383.165138</td>\n",
       "            </tr>\n",
       "            <tr>\n",
       "                        <th id=\"T_a3421_level0_row2\" class=\"row_heading level0 row2\" >2012</th>\n",
       "                        <td id=\"T_a3421_row2_col0\" class=\"data row2 col0\" >54339.242188</td>\n",
       "            </tr>\n",
       "            <tr>\n",
       "                        <th id=\"T_a3421_level0_row3\" class=\"row_heading level0 row3\" >2013</th>\n",
       "                        <td id=\"T_a3421_row3_col0\" class=\"data row3 col0\" >161954.925000</td>\n",
       "            </tr>\n",
       "            <tr>\n",
       "                        <th id=\"T_a3421_level0_row4\" class=\"row_heading level0 row4\" >2014</th>\n",
       "                        <td id=\"T_a3421_row4_col0\" class=\"data row4 col0\" >26684415.265950</td>\n",
       "            </tr>\n",
       "            <tr>\n",
       "                        <th id=\"T_a3421_level0_row5\" class=\"row_heading level0 row5\" >2015</th>\n",
       "                        <td id=\"T_a3421_row5_col0\" class=\"data row5 col0\" >84940570.314839</td>\n",
       "            </tr>\n",
       "            <tr>\n",
       "                        <th id=\"T_a3421_level0_row6\" class=\"row_heading level0 row6\" >2016</th>\n",
       "                        <td id=\"T_a3421_row6_col0\" class=\"data row6 col0\" >91000569.851540</td>\n",
       "            </tr>\n",
       "            <tr>\n",
       "                        <th id=\"T_a3421_level0_row7\" class=\"row_heading level0 row7\" >2017</th>\n",
       "                        <td id=\"T_a3421_row7_col0\" class=\"data row7 col0\" >136032793.326359</td>\n",
       "            </tr>\n",
       "            <tr>\n",
       "                        <th id=\"T_a3421_level0_row8\" class=\"row_heading level0 row8\" >2018</th>\n",
       "                        <td id=\"T_a3421_row8_col0\" class=\"data row8 col0\" >104565059.230147</td>\n",
       "            </tr>\n",
       "            <tr>\n",
       "                        <th id=\"T_a3421_level0_row9\" class=\"row_heading level0 row9\" >2019</th>\n",
       "                        <td id=\"T_a3421_row9_col0\" class=\"data row9 col0\" >91369261.848283</td>\n",
       "            </tr>\n",
       "    </tbody></table>"
      ],
      "text/plain": [
       "<pandas.io.formats.style.Styler at 0x7f09e2dafee0>"
      ]
     },
     "metadata": {},
     "output_type": "display_data"
    },
    {
     "data": {
      "text/html": [
       "<div>\n",
       "<style scoped>\n",
       "    .dataframe tbody tr th:only-of-type {\n",
       "        vertical-align: middle;\n",
       "    }\n",
       "\n",
       "    .dataframe tbody tr th {\n",
       "        vertical-align: top;\n",
       "    }\n",
       "\n",
       "    .dataframe thead th {\n",
       "        text-align: right;\n",
       "    }\n",
       "</style>\n",
       "<table border=\"1\" class=\"dataframe\">\n",
       "  <thead>\n",
       "    <tr style=\"text-align: right;\">\n",
       "      <th></th>\n",
       "      <th>box_office_ median</th>\n",
       "    </tr>\n",
       "    <tr>\n",
       "      <th>year</th>\n",
       "      <th></th>\n",
       "    </tr>\n",
       "  </thead>\n",
       "  <tbody>\n",
       "    <tr>\n",
       "      <th>2010</th>\n",
       "      <td>1700.00</td>\n",
       "    </tr>\n",
       "    <tr>\n",
       "      <th>2011</th>\n",
       "      <td>3000.00</td>\n",
       "    </tr>\n",
       "    <tr>\n",
       "      <th>2012</th>\n",
       "      <td>5660.00</td>\n",
       "    </tr>\n",
       "    <tr>\n",
       "      <th>2013</th>\n",
       "      <td>3522.50</td>\n",
       "    </tr>\n",
       "    <tr>\n",
       "      <th>2014</th>\n",
       "      <td>18160.00</td>\n",
       "    </tr>\n",
       "    <tr>\n",
       "      <th>2015</th>\n",
       "      <td>4920933.00</td>\n",
       "    </tr>\n",
       "    <tr>\n",
       "      <th>2016</th>\n",
       "      <td>3846679.41</td>\n",
       "    </tr>\n",
       "    <tr>\n",
       "      <th>2017</th>\n",
       "      <td>9968340.00</td>\n",
       "    </tr>\n",
       "    <tr>\n",
       "      <th>2018</th>\n",
       "      <td>8891102.21</td>\n",
       "    </tr>\n",
       "    <tr>\n",
       "      <th>2019</th>\n",
       "      <td>4627798.34</td>\n",
       "    </tr>\n",
       "  </tbody>\n",
       "</table>\n",
       "</div>"
      ],
      "text/plain": [
       "      box_office_ median\n",
       "year                    \n",
       "2010             1700.00\n",
       "2011             3000.00\n",
       "2012             5660.00\n",
       "2013             3522.50\n",
       "2014            18160.00\n",
       "2015          4920933.00\n",
       "2016          3846679.41\n",
       "2017          9968340.00\n",
       "2018          8891102.21\n",
       "2019          4627798.34"
      ]
     },
     "metadata": {},
     "output_type": "display_data"
    },
    {
     "data": {
      "text/plain": [
       "<matplotlib.legend.Legend at 0x7f09e3166160>"
      ]
     },
     "execution_count": 55,
     "metadata": {},
     "output_type": "execute_result"
    },
    {
     "data": {
      "image/png": "[encoded data removed]",
      "text/plain": [
       "<Figure size 432x288 with 1 Axes>"
      ]
     },
     "metadata": {
      "needs_background": "light"
     },
     "output_type": "display_data"
    }
   ],
   "source": [
    "# расчитаем среднюю сумму сборов для каждого года\n",
    "\n",
    "box_office_mean = df_cleaned.pivot_table(index='year', values='box_office', aggfunc='mean')\n",
    "\n",
    "# расчитаем медианную сумму сборов для каждого года\n",
    "\n",
    "box_office_median = df_cleaned.pivot_table(index='year', values='box_office', aggfunc='median')\n",
    "\n",
    "# переименуем столбцы в сводных таблицах\n",
    "\n",
    "box_office_mean = box_office_mean.rename(columns={'box_office': 'box_office_ mean'})\n",
    "box_office_median = box_office_median.rename(columns={'box_office': 'box_office_ median'})\n",
    "\n",
    "# поменяем формат вывода чисел в таблице со средней суммой сборов\n",
    "\n",
    "box_office_mean = box_office_mean.style.format({'box_office': '{:.2f}'})\n",
    "\n",
    "# выведем на экран средние и медианные значения\n",
    "\n",
    "display(box_office_mean)\n",
    "display(box_office_median)\n",
    "\n",
    "# построим графики\n",
    "\n",
    "ax = df_cleaned.pivot_table(index='year', values='box_office', aggfunc='mean').plot()\n",
    "df_cleaned.pivot_table(index='year', values='box_office', aggfunc='median').plot(ax=ax)\n",
    "\n",
    "# дадим название легенде\n",
    "\n",
    "plt.legend(['средняя сумма сборов', 'медианная сумма сборов'])"
   ]
  },
  {
   "cell_type": "markdown",
   "metadata": {},
   "source": [
    "Медианная сумма сборов по годам значительно меньше, чем средняя сумма сборов. Связано это с тем, что большинство  фильмов имеют очень маленькую сумму сборов, а небольшое количество фильмов - сумму сборов, во много раз их превышающую. "
   ]
  },
  {
   "cell_type": "markdown",
   "metadata": {
    "id": "Ok89WFwJgFyZ"
   },
   "source": [
    "- Определим, влияет ли возрастное ограничение аудитории («6+», «12+», «16+», «18+» и т. д.) на сборы фильма в прокате в период с 2015 по 2019 год? Фильмы с каким возрастным ограничением собрали больше всего денег в прокате? Меняется ли картина в зависимости от года?"
   ]
  },
  {
   "cell_type": "code",
   "execution_count": 56,
   "metadata": {
    "scrolled": false
   },
   "outputs": [
    {
     "data": {
      "text/html": [
       "<div>\n",
       "<style scoped>\n",
       "    .dataframe tbody tr th:only-of-type {\n",
       "        vertical-align: middle;\n",
       "    }\n",
       "\n",
       "    .dataframe tbody tr th {\n",
       "        vertical-align: top;\n",
       "    }\n",
       "\n",
       "    .dataframe thead th {\n",
       "        text-align: right;\n",
       "    }\n",
       "</style>\n",
       "<table border=\"1\" class=\"dataframe\">\n",
       "  <thead>\n",
       "    <tr style=\"text-align: right;\">\n",
       "      <th>age_restriction</th>\n",
       "      <th>«0+» - для любой зрительской аудитории</th>\n",
       "      <th>«12+» - для детей старше 12 лет</th>\n",
       "      <th>«16+» - для детей старше 16 лет</th>\n",
       "      <th>«18+» - запрещено для детей</th>\n",
       "      <th>«6+» - для детей старше 6 лет</th>\n",
       "    </tr>\n",
       "    <tr>\n",
       "      <th>year</th>\n",
       "      <th></th>\n",
       "      <th></th>\n",
       "      <th></th>\n",
       "      <th></th>\n",
       "      <th></th>\n",
       "    </tr>\n",
       "  </thead>\n",
       "  <tbody>\n",
       "    <tr>\n",
       "      <th>2015</th>\n",
       "      <td>379054578.37</td>\n",
       "      <td>13616082008.91</td>\n",
       "      <td>11368120870.27</td>\n",
       "      <td>5432308367.44</td>\n",
       "      <td>8701799371.41</td>\n",
       "    </tr>\n",
       "    <tr>\n",
       "      <th>2016</th>\n",
       "      <td>150228848.67</td>\n",
       "      <td>12204446524.39</td>\n",
       "      <td>16664548541.74</td>\n",
       "      <td>6793929818.87</td>\n",
       "      <td>12053146008.24</td>\n",
       "    </tr>\n",
       "    <tr>\n",
       "      <th>2017</th>\n",
       "      <td>229598930.00</td>\n",
       "      <td>7851427660.67</td>\n",
       "      <td>18745042900.06</td>\n",
       "      <td>9651495581.02</td>\n",
       "      <td>12086142145.76</td>\n",
       "    </tr>\n",
       "    <tr>\n",
       "      <th>2018</th>\n",
       "      <td>32449002.11</td>\n",
       "      <td>14267291660.69</td>\n",
       "      <td>16503602346.96</td>\n",
       "      <td>8760085501.15</td>\n",
       "      <td>10104974623.41</td>\n",
       "    </tr>\n",
       "    <tr>\n",
       "      <th>2019</th>\n",
       "      <td>17746066.82</td>\n",
       "      <td>12680198773.67</td>\n",
       "      <td>12753418984.60</td>\n",
       "      <td>10121796303.64</td>\n",
       "      <td>12852548650.86</td>\n",
       "    </tr>\n",
       "    <tr>\n",
       "      <th>TOTAL</th>\n",
       "      <td>809077425.97</td>\n",
       "      <td>60619446628.33</td>\n",
       "      <td>76034733643.63</td>\n",
       "      <td>40759615572.12</td>\n",
       "      <td>55798610799.68</td>\n",
       "    </tr>\n",
       "  </tbody>\n",
       "</table>\n",
       "</div>"
      ],
      "text/plain": [
       "age_restriction  «0+» - для любой зрительской аудитории  \\\n",
       "year                                                      \n",
       "2015                                       379054578.37   \n",
       "2016                                       150228848.67   \n",
       "2017                                       229598930.00   \n",
       "2018                                        32449002.11   \n",
       "2019                                        17746066.82   \n",
       "TOTAL                                      809077425.97   \n",
       "\n",
       "age_restriction  «12+» - для детей старше 12 лет  \\\n",
       "year                                               \n",
       "2015                              13616082008.91   \n",
       "2016                              12204446524.39   \n",
       "2017                               7851427660.67   \n",
       "2018                              14267291660.69   \n",
       "2019                              12680198773.67   \n",
       "TOTAL                             60619446628.33   \n",
       "\n",
       "age_restriction  «16+» - для детей старше 16 лет  «18+» - запрещено для детей  \\\n",
       "year                                                                            \n",
       "2015                              11368120870.27                5432308367.44   \n",
       "2016                              16664548541.74                6793929818.87   \n",
       "2017                              18745042900.06                9651495581.02   \n",
       "2018                              16503602346.96                8760085501.15   \n",
       "2019                              12753418984.60               10121796303.64   \n",
       "TOTAL                             76034733643.63               40759615572.12   \n",
       "\n",
       "age_restriction  «6+» - для детей старше 6 лет  \n",
       "year                                            \n",
       "2015                             8701799371.41  \n",
       "2016                            12053146008.24  \n",
       "2017                            12086142145.76  \n",
       "2018                            10104974623.41  \n",
       "2019                            12852548650.86  \n",
       "TOTAL                           55798610799.68  "
      ]
     },
     "execution_count": 56,
     "metadata": {},
     "output_type": "execute_result"
    },
    {
     "data": {
      "image/png": "[encoded data removed]",
      "text/plain": [
       "<Figure size 720x432 with 1 Axes>"
      ]
     },
     "metadata": {
      "needs_background": "light"
     },
     "output_type": "display_data"
    }
   ],
   "source": [
    "# создадим датафрейм df_cleaned_age_restriction - сводную таблицу с суммой сборов для разных возрастных групп за период с 2015 по 2019 г.\n",
    "\n",
    "df_cleaned_age_restriction = (df_cleaned.pivot_table(index='year', columns='age_restriction', values='box_office', aggfunc='sum')).query('year >= 2015')\n",
    "\n",
    "# построим график\n",
    "\n",
    "df_cleaned_age_restriction.plot(figsize=(10, 6))\n",
    "\n",
    "# добавим суммарные значения по каждой возрастной группе\n",
    "\n",
    "df_cleaned_age_restriction.loc['TOTAL'] = df_cleaned_age_restriction.sum()\n",
    "\n",
    "# выведем сводную таблицу\n",
    "\n",
    "df_cleaned_age_restriction"
   ]
  },
  {
   "cell_type": "markdown",
   "metadata": {},
   "source": [
    "Суммарно по годам больше всего денег в прокате собрали фильмы с возрастным ограничением 16+.\n",
    "Если рассматривать по годам, то:\n",
    "* в 2015 г - 12+\n",
    "* в 2016 г - 16+\n",
    "* в 2017 г - 16+\n",
    "* в 2018 г - 16+\n",
    "* в 2019 г - 6+\n",
    "\n",
    "Таким образом, в зависимости от года картина немного меняется, а именно, в 2015 г и 2019 г. Причина, вероятнее всего, в выходе в прокат оскароносных и/или ожидаемых анимационных фильмов."
   ]
  },
  {
   "cell_type": "markdown",
   "metadata": {
    "id": "l_Kg6Ku4gFya"
   },
   "source": [
    "### Шаг 4. Исследуем фильмы, которые получили государственную поддержку\n",
    "\n",
    "Поищем интересные закономерности в данных. Посмотрим, сколько выделяют средств на поддержку кино. Проверим, хорошо ли окупаются такие фильмы, какой у них рейтинг."
   ]
  },
  {
   "cell_type": "code",
   "execution_count": 57,
   "metadata": {
    "id": "jsSbEqfjgFya",
    "scrolled": true
   },
   "outputs": [],
   "source": [
    "# добавим столбец с суммарным значением гос поддержки\n",
    "\n",
    "df_cleaned['support'] = df_cleaned['nonrefundable_support'] + df_cleaned['refundable_support']"
   ]
  },
  {
   "cell_type": "code",
   "execution_count": 58,
   "metadata": {
    "scrolled": false
   },
   "outputs": [
    {
     "data": {
      "text/plain": [
       "count          318.00\n",
       "mean     132432420.05\n",
       "std      334837856.99\n",
       "min           1550.00\n",
       "25%        1236675.50\n",
       "50%       15720067.71\n",
       "75%      106373008.27\n",
       "max     3073568690.79\n",
       "Name: box_office, dtype: float64"
      ]
     },
     "metadata": {},
     "output_type": "display_data"
    },
    {
     "data": {
      "text/plain": [
       "<AxesSubplot:ylabel='Frequency'>"
      ]
     },
     "metadata": {},
     "output_type": "display_data"
    },
    {
     "data": {
      "image/png": "[encoded data removed]",
      "text/plain": [
       "<Figure size 864x576 with 1 Axes>"
      ]
     },
     "metadata": {
      "needs_background": "light"
     },
     "output_type": "display_data"
    }
   ],
   "source": [
    "# посмотрим статистические данные по столбцу 'box_office' для фильмов с гос поддержкой\n",
    "\n",
    "display(df_cleaned.query('support > 0')['box_office'].describe())\n",
    "\n",
    "# построим гисторамму по сборам для фильмов с гос поддержкой\n",
    "\n",
    "display(df_cleaned.query('support > 0')['box_office'].plot(kind='hist', bins=1500, figsize=(12, 8), xlim=(0, 100000000)))"
   ]
  },
  {
   "cell_type": "markdown",
   "metadata": {},
   "source": [
    "Подавляющее большинство фильмов с гос поддержкой имеют сбор от 0 до 2 000 000 руб. Однако, медианное значение составляет 15,7 млн руб. Гистограмма имеет не нормальное распределение и очень длинный хвост с высокими значениями, на что также указывает большое значение стандартного отклонения."
   ]
  },
  {
   "cell_type": "code",
   "execution_count": 59,
   "metadata": {
    "scrolled": false
   },
   "outputs": [
    {
     "data": {
      "text/plain": [
       "count         332.00\n",
       "mean     60845446.72\n",
       "std      72755459.47\n",
       "min       3000000.00\n",
       "25%      25333750.00\n",
       "50%      35000000.00\n",
       "75%      60000000.00\n",
       "max     500000000.00\n",
       "Name: support, dtype: float64"
      ]
     },
     "metadata": {},
     "output_type": "display_data"
    },
    {
     "data": {
      "text/plain": [
       "35000000.0"
      ]
     },
     "execution_count": 59,
     "metadata": {},
     "output_type": "execute_result"
    },
    {
     "data": {
      "image/png": "[encoded data removed]",
      "text/plain": [
       "<Figure size 864x576 with 1 Axes>"
      ]
     },
     "metadata": {
      "needs_background": "light"
     },
     "output_type": "display_data"
    }
   ],
   "source": [
    "# посмотрим статистические данные по столбцу с суммарной гос поддержкой\n",
    "\n",
    "display(df_cleaned['support'].describe())\n",
    "\n",
    "# построим гистограмму\n",
    "\n",
    "df_cleaned['support'].plot(kind='hist', bins=50, figsize=(12, 8), grid=True)\n",
    "\n",
    "# расчитаем медианное значение гос поддержки\n",
    "\n",
    "support_median = df_cleaned['support'].median()\n",
    "\n",
    "support_median"
   ]
  },
  {
   "cell_type": "markdown",
   "metadata": {},
   "source": [
    "На подавляющее большинство фильмов в качестве гос поддержки выделяют от 20 до 30 млн руб. Медианное значение 35 млн руб. Гисторамма имеет длинный хвост с аномальными значениями гос поддержки."
   ]
  },
  {
   "cell_type": "markdown",
   "metadata": {},
   "source": [
    "Можем сделать вывод, что уровень гос поддержки более, чем в 2 раза больше, чем сборы."
   ]
  },
  {
   "cell_type": "code",
   "execution_count": 60,
   "metadata": {},
   "outputs": [
    {
     "data": {
      "text/plain": [
       "0.5922645480995804"
      ]
     },
     "execution_count": 60,
     "metadata": {},
     "output_type": "execute_result"
    }
   ],
   "source": [
    "# посчитаем медианное значение доли гос поддержки от общего бюджета\n",
    "\n",
    "support_part_median = df_cleaned['support_part'].median()\n",
    "support_part_median"
   ]
  },
  {
   "cell_type": "markdown",
   "metadata": {},
   "source": [
    "Медианное значение достаточно высокое, что говорит о том, размер гос поддержки превышает уровень коммерческой (продюсерской) поддержки."
   ]
  },
  {
   "cell_type": "code",
   "execution_count": 61,
   "metadata": {
    "scrolled": false
   },
   "outputs": [
    {
     "name": "stdout",
     "output_type": "stream",
     "text": [
      "-0.8513361797921852\n"
     ]
    },
    {
     "data": {
      "text/html": [
       "<div>\n",
       "<style scoped>\n",
       "    .dataframe tbody tr th:only-of-type {\n",
       "        vertical-align: middle;\n",
       "    }\n",
       "\n",
       "    .dataframe tbody tr th {\n",
       "        vertical-align: top;\n",
       "    }\n",
       "\n",
       "    .dataframe thead th {\n",
       "        text-align: right;\n",
       "    }\n",
       "</style>\n",
       "<table border=\"1\" class=\"dataframe\">\n",
       "  <thead>\n",
       "    <tr style=\"text-align: right;\">\n",
       "      <th></th>\n",
       "      <th>title</th>\n",
       "      <th>type</th>\n",
       "      <th>film_studio</th>\n",
       "      <th>production_country</th>\n",
       "      <th>director</th>\n",
       "      <th>producer</th>\n",
       "      <th>age_restriction</th>\n",
       "      <th>refundable_support</th>\n",
       "      <th>nonrefundable_support</th>\n",
       "      <th>budget</th>\n",
       "      <th>financing_source</th>\n",
       "      <th>ratings</th>\n",
       "      <th>genres</th>\n",
       "      <th>box_office</th>\n",
       "      <th>year</th>\n",
       "      <th>director_main</th>\n",
       "      <th>genre_main</th>\n",
       "      <th>support_part</th>\n",
       "      <th>support</th>\n",
       "      <th>add_roi</th>\n",
       "    </tr>\n",
       "  </thead>\n",
       "  <tbody>\n",
       "    <tr>\n",
       "      <th>1242</th>\n",
       "      <td>Пока еще жива</td>\n",
       "      <td>Художественный</td>\n",
       "      <td>АНО содействия развитию кинематографии \"Ангел-...</td>\n",
       "      <td>Россия</td>\n",
       "      <td>А.Атанесян</td>\n",
       "      <td>А.Атанесян, М.Бабаханов, Р.Бутко</td>\n",
       "      <td>«16+» - для детей старше 16 лет</td>\n",
       "      <td>0.00</td>\n",
       "      <td>26500000.00</td>\n",
       "      <td>79411900.00</td>\n",
       "      <td>Министерство культуры</td>\n",
       "      <td>8.10</td>\n",
       "      <td>драма,мелодрама</td>\n",
       "      <td>365353.60</td>\n",
       "      <td>2013</td>\n",
       "      <td>А.Атанесян</td>\n",
       "      <td>драма</td>\n",
       "      <td>0.33</td>\n",
       "      <td>26500000.00</td>\n",
       "      <td>-1.00</td>\n",
       "    </tr>\n",
       "    <tr>\n",
       "      <th>1403</th>\n",
       "      <td>Бесславные придурки</td>\n",
       "      <td>Художественный</td>\n",
       "      <td>ООО \"Компания \"АТК-Студио\"</td>\n",
       "      <td>Россия</td>\n",
       "      <td>А.Якимчук</td>\n",
       "      <td>А.Тютрюмов</td>\n",
       "      <td>«12+» - для детей старше 12 лет</td>\n",
       "      <td>0.00</td>\n",
       "      <td>26000000.00</td>\n",
       "      <td>37142857.00</td>\n",
       "      <td>Министерство культуры</td>\n",
       "      <td>NaN</td>\n",
       "      <td>unknown</td>\n",
       "      <td>28140.00</td>\n",
       "      <td>2014</td>\n",
       "      <td>А.Якимчук</td>\n",
       "      <td>unknown</td>\n",
       "      <td>0.70</td>\n",
       "      <td>26000000.00</td>\n",
       "      <td>-1.00</td>\n",
       "    </tr>\n",
       "    <tr>\n",
       "      <th>1452</th>\n",
       "      <td>Невидимки</td>\n",
       "      <td>Художественный</td>\n",
       "      <td>ООО \"Компания \"РЕАЛ-ДАКОТА\"</td>\n",
       "      <td>Россия</td>\n",
       "      <td>Р.Давлетьяров, С.Комаров</td>\n",
       "      <td>Р.Давлетьяров, А.Котелевский, А.Олейников</td>\n",
       "      <td>«12+» - для детей старше 12 лет</td>\n",
       "      <td>0.00</td>\n",
       "      <td>107847945.00</td>\n",
       "      <td>176023490.00</td>\n",
       "      <td>Фонд кино</td>\n",
       "      <td>5.30</td>\n",
       "      <td>комедия,фантастика</td>\n",
       "      <td>19957031.50</td>\n",
       "      <td>2013</td>\n",
       "      <td>Р.Давлетьяров</td>\n",
       "      <td>комедия</td>\n",
       "      <td>0.61</td>\n",
       "      <td>107847945.00</td>\n",
       "      <td>-0.89</td>\n",
       "    </tr>\n",
       "    <tr>\n",
       "      <th>1478</th>\n",
       "      <td>БЕРЦЫ</td>\n",
       "      <td>Художественный</td>\n",
       "      <td>ООО \"Студия \"Пассажир\"</td>\n",
       "      <td>Россия</td>\n",
       "      <td>Е.Миндадзе (псевдоним Катя Шагалова)</td>\n",
       "      <td>Л.Антонова</td>\n",
       "      <td>«16+» - для детей старше 16 лет</td>\n",
       "      <td>0.00</td>\n",
       "      <td>28000000.00</td>\n",
       "      <td>40574140.00</td>\n",
       "      <td>Министерство культуры</td>\n",
       "      <td>4.20</td>\n",
       "      <td>драма</td>\n",
       "      <td>55917.50</td>\n",
       "      <td>2014</td>\n",
       "      <td>Е.Миндадзе (псевдоним Катя Шагалова)</td>\n",
       "      <td>драма</td>\n",
       "      <td>0.69</td>\n",
       "      <td>28000000.00</td>\n",
       "      <td>-1.00</td>\n",
       "    </tr>\n",
       "    <tr>\n",
       "      <th>1739</th>\n",
       "      <td>Братья Ч</td>\n",
       "      <td>Художественный</td>\n",
       "      <td>ООО \"Студия \"Пассажир\"</td>\n",
       "      <td>Россия</td>\n",
       "      <td>М.Угаров</td>\n",
       "      <td>А.Миндадзе, Л.Антонова</td>\n",
       "      <td>«16+» - для детей старше 16 лет</td>\n",
       "      <td>0.00</td>\n",
       "      <td>25000000.00</td>\n",
       "      <td>40015122.00</td>\n",
       "      <td>Министерство культуры</td>\n",
       "      <td>6.40</td>\n",
       "      <td>драма</td>\n",
       "      <td>232100.00</td>\n",
       "      <td>2014</td>\n",
       "      <td>М.Угаров</td>\n",
       "      <td>драма</td>\n",
       "      <td>0.62</td>\n",
       "      <td>25000000.00</td>\n",
       "      <td>-0.99</td>\n",
       "    </tr>\n",
       "  </tbody>\n",
       "</table>\n",
       "</div>"
      ],
      "text/plain": [
       "                    title            type  \\\n",
       "1242        Пока еще жива  Художественный   \n",
       "1403  Бесславные придурки  Художественный   \n",
       "1452            Невидимки  Художественный   \n",
       "1478                БЕРЦЫ  Художественный   \n",
       "1739             Братья Ч  Художественный   \n",
       "\n",
       "                                            film_studio production_country  \\\n",
       "1242  АНО содействия развитию кинематографии \"Ангел-...             Россия   \n",
       "1403                         ООО \"Компания \"АТК-Студио\"             Россия   \n",
       "1452                        ООО \"Компания \"РЕАЛ-ДАКОТА\"             Россия   \n",
       "1478                             ООО \"Студия \"Пассажир\"             Россия   \n",
       "1739                             ООО \"Студия \"Пассажир\"             Россия   \n",
       "\n",
       "                                  director  \\\n",
       "1242                            А.Атанесян   \n",
       "1403                             А.Якимчук   \n",
       "1452              Р.Давлетьяров, С.Комаров   \n",
       "1478  Е.Миндадзе (псевдоним Катя Шагалова)   \n",
       "1739                              М.Угаров   \n",
       "\n",
       "                                       producer  \\\n",
       "1242           А.Атанесян, М.Бабаханов, Р.Бутко   \n",
       "1403                                 А.Тютрюмов   \n",
       "1452  Р.Давлетьяров, А.Котелевский, А.Олейников   \n",
       "1478                                 Л.Антонова   \n",
       "1739                     А.Миндадзе, Л.Антонова   \n",
       "\n",
       "                      age_restriction  refundable_support  \\\n",
       "1242  «16+» - для детей старше 16 лет                0.00   \n",
       "1403  «12+» - для детей старше 12 лет                0.00   \n",
       "1452  «12+» - для детей старше 12 лет                0.00   \n",
       "1478  «16+» - для детей старше 16 лет                0.00   \n",
       "1739  «16+» - для детей старше 16 лет                0.00   \n",
       "\n",
       "      nonrefundable_support       budget       financing_source  ratings  \\\n",
       "1242            26500000.00  79411900.00  Министерство культуры     8.10   \n",
       "1403            26000000.00  37142857.00  Министерство культуры      NaN   \n",
       "1452           107847945.00 176023490.00              Фонд кино     5.30   \n",
       "1478            28000000.00  40574140.00  Министерство культуры     4.20   \n",
       "1739            25000000.00  40015122.00  Министерство культуры     6.40   \n",
       "\n",
       "                  genres  box_office  year  \\\n",
       "1242     драма,мелодрама   365353.60  2013   \n",
       "1403             unknown    28140.00  2014   \n",
       "1452  комедия,фантастика 19957031.50  2013   \n",
       "1478               драма    55917.50  2014   \n",
       "1739               драма   232100.00  2014   \n",
       "\n",
       "                             director_main genre_main  support_part  \\\n",
       "1242                            А.Атанесян      драма          0.33   \n",
       "1403                             А.Якимчук    unknown          0.70   \n",
       "1452                         Р.Давлетьяров    комедия          0.61   \n",
       "1478  Е.Миндадзе (псевдоним Катя Шагалова)      драма          0.69   \n",
       "1739                              М.Угаров      драма          0.62   \n",
       "\n",
       "          support  add_roi  \n",
       "1242  26500000.00    -1.00  \n",
       "1403  26000000.00    -1.00  \n",
       "1452 107847945.00    -0.89  \n",
       "1478  28000000.00    -1.00  \n",
       "1739  25000000.00    -0.99  "
      ]
     },
     "execution_count": 61,
     "metadata": {},
     "output_type": "execute_result"
    }
   ],
   "source": [
    "# расчитаем окупаемость фильмов с гос проддержкой и добавим столбец со значением окупаемости \n",
    "\n",
    "def add_roi(row):\n",
    "    budget = row['budget']\n",
    "    box_office = row['box_office']\n",
    "    if budget != 0:\n",
    "        roi = (box_office - budget) / budget\n",
    "        return roi\n",
    "   \n",
    "df_cleaned['add_roi'] = df_cleaned.apply(add_roi, axis=1)\n",
    "\n",
    "# расчитаем медианное значение окупаемости по всем фильмам с гос поддержкой\n",
    "\n",
    "add_roi_medium = df_cleaned['add_roi'].median()\n",
    "\n",
    "print(add_roi_medium)\n",
    "\n",
    "# проверим добавление столбца 'add_roi', отфильтровав фильмы с гос поддержкой\n",
    "\n",
    "df_cleaned[(df_cleaned['add_roi']).isna() != True].head()      "
   ]
  },
  {
   "cell_type": "markdown",
   "metadata": {},
   "source": [
    "Медианное значение окупаемости составляет минус 0,85, что говорит о том, что бюджет фильма в несколько раз превышает выручку от фильма."
   ]
  },
  {
   "cell_type": "markdown",
   "metadata": {},
   "source": [
    "Далее посмотрим взаимосвязь факторов (корреляцию) методом sns.pairplot() для фильмов с гос поддержкой. Для этого отфильтруем датафрейм, оставив только фильмы с гос поддержкой и оставив только нужные факторы. "
   ]
  },
  {
   "cell_type": "code",
   "execution_count": 62,
   "metadata": {},
   "outputs": [
    {
     "data": {
      "text/html": [
       "<div>\n",
       "<style scoped>\n",
       "    .dataframe tbody tr th:only-of-type {\n",
       "        vertical-align: middle;\n",
       "    }\n",
       "\n",
       "    .dataframe tbody tr th {\n",
       "        vertical-align: top;\n",
       "    }\n",
       "\n",
       "    .dataframe thead th {\n",
       "        text-align: right;\n",
       "    }\n",
       "</style>\n",
       "<table border=\"1\" class=\"dataframe\">\n",
       "  <thead>\n",
       "    <tr style=\"text-align: right;\">\n",
       "      <th></th>\n",
       "      <th>ratings</th>\n",
       "      <th>box_office</th>\n",
       "      <th>budget</th>\n",
       "      <th>year</th>\n",
       "      <th>support_part</th>\n",
       "      <th>support</th>\n",
       "    </tr>\n",
       "  </thead>\n",
       "  <tbody>\n",
       "    <tr>\n",
       "      <th>1242</th>\n",
       "      <td>8.10</td>\n",
       "      <td>365353.60</td>\n",
       "      <td>79411900.00</td>\n",
       "      <td>2013</td>\n",
       "      <td>0.33</td>\n",
       "      <td>26500000.00</td>\n",
       "    </tr>\n",
       "    <tr>\n",
       "      <th>1403</th>\n",
       "      <td>NaN</td>\n",
       "      <td>28140.00</td>\n",
       "      <td>37142857.00</td>\n",
       "      <td>2014</td>\n",
       "      <td>0.70</td>\n",
       "      <td>26000000.00</td>\n",
       "    </tr>\n",
       "    <tr>\n",
       "      <th>1452</th>\n",
       "      <td>5.30</td>\n",
       "      <td>19957031.50</td>\n",
       "      <td>176023490.00</td>\n",
       "      <td>2013</td>\n",
       "      <td>0.61</td>\n",
       "      <td>107847945.00</td>\n",
       "    </tr>\n",
       "    <tr>\n",
       "      <th>1478</th>\n",
       "      <td>4.20</td>\n",
       "      <td>55917.50</td>\n",
       "      <td>40574140.00</td>\n",
       "      <td>2014</td>\n",
       "      <td>0.69</td>\n",
       "      <td>28000000.00</td>\n",
       "    </tr>\n",
       "    <tr>\n",
       "      <th>1739</th>\n",
       "      <td>6.40</td>\n",
       "      <td>232100.00</td>\n",
       "      <td>40015122.00</td>\n",
       "      <td>2014</td>\n",
       "      <td>0.62</td>\n",
       "      <td>25000000.00</td>\n",
       "    </tr>\n",
       "    <tr>\n",
       "      <th>...</th>\n",
       "      <td>...</td>\n",
       "      <td>...</td>\n",
       "      <td>...</td>\n",
       "      <td>...</td>\n",
       "      <td>...</td>\n",
       "      <td>...</td>\n",
       "    </tr>\n",
       "    <tr>\n",
       "      <th>7188</th>\n",
       "      <td>6.00</td>\n",
       "      <td>717703185.53</td>\n",
       "      <td>980000000.00</td>\n",
       "      <td>2019</td>\n",
       "      <td>0.51</td>\n",
       "      <td>500000000.00</td>\n",
       "    </tr>\n",
       "    <tr>\n",
       "      <th>7190</th>\n",
       "      <td>6.70</td>\n",
       "      <td>501069235.00</td>\n",
       "      <td>190000000.00</td>\n",
       "      <td>2019</td>\n",
       "      <td>0.53</td>\n",
       "      <td>100000000.00</td>\n",
       "    </tr>\n",
       "    <tr>\n",
       "      <th>7198</th>\n",
       "      <td>5.70</td>\n",
       "      <td>NaN</td>\n",
       "      <td>944000000.00</td>\n",
       "      <td>2019</td>\n",
       "      <td>0.53</td>\n",
       "      <td>500000000.00</td>\n",
       "    </tr>\n",
       "    <tr>\n",
       "      <th>7200</th>\n",
       "      <td>5.90</td>\n",
       "      <td>NaN</td>\n",
       "      <td>46154000.00</td>\n",
       "      <td>2019</td>\n",
       "      <td>0.65</td>\n",
       "      <td>30000000.00</td>\n",
       "    </tr>\n",
       "    <tr>\n",
       "      <th>7202</th>\n",
       "      <td>4.50</td>\n",
       "      <td>NaN</td>\n",
       "      <td>150147502.00</td>\n",
       "      <td>2019</td>\n",
       "      <td>0.67</td>\n",
       "      <td>100000000.00</td>\n",
       "    </tr>\n",
       "  </tbody>\n",
       "</table>\n",
       "<p>332 rows × 6 columns</p>\n",
       "</div>"
      ],
      "text/plain": [
       "      ratings   box_office       budget  year  support_part      support\n",
       "1242     8.10    365353.60  79411900.00  2013          0.33  26500000.00\n",
       "1403      NaN     28140.00  37142857.00  2014          0.70  26000000.00\n",
       "1452     5.30  19957031.50 176023490.00  2013          0.61 107847945.00\n",
       "1478     4.20     55917.50  40574140.00  2014          0.69  28000000.00\n",
       "1739     6.40    232100.00  40015122.00  2014          0.62  25000000.00\n",
       "...       ...          ...          ...   ...           ...          ...\n",
       "7188     6.00 717703185.53 980000000.00  2019          0.51 500000000.00\n",
       "7190     6.70 501069235.00 190000000.00  2019          0.53 100000000.00\n",
       "7198     5.70          NaN 944000000.00  2019          0.53 500000000.00\n",
       "7200     5.90          NaN  46154000.00  2019          0.65  30000000.00\n",
       "7202     4.50          NaN 150147502.00  2019          0.67 100000000.00\n",
       "\n",
       "[332 rows x 6 columns]"
      ]
     },
     "execution_count": 62,
     "metadata": {},
     "output_type": "execute_result"
    }
   ],
   "source": [
    "# отфильтровываем фильмы с гос поддержкой\n",
    "\n",
    "df_support_films = df_cleaned[(df_cleaned['support']).isna() != True]\n",
    "\n",
    "# оставляем только нужные столбцы\n",
    "\n",
    "df_support_films = df_support_films[['ratings', 'box_office', 'budget', 'year', 'support_part', 'support']]\n",
    "\n",
    "# проверяем работу кодов\n",
    "\n",
    "df_support_films"
   ]
  },
  {
   "cell_type": "code",
   "execution_count": 63,
   "metadata": {},
   "outputs": [
    {
     "name": "stdout",
     "output_type": "stream",
     "text": [
      "<class 'pandas.core.frame.DataFrame'>\n",
      "Int64Index: 332 entries, 1242 to 7202\n",
      "Data columns (total 6 columns):\n",
      " #   Column        Non-Null Count  Dtype  \n",
      "---  ------        --------------  -----  \n",
      " 0   ratings       316 non-null    float64\n",
      " 1   box_office    318 non-null    float64\n",
      " 2   budget        332 non-null    float64\n",
      " 3   year          332 non-null    int64  \n",
      " 4   support_part  315 non-null    float64\n",
      " 5   support       332 non-null    float64\n",
      "dtypes: float64(5), int64(1)\n",
      "memory usage: 18.2 KB\n"
     ]
    }
   ],
   "source": [
    "# проверим, все ли столбцы имеют числовой тип данных\n",
    "\n",
    "df_support_films.info()"
   ]
  },
  {
   "cell_type": "code",
   "execution_count": 64,
   "metadata": {
    "scrolled": false
   },
   "outputs": [
    {
     "data": {
      "text/plain": [
       "<seaborn.axisgrid.PairGrid at 0x7f09e32d6640>"
      ]
     },
     "execution_count": 64,
     "metadata": {},
     "output_type": "execute_result"
    },
    {
     "data": {
      "image/png": "[encoded data removed]",
      "text/plain": [
       "<Figure size 1080x1080 with 42 Axes>"
      ]
     },
     "metadata": {
      "needs_background": "light"
     },
     "output_type": "display_data"
    }
   ],
   "source": [
    "# построим графики корреляции\n",
    "\n",
    "sns.pairplot(df_support_films)"
   ]
  },
  {
   "cell_type": "markdown",
   "metadata": {},
   "source": [
    "Проанализируем взаимосвязи:\n",
    "* фильмы, получившие самый высокий уровень гос поддержки, имеют рейтинги фильма, более 5.\n",
    "* с ростом суммы гос поддержки, увеличиваются сборы фильма, однако, имеется большое количество фильмов с околонулевым сбором\n",
    "* с ростом гос поддержки растет бюджет\n",
    "* фильмы, получившие самый большой сбор, имеют рейтинг, более 6\n",
    "* выручка растет в хронологическом порядке"
   ]
  },
  {
   "cell_type": "markdown",
   "metadata": {
    "id": "V2gYwMcPgFyd"
   },
   "source": [
    "### Шаг 5. Общий вывод"
   ]
  },
  {
   "cell_type": "markdown",
   "metadata": {},
   "source": [
    "Проанализировав фильмы российского кинопроката, выявлены следующие тренды:\n",
    "\n",
    "* самым популярным жанром является драма,\n",
    "* больше всего денег в прокате собрали фильмы с возрастным ограничением 16+,\n",
    "* количество фильмов российского кинопроката увеличивается в хронологическом порядке, но есть спад в 2017 и 2018 гг.,\n",
    "* в прокат в кинотеатрах были выпущены 43,8 % фильмов,\n",
    "* минимальная сумма сборов была в 2010 году, а максимальная - в 2018 году. До 2013 года включительно сборы в тысячи раз меньше сборов в последующих годам. А если смотреть по медианному значению, то видим значительный спад в 2018 и 2019 г по сравнению с 2017 годом,\n",
    "* медианная сумма сборов по годам значительно меньше, чем средняя сумма сборов. Связано это с тем, что большинство фильмов имеют очень маленькую сумму сборов, а небольшое количество фильмов - сумму сборов, во много раз их превышающую.\n",
    "\n",
    "Что касается фильмов с гос поддержкой, подавляющее большинство  имеют сбор от 0 до 2 000 000 руб. Однако, медианное значение составляет 15,7 млн руб. Связано это с тем, что есть много фильмов с очень высоким сбором (аномальные значения).\n",
    "На  большинство фильмов в качестве гос поддержки выделяют от 20 до 30 млн руб. Медианное значение 35 млн руб. \n",
    "\n",
    "Можем сделать вывод, что уровень гос поддержки более, чем в 2 раза больше, чем сборы.\n",
    "На это же указывает и медианное значение окупаемости -  минус 0,85, что говорит о том, что бюджет фильма в несколько раз превышает выручку от фильма.\n",
    "Кроме этого, размер гос поддержки превышает уровень коммерческой (продюсерской) поддержки.\n",
    "\n",
    "Выявлены следующие взаимосвязи факторов:\n",
    "* фильмы, получившие самый высокий уровень гос поддержки, имеют рейтинги фильма, более 5.\n",
    "* с ростом суммы гос поддержки, увеличиваются сборы фильма, однако, имеется большое количество фильмов с околонулевым сбором\n",
    "* с ростом гос поддержки растет бюджет\n",
    "* фильмы, получившие самый большой сбор, имеют рейтинг, более 6\n",
    "* выручка растет в хронологическом порядке\n",
    "\n",
    "Можем сделать вывод, что фильмы, получившие гос поддержку, не очень интересны зрителю.\n",
    "\n",
    "К предоставленным данным есть ряд рекомендаций:\n",
    "\n",
    "* необходимо добавить разграничение, чем отличается один и тот же фильм с разными датами (в пределах года) и номерами прокатного удостоверения. Это необходимо для понимания, один и тот же фильм это или нет\n",
    "* обнаружены очень низкие значения сборов, нужно перепроверить, верные ли значения и почему они такие низкие.\n",
    "* исправить формат записи категориальных данных, исключив строки сос знаком тире.\n",
    "* проверить фильмы, для которых бюджет оказался меньше суммарной поддержки, так как в этом случае бюджет указан неверно.\n",
    "* проверить, что подразумевается под процентными значениями рейтинга.\n"
   ]
  }
 ],
 "metadata": {
  "ExecuteTimeLog": [
   {
    "duration": 537,
    "start_time": "2021-07-07T10:12:08.634Z"
   },
   {
    "duration": 206,
    "start_time": "2021-07-07T10:12:30.191Z"
   },
   {
    "duration": 227,
    "start_time": "2021-07-07T10:12:33.078Z"
   },
   {
    "duration": 153,
    "start_time": "2021-07-07T10:13:42.146Z"
   },
   {
    "duration": 233,
    "start_time": "2021-07-07T10:30:09.252Z"
   },
   {
    "duration": 19,
    "start_time": "2021-07-07T10:30:15.577Z"
   },
   {
    "duration": 18,
    "start_time": "2021-07-07T10:30:57.348Z"
   },
   {
    "duration": 19,
    "start_time": "2021-07-07T10:31:17.452Z"
   },
   {
    "duration": 21,
    "start_time": "2021-07-07T10:31:32.227Z"
   },
   {
    "duration": 27,
    "start_time": "2021-07-07T10:32:06.588Z"
   },
   {
    "duration": 23,
    "start_time": "2021-07-07T10:32:43.645Z"
   },
   {
    "duration": 24,
    "start_time": "2021-07-07T10:33:06.948Z"
   },
   {
    "duration": 7,
    "start_time": "2021-07-07T10:33:28.558Z"
   },
   {
    "duration": 23,
    "start_time": "2021-07-07T10:33:43.761Z"
   },
   {
    "duration": 28,
    "start_time": "2021-07-07T10:34:13.466Z"
   },
   {
    "duration": 23,
    "start_time": "2021-07-07T10:35:56.187Z"
   },
   {
    "duration": 6,
    "start_time": "2021-07-07T10:36:48.182Z"
   },
   {
    "duration": 14,
    "start_time": "2021-07-07T10:37:49.641Z"
   },
   {
    "duration": 6,
    "start_time": "2021-07-07T10:38:06.694Z"
   },
   {
    "duration": 6,
    "start_time": "2021-07-07T10:38:13.493Z"
   },
   {
    "duration": 19,
    "start_time": "2021-07-07T10:38:44.056Z"
   },
   {
    "duration": 186,
    "start_time": "2021-07-07T10:48:35.618Z"
   },
   {
    "duration": 24,
    "start_time": "2021-07-07T10:48:51.498Z"
   },
   {
    "duration": 20,
    "start_time": "2021-07-07T10:48:59.415Z"
   },
   {
    "duration": 20,
    "start_time": "2021-07-07T10:53:02.195Z"
   },
   {
    "duration": 188,
    "start_time": "2021-07-07T10:54:40.486Z"
   },
   {
    "duration": 115,
    "start_time": "2021-07-07T10:54:52.552Z"
   },
   {
    "duration": 214,
    "start_time": "2021-07-07T10:54:56.354Z"
   },
   {
    "duration": 47,
    "start_time": "2021-07-07T10:54:58.282Z"
   },
   {
    "duration": 217,
    "start_time": "2021-07-07T10:59:16.075Z"
   },
   {
    "duration": 51,
    "start_time": "2021-07-07T10:59:16.243Z"
   },
   {
    "duration": 578,
    "start_time": "2021-07-07T10:59:18.774Z"
   },
   {
    "duration": 161,
    "start_time": "2021-07-07T10:59:21.238Z"
   },
   {
    "duration": 59,
    "start_time": "2021-07-07T10:59:21.453Z"
   },
   {
    "duration": 3,
    "start_time": "2021-07-07T11:02:10.786Z"
   },
   {
    "duration": 13,
    "start_time": "2021-07-07T11:07:07.722Z"
   },
   {
    "duration": 26,
    "start_time": "2021-07-07T11:07:17.958Z"
   },
   {
    "duration": 22,
    "start_time": "2021-07-07T11:08:17.939Z"
   },
   {
    "duration": 212,
    "start_time": "2021-07-07T11:08:19.665Z"
   },
   {
    "duration": 21,
    "start_time": "2021-07-07T11:08:29.945Z"
   },
   {
    "duration": 31,
    "start_time": "2021-07-07T11:08:38.899Z"
   },
   {
    "duration": 23,
    "start_time": "2021-07-07T11:08:54.527Z"
   },
   {
    "duration": 8,
    "start_time": "2021-07-07T11:18:55.974Z"
   },
   {
    "duration": 7,
    "start_time": "2021-07-07T11:19:03.639Z"
   },
   {
    "duration": 7,
    "start_time": "2021-07-07T11:19:06.444Z"
   },
   {
    "duration": 578,
    "start_time": "2021-07-07T12:09:59.576Z"
   },
   {
    "duration": 195,
    "start_time": "2021-07-07T12:10:00.156Z"
   },
   {
    "duration": 115,
    "start_time": "2021-07-07T12:10:00.353Z"
   },
   {
    "duration": 3,
    "start_time": "2021-07-07T12:10:00.470Z"
   },
   {
    "duration": 32,
    "start_time": "2021-07-07T12:10:00.474Z"
   },
   {
    "duration": 23,
    "start_time": "2021-07-07T12:10:00.508Z"
   },
   {
    "duration": 19,
    "start_time": "2021-07-07T12:10:00.533Z"
   },
   {
    "duration": 44,
    "start_time": "2021-07-07T12:10:00.553Z"
   },
   {
    "duration": 7,
    "start_time": "2021-07-07T12:10:00.600Z"
   },
   {
    "duration": 7,
    "start_time": "2021-07-07T12:19:45.761Z"
   },
   {
    "duration": 21,
    "start_time": "2021-07-07T12:21:35.482Z"
   },
   {
    "duration": 21,
    "start_time": "2021-07-07T12:29:23.569Z"
   },
   {
    "duration": 525,
    "start_time": "2021-07-07T12:29:44.542Z"
   },
   {
    "duration": 214,
    "start_time": "2021-07-07T12:29:45.069Z"
   },
   {
    "duration": 92,
    "start_time": "2021-07-07T12:29:45.285Z"
   },
   {
    "duration": 3,
    "start_time": "2021-07-07T12:29:45.379Z"
   },
   {
    "duration": 28,
    "start_time": "2021-07-07T12:29:45.384Z"
   },
   {
    "duration": 23,
    "start_time": "2021-07-07T12:29:45.413Z"
   },
   {
    "duration": 21,
    "start_time": "2021-07-07T12:29:45.437Z"
   },
   {
    "duration": 41,
    "start_time": "2021-07-07T12:29:45.460Z"
   },
   {
    "duration": 7,
    "start_time": "2021-07-07T12:29:45.502Z"
   },
   {
    "duration": 20,
    "start_time": "2021-07-07T12:29:45.511Z"
   },
   {
    "duration": 12,
    "start_time": "2021-07-07T12:34:02.800Z"
   },
   {
    "duration": 7,
    "start_time": "2021-07-07T12:35:10.479Z"
   },
   {
    "duration": 8,
    "start_time": "2021-07-07T12:35:22.440Z"
   },
   {
    "duration": 6,
    "start_time": "2021-07-07T12:35:35.649Z"
   },
   {
    "duration": 6,
    "start_time": "2021-07-07T12:35:43.107Z"
   },
   {
    "duration": 22,
    "start_time": "2021-07-07T12:38:03.029Z"
   },
   {
    "duration": 10,
    "start_time": "2021-07-07T12:38:06.592Z"
   },
   {
    "duration": 563,
    "start_time": "2021-07-07T12:38:46.493Z"
   },
   {
    "duration": 265,
    "start_time": "2021-07-07T12:38:47.058Z"
   },
   {
    "duration": 94,
    "start_time": "2021-07-07T12:38:47.325Z"
   },
   {
    "duration": 3,
    "start_time": "2021-07-07T12:38:47.422Z"
   },
   {
    "duration": 30,
    "start_time": "2021-07-07T12:38:47.427Z"
   },
   {
    "duration": 16,
    "start_time": "2021-07-07T12:38:53.305Z"
   },
   {
    "duration": 10,
    "start_time": "2021-07-07T12:38:53.499Z"
   },
   {
    "duration": 8,
    "start_time": "2021-07-07T12:39:48.161Z"
   },
   {
    "duration": 27,
    "start_time": "2021-07-07T12:41:17.629Z"
   },
   {
    "duration": 17,
    "start_time": "2021-07-07T12:41:17.867Z"
   },
   {
    "duration": 21,
    "start_time": "2021-07-07T12:41:19.310Z"
   },
   {
    "duration": 7,
    "start_time": "2021-07-07T12:41:19.544Z"
   },
   {
    "duration": 20,
    "start_time": "2021-07-07T12:41:20.504Z"
   },
   {
    "duration": 554,
    "start_time": "2021-07-07T12:56:23.696Z"
   },
   {
    "duration": 200,
    "start_time": "2021-07-07T12:56:25.234Z"
   },
   {
    "duration": 119,
    "start_time": "2021-07-07T12:56:25.480Z"
   },
   {
    "duration": 4,
    "start_time": "2021-07-07T12:56:25.762Z"
   },
   {
    "duration": 26,
    "start_time": "2021-07-07T12:56:27.172Z"
   },
   {
    "duration": 12,
    "start_time": "2021-07-07T12:56:29.051Z"
   },
   {
    "duration": 10,
    "start_time": "2021-07-07T12:56:29.291Z"
   },
   {
    "duration": 8,
    "start_time": "2021-07-07T12:56:29.623Z"
   },
   {
    "duration": 28,
    "start_time": "2021-07-07T12:56:32.137Z"
   },
   {
    "duration": 19,
    "start_time": "2021-07-07T12:56:39.785Z"
   },
   {
    "duration": 20,
    "start_time": "2021-07-07T12:56:44.297Z"
   },
   {
    "duration": 7,
    "start_time": "2021-07-07T12:56:45.392Z"
   },
   {
    "duration": 23,
    "start_time": "2021-07-07T12:56:46.615Z"
   },
   {
    "duration": 4,
    "start_time": "2021-07-07T12:57:06.625Z"
   },
   {
    "duration": 32,
    "start_time": "2021-07-07T12:57:36.690Z"
   },
   {
    "duration": 18,
    "start_time": "2021-07-07T12:58:00.149Z"
   },
   {
    "duration": 15,
    "start_time": "2021-07-07T12:59:16.793Z"
   },
   {
    "duration": 7,
    "start_time": "2021-07-07T13:19:22.624Z"
   },
   {
    "duration": 6,
    "start_time": "2021-07-07T14:17:33.527Z"
   },
   {
    "duration": 9,
    "start_time": "2021-07-07T14:17:48.409Z"
   },
   {
    "duration": 8,
    "start_time": "2021-07-07T14:20:13.060Z"
   },
   {
    "duration": 8,
    "start_time": "2021-07-07T14:20:37.957Z"
   },
   {
    "duration": 8,
    "start_time": "2021-07-07T14:20:47.470Z"
   },
   {
    "duration": 9,
    "start_time": "2021-07-07T14:20:54.503Z"
   },
   {
    "duration": 10,
    "start_time": "2021-07-07T14:28:57.763Z"
   },
   {
    "duration": 3,
    "start_time": "2021-07-07T14:30:23.377Z"
   },
   {
    "duration": 3,
    "start_time": "2021-07-07T14:30:36.489Z"
   },
   {
    "duration": 103,
    "start_time": "2021-07-07T14:30:52.351Z"
   },
   {
    "duration": 8,
    "start_time": "2021-07-07T14:30:54.763Z"
   },
   {
    "duration": 8,
    "start_time": "2021-07-07T14:31:29.301Z"
   },
   {
    "duration": 13,
    "start_time": "2021-07-07T14:31:44.516Z"
   },
   {
    "duration": 7,
    "start_time": "2021-07-07T14:33:10.972Z"
   },
   {
    "duration": 11,
    "start_time": "2021-07-07T14:33:27.780Z"
   },
   {
    "duration": 8,
    "start_time": "2021-07-07T14:34:44.588Z"
   },
   {
    "duration": 57,
    "start_time": "2021-07-07T14:35:59.042Z"
   },
   {
    "duration": 3,
    "start_time": "2021-07-07T14:36:28.168Z"
   },
   {
    "duration": 5,
    "start_time": "2021-07-07T14:36:46.254Z"
   },
   {
    "duration": 4,
    "start_time": "2021-07-07T14:36:52.714Z"
   },
   {
    "duration": 3,
    "start_time": "2021-07-07T14:36:56.612Z"
   },
   {
    "duration": 4,
    "start_time": "2021-07-07T14:36:57.049Z"
   },
   {
    "duration": 3,
    "start_time": "2021-07-07T14:39:21.214Z"
   },
   {
    "duration": 7,
    "start_time": "2021-07-07T14:39:52.406Z"
   },
   {
    "duration": 11,
    "start_time": "2021-07-07T14:39:58.576Z"
   },
   {
    "duration": 9,
    "start_time": "2021-07-07T14:40:26.301Z"
   },
   {
    "duration": 10,
    "start_time": "2021-07-07T14:40:31.704Z"
   },
   {
    "duration": 11,
    "start_time": "2021-07-07T14:40:36.249Z"
   },
   {
    "duration": 10,
    "start_time": "2021-07-07T14:40:39.783Z"
   },
   {
    "duration": 9,
    "start_time": "2021-07-07T14:40:48.558Z"
   },
   {
    "duration": 10,
    "start_time": "2021-07-07T14:40:57.143Z"
   },
   {
    "duration": 9,
    "start_time": "2021-07-07T14:41:06.074Z"
   },
   {
    "duration": 4324,
    "start_time": "2021-07-07T14:41:22.004Z"
   },
   {
    "duration": 11,
    "start_time": "2021-07-07T14:41:33.392Z"
   },
   {
    "duration": 9,
    "start_time": "2021-07-07T14:41:39.288Z"
   },
   {
    "duration": 569,
    "start_time": "2021-07-07T14:42:14.387Z"
   },
   {
    "duration": 197,
    "start_time": "2021-07-07T14:42:14.959Z"
   },
   {
    "duration": 84,
    "start_time": "2021-07-07T14:42:16.052Z"
   },
   {
    "duration": 4,
    "start_time": "2021-07-07T14:42:16.900Z"
   },
   {
    "duration": 27,
    "start_time": "2021-07-07T14:42:19.898Z"
   },
   {
    "duration": 12,
    "start_time": "2021-07-07T14:42:21.577Z"
   },
   {
    "duration": 9,
    "start_time": "2021-07-07T14:42:21.813Z"
   },
   {
    "duration": 9,
    "start_time": "2021-07-07T14:42:22.569Z"
   },
   {
    "duration": 29,
    "start_time": "2021-07-07T14:42:25.837Z"
   },
   {
    "duration": 20,
    "start_time": "2021-07-07T14:42:27.003Z"
   },
   {
    "duration": 21,
    "start_time": "2021-07-07T14:42:28.767Z"
   },
   {
    "duration": 7,
    "start_time": "2021-07-07T14:42:29.838Z"
   },
   {
    "duration": 4,
    "start_time": "2021-07-07T14:43:25.493Z"
   },
   {
    "duration": 7,
    "start_time": "2021-07-07T14:43:26.573Z"
   },
   {
    "duration": 10,
    "start_time": "2021-07-07T14:43:31.639Z"
   },
   {
    "duration": 9,
    "start_time": "2021-07-07T14:43:32.046Z"
   },
   {
    "duration": 10,
    "start_time": "2021-07-07T14:43:33.301Z"
   },
   {
    "duration": 12,
    "start_time": "2021-07-07T14:43:33.658Z"
   },
   {
    "duration": 8,
    "start_time": "2021-07-07T14:43:34.552Z"
   },
   {
    "duration": 9,
    "start_time": "2021-07-07T14:43:35.058Z"
   },
   {
    "duration": 12,
    "start_time": "2021-07-07T14:43:35.914Z"
   },
   {
    "duration": 17,
    "start_time": "2021-07-07T14:45:34.368Z"
   },
   {
    "duration": 512,
    "start_time": "2021-07-07T14:51:58.236Z"
   },
   {
    "duration": 223,
    "start_time": "2021-07-07T14:51:58.750Z"
   },
   {
    "duration": 93,
    "start_time": "2021-07-07T14:51:58.977Z"
   },
   {
    "duration": 4,
    "start_time": "2021-07-07T14:51:59.071Z"
   },
   {
    "duration": 37,
    "start_time": "2021-07-07T14:51:59.077Z"
   },
   {
    "duration": 18,
    "start_time": "2021-07-07T14:51:59.116Z"
   },
   {
    "duration": 10,
    "start_time": "2021-07-07T14:51:59.137Z"
   },
   {
    "duration": 8,
    "start_time": "2021-07-07T14:51:59.149Z"
   },
   {
    "duration": 54,
    "start_time": "2021-07-07T14:51:59.158Z"
   },
   {
    "duration": 18,
    "start_time": "2021-07-07T14:51:59.213Z"
   },
   {
    "duration": 22,
    "start_time": "2021-07-07T14:51:59.232Z"
   },
   {
    "duration": 36,
    "start_time": "2021-07-07T14:51:59.255Z"
   },
   {
    "duration": 7,
    "start_time": "2021-07-07T14:51:59.293Z"
   },
   {
    "duration": 10,
    "start_time": "2021-07-07T14:51:59.302Z"
   },
   {
    "duration": 9,
    "start_time": "2021-07-07T14:51:59.313Z"
   },
   {
    "duration": 11,
    "start_time": "2021-07-07T14:51:59.324Z"
   },
   {
    "duration": 8,
    "start_time": "2021-07-07T14:51:59.337Z"
   },
   {
    "duration": 46,
    "start_time": "2021-07-07T14:51:59.347Z"
   },
   {
    "duration": 22,
    "start_time": "2021-07-07T14:51:59.395Z"
   },
   {
    "duration": 24,
    "start_time": "2021-07-07T14:57:32.911Z"
   },
   {
    "duration": 7,
    "start_time": "2021-07-07T14:58:22.070Z"
   },
   {
    "duration": 4,
    "start_time": "2021-07-07T14:59:11.239Z"
   },
   {
    "duration": 25,
    "start_time": "2021-07-07T15:07:22.208Z"
   },
   {
    "duration": 16,
    "start_time": "2021-07-07T15:08:25.560Z"
   },
   {
    "duration": 15,
    "start_time": "2021-07-07T15:08:40.647Z"
   },
   {
    "duration": 14,
    "start_time": "2021-07-07T15:08:46.669Z"
   },
   {
    "duration": 533,
    "start_time": "2021-07-07T15:18:07.440Z"
   },
   {
    "duration": 173,
    "start_time": "2021-07-07T15:18:07.974Z"
   },
   {
    "duration": 84,
    "start_time": "2021-07-07T15:18:08.149Z"
   },
   {
    "duration": 3,
    "start_time": "2021-07-07T15:18:08.235Z"
   },
   {
    "duration": 30,
    "start_time": "2021-07-07T15:18:08.240Z"
   },
   {
    "duration": 22,
    "start_time": "2021-07-07T15:18:08.272Z"
   },
   {
    "duration": 11,
    "start_time": "2021-07-07T15:18:08.295Z"
   },
   {
    "duration": 11,
    "start_time": "2021-07-07T15:18:08.309Z"
   },
   {
    "duration": 40,
    "start_time": "2021-07-07T15:18:08.322Z"
   },
   {
    "duration": 42,
    "start_time": "2021-07-07T15:18:08.364Z"
   },
   {
    "duration": 22,
    "start_time": "2021-07-07T15:18:08.408Z"
   },
   {
    "duration": 5,
    "start_time": "2021-07-07T15:18:08.432Z"
   },
   {
    "duration": 13,
    "start_time": "2021-07-07T15:18:08.439Z"
   },
   {
    "duration": 9,
    "start_time": "2021-07-07T15:18:08.454Z"
   },
   {
    "duration": 32,
    "start_time": "2021-07-07T15:18:08.465Z"
   },
   {
    "duration": 10,
    "start_time": "2021-07-07T15:18:08.501Z"
   },
   {
    "duration": 7,
    "start_time": "2021-07-07T15:18:08.513Z"
   },
   {
    "duration": 11,
    "start_time": "2021-07-07T15:18:08.521Z"
   },
   {
    "duration": 17,
    "start_time": "2021-07-07T15:18:08.534Z"
   },
   {
    "duration": 44,
    "start_time": "2021-07-07T15:18:08.553Z"
   },
   {
    "duration": 22,
    "start_time": "2021-07-07T15:18:08.599Z"
   },
   {
    "duration": 61,
    "start_time": "2021-07-07T15:18:08.622Z"
   },
   {
    "duration": 7,
    "start_time": "2021-07-07T15:18:39.457Z"
   },
   {
    "duration": 5,
    "start_time": "2021-07-07T16:05:17.020Z"
   },
   {
    "duration": 5,
    "start_time": "2021-07-07T16:51:28.794Z"
   },
   {
    "duration": 546,
    "start_time": "2021-07-07T16:52:26.306Z"
   },
   {
    "duration": 203,
    "start_time": "2021-07-07T16:52:27.523Z"
   },
   {
    "duration": 85,
    "start_time": "2021-07-07T16:52:27.736Z"
   },
   {
    "duration": 4,
    "start_time": "2021-07-07T16:52:27.899Z"
   },
   {
    "duration": 25,
    "start_time": "2021-07-07T16:52:28.674Z"
   },
   {
    "duration": 8,
    "start_time": "2021-07-07T16:52:32.956Z"
   },
   {
    "duration": 18,
    "start_time": "2021-07-07T16:52:35.616Z"
   },
   {
    "duration": 6,
    "start_time": "2021-07-07T16:52:36.913Z"
   },
   {
    "duration": 11,
    "start_time": "2021-07-07T16:52:40.258Z"
   },
   {
    "duration": 10,
    "start_time": "2021-07-07T16:52:46.251Z"
   },
   {
    "duration": 8,
    "start_time": "2021-07-07T16:52:47.182Z"
   },
   {
    "duration": 27,
    "start_time": "2021-07-07T16:53:20.391Z"
   },
   {
    "duration": 20,
    "start_time": "2021-07-07T16:53:22.022Z"
   },
   {
    "duration": 23,
    "start_time": "2021-07-07T16:53:23.690Z"
   },
   {
    "duration": 8,
    "start_time": "2021-07-07T16:53:24.261Z"
   },
   {
    "duration": 4,
    "start_time": "2021-07-07T16:53:38.733Z"
   },
   {
    "duration": 7,
    "start_time": "2021-07-07T16:53:40.445Z"
   },
   {
    "duration": 11,
    "start_time": "2021-07-07T16:53:41.348Z"
   },
   {
    "duration": 13,
    "start_time": "2021-07-07T16:53:45.250Z"
   },
   {
    "duration": 12,
    "start_time": "2021-07-07T16:53:45.467Z"
   },
   {
    "duration": 4,
    "start_time": "2021-07-07T16:55:32.704Z"
   },
   {
    "duration": 12,
    "start_time": "2021-07-07T16:55:49.012Z"
   },
   {
    "duration": 18,
    "start_time": "2021-07-07T16:55:49.547Z"
   },
   {
    "duration": 611,
    "start_time": "2021-07-07T16:58:35.156Z"
   },
   {
    "duration": 200,
    "start_time": "2021-07-07T16:58:35.770Z"
   },
   {
    "duration": 86,
    "start_time": "2021-07-07T16:58:35.972Z"
   },
   {
    "duration": 3,
    "start_time": "2021-07-07T16:58:36.060Z"
   },
   {
    "duration": 27,
    "start_time": "2021-07-07T16:58:36.065Z"
   },
   {
    "duration": 8,
    "start_time": "2021-07-07T16:58:36.094Z"
   },
   {
    "duration": 17,
    "start_time": "2021-07-07T16:58:36.103Z"
   },
   {
    "duration": 5,
    "start_time": "2021-07-07T16:58:36.123Z"
   },
   {
    "duration": 11,
    "start_time": "2021-07-07T16:58:36.130Z"
   },
   {
    "duration": 7,
    "start_time": "2021-07-07T16:58:36.143Z"
   },
   {
    "duration": 37,
    "start_time": "2021-07-07T16:58:36.152Z"
   },
   {
    "duration": 27,
    "start_time": "2021-07-07T16:58:36.191Z"
   },
   {
    "duration": 19,
    "start_time": "2021-07-07T16:58:36.219Z"
   },
   {
    "duration": 49,
    "start_time": "2021-07-07T16:58:36.240Z"
   },
   {
    "duration": 6,
    "start_time": "2021-07-07T16:58:36.291Z"
   },
   {
    "duration": 3,
    "start_time": "2021-07-07T16:58:36.299Z"
   },
   {
    "duration": 13,
    "start_time": "2021-07-07T16:58:36.304Z"
   },
   {
    "duration": 10,
    "start_time": "2021-07-07T16:58:36.319Z"
   },
   {
    "duration": 10,
    "start_time": "2021-07-07T16:58:36.331Z"
   },
   {
    "duration": 44,
    "start_time": "2021-07-07T16:58:36.343Z"
   },
   {
    "duration": 4,
    "start_time": "2021-07-07T16:58:36.388Z"
   },
   {
    "duration": 13,
    "start_time": "2021-07-07T16:58:36.394Z"
   },
   {
    "duration": 16,
    "start_time": "2021-07-07T16:58:36.410Z"
   },
   {
    "duration": 8,
    "start_time": "2021-07-07T17:02:31.629Z"
   },
   {
    "duration": 8,
    "start_time": "2021-07-07T17:02:34.308Z"
   },
   {
    "duration": 6,
    "start_time": "2021-07-07T17:05:13.483Z"
   },
   {
    "duration": 17,
    "start_time": "2021-07-07T17:05:20.606Z"
   },
   {
    "duration": 7,
    "start_time": "2021-07-07T17:05:34.638Z"
   },
   {
    "duration": 3,
    "start_time": "2021-07-07T17:06:31.883Z"
   },
   {
    "duration": 570,
    "start_time": "2021-07-07T17:06:37.165Z"
   },
   {
    "duration": 174,
    "start_time": "2021-07-07T17:06:37.737Z"
   },
   {
    "duration": 47,
    "start_time": "2021-07-07T17:06:37.913Z"
   },
   {
    "duration": 3,
    "start_time": "2021-07-07T17:06:37.962Z"
   },
   {
    "duration": 27,
    "start_time": "2021-07-07T17:06:37.967Z"
   },
   {
    "duration": 7,
    "start_time": "2021-07-07T17:06:37.996Z"
   },
   {
    "duration": 16,
    "start_time": "2021-07-07T17:06:38.005Z"
   },
   {
    "duration": 6,
    "start_time": "2021-07-07T17:06:38.024Z"
   },
   {
    "duration": 12,
    "start_time": "2021-07-07T17:06:38.031Z"
   },
   {
    "duration": 41,
    "start_time": "2021-07-07T17:06:38.045Z"
   },
   {
    "duration": 8,
    "start_time": "2021-07-07T17:06:38.088Z"
   },
   {
    "duration": 26,
    "start_time": "2021-07-07T17:06:38.098Z"
   },
   {
    "duration": 17,
    "start_time": "2021-07-07T17:06:38.126Z"
   },
   {
    "duration": 43,
    "start_time": "2021-07-07T17:06:38.144Z"
   },
   {
    "duration": 6,
    "start_time": "2021-07-07T17:06:38.188Z"
   },
   {
    "duration": 5,
    "start_time": "2021-07-07T17:06:38.195Z"
   },
   {
    "duration": 9,
    "start_time": "2021-07-07T17:06:38.201Z"
   },
   {
    "duration": 12,
    "start_time": "2021-07-07T17:06:38.212Z"
   },
   {
    "duration": 11,
    "start_time": "2021-07-07T17:06:38.226Z"
   },
   {
    "duration": 47,
    "start_time": "2021-07-07T17:06:38.239Z"
   },
   {
    "duration": 4,
    "start_time": "2021-07-07T17:06:38.288Z"
   },
   {
    "duration": 13,
    "start_time": "2021-07-07T17:06:38.293Z"
   },
   {
    "duration": 5,
    "start_time": "2021-07-07T17:06:38.309Z"
   },
   {
    "duration": 18,
    "start_time": "2021-07-07T17:06:38.325Z"
   },
   {
    "duration": 20,
    "start_time": "2021-07-07T17:07:02.805Z"
   },
   {
    "duration": 19,
    "start_time": "2021-07-07T17:07:08.527Z"
   },
   {
    "duration": 19,
    "start_time": "2021-07-07T17:07:12.758Z"
   },
   {
    "duration": 22,
    "start_time": "2021-07-07T17:07:17.497Z"
   },
   {
    "duration": 19,
    "start_time": "2021-07-07T17:07:19.645Z"
   },
   {
    "duration": 10,
    "start_time": "2021-07-07T17:07:34.239Z"
   },
   {
    "duration": 17,
    "start_time": "2021-07-07T17:07:54.144Z"
   },
   {
    "duration": 14,
    "start_time": "2021-07-07T17:08:14.357Z"
   },
   {
    "duration": 616,
    "start_time": "2021-07-07T17:08:45.254Z"
   },
   {
    "duration": 178,
    "start_time": "2021-07-07T17:08:45.872Z"
   },
   {
    "duration": 60,
    "start_time": "2021-07-07T17:08:46.054Z"
   },
   {
    "duration": 3,
    "start_time": "2021-07-07T17:08:46.116Z"
   },
   {
    "duration": 26,
    "start_time": "2021-07-07T17:08:46.121Z"
   },
   {
    "duration": 7,
    "start_time": "2021-07-07T17:08:46.149Z"
   },
   {
    "duration": 17,
    "start_time": "2021-07-07T17:08:46.158Z"
   },
   {
    "duration": 14,
    "start_time": "2021-07-07T17:08:46.176Z"
   },
   {
    "duration": 17,
    "start_time": "2021-07-07T17:08:46.193Z"
   },
   {
    "duration": 9,
    "start_time": "2021-07-07T17:08:46.211Z"
   },
   {
    "duration": 21,
    "start_time": "2021-07-07T17:08:46.221Z"
   },
   {
    "duration": 49,
    "start_time": "2021-07-07T17:08:46.244Z"
   },
   {
    "duration": 24,
    "start_time": "2021-07-07T17:08:46.295Z"
   },
   {
    "duration": 22,
    "start_time": "2021-07-07T17:08:46.321Z"
   },
   {
    "duration": 6,
    "start_time": "2021-07-07T17:08:46.345Z"
   },
   {
    "duration": 5,
    "start_time": "2021-07-07T17:08:46.353Z"
   },
   {
    "duration": 13,
    "start_time": "2021-07-07T17:08:46.386Z"
   },
   {
    "duration": 12,
    "start_time": "2021-07-07T17:08:46.402Z"
   },
   {
    "duration": 10,
    "start_time": "2021-07-07T17:08:46.415Z"
   },
   {
    "duration": 7,
    "start_time": "2021-07-07T17:08:46.427Z"
   },
   {
    "duration": 8,
    "start_time": "2021-07-07T17:08:46.435Z"
   },
   {
    "duration": 68,
    "start_time": "2021-07-07T17:08:46.446Z"
   },
   {
    "duration": 13,
    "start_time": "2021-07-07T17:08:46.516Z"
   },
   {
    "duration": 78,
    "start_time": "2021-07-07T17:08:46.530Z"
   },
   {
    "duration": 40,
    "start_time": "2021-07-07T17:09:08.185Z"
   },
   {
    "duration": 16,
    "start_time": "2021-07-07T17:09:19.324Z"
   },
   {
    "duration": 21,
    "start_time": "2021-07-07T17:09:23.290Z"
   },
   {
    "duration": 13,
    "start_time": "2021-07-07T17:09:54.812Z"
   },
   {
    "duration": 13,
    "start_time": "2021-07-07T17:10:02.039Z"
   },
   {
    "duration": 10,
    "start_time": "2021-07-07T17:10:29.632Z"
   },
   {
    "duration": 13,
    "start_time": "2021-07-07T17:10:52.372Z"
   },
   {
    "duration": 13,
    "start_time": "2021-07-07T17:11:17.270Z"
   },
   {
    "duration": 13,
    "start_time": "2021-07-07T17:14:59.284Z"
   },
   {
    "duration": 547,
    "start_time": "2021-07-07T17:18:52.403Z"
   },
   {
    "duration": 163,
    "start_time": "2021-07-07T17:18:52.952Z"
   },
   {
    "duration": 44,
    "start_time": "2021-07-07T17:18:53.117Z"
   },
   {
    "duration": 3,
    "start_time": "2021-07-07T17:18:53.162Z"
   },
   {
    "duration": 26,
    "start_time": "2021-07-07T17:18:53.167Z"
   },
   {
    "duration": 6,
    "start_time": "2021-07-07T17:18:53.195Z"
   },
   {
    "duration": 15,
    "start_time": "2021-07-07T17:18:53.203Z"
   },
   {
    "duration": 5,
    "start_time": "2021-07-07T17:18:53.220Z"
   },
   {
    "duration": 11,
    "start_time": "2021-07-07T17:18:53.228Z"
   },
   {
    "duration": 9,
    "start_time": "2021-07-07T17:18:53.241Z"
   },
   {
    "duration": 41,
    "start_time": "2021-07-07T17:18:53.252Z"
   },
   {
    "duration": 33,
    "start_time": "2021-07-07T17:18:53.295Z"
   },
   {
    "duration": 19,
    "start_time": "2021-07-07T17:18:53.330Z"
   },
   {
    "duration": 49,
    "start_time": "2021-07-07T17:18:53.350Z"
   },
   {
    "duration": 5,
    "start_time": "2021-07-07T17:18:53.401Z"
   },
   {
    "duration": 5,
    "start_time": "2021-07-07T17:18:53.408Z"
   },
   {
    "duration": 11,
    "start_time": "2021-07-07T17:18:53.414Z"
   },
   {
    "duration": 9,
    "start_time": "2021-07-07T17:18:53.427Z"
   },
   {
    "duration": 10,
    "start_time": "2021-07-07T17:18:53.437Z"
   },
   {
    "duration": 39,
    "start_time": "2021-07-07T17:18:53.448Z"
   },
   {
    "duration": 26,
    "start_time": "2021-07-07T17:18:55.799Z"
   },
   {
    "duration": 598,
    "start_time": "2021-07-07T17:20:17.862Z"
   },
   {
    "duration": 161,
    "start_time": "2021-07-07T17:20:18.462Z"
   },
   {
    "duration": 45,
    "start_time": "2021-07-07T17:20:18.626Z"
   },
   {
    "duration": 4,
    "start_time": "2021-07-07T17:20:18.673Z"
   },
   {
    "duration": 38,
    "start_time": "2021-07-07T17:20:26.877Z"
   },
   {
    "duration": 7,
    "start_time": "2021-07-07T17:20:37.405Z"
   },
   {
    "duration": 19,
    "start_time": "2021-07-07T17:20:51.534Z"
   },
   {
    "duration": 5,
    "start_time": "2021-07-07T17:20:57.228Z"
   },
   {
    "duration": 7,
    "start_time": "2021-07-07T17:21:08.235Z"
   },
   {
    "duration": 19,
    "start_time": "2021-07-07T17:21:42.158Z"
   },
   {
    "duration": 14,
    "start_time": "2021-07-07T17:21:50.225Z"
   },
   {
    "duration": 22,
    "start_time": "2021-07-07T17:22:54.104Z"
   },
   {
    "duration": 5,
    "start_time": "2021-07-07T17:22:56.371Z"
   },
   {
    "duration": 14,
    "start_time": "2021-07-07T17:22:58.316Z"
   },
   {
    "duration": 5,
    "start_time": "2021-07-07T17:22:58.493Z"
   },
   {
    "duration": 35,
    "start_time": "2021-07-07T17:22:59.666Z"
   },
   {
    "duration": 6,
    "start_time": "2021-07-07T17:23:02.410Z"
   },
   {
    "duration": 611,
    "start_time": "2021-07-07T17:24:59.664Z"
   },
   {
    "duration": 178,
    "start_time": "2021-07-07T17:25:01.945Z"
   },
   {
    "duration": 47,
    "start_time": "2021-07-07T17:25:02.125Z"
   },
   {
    "duration": 2,
    "start_time": "2021-07-07T17:25:07.903Z"
   },
   {
    "duration": 254,
    "start_time": "2021-07-07T17:25:08.232Z"
   },
   {
    "duration": 182,
    "start_time": "2021-07-07T17:25:08.671Z"
   },
   {
    "duration": 6,
    "start_time": "2021-07-07T17:25:13.104Z"
   },
   {
    "duration": 36,
    "start_time": "2021-07-07T17:25:13.662Z"
   },
   {
    "duration": 7,
    "start_time": "2021-07-07T17:25:14.528Z"
   },
   {
    "duration": 24,
    "start_time": "2021-07-07T17:25:27.982Z"
   },
   {
    "duration": 3,
    "start_time": "2021-07-07T17:25:48.982Z"
   },
   {
    "duration": 165,
    "start_time": "2021-07-07T17:25:48.987Z"
   },
   {
    "duration": 50,
    "start_time": "2021-07-07T17:25:49.154Z"
   },
   {
    "duration": 4,
    "start_time": "2021-07-07T17:25:49.206Z"
   },
   {
    "duration": 26,
    "start_time": "2021-07-07T17:25:49.212Z"
   },
   {
    "duration": 7,
    "start_time": "2021-07-07T17:25:49.240Z"
   },
   {
    "duration": 16,
    "start_time": "2021-07-07T17:25:49.249Z"
   },
   {
    "duration": 22,
    "start_time": "2021-07-07T17:25:49.266Z"
   },
   {
    "duration": 16,
    "start_time": "2021-07-07T17:25:49.291Z"
   },
   {
    "duration": 9,
    "start_time": "2021-07-07T17:25:49.309Z"
   },
   {
    "duration": 7,
    "start_time": "2021-07-07T17:25:49.319Z"
   },
   {
    "duration": 28,
    "start_time": "2021-07-07T17:25:49.328Z"
   },
   {
    "duration": 44,
    "start_time": "2021-07-07T17:25:49.357Z"
   },
   {
    "duration": 22,
    "start_time": "2021-07-07T17:25:49.403Z"
   },
   {
    "duration": 7,
    "start_time": "2021-07-07T17:25:49.427Z"
   },
   {
    "duration": 3,
    "start_time": "2021-07-07T17:25:49.436Z"
   },
   {
    "duration": 44,
    "start_time": "2021-07-07T17:25:49.441Z"
   },
   {
    "duration": 12,
    "start_time": "2021-07-07T17:25:49.488Z"
   },
   {
    "duration": 13,
    "start_time": "2021-07-07T17:25:49.502Z"
   },
   {
    "duration": 10,
    "start_time": "2021-07-07T17:25:49.516Z"
   },
   {
    "duration": 62,
    "start_time": "2021-07-07T17:25:49.527Z"
   },
   {
    "duration": 26,
    "start_time": "2021-07-07T17:26:51.809Z"
   },
   {
    "duration": 26,
    "start_time": "2021-07-07T17:26:55.759Z"
   },
   {
    "duration": 26,
    "start_time": "2021-07-07T17:27:04.501Z"
   },
   {
    "duration": 25,
    "start_time": "2021-07-07T17:28:24.859Z"
   },
   {
    "duration": 21,
    "start_time": "2021-07-07T17:28:55.250Z"
   },
   {
    "duration": 21,
    "start_time": "2021-07-07T17:28:58.885Z"
   },
   {
    "duration": 7,
    "start_time": "2021-07-07T17:45:40.972Z"
   },
   {
    "duration": 13,
    "start_time": "2021-07-07T17:45:42.529Z"
   },
   {
    "duration": 27,
    "start_time": "2021-07-07T17:45:51.026Z"
   },
   {
    "duration": 518,
    "start_time": "2021-07-07T17:46:15.532Z"
   },
   {
    "duration": 235,
    "start_time": "2021-07-07T17:46:16.053Z"
   },
   {
    "duration": 80,
    "start_time": "2021-07-07T17:46:16.292Z"
   },
   {
    "duration": 5,
    "start_time": "2021-07-07T17:46:16.373Z"
   },
   {
    "duration": 26,
    "start_time": "2021-07-07T17:46:16.380Z"
   },
   {
    "duration": 7,
    "start_time": "2021-07-07T17:46:16.408Z"
   },
   {
    "duration": 16,
    "start_time": "2021-07-07T17:46:16.418Z"
   },
   {
    "duration": 5,
    "start_time": "2021-07-07T17:46:16.436Z"
   },
   {
    "duration": 13,
    "start_time": "2021-07-07T17:46:16.442Z"
   },
   {
    "duration": 35,
    "start_time": "2021-07-07T17:46:16.456Z"
   },
   {
    "duration": 8,
    "start_time": "2021-07-07T17:46:16.493Z"
   },
   {
    "duration": 28,
    "start_time": "2021-07-07T17:46:16.502Z"
   },
   {
    "duration": 17,
    "start_time": "2021-07-07T17:46:16.532Z"
   },
   {
    "duration": 44,
    "start_time": "2021-07-07T17:46:16.551Z"
   },
   {
    "duration": 6,
    "start_time": "2021-07-07T17:46:16.597Z"
   },
   {
    "duration": 4,
    "start_time": "2021-07-07T17:46:16.605Z"
   },
   {
    "duration": 9,
    "start_time": "2021-07-07T17:46:16.610Z"
   },
   {
    "duration": 9,
    "start_time": "2021-07-07T17:46:16.621Z"
   },
   {
    "duration": 10,
    "start_time": "2021-07-07T17:46:16.632Z"
   },
   {
    "duration": 43,
    "start_time": "2021-07-07T17:46:16.644Z"
   },
   {
    "duration": 26,
    "start_time": "2021-07-07T17:46:16.689Z"
   },
   {
    "duration": 19,
    "start_time": "2021-07-07T17:46:16.718Z"
   },
   {
    "duration": 8,
    "start_time": "2021-07-07T17:46:16.738Z"
   },
   {
    "duration": 43,
    "start_time": "2021-07-07T17:46:16.747Z"
   },
   {
    "duration": 19,
    "start_time": "2021-07-07T17:46:16.791Z"
   },
   {
    "duration": 9,
    "start_time": "2021-07-07T17:46:16.812Z"
   },
   {
    "duration": 60,
    "start_time": "2021-07-07T17:46:16.822Z"
   },
   {
    "duration": -8,
    "start_time": "2021-07-07T17:46:16.892Z"
   },
   {
    "duration": 12,
    "start_time": "2021-07-07T17:48:47.707Z"
   },
   {
    "duration": 553,
    "start_time": "2021-07-07T18:10:09.350Z"
   },
   {
    "duration": 230,
    "start_time": "2021-07-07T18:10:09.905Z"
   },
   {
    "duration": 97,
    "start_time": "2021-07-07T18:10:10.137Z"
   },
   {
    "duration": 5,
    "start_time": "2021-07-07T18:10:10.236Z"
   },
   {
    "duration": 29,
    "start_time": "2021-07-07T18:10:10.242Z"
   },
   {
    "duration": 7,
    "start_time": "2021-07-07T18:10:10.272Z"
   },
   {
    "duration": 15,
    "start_time": "2021-07-07T18:10:10.281Z"
   },
   {
    "duration": 4,
    "start_time": "2021-07-07T18:10:10.299Z"
   },
   {
    "duration": 14,
    "start_time": "2021-07-07T18:10:10.305Z"
   },
   {
    "duration": 8,
    "start_time": "2021-07-07T18:10:10.321Z"
   },
   {
    "duration": 8,
    "start_time": "2021-07-07T18:10:10.331Z"
   },
   {
    "duration": 56,
    "start_time": "2021-07-07T18:10:10.341Z"
   },
   {
    "duration": 19,
    "start_time": "2021-07-07T18:10:10.399Z"
   },
   {
    "duration": 23,
    "start_time": "2021-07-07T18:10:10.419Z"
   },
   {
    "duration": 6,
    "start_time": "2021-07-07T18:10:10.444Z"
   },
   {
    "duration": 9,
    "start_time": "2021-07-07T18:10:10.451Z"
   },
   {
    "duration": 30,
    "start_time": "2021-07-07T18:10:10.462Z"
   },
   {
    "duration": 9,
    "start_time": "2021-07-07T18:10:10.494Z"
   },
   {
    "duration": 14,
    "start_time": "2021-07-07T18:10:10.505Z"
   },
   {
    "duration": 7,
    "start_time": "2021-07-07T18:10:10.521Z"
   },
   {
    "duration": 26,
    "start_time": "2021-07-07T18:10:10.530Z"
   },
   {
    "duration": 44,
    "start_time": "2021-07-07T18:10:10.558Z"
   },
   {
    "duration": 7,
    "start_time": "2021-07-07T18:10:10.605Z"
   },
   {
    "duration": 11,
    "start_time": "2021-07-07T18:10:10.614Z"
   },
   {
    "duration": 19,
    "start_time": "2021-07-07T18:10:10.626Z"
   },
   {
    "duration": 44,
    "start_time": "2021-07-07T18:10:10.646Z"
   },
   {
    "duration": 516,
    "start_time": "2021-07-07T18:14:00.826Z"
   },
   {
    "duration": 230,
    "start_time": "2021-07-07T18:14:01.344Z"
   },
   {
    "duration": 105,
    "start_time": "2021-07-07T18:14:01.576Z"
   },
   {
    "duration": 5,
    "start_time": "2021-07-07T18:14:01.683Z"
   },
   {
    "duration": 46,
    "start_time": "2021-07-07T18:14:01.690Z"
   },
   {
    "duration": 7,
    "start_time": "2021-07-07T18:14:01.738Z"
   },
   {
    "duration": 20,
    "start_time": "2021-07-07T18:14:01.747Z"
   },
   {
    "duration": 16,
    "start_time": "2021-07-07T18:14:01.769Z"
   },
   {
    "duration": 14,
    "start_time": "2021-07-07T18:14:01.787Z"
   },
   {
    "duration": 15,
    "start_time": "2021-07-07T18:14:01.803Z"
   },
   {
    "duration": 12,
    "start_time": "2021-07-07T18:14:01.820Z"
   },
   {
    "duration": 35,
    "start_time": "2021-07-07T18:14:01.833Z"
   },
   {
    "duration": 31,
    "start_time": "2021-07-07T18:14:01.869Z"
   },
   {
    "duration": 37,
    "start_time": "2021-07-07T18:14:01.902Z"
   },
   {
    "duration": 8,
    "start_time": "2021-07-07T18:14:01.942Z"
   },
   {
    "duration": 16,
    "start_time": "2021-07-07T18:14:01.952Z"
   },
   {
    "duration": 13,
    "start_time": "2021-07-07T18:14:01.970Z"
   },
   {
    "duration": 32,
    "start_time": "2021-07-07T18:14:01.985Z"
   },
   {
    "duration": 11,
    "start_time": "2021-07-07T18:14:02.019Z"
   },
   {
    "duration": 22,
    "start_time": "2021-07-07T18:14:02.031Z"
   },
   {
    "duration": 27,
    "start_time": "2021-07-07T18:14:02.055Z"
   },
   {
    "duration": 18,
    "start_time": "2021-07-07T18:14:02.084Z"
   },
   {
    "duration": 18,
    "start_time": "2021-07-07T18:14:02.106Z"
   },
   {
    "duration": 11,
    "start_time": "2021-07-07T18:14:02.126Z"
   },
   {
    "duration": 21,
    "start_time": "2021-07-07T18:14:02.138Z"
   },
   {
    "duration": 32,
    "start_time": "2021-07-07T18:14:02.161Z"
   },
   {
    "duration": 28,
    "start_time": "2021-07-07T18:14:44.295Z"
   },
   {
    "duration": 6,
    "start_time": "2021-07-07T18:15:05.834Z"
   },
   {
    "duration": 511,
    "start_time": "2021-07-07T18:15:41.541Z"
   },
   {
    "duration": 183,
    "start_time": "2021-07-07T18:15:42.054Z"
   },
   {
    "duration": 50,
    "start_time": "2021-07-07T18:15:42.239Z"
   },
   {
    "duration": 5,
    "start_time": "2021-07-07T18:15:42.291Z"
   },
   {
    "duration": 48,
    "start_time": "2021-07-07T18:15:42.297Z"
   },
   {
    "duration": 8,
    "start_time": "2021-07-07T18:15:42.346Z"
   },
   {
    "duration": 17,
    "start_time": "2021-07-07T18:15:42.356Z"
   },
   {
    "duration": 15,
    "start_time": "2021-07-07T18:15:42.375Z"
   },
   {
    "duration": 12,
    "start_time": "2021-07-07T18:15:42.392Z"
   },
   {
    "duration": 7,
    "start_time": "2021-07-07T18:15:42.406Z"
   },
   {
    "duration": 7,
    "start_time": "2021-07-07T18:15:42.415Z"
   },
   {
    "duration": 29,
    "start_time": "2021-07-07T18:15:42.423Z"
   },
   {
    "duration": 43,
    "start_time": "2021-07-07T18:15:42.453Z"
   },
   {
    "duration": 18,
    "start_time": "2021-07-07T18:15:42.497Z"
   },
   {
    "duration": 6,
    "start_time": "2021-07-07T18:15:42.516Z"
   },
   {
    "duration": 3,
    "start_time": "2021-07-07T18:15:42.523Z"
   },
   {
    "duration": 18,
    "start_time": "2021-07-07T18:15:42.528Z"
   },
   {
    "duration": 10,
    "start_time": "2021-07-07T18:15:42.547Z"
   },
   {
    "duration": 36,
    "start_time": "2021-07-07T18:15:42.559Z"
   },
   {
    "duration": 8,
    "start_time": "2021-07-07T18:15:42.597Z"
   },
   {
    "duration": 28,
    "start_time": "2021-07-07T18:15:42.606Z"
   },
   {
    "duration": 52,
    "start_time": "2021-07-07T18:15:42.635Z"
   },
   {
    "duration": 7,
    "start_time": "2021-07-07T18:15:42.690Z"
   },
   {
    "duration": 10,
    "start_time": "2021-07-07T18:15:42.699Z"
   },
   {
    "duration": 19,
    "start_time": "2021-07-07T18:15:42.711Z"
   },
   {
    "duration": 9,
    "start_time": "2021-07-07T18:15:42.732Z"
   },
   {
    "duration": 5,
    "start_time": "2021-07-07T18:15:42.743Z"
   },
   {
    "duration": 1450,
    "start_time": "2021-07-07T18:15:51.984Z"
   },
   {
    "duration": 161,
    "start_time": "2021-07-07T18:15:53.435Z"
   },
   {
    "duration": 124,
    "start_time": "2021-07-07T18:15:53.598Z"
   },
   {
    "duration": 5,
    "start_time": "2021-07-07T18:15:53.724Z"
   },
   {
    "duration": 34,
    "start_time": "2021-07-07T18:15:53.730Z"
   },
   {
    "duration": 7,
    "start_time": "2021-07-07T18:15:53.765Z"
   },
   {
    "duration": 15,
    "start_time": "2021-07-07T18:15:53.773Z"
   },
   {
    "duration": 5,
    "start_time": "2021-07-07T18:15:53.791Z"
   },
   {
    "duration": 19,
    "start_time": "2021-07-07T18:15:53.798Z"
   },
   {
    "duration": 9,
    "start_time": "2021-07-07T18:15:53.818Z"
   },
   {
    "duration": 19,
    "start_time": "2021-07-07T18:15:53.828Z"
   },
   {
    "duration": 27,
    "start_time": "2021-07-07T18:15:53.848Z"
   },
   {
    "duration": 16,
    "start_time": "2021-07-07T18:15:53.884Z"
   },
   {
    "duration": 29,
    "start_time": "2021-07-07T18:15:53.901Z"
   },
   {
    "duration": 5,
    "start_time": "2021-07-07T18:15:53.932Z"
   },
   {
    "duration": 15,
    "start_time": "2021-07-07T18:15:53.939Z"
   },
   {
    "duration": 13,
    "start_time": "2021-07-07T18:15:53.956Z"
   },
   {
    "duration": 20,
    "start_time": "2021-07-07T18:15:53.971Z"
   },
   {
    "duration": 14,
    "start_time": "2021-07-07T18:15:53.992Z"
   },
   {
    "duration": 9,
    "start_time": "2021-07-07T18:15:54.009Z"
   },
   {
    "duration": 28,
    "start_time": "2021-07-07T18:15:54.020Z"
   },
   {
    "duration": 50,
    "start_time": "2021-07-07T18:15:54.051Z"
   },
   {
    "duration": 8,
    "start_time": "2021-07-07T18:15:54.105Z"
   },
   {
    "duration": 11,
    "start_time": "2021-07-07T18:15:54.115Z"
   },
   {
    "duration": 20,
    "start_time": "2021-07-07T18:15:54.128Z"
   },
   {
    "duration": 13,
    "start_time": "2021-07-07T18:15:54.184Z"
   },
   {
    "duration": 7,
    "start_time": "2021-07-07T18:15:54.199Z"
   },
   {
    "duration": 7,
    "start_time": "2021-07-07T18:17:08.042Z"
   },
   {
    "duration": 8,
    "start_time": "2021-07-07T18:17:21.008Z"
   },
   {
    "duration": 7,
    "start_time": "2021-07-07T18:17:29.003Z"
   },
   {
    "duration": 8,
    "start_time": "2021-07-07T18:17:32.492Z"
   },
   {
    "duration": 9,
    "start_time": "2021-07-07T18:17:41.758Z"
   },
   {
    "duration": 255,
    "start_time": "2021-07-07T18:20:20.897Z"
   },
   {
    "duration": 173,
    "start_time": "2021-07-07T18:20:26.636Z"
   },
   {
    "duration": 7,
    "start_time": "2021-07-07T18:21:47.164Z"
   },
   {
    "duration": 254,
    "start_time": "2021-07-07T18:23:08.703Z"
   },
   {
    "duration": 21,
    "start_time": "2021-07-07T18:23:22.506Z"
   },
   {
    "duration": 315,
    "start_time": "2021-07-07T18:25:54.801Z"
   },
   {
    "duration": 34,
    "start_time": "2021-07-07T18:26:51.817Z"
   },
   {
    "duration": 327,
    "start_time": "2021-07-07T18:26:56.147Z"
   },
   {
    "duration": 342,
    "start_time": "2021-07-07T18:27:15.887Z"
   },
   {
    "duration": 302,
    "start_time": "2021-07-07T18:28:18.569Z"
   },
   {
    "duration": 226,
    "start_time": "2021-07-07T18:29:20.879Z"
   },
   {
    "duration": 207,
    "start_time": "2021-07-07T18:29:58.114Z"
   },
   {
    "duration": 140,
    "start_time": "2021-07-07T18:32:04.372Z"
   },
   {
    "duration": 158,
    "start_time": "2021-07-07T18:32:32.508Z"
   },
   {
    "duration": 145,
    "start_time": "2021-07-07T18:32:41.365Z"
   },
   {
    "duration": 132,
    "start_time": "2021-07-07T18:32:45.199Z"
   },
   {
    "duration": 11,
    "start_time": "2021-07-07T18:35:24.679Z"
   },
   {
    "duration": 268,
    "start_time": "2021-07-07T18:36:16.145Z"
   },
   {
    "duration": 227,
    "start_time": "2021-07-07T18:37:04.918Z"
   },
   {
    "duration": 3,
    "start_time": "2021-07-07T18:37:33.012Z"
   },
   {
    "duration": 671,
    "start_time": "2021-07-07T18:37:38.295Z"
   },
   {
    "duration": 54,
    "start_time": "2021-07-07T18:37:53.406Z"
   },
   {
    "duration": 631,
    "start_time": "2021-07-07T18:37:56.463Z"
   },
   {
    "duration": 19,
    "start_time": "2021-07-07T18:39:40.535Z"
   },
   {
    "duration": 20,
    "start_time": "2021-07-07T18:40:12.236Z"
   },
   {
    "duration": 633,
    "start_time": "2021-07-07T18:42:00.398Z"
   },
   {
    "duration": 218,
    "start_time": "2021-07-07T18:42:01.033Z"
   },
   {
    "duration": 49,
    "start_time": "2021-07-07T18:42:01.253Z"
   },
   {
    "duration": 5,
    "start_time": "2021-07-07T18:42:01.303Z"
   },
   {
    "duration": 27,
    "start_time": "2021-07-07T18:42:01.310Z"
   },
   {
    "duration": 8,
    "start_time": "2021-07-07T18:42:01.339Z"
   },
   {
    "duration": 20,
    "start_time": "2021-07-07T18:42:01.348Z"
   },
   {
    "duration": 6,
    "start_time": "2021-07-07T18:42:01.386Z"
   },
   {
    "duration": 16,
    "start_time": "2021-07-07T18:42:01.394Z"
   },
   {
    "duration": 9,
    "start_time": "2021-07-07T18:42:01.411Z"
   },
   {
    "duration": 11,
    "start_time": "2021-07-07T18:42:01.421Z"
   },
   {
    "duration": 31,
    "start_time": "2021-07-07T18:42:01.434Z"
   },
   {
    "duration": 18,
    "start_time": "2021-07-07T18:42:01.485Z"
   },
   {
    "duration": 23,
    "start_time": "2021-07-07T18:42:01.505Z"
   },
   {
    "duration": 6,
    "start_time": "2021-07-07T18:42:01.530Z"
   },
   {
    "duration": 10,
    "start_time": "2021-07-07T18:42:01.538Z"
   },
   {
    "duration": 13,
    "start_time": "2021-07-07T18:42:01.550Z"
   },
   {
    "duration": 24,
    "start_time": "2021-07-07T18:42:01.564Z"
   },
   {
    "duration": 20,
    "start_time": "2021-07-07T18:42:01.590Z"
   },
   {
    "duration": 8,
    "start_time": "2021-07-07T18:42:01.611Z"
   },
   {
    "duration": 31,
    "start_time": "2021-07-07T18:42:01.620Z"
   },
   {
    "duration": 39,
    "start_time": "2021-07-07T18:42:01.653Z"
   },
   {
    "duration": 8,
    "start_time": "2021-07-07T18:42:01.696Z"
   },
   {
    "duration": 13,
    "start_time": "2021-07-07T18:42:01.705Z"
   },
   {
    "duration": 20,
    "start_time": "2021-07-07T18:42:01.720Z"
   },
   {
    "duration": 12,
    "start_time": "2021-07-07T18:42:01.741Z"
   },
   {
    "duration": 35,
    "start_time": "2021-07-07T18:42:01.755Z"
   },
   {
    "duration": 14,
    "start_time": "2021-07-07T18:42:01.792Z"
   },
   {
    "duration": 188,
    "start_time": "2021-07-07T18:42:01.808Z"
   },
   {
    "duration": 19,
    "start_time": "2021-07-07T18:42:01.998Z"
   },
   {
    "duration": 175,
    "start_time": "2021-07-07T18:42:02.019Z"
   },
   {
    "duration": 134,
    "start_time": "2021-07-07T18:42:02.196Z"
   },
   {
    "duration": 10,
    "start_time": "2021-07-07T18:42:02.331Z"
   },
   {
    "duration": 19,
    "start_time": "2021-07-07T18:42:02.343Z"
   },
   {
    "duration": 628,
    "start_time": "2021-07-07T18:46:30.701Z"
   },
   {
    "duration": 183,
    "start_time": "2021-07-07T18:46:31.331Z"
   },
   {
    "duration": 48,
    "start_time": "2021-07-07T18:46:31.516Z"
   },
   {
    "duration": 5,
    "start_time": "2021-07-07T18:46:31.566Z"
   },
   {
    "duration": 28,
    "start_time": "2021-07-07T18:46:31.572Z"
   },
   {
    "duration": 8,
    "start_time": "2021-07-07T18:46:31.602Z"
   },
   {
    "duration": 19,
    "start_time": "2021-07-07T18:46:31.611Z"
   },
   {
    "duration": 6,
    "start_time": "2021-07-07T18:46:31.633Z"
   },
   {
    "duration": 17,
    "start_time": "2021-07-07T18:46:31.642Z"
   },
   {
    "duration": 10,
    "start_time": "2021-07-07T18:46:31.684Z"
   },
   {
    "duration": 9,
    "start_time": "2021-07-07T18:46:31.695Z"
   },
   {
    "duration": 28,
    "start_time": "2021-07-07T18:46:31.705Z"
   },
   {
    "duration": 18,
    "start_time": "2021-07-07T18:46:31.735Z"
   },
   {
    "duration": 48,
    "start_time": "2021-07-07T18:46:31.755Z"
   },
   {
    "duration": 6,
    "start_time": "2021-07-07T18:46:31.804Z"
   },
   {
    "duration": 4,
    "start_time": "2021-07-07T18:46:31.812Z"
   },
   {
    "duration": 9,
    "start_time": "2021-07-07T18:46:31.817Z"
   },
   {
    "duration": 10,
    "start_time": "2021-07-07T18:46:31.827Z"
   },
   {
    "duration": 12,
    "start_time": "2021-07-07T18:46:31.838Z"
   },
   {
    "duration": 39,
    "start_time": "2021-07-07T18:46:31.851Z"
   },
   {
    "duration": 24,
    "start_time": "2021-07-07T18:46:31.892Z"
   },
   {
    "duration": 15,
    "start_time": "2021-07-07T18:46:31.918Z"
   },
   {
    "duration": 7,
    "start_time": "2021-07-07T18:46:31.936Z"
   },
   {
    "duration": 8,
    "start_time": "2021-07-07T18:46:31.944Z"
   },
   {
    "duration": 19,
    "start_time": "2021-07-07T18:46:31.984Z"
   },
   {
    "duration": 10,
    "start_time": "2021-07-07T18:46:32.004Z"
   },
   {
    "duration": 5,
    "start_time": "2021-07-07T18:46:32.016Z"
   },
   {
    "duration": 9,
    "start_time": "2021-07-07T18:46:32.023Z"
   },
   {
    "duration": 199,
    "start_time": "2021-07-07T18:46:32.033Z"
   },
   {
    "duration": 19,
    "start_time": "2021-07-07T18:46:32.234Z"
   },
   {
    "duration": 159,
    "start_time": "2021-07-07T18:46:32.255Z"
   },
   {
    "duration": 134,
    "start_time": "2021-07-07T18:46:32.416Z"
   },
   {
    "duration": 10,
    "start_time": "2021-07-07T18:46:32.552Z"
   },
   {
    "duration": 34,
    "start_time": "2021-07-07T18:46:32.563Z"
   },
   {
    "duration": 1039,
    "start_time": "2021-07-08T08:41:09.419Z"
   },
   {
    "duration": 333,
    "start_time": "2021-07-08T08:41:10.459Z"
   },
   {
    "duration": 173,
    "start_time": "2021-07-08T08:41:10.794Z"
   },
   {
    "duration": 5,
    "start_time": "2021-07-08T08:41:10.968Z"
   },
   {
    "duration": 25,
    "start_time": "2021-07-08T08:41:10.975Z"
   },
   {
    "duration": 9,
    "start_time": "2021-07-08T08:41:11.002Z"
   },
   {
    "duration": 18,
    "start_time": "2021-07-08T08:41:11.013Z"
   },
   {
    "duration": 6,
    "start_time": "2021-07-08T08:41:11.033Z"
   },
   {
    "duration": 44,
    "start_time": "2021-07-08T08:41:11.042Z"
   },
   {
    "duration": 10,
    "start_time": "2021-07-08T08:41:11.088Z"
   },
   {
    "duration": 9,
    "start_time": "2021-07-08T08:41:11.100Z"
   },
   {
    "duration": 27,
    "start_time": "2021-07-08T08:41:11.111Z"
   },
   {
    "duration": 46,
    "start_time": "2021-07-08T08:41:11.140Z"
   },
   {
    "duration": 17,
    "start_time": "2021-07-08T08:41:11.187Z"
   },
   {
    "duration": 6,
    "start_time": "2021-07-08T08:41:11.206Z"
   },
   {
    "duration": 5,
    "start_time": "2021-07-08T08:41:11.213Z"
   },
   {
    "duration": 10,
    "start_time": "2021-07-08T08:41:11.219Z"
   },
   {
    "duration": 9,
    "start_time": "2021-07-08T08:41:11.230Z"
   },
   {
    "duration": 45,
    "start_time": "2021-07-08T08:41:11.241Z"
   },
   {
    "duration": 7,
    "start_time": "2021-07-08T08:41:11.287Z"
   },
   {
    "duration": 24,
    "start_time": "2021-07-08T08:41:11.296Z"
   },
   {
    "duration": 16,
    "start_time": "2021-07-08T08:41:11.322Z"
   },
   {
    "duration": 7,
    "start_time": "2021-07-08T08:41:11.341Z"
   },
   {
    "duration": 41,
    "start_time": "2021-07-08T08:41:11.349Z"
   },
   {
    "duration": 17,
    "start_time": "2021-07-08T08:41:11.391Z"
   },
   {
    "duration": 9,
    "start_time": "2021-07-08T08:41:11.410Z"
   },
   {
    "duration": 5,
    "start_time": "2021-07-08T08:41:11.421Z"
   },
   {
    "duration": 6,
    "start_time": "2021-07-08T08:41:11.428Z"
   },
   {
    "duration": 198,
    "start_time": "2021-07-08T08:41:11.435Z"
   },
   {
    "duration": 18,
    "start_time": "2021-07-08T08:41:11.635Z"
   },
   {
    "duration": 155,
    "start_time": "2021-07-08T08:41:11.655Z"
   },
   {
    "duration": 138,
    "start_time": "2021-07-08T08:41:11.811Z"
   },
   {
    "duration": 10,
    "start_time": "2021-07-08T08:41:11.950Z"
   },
   {
    "duration": 29,
    "start_time": "2021-07-08T08:41:11.961Z"
   },
   {
    "duration": 171,
    "start_time": "2021-07-08T08:47:44.522Z"
   },
   {
    "duration": 124,
    "start_time": "2021-07-08T08:47:46.872Z"
   },
   {
    "duration": 191,
    "start_time": "2021-07-08T08:47:58.148Z"
   },
   {
    "duration": 191,
    "start_time": "2021-07-08T08:48:07.412Z"
   },
   {
    "duration": 261,
    "start_time": "2021-07-08T08:48:10.385Z"
   },
   {
    "duration": 255,
    "start_time": "2021-07-08T08:48:14.494Z"
   },
   {
    "duration": 219,
    "start_time": "2021-07-08T08:48:22.752Z"
   },
   {
    "duration": 173,
    "start_time": "2021-07-08T08:49:06.395Z"
   },
   {
    "duration": 180,
    "start_time": "2021-07-08T08:49:21.011Z"
   },
   {
    "duration": 6,
    "start_time": "2021-07-08T08:50:31.697Z"
   },
   {
    "duration": 10,
    "start_time": "2021-07-08T08:50:47.394Z"
   },
   {
    "duration": 11,
    "start_time": "2021-07-08T08:53:49.332Z"
   },
   {
    "duration": 171,
    "start_time": "2021-07-08T08:54:28.408Z"
   },
   {
    "duration": 636,
    "start_time": "2021-07-08T09:02:48.385Z"
   },
   {
    "duration": 227,
    "start_time": "2021-07-08T09:02:49.023Z"
   },
   {
    "duration": 104,
    "start_time": "2021-07-08T09:02:49.252Z"
   },
   {
    "duration": 5,
    "start_time": "2021-07-08T09:02:49.358Z"
   },
   {
    "duration": 27,
    "start_time": "2021-07-08T09:02:49.365Z"
   },
   {
    "duration": 8,
    "start_time": "2021-07-08T09:02:49.394Z"
   },
   {
    "duration": 18,
    "start_time": "2021-07-08T09:02:49.404Z"
   },
   {
    "duration": 6,
    "start_time": "2021-07-08T09:02:49.424Z"
   },
   {
    "duration": 11,
    "start_time": "2021-07-08T09:02:49.433Z"
   },
   {
    "duration": 13,
    "start_time": "2021-07-08T09:02:49.485Z"
   },
   {
    "duration": 9,
    "start_time": "2021-07-08T09:02:49.500Z"
   },
   {
    "duration": 38,
    "start_time": "2021-07-08T09:02:49.511Z"
   },
   {
    "duration": 42,
    "start_time": "2021-07-08T09:02:49.551Z"
   },
   {
    "duration": 21,
    "start_time": "2021-07-08T09:02:49.594Z"
   },
   {
    "duration": 6,
    "start_time": "2021-07-08T09:02:49.616Z"
   },
   {
    "duration": 3,
    "start_time": "2021-07-08T09:02:49.623Z"
   },
   {
    "duration": 9,
    "start_time": "2021-07-08T09:02:49.628Z"
   },
   {
    "duration": 52,
    "start_time": "2021-07-08T09:02:49.638Z"
   },
   {
    "duration": 11,
    "start_time": "2021-07-08T09:02:49.692Z"
   },
   {
    "duration": 8,
    "start_time": "2021-07-08T09:02:49.704Z"
   },
   {
    "duration": 27,
    "start_time": "2021-07-08T09:02:49.713Z"
   },
   {
    "duration": 59,
    "start_time": "2021-07-08T09:02:49.741Z"
   },
   {
    "duration": 8,
    "start_time": "2021-07-08T09:02:49.803Z"
   },
   {
    "duration": 14,
    "start_time": "2021-07-08T09:02:49.813Z"
   },
   {
    "duration": 20,
    "start_time": "2021-07-08T09:02:49.829Z"
   },
   {
    "duration": 44,
    "start_time": "2021-07-08T09:02:49.851Z"
   },
   {
    "duration": 14,
    "start_time": "2021-07-08T09:02:49.896Z"
   },
   {
    "duration": 221,
    "start_time": "2021-07-08T09:02:49.912Z"
   },
   {
    "duration": 6,
    "start_time": "2021-07-08T09:02:50.134Z"
   },
   {
    "duration": 206,
    "start_time": "2021-07-08T09:02:50.142Z"
   },
   {
    "duration": 19,
    "start_time": "2021-07-08T09:02:50.350Z"
   },
   {
    "duration": 21,
    "start_time": "2021-07-08T09:02:50.370Z"
   },
   {
    "duration": 20,
    "start_time": "2021-07-08T09:02:50.393Z"
   },
   {
    "duration": 5,
    "start_time": "2021-07-08T09:02:50.414Z"
   },
   {
    "duration": 5,
    "start_time": "2021-07-08T09:03:34.173Z"
   },
   {
    "duration": 6,
    "start_time": "2021-07-08T09:04:49.062Z"
   },
   {
    "duration": 9,
    "start_time": "2021-07-08T09:04:50.118Z"
   },
   {
    "duration": 14,
    "start_time": "2021-07-08T09:04:58.512Z"
   },
   {
    "duration": 9,
    "start_time": "2021-07-08T09:05:10.988Z"
   },
   {
    "duration": 11,
    "start_time": "2021-07-08T09:05:11.743Z"
   },
   {
    "duration": 7,
    "start_time": "2021-07-08T09:05:25.677Z"
   },
   {
    "duration": 13,
    "start_time": "2021-07-08T09:05:47.189Z"
   },
   {
    "duration": 13,
    "start_time": "2021-07-08T09:05:54.755Z"
   },
   {
    "duration": 4,
    "start_time": "2021-07-08T09:06:29.189Z"
   },
   {
    "duration": 244,
    "start_time": "2021-07-08T09:06:29.195Z"
   },
   {
    "duration": 91,
    "start_time": "2021-07-08T09:06:29.441Z"
   },
   {
    "duration": 4,
    "start_time": "2021-07-08T09:06:29.534Z"
   },
   {
    "duration": 28,
    "start_time": "2021-07-08T09:06:29.540Z"
   },
   {
    "duration": 6,
    "start_time": "2021-07-08T09:06:29.570Z"
   },
   {
    "duration": 18,
    "start_time": "2021-07-08T09:06:29.578Z"
   },
   {
    "duration": 5,
    "start_time": "2021-07-08T09:06:29.597Z"
   },
   {
    "duration": 13,
    "start_time": "2021-07-08T09:06:29.605Z"
   },
   {
    "duration": 8,
    "start_time": "2021-07-08T09:06:29.620Z"
   },
   {
    "duration": 7,
    "start_time": "2021-07-08T09:06:29.630Z"
   },
   {
    "duration": 63,
    "start_time": "2021-07-08T09:06:29.639Z"
   },
   {
    "duration": 17,
    "start_time": "2021-07-08T09:06:29.704Z"
   },
   {
    "duration": 20,
    "start_time": "2021-07-08T09:06:29.723Z"
   },
   {
    "duration": 6,
    "start_time": "2021-07-08T09:06:29.745Z"
   },
   {
    "duration": 3,
    "start_time": "2021-07-08T09:06:29.752Z"
   },
   {
    "duration": 7,
    "start_time": "2021-07-08T09:06:29.785Z"
   },
   {
    "duration": 11,
    "start_time": "2021-07-08T09:06:29.794Z"
   },
   {
    "duration": 15,
    "start_time": "2021-07-08T09:06:29.807Z"
   },
   {
    "duration": 8,
    "start_time": "2021-07-08T09:06:29.823Z"
   },
   {
    "duration": 70,
    "start_time": "2021-07-08T09:06:29.832Z"
   },
   {
    "duration": 17,
    "start_time": "2021-07-08T09:06:29.903Z"
   },
   {
    "duration": 9,
    "start_time": "2021-07-08T09:06:29.921Z"
   },
   {
    "duration": 9,
    "start_time": "2021-07-08T09:06:29.932Z"
   },
   {
    "duration": 57,
    "start_time": "2021-07-08T09:06:29.942Z"
   },
   {
    "duration": 11,
    "start_time": "2021-07-08T09:06:30.001Z"
   },
   {
    "duration": 19,
    "start_time": "2021-07-08T09:06:30.016Z"
   },
   {
    "duration": 217,
    "start_time": "2021-07-08T09:06:30.037Z"
   },
   {
    "duration": 6,
    "start_time": "2021-07-08T09:06:30.255Z"
   },
   {
    "duration": 205,
    "start_time": "2021-07-08T09:06:30.263Z"
   },
   {
    "duration": 27,
    "start_time": "2021-07-08T09:06:30.470Z"
   },
   {
    "duration": 11,
    "start_time": "2021-07-08T09:06:30.500Z"
   },
   {
    "duration": 31,
    "start_time": "2021-07-08T09:06:30.513Z"
   },
   {
    "duration": 18,
    "start_time": "2021-07-08T09:06:30.546Z"
   },
   {
    "duration": 11,
    "start_time": "2021-07-08T09:06:30.566Z"
   },
   {
    "duration": 19,
    "start_time": "2021-07-08T09:06:30.579Z"
   },
   {
    "duration": 20,
    "start_time": "2021-07-08T09:06:49.466Z"
   },
   {
    "duration": 9,
    "start_time": "2021-07-08T09:06:51.994Z"
   },
   {
    "duration": 20,
    "start_time": "2021-07-08T09:06:52.273Z"
   },
   {
    "duration": 246,
    "start_time": "2021-07-08T09:10:21.272Z"
   },
   {
    "duration": 84,
    "start_time": "2021-07-08T09:10:21.436Z"
   },
   {
    "duration": 7,
    "start_time": "2021-07-08T09:10:37.608Z"
   },
   {
    "duration": 189,
    "start_time": "2021-07-08T09:10:38.573Z"
   },
   {
    "duration": 185,
    "start_time": "2021-07-08T09:10:53.181Z"
   },
   {
    "duration": 11,
    "start_time": "2021-07-08T09:10:59.549Z"
   },
   {
    "duration": 42,
    "start_time": "2021-07-08T09:10:59.709Z"
   },
   {
    "duration": 12,
    "start_time": "2021-07-08T09:11:02.857Z"
   },
   {
    "duration": 28,
    "start_time": "2021-07-08T09:11:10.062Z"
   },
   {
    "duration": 249,
    "start_time": "2021-07-08T09:11:37.388Z"
   },
   {
    "duration": 232,
    "start_time": "2021-07-08T09:11:49.485Z"
   },
   {
    "duration": 453,
    "start_time": "2021-07-08T09:12:01.546Z"
   },
   {
    "duration": 440,
    "start_time": "2021-07-08T09:12:12.347Z"
   },
   {
    "duration": 213,
    "start_time": "2021-07-08T09:13:32.196Z"
   },
   {
    "duration": 172,
    "start_time": "2021-07-08T09:14:07.400Z"
   },
   {
    "duration": 185,
    "start_time": "2021-07-08T09:14:14.905Z"
   },
   {
    "duration": 209,
    "start_time": "2021-07-08T09:14:40.109Z"
   },
   {
    "duration": 201,
    "start_time": "2021-07-08T09:14:54.506Z"
   },
   {
    "duration": 622,
    "start_time": "2021-07-08T09:18:14.497Z"
   },
   {
    "duration": 220,
    "start_time": "2021-07-08T09:18:15.121Z"
   },
   {
    "duration": 79,
    "start_time": "2021-07-08T09:18:15.343Z"
   },
   {
    "duration": 4,
    "start_time": "2021-07-08T09:18:15.425Z"
   },
   {
    "duration": 24,
    "start_time": "2021-07-08T09:18:15.431Z"
   },
   {
    "duration": 8,
    "start_time": "2021-07-08T09:18:15.457Z"
   },
   {
    "duration": 16,
    "start_time": "2021-07-08T09:18:15.466Z"
   },
   {
    "duration": 5,
    "start_time": "2021-07-08T09:18:15.484Z"
   },
   {
    "duration": 10,
    "start_time": "2021-07-08T09:18:15.493Z"
   },
   {
    "duration": 8,
    "start_time": "2021-07-08T09:18:15.504Z"
   },
   {
    "duration": 7,
    "start_time": "2021-07-08T09:18:15.513Z"
   },
   {
    "duration": 26,
    "start_time": "2021-07-08T09:18:15.522Z"
   },
   {
    "duration": 49,
    "start_time": "2021-07-08T09:18:15.550Z"
   },
   {
    "duration": 21,
    "start_time": "2021-07-08T09:18:15.601Z"
   },
   {
    "duration": 8,
    "start_time": "2021-07-08T09:18:15.624Z"
   },
   {
    "duration": 3,
    "start_time": "2021-07-08T09:18:15.634Z"
   },
   {
    "duration": 8,
    "start_time": "2021-07-08T09:18:15.639Z"
   },
   {
    "duration": 45,
    "start_time": "2021-07-08T09:18:15.649Z"
   },
   {
    "duration": 13,
    "start_time": "2021-07-08T09:18:15.696Z"
   },
   {
    "duration": 10,
    "start_time": "2021-07-08T09:18:15.711Z"
   },
   {
    "duration": 64,
    "start_time": "2021-07-08T09:18:15.722Z"
   },
   {
    "duration": 19,
    "start_time": "2021-07-08T09:18:15.788Z"
   },
   {
    "duration": 9,
    "start_time": "2021-07-08T09:18:15.809Z"
   },
   {
    "duration": 9,
    "start_time": "2021-07-08T09:18:15.820Z"
   },
   {
    "duration": 18,
    "start_time": "2021-07-08T09:18:15.831Z"
   },
   {
    "duration": 43,
    "start_time": "2021-07-08T09:18:15.851Z"
   },
   {
    "duration": 12,
    "start_time": "2021-07-08T09:18:15.897Z"
   },
   {
    "duration": 219,
    "start_time": "2021-07-08T09:18:15.911Z"
   },
   {
    "duration": 8,
    "start_time": "2021-07-08T09:18:16.132Z"
   },
   {
    "duration": 199,
    "start_time": "2021-07-08T09:18:16.141Z"
   },
   {
    "duration": 18,
    "start_time": "2021-07-08T09:18:16.341Z"
   },
   {
    "duration": 24,
    "start_time": "2021-07-08T09:18:16.361Z"
   },
   {
    "duration": 24,
    "start_time": "2021-07-08T09:18:16.387Z"
   },
   {
    "duration": 211,
    "start_time": "2021-07-08T09:18:16.413Z"
   },
   {
    "duration": 18,
    "start_time": "2021-07-08T09:18:16.626Z"
   },
   {
    "duration": 596,
    "start_time": "2021-07-08T10:06:33.623Z"
   },
   {
    "duration": 181,
    "start_time": "2021-07-08T10:06:34.221Z"
   },
   {
    "duration": 176,
    "start_time": "2021-07-08T10:06:34.635Z"
   },
   {
    "duration": 239,
    "start_time": "2021-07-08T10:06:55.572Z"
   },
   {
    "duration": 6,
    "start_time": "2021-07-08T10:06:57.687Z"
   },
   {
    "duration": 4,
    "start_time": "2021-07-08T10:07:03.956Z"
   },
   {
    "duration": 4,
    "start_time": "2021-07-08T10:07:10.376Z"
   },
   {
    "duration": 4,
    "start_time": "2021-07-08T10:17:19.889Z"
   },
   {
    "duration": 3,
    "start_time": "2021-07-08T10:19:19.407Z"
   },
   {
    "duration": 197,
    "start_time": "2021-07-08T10:19:19.412Z"
   },
   {
    "duration": 127,
    "start_time": "2021-07-08T10:19:19.611Z"
   },
   {
    "duration": 4,
    "start_time": "2021-07-08T10:19:19.740Z"
   },
   {
    "duration": 27,
    "start_time": "2021-07-08T10:19:19.746Z"
   },
   {
    "duration": 7,
    "start_time": "2021-07-08T10:19:19.775Z"
   },
   {
    "duration": 30,
    "start_time": "2021-07-08T10:19:19.784Z"
   },
   {
    "duration": 7,
    "start_time": "2021-07-08T10:19:19.817Z"
   },
   {
    "duration": 26,
    "start_time": "2021-07-08T10:19:19.826Z"
   },
   {
    "duration": 18,
    "start_time": "2021-07-08T10:19:19.854Z"
   },
   {
    "duration": 14,
    "start_time": "2021-07-08T10:19:19.874Z"
   },
   {
    "duration": 48,
    "start_time": "2021-07-08T10:19:19.890Z"
   },
   {
    "duration": 17,
    "start_time": "2021-07-08T10:19:19.940Z"
   },
   {
    "duration": 38,
    "start_time": "2021-07-08T10:19:19.959Z"
   },
   {
    "duration": 8,
    "start_time": "2021-07-08T10:19:19.999Z"
   },
   {
    "duration": 15,
    "start_time": "2021-07-08T10:19:20.009Z"
   },
   {
    "duration": 22,
    "start_time": "2021-07-08T10:19:20.026Z"
   },
   {
    "duration": 10,
    "start_time": "2021-07-08T10:19:20.050Z"
   },
   {
    "duration": 10,
    "start_time": "2021-07-08T10:19:20.062Z"
   },
   {
    "duration": 20,
    "start_time": "2021-07-08T10:19:20.073Z"
   },
   {
    "duration": 29,
    "start_time": "2021-07-08T10:19:20.095Z"
   },
   {
    "duration": 17,
    "start_time": "2021-07-08T10:19:20.126Z"
   },
   {
    "duration": 40,
    "start_time": "2021-07-08T10:19:20.146Z"
   },
   {
    "duration": 15,
    "start_time": "2021-07-08T10:19:20.189Z"
   },
   {
    "duration": 19,
    "start_time": "2021-07-08T10:19:20.206Z"
   },
   {
    "duration": 10,
    "start_time": "2021-07-08T10:19:20.226Z"
   },
   {
    "duration": 11,
    "start_time": "2021-07-08T10:19:20.238Z"
   },
   {
    "duration": 297,
    "start_time": "2021-07-08T10:19:20.250Z"
   },
   {
    "duration": 6,
    "start_time": "2021-07-08T10:19:20.549Z"
   },
   {
    "duration": 191,
    "start_time": "2021-07-08T10:19:20.557Z"
   },
   {
    "duration": 19,
    "start_time": "2021-07-08T10:19:20.750Z"
   },
   {
    "duration": 20,
    "start_time": "2021-07-08T10:19:20.771Z"
   },
   {
    "duration": 15,
    "start_time": "2021-07-08T10:19:20.793Z"
   },
   {
    "duration": 222,
    "start_time": "2021-07-08T10:19:20.809Z"
   },
   {
    "duration": 20,
    "start_time": "2021-07-08T10:19:21.033Z"
   },
   {
    "duration": 27,
    "start_time": "2021-07-08T10:45:04.055Z"
   },
   {
    "duration": 8,
    "start_time": "2021-07-08T10:45:08.478Z"
   },
   {
    "duration": 8,
    "start_time": "2021-07-08T10:45:31.982Z"
   },
   {
    "duration": 10,
    "start_time": "2021-07-08T10:46:01.221Z"
   },
   {
    "duration": 17,
    "start_time": "2021-07-08T10:46:40.011Z"
   },
   {
    "duration": 193,
    "start_time": "2021-07-08T10:48:19.471Z"
   },
   {
    "duration": 225,
    "start_time": "2021-07-08T10:49:26.480Z"
   },
   {
    "duration": 204,
    "start_time": "2021-07-08T10:49:59.992Z"
   },
   {
    "duration": 435,
    "start_time": "2021-07-08T10:50:06.779Z"
   },
   {
    "duration": 199,
    "start_time": "2021-07-08T10:50:14.891Z"
   },
   {
    "duration": 204,
    "start_time": "2021-07-08T10:50:18.501Z"
   },
   {
    "duration": 244,
    "start_time": "2021-07-08T10:50:23.359Z"
   },
   {
    "duration": 192,
    "start_time": "2021-07-08T10:50:29.135Z"
   },
   {
    "duration": 218,
    "start_time": "2021-07-08T10:50:33.092Z"
   },
   {
    "duration": 207,
    "start_time": "2021-07-08T10:52:45.381Z"
   },
   {
    "duration": 5,
    "start_time": "2021-07-08T10:53:34.641Z"
   },
   {
    "duration": 196,
    "start_time": "2021-07-08T10:53:41.478Z"
   },
   {
    "duration": 43,
    "start_time": "2021-07-08T10:53:50.335Z"
   },
   {
    "duration": 32,
    "start_time": "2021-07-08T10:53:55.294Z"
   },
   {
    "duration": 55,
    "start_time": "2021-07-08T10:54:09.675Z"
   },
   {
    "duration": 16,
    "start_time": "2021-07-08T10:54:12.260Z"
   },
   {
    "duration": 15,
    "start_time": "2021-07-08T10:54:49.150Z"
   },
   {
    "duration": 20,
    "start_time": "2021-07-08T10:56:07.596Z"
   },
   {
    "duration": 16,
    "start_time": "2021-07-08T10:58:26.276Z"
   },
   {
    "duration": 22,
    "start_time": "2021-07-08T10:59:00.486Z"
   },
   {
    "duration": 18,
    "start_time": "2021-07-08T11:02:09.653Z"
   },
   {
    "duration": 10,
    "start_time": "2021-07-08T11:03:44.331Z"
   },
   {
    "duration": 10,
    "start_time": "2021-07-08T11:03:54.055Z"
   },
   {
    "duration": 12,
    "start_time": "2021-07-08T11:04:41.967Z"
   },
   {
    "duration": 24,
    "start_time": "2021-07-08T11:07:30.732Z"
   },
   {
    "duration": 6,
    "start_time": "2021-07-08T11:07:37.364Z"
   },
   {
    "duration": 16,
    "start_time": "2021-07-08T11:08:01.819Z"
   },
   {
    "duration": 17,
    "start_time": "2021-07-08T11:09:47.488Z"
   },
   {
    "duration": 246,
    "start_time": "2021-07-08T11:10:00.830Z"
   },
   {
    "duration": 18,
    "start_time": "2021-07-08T11:13:55.195Z"
   },
   {
    "duration": 204,
    "start_time": "2021-07-08T11:14:04.951Z"
   },
   {
    "duration": 19,
    "start_time": "2021-07-08T11:15:10.613Z"
   },
   {
    "duration": 680,
    "start_time": "2021-07-08T11:16:25.793Z"
   },
   {
    "duration": 451,
    "start_time": "2021-07-08T11:16:40.313Z"
   },
   {
    "duration": 469,
    "start_time": "2021-07-08T11:17:21.286Z"
   },
   {
    "duration": 20,
    "start_time": "2021-07-08T11:19:12.554Z"
   },
   {
    "duration": 35,
    "start_time": "2021-07-08T11:20:05.484Z"
   },
   {
    "duration": 53,
    "start_time": "2021-07-08T11:21:40.050Z"
   },
   {
    "duration": 13,
    "start_time": "2021-07-08T11:22:26.059Z"
   },
   {
    "duration": 19,
    "start_time": "2021-07-08T11:22:47.419Z"
   },
   {
    "duration": 25,
    "start_time": "2021-07-08T11:23:19.958Z"
   },
   {
    "duration": 29,
    "start_time": "2021-07-08T11:23:25.415Z"
   },
   {
    "duration": 10,
    "start_time": "2021-07-08T11:24:45.138Z"
   },
   {
    "duration": 19,
    "start_time": "2021-07-08T11:24:54.498Z"
   },
   {
    "duration": 12,
    "start_time": "2021-07-08T11:25:32.225Z"
   },
   {
    "duration": 19,
    "start_time": "2021-07-08T11:25:37.092Z"
   },
   {
    "duration": 17,
    "start_time": "2021-07-08T11:25:58.116Z"
   },
   {
    "duration": 15,
    "start_time": "2021-07-08T11:26:02.258Z"
   },
   {
    "duration": 8,
    "start_time": "2021-07-08T11:26:59.682Z"
   },
   {
    "duration": 184,
    "start_time": "2021-07-08T11:27:21.894Z"
   },
   {
    "duration": 8,
    "start_time": "2021-07-08T11:27:23.824Z"
   },
   {
    "duration": 202,
    "start_time": "2021-07-08T11:27:23.962Z"
   },
   {
    "duration": 360,
    "start_time": "2021-07-08T11:28:33.215Z"
   },
   {
    "duration": 231,
    "start_time": "2021-07-08T11:32:05.542Z"
   },
   {
    "duration": 607,
    "start_time": "2021-07-08T11:36:27.854Z"
   },
   {
    "duration": 241,
    "start_time": "2021-07-08T11:36:28.463Z"
   },
   {
    "duration": 67,
    "start_time": "2021-07-08T11:36:28.709Z"
   },
   {
    "duration": 5,
    "start_time": "2021-07-08T11:36:28.778Z"
   },
   {
    "duration": 32,
    "start_time": "2021-07-08T11:36:28.784Z"
   },
   {
    "duration": 11,
    "start_time": "2021-07-08T11:36:28.819Z"
   },
   {
    "duration": 20,
    "start_time": "2021-07-08T11:36:28.834Z"
   },
   {
    "duration": 36,
    "start_time": "2021-07-08T11:36:28.857Z"
   },
   {
    "duration": 16,
    "start_time": "2021-07-08T11:36:28.895Z"
   },
   {
    "duration": 14,
    "start_time": "2021-07-08T11:36:28.913Z"
   },
   {
    "duration": 9,
    "start_time": "2021-07-08T11:36:28.930Z"
   },
   {
    "duration": 55,
    "start_time": "2021-07-08T11:36:28.941Z"
   },
   {
    "duration": 27,
    "start_time": "2021-07-08T11:36:28.999Z"
   },
   {
    "duration": 30,
    "start_time": "2021-07-08T11:36:29.028Z"
   },
   {
    "duration": 31,
    "start_time": "2021-07-08T11:36:29.060Z"
   },
   {
    "duration": 3,
    "start_time": "2021-07-08T11:36:29.093Z"
   },
   {
    "duration": 12,
    "start_time": "2021-07-08T11:36:29.099Z"
   },
   {
    "duration": 11,
    "start_time": "2021-07-08T11:36:29.112Z"
   },
   {
    "duration": 12,
    "start_time": "2021-07-08T11:36:29.125Z"
   },
   {
    "duration": 9,
    "start_time": "2021-07-08T11:36:29.139Z"
   },
   {
    "duration": 31,
    "start_time": "2021-07-08T11:36:29.191Z"
   },
   {
    "duration": 17,
    "start_time": "2021-07-08T11:36:29.226Z"
   },
   {
    "duration": 7,
    "start_time": "2021-07-08T11:36:29.245Z"
   },
   {
    "duration": 10,
    "start_time": "2021-07-08T11:36:29.254Z"
   },
   {
    "duration": 30,
    "start_time": "2021-07-08T11:36:29.292Z"
   },
   {
    "duration": 11,
    "start_time": "2021-07-08T11:36:29.324Z"
   },
   {
    "duration": 11,
    "start_time": "2021-07-08T11:36:29.337Z"
   },
   {
    "duration": 230,
    "start_time": "2021-07-08T11:36:29.349Z"
   },
   {
    "duration": 13,
    "start_time": "2021-07-08T11:36:29.588Z"
   },
   {
    "duration": 205,
    "start_time": "2021-07-08T11:36:29.603Z"
   },
   {
    "duration": 20,
    "start_time": "2021-07-08T11:36:29.810Z"
   },
   {
    "duration": 9,
    "start_time": "2021-07-08T11:36:29.832Z"
   },
   {
    "duration": 16,
    "start_time": "2021-07-08T11:36:29.843Z"
   },
   {
    "duration": 283,
    "start_time": "2021-07-08T11:36:29.861Z"
   },
   {
    "duration": 50,
    "start_time": "2021-07-08T11:36:30.146Z"
   },
   {
    "duration": 14,
    "start_time": "2021-07-08T11:36:30.198Z"
   },
   {
    "duration": 11,
    "start_time": "2021-07-08T11:36:30.214Z"
   },
   {
    "duration": 245,
    "start_time": "2021-07-08T11:36:30.227Z"
   },
   {
    "duration": 439,
    "start_time": "2021-07-08T11:36:30.474Z"
   },
   {
    "duration": 210,
    "start_time": "2021-07-08T11:36:30.915Z"
   },
   {
    "duration": 15,
    "start_time": "2021-07-08T11:36:31.127Z"
   },
   {
    "duration": 17,
    "start_time": "2021-07-08T11:38:20.451Z"
   },
   {
    "duration": 642,
    "start_time": "2021-07-08T11:46:17.881Z"
   },
   {
    "duration": 210,
    "start_time": "2021-07-08T11:46:18.525Z"
   },
   {
    "duration": 104,
    "start_time": "2021-07-08T11:46:18.741Z"
   },
   {
    "duration": 8,
    "start_time": "2021-07-08T11:46:18.847Z"
   },
   {
    "duration": 25,
    "start_time": "2021-07-08T11:46:18.857Z"
   },
   {
    "duration": 14,
    "start_time": "2021-07-08T11:46:18.884Z"
   },
   {
    "duration": 22,
    "start_time": "2021-07-08T11:46:18.900Z"
   },
   {
    "duration": 5,
    "start_time": "2021-07-08T11:46:18.924Z"
   },
   {
    "duration": 13,
    "start_time": "2021-07-08T11:46:18.931Z"
   },
   {
    "duration": 45,
    "start_time": "2021-07-08T11:46:18.946Z"
   },
   {
    "duration": 12,
    "start_time": "2021-07-08T11:46:18.993Z"
   },
   {
    "duration": 38,
    "start_time": "2021-07-08T11:46:19.006Z"
   },
   {
    "duration": 50,
    "start_time": "2021-07-08T11:46:19.046Z"
   },
   {
    "duration": 29,
    "start_time": "2021-07-08T11:46:19.099Z"
   },
   {
    "duration": 7,
    "start_time": "2021-07-08T11:46:19.130Z"
   },
   {
    "duration": 3,
    "start_time": "2021-07-08T11:46:19.139Z"
   },
   {
    "duration": 11,
    "start_time": "2021-07-08T11:46:19.144Z"
   },
   {
    "duration": 40,
    "start_time": "2021-07-08T11:46:19.157Z"
   },
   {
    "duration": 15,
    "start_time": "2021-07-08T11:46:19.199Z"
   },
   {
    "duration": 10,
    "start_time": "2021-07-08T11:46:19.217Z"
   },
   {
    "duration": 68,
    "start_time": "2021-07-08T11:46:19.230Z"
   },
   {
    "duration": 17,
    "start_time": "2021-07-08T11:46:19.301Z"
   },
   {
    "duration": 7,
    "start_time": "2021-07-08T11:46:19.321Z"
   },
   {
    "duration": 11,
    "start_time": "2021-07-08T11:46:19.330Z"
   },
   {
    "duration": 59,
    "start_time": "2021-07-08T11:46:19.343Z"
   },
   {
    "duration": 17,
    "start_time": "2021-07-08T11:46:19.405Z"
   },
   {
    "duration": 16,
    "start_time": "2021-07-08T11:46:19.424Z"
   },
   {
    "duration": 252,
    "start_time": "2021-07-08T11:46:19.443Z"
   },
   {
    "duration": 9,
    "start_time": "2021-07-08T11:46:19.697Z"
   },
   {
    "duration": 224,
    "start_time": "2021-07-08T11:46:19.708Z"
   },
   {
    "duration": 21,
    "start_time": "2021-07-08T11:46:19.934Z"
   },
   {
    "duration": 9,
    "start_time": "2021-07-08T11:46:19.956Z"
   },
   {
    "duration": 32,
    "start_time": "2021-07-08T11:46:19.967Z"
   },
   {
    "duration": 288,
    "start_time": "2021-07-08T11:46:20.004Z"
   },
   {
    "duration": 23,
    "start_time": "2021-07-08T11:46:20.300Z"
   },
   {
    "duration": 11,
    "start_time": "2021-07-08T11:46:20.325Z"
   },
   {
    "duration": 11,
    "start_time": "2021-07-08T11:46:20.339Z"
   },
   {
    "duration": 259,
    "start_time": "2021-07-08T11:46:20.352Z"
   },
   {
    "duration": 438,
    "start_time": "2021-07-08T11:46:20.613Z"
   },
   {
    "duration": 207,
    "start_time": "2021-07-08T11:46:21.054Z"
   },
   {
    "duration": 27,
    "start_time": "2021-07-08T11:46:21.262Z"
   },
   {
    "duration": 19,
    "start_time": "2021-07-08T11:46:21.291Z"
   },
   {
    "duration": 820,
    "start_time": "2021-07-08T11:49:01.655Z"
   },
   {
    "duration": 372,
    "start_time": "2021-07-08T11:49:02.478Z"
   },
   {
    "duration": 98,
    "start_time": "2021-07-08T11:49:02.853Z"
   },
   {
    "duration": 6,
    "start_time": "2021-07-08T11:49:02.953Z"
   },
   {
    "duration": 39,
    "start_time": "2021-07-08T11:49:02.960Z"
   },
   {
    "duration": 9,
    "start_time": "2021-07-08T11:49:03.003Z"
   },
   {
    "duration": 23,
    "start_time": "2021-07-08T11:49:03.014Z"
   },
   {
    "duration": 6,
    "start_time": "2021-07-08T11:49:03.041Z"
   },
   {
    "duration": 20,
    "start_time": "2021-07-08T11:49:03.049Z"
   },
   {
    "duration": 18,
    "start_time": "2021-07-08T11:49:03.084Z"
   },
   {
    "duration": 14,
    "start_time": "2021-07-08T11:49:03.104Z"
   },
   {
    "duration": 39,
    "start_time": "2021-07-08T11:49:03.119Z"
   },
   {
    "duration": 38,
    "start_time": "2021-07-08T11:49:03.160Z"
   },
   {
    "duration": 26,
    "start_time": "2021-07-08T11:49:03.200Z"
   },
   {
    "duration": 7,
    "start_time": "2021-07-08T11:49:03.227Z"
   },
   {
    "duration": 4,
    "start_time": "2021-07-08T11:49:03.236Z"
   },
   {
    "duration": 15,
    "start_time": "2021-07-08T11:49:03.243Z"
   },
   {
    "duration": 21,
    "start_time": "2021-07-08T11:49:03.285Z"
   },
   {
    "duration": 17,
    "start_time": "2021-07-08T11:49:03.309Z"
   },
   {
    "duration": 10,
    "start_time": "2021-07-08T11:49:03.328Z"
   },
   {
    "duration": 65,
    "start_time": "2021-07-08T11:49:03.340Z"
   },
   {
    "duration": 18,
    "start_time": "2021-07-08T11:49:03.407Z"
   },
   {
    "duration": 8,
    "start_time": "2021-07-08T11:49:03.428Z"
   },
   {
    "duration": 15,
    "start_time": "2021-07-08T11:49:03.438Z"
   },
   {
    "duration": 40,
    "start_time": "2021-07-08T11:49:03.455Z"
   },
   {
    "duration": 12,
    "start_time": "2021-07-08T11:49:03.497Z"
   },
   {
    "duration": 29,
    "start_time": "2021-07-08T11:49:03.511Z"
   },
   {
    "duration": 285,
    "start_time": "2021-07-08T11:49:03.542Z"
   },
   {
    "duration": 8,
    "start_time": "2021-07-08T11:49:03.829Z"
   },
   {
    "duration": 227,
    "start_time": "2021-07-08T11:49:03.838Z"
   },
   {
    "duration": 40,
    "start_time": "2021-07-08T11:49:04.066Z"
   },
   {
    "duration": 10,
    "start_time": "2021-07-08T11:49:04.108Z"
   },
   {
    "duration": 26,
    "start_time": "2021-07-08T11:49:04.121Z"
   },
   {
    "duration": 290,
    "start_time": "2021-07-08T11:49:04.149Z"
   },
   {
    "duration": 26,
    "start_time": "2021-07-08T11:49:04.441Z"
   },
   {
    "duration": 31,
    "start_time": "2021-07-08T11:49:04.470Z"
   },
   {
    "duration": 14,
    "start_time": "2021-07-08T11:49:04.503Z"
   },
   {
    "duration": 259,
    "start_time": "2021-07-08T11:49:04.521Z"
   },
   {
    "duration": 480,
    "start_time": "2021-07-08T11:49:04.782Z"
   },
   {
    "duration": 225,
    "start_time": "2021-07-08T11:49:05.264Z"
   },
   {
    "duration": 22,
    "start_time": "2021-07-08T11:49:05.491Z"
   },
   {
    "duration": 24,
    "start_time": "2021-07-08T11:49:05.515Z"
   },
   {
    "duration": 634,
    "start_time": "2021-07-08T11:52:24.960Z"
   },
   {
    "duration": 199,
    "start_time": "2021-07-08T11:52:25.599Z"
   },
   {
    "duration": 106,
    "start_time": "2021-07-08T11:52:25.803Z"
   },
   {
    "duration": 7,
    "start_time": "2021-07-08T11:52:25.911Z"
   },
   {
    "duration": 29,
    "start_time": "2021-07-08T11:52:25.920Z"
   },
   {
    "duration": 7,
    "start_time": "2021-07-08T11:52:25.951Z"
   },
   {
    "duration": 26,
    "start_time": "2021-07-08T11:52:25.961Z"
   },
   {
    "duration": 11,
    "start_time": "2021-07-08T11:52:25.990Z"
   },
   {
    "duration": 29,
    "start_time": "2021-07-08T11:52:26.005Z"
   },
   {
    "duration": 9,
    "start_time": "2021-07-08T11:52:26.036Z"
   },
   {
    "duration": 8,
    "start_time": "2021-07-08T11:52:26.047Z"
   },
   {
    "duration": 63,
    "start_time": "2021-07-08T11:52:26.057Z"
   },
   {
    "duration": 17,
    "start_time": "2021-07-08T11:52:26.122Z"
   },
   {
    "duration": 43,
    "start_time": "2021-07-08T11:52:26.142Z"
   },
   {
    "duration": 17,
    "start_time": "2021-07-08T11:52:26.187Z"
   },
   {
    "duration": 5,
    "start_time": "2021-07-08T11:52:26.206Z"
   },
   {
    "duration": 12,
    "start_time": "2021-07-08T11:52:26.212Z"
   },
   {
    "duration": 11,
    "start_time": "2021-07-08T11:52:26.226Z"
   },
   {
    "duration": 12,
    "start_time": "2021-07-08T11:52:26.238Z"
   },
   {
    "duration": 38,
    "start_time": "2021-07-08T11:52:26.252Z"
   },
   {
    "duration": 40,
    "start_time": "2021-07-08T11:52:26.292Z"
   },
   {
    "duration": 17,
    "start_time": "2021-07-08T11:52:26.336Z"
   },
   {
    "duration": 39,
    "start_time": "2021-07-08T11:52:26.355Z"
   },
   {
    "duration": 11,
    "start_time": "2021-07-08T11:52:26.395Z"
   },
   {
    "duration": 23,
    "start_time": "2021-07-08T11:52:26.408Z"
   },
   {
    "duration": 12,
    "start_time": "2021-07-08T11:52:26.432Z"
   },
   {
    "duration": 41,
    "start_time": "2021-07-08T11:52:26.446Z"
   },
   {
    "duration": 215,
    "start_time": "2021-07-08T11:52:26.493Z"
   },
   {
    "duration": 8,
    "start_time": "2021-07-08T11:52:26.710Z"
   },
   {
    "duration": 228,
    "start_time": "2021-07-08T11:52:26.720Z"
   },
   {
    "duration": 18,
    "start_time": "2021-07-08T11:52:26.950Z"
   },
   {
    "duration": 35,
    "start_time": "2021-07-08T11:52:26.969Z"
   },
   {
    "duration": 23,
    "start_time": "2021-07-08T11:52:27.006Z"
   },
   {
    "duration": 258,
    "start_time": "2021-07-08T11:52:27.030Z"
   },
   {
    "duration": 24,
    "start_time": "2021-07-08T11:52:27.290Z"
   },
   {
    "duration": 12,
    "start_time": "2021-07-08T11:52:27.316Z"
   },
   {
    "duration": 10,
    "start_time": "2021-07-08T11:52:27.329Z"
   },
   {
    "duration": 298,
    "start_time": "2021-07-08T11:52:27.341Z"
   },
   {
    "duration": 436,
    "start_time": "2021-07-08T11:52:27.641Z"
   },
   {
    "duration": 216,
    "start_time": "2021-07-08T11:52:28.079Z"
   },
   {
    "duration": 20,
    "start_time": "2021-07-08T11:52:28.297Z"
   },
   {
    "duration": 17,
    "start_time": "2021-07-08T11:52:28.319Z"
   },
   {
    "duration": 1411,
    "start_time": "2022-04-26T19:13:05.547Z"
   },
   {
    "duration": 198,
    "start_time": "2022-04-26T19:13:06.960Z"
   },
   {
    "duration": 0,
    "start_time": "2022-04-26T19:13:07.161Z"
   },
   {
    "duration": 0,
    "start_time": "2022-04-26T19:13:07.162Z"
   },
   {
    "duration": 0,
    "start_time": "2022-04-26T19:13:07.163Z"
   },
   {
    "duration": 0,
    "start_time": "2022-04-26T19:13:07.164Z"
   },
   {
    "duration": 0,
    "start_time": "2022-04-26T19:13:07.165Z"
   },
   {
    "duration": 0,
    "start_time": "2022-04-26T19:13:07.166Z"
   },
   {
    "duration": 0,
    "start_time": "2022-04-26T19:13:07.167Z"
   },
   {
    "duration": 0,
    "start_time": "2022-04-26T19:13:07.168Z"
   },
   {
    "duration": 0,
    "start_time": "2022-04-26T19:13:07.169Z"
   },
   {
    "duration": 0,
    "start_time": "2022-04-26T19:13:07.170Z"
   },
   {
    "duration": 0,
    "start_time": "2022-04-26T19:13:07.171Z"
   },
   {
    "duration": 0,
    "start_time": "2022-04-26T19:13:07.172Z"
   },
   {
    "duration": 0,
    "start_time": "2022-04-26T19:13:07.173Z"
   },
   {
    "duration": 0,
    "start_time": "2022-04-26T19:13:07.174Z"
   },
   {
    "duration": 0,
    "start_time": "2022-04-26T19:13:07.175Z"
   },
   {
    "duration": 0,
    "start_time": "2022-04-26T19:13:07.176Z"
   },
   {
    "duration": 0,
    "start_time": "2022-04-26T19:13:07.177Z"
   },
   {
    "duration": 0,
    "start_time": "2022-04-26T19:13:07.178Z"
   },
   {
    "duration": 0,
    "start_time": "2022-04-26T19:13:07.179Z"
   },
   {
    "duration": 0,
    "start_time": "2022-04-26T19:13:07.180Z"
   },
   {
    "duration": 0,
    "start_time": "2022-04-26T19:13:07.181Z"
   },
   {
    "duration": 1,
    "start_time": "2022-04-26T19:13:07.182Z"
   },
   {
    "duration": 0,
    "start_time": "2022-04-26T19:13:07.183Z"
   },
   {
    "duration": 0,
    "start_time": "2022-04-26T19:13:07.184Z"
   },
   {
    "duration": 0,
    "start_time": "2022-04-26T19:13:07.185Z"
   },
   {
    "duration": 0,
    "start_time": "2022-04-26T19:13:07.187Z"
   },
   {
    "duration": 0,
    "start_time": "2022-04-26T19:13:07.187Z"
   },
   {
    "duration": 0,
    "start_time": "2022-04-26T19:13:07.189Z"
   },
   {
    "duration": 0,
    "start_time": "2022-04-26T19:13:07.234Z"
   },
   {
    "duration": 0,
    "start_time": "2022-04-26T19:13:07.235Z"
   },
   {
    "duration": 0,
    "start_time": "2022-04-26T19:13:07.236Z"
   },
   {
    "duration": 0,
    "start_time": "2022-04-26T19:13:07.237Z"
   },
   {
    "duration": 0,
    "start_time": "2022-04-26T19:13:07.238Z"
   },
   {
    "duration": 0,
    "start_time": "2022-04-26T19:13:07.239Z"
   },
   {
    "duration": 0,
    "start_time": "2022-04-26T19:13:07.240Z"
   },
   {
    "duration": 0,
    "start_time": "2022-04-26T19:13:07.241Z"
   },
   {
    "duration": 0,
    "start_time": "2022-04-26T19:13:07.242Z"
   },
   {
    "duration": 0,
    "start_time": "2022-04-26T19:13:07.243Z"
   },
   {
    "duration": 0,
    "start_time": "2022-04-26T19:13:07.244Z"
   },
   {
    "duration": 0,
    "start_time": "2022-04-26T19:13:07.245Z"
   },
   {
    "duration": 744,
    "start_time": "2022-04-26T19:19:02.391Z"
   },
   {
    "duration": 40,
    "start_time": "2022-04-26T19:30:14.769Z"
   },
   {
    "duration": 42,
    "start_time": "2022-04-26T19:30:14.812Z"
   },
   {
    "duration": 59,
    "start_time": "2022-04-26T19:30:14.857Z"
   },
   {
    "duration": 32,
    "start_time": "2022-04-26T19:30:14.919Z"
   },
   {
    "duration": 33,
    "start_time": "2022-04-26T19:30:14.953Z"
   },
   {
    "duration": 41,
    "start_time": "2022-04-26T19:30:14.989Z"
   },
   {
    "duration": 54,
    "start_time": "2022-04-26T19:30:15.036Z"
   },
   {
    "duration": 15,
    "start_time": "2022-04-26T19:30:15.093Z"
   },
   {
    "duration": 35,
    "start_time": "2022-04-26T19:30:15.111Z"
   },
   {
    "duration": 30,
    "start_time": "2022-04-26T19:30:15.155Z"
   },
   {
    "duration": 34,
    "start_time": "2022-04-26T19:30:15.187Z"
   },
   {
    "duration": 144,
    "start_time": "2022-04-26T19:30:15.224Z"
   },
   {
    "duration": 72,
    "start_time": "2022-04-26T19:30:15.371Z"
   },
   {
    "duration": 50,
    "start_time": "2022-04-26T19:30:15.444Z"
   },
   {
    "duration": 13,
    "start_time": "2022-04-26T19:30:15.497Z"
   },
   {
    "duration": 102,
    "start_time": "2022-04-26T19:30:15.536Z"
   },
   {
    "duration": 143,
    "start_time": "2022-04-26T19:30:15.640Z"
   },
   {
    "duration": 20,
    "start_time": "2022-04-26T19:30:15.786Z"
   },
   {
    "duration": 43,
    "start_time": "2022-04-26T19:30:15.808Z"
   },
   {
    "duration": 41,
    "start_time": "2022-04-26T19:30:15.853Z"
   },
   {
    "duration": 64,
    "start_time": "2022-04-26T19:30:15.897Z"
   },
   {
    "duration": 19,
    "start_time": "2022-04-26T19:30:15.964Z"
   },
   {
    "duration": 40,
    "start_time": "2022-04-26T19:30:15.985Z"
   },
   {
    "duration": 19,
    "start_time": "2022-04-26T19:30:16.027Z"
   },
   {
    "duration": 74,
    "start_time": "2022-04-26T19:30:16.049Z"
   },
   {
    "duration": 45,
    "start_time": "2022-04-26T19:30:16.125Z"
   },
   {
    "duration": 58,
    "start_time": "2022-04-26T19:30:16.172Z"
   },
   {
    "duration": 283,
    "start_time": "2022-04-26T19:30:16.235Z"
   },
   {
    "duration": 17,
    "start_time": "2022-04-26T19:30:16.520Z"
   },
   {
    "duration": 580,
    "start_time": "2022-04-26T19:30:16.540Z"
   },
   {
    "duration": 316,
    "start_time": "2022-04-26T19:30:17.122Z"
   },
   {
    "duration": 406,
    "start_time": "2022-04-26T19:30:17.441Z"
   },
   {
    "duration": 6,
    "start_time": "2022-04-26T19:30:17.851Z"
   },
   {
    "duration": 3855,
    "start_time": "2022-04-26T19:30:17.859Z"
   },
   {
    "duration": 385,
    "start_time": "2022-04-26T19:30:21.717Z"
   },
   {
    "duration": 10,
    "start_time": "2022-04-26T19:30:22.106Z"
   },
   {
    "duration": 164,
    "start_time": "2022-04-26T19:30:22.120Z"
   },
   {
    "duration": 28,
    "start_time": "2022-04-26T19:30:22.286Z"
   },
   {
    "duration": 32,
    "start_time": "2022-04-26T19:30:22.317Z"
   },
   {
    "duration": 5869,
    "start_time": "2022-04-26T19:30:22.351Z"
   },
   {
    "duration": 1217,
    "start_time": "2022-04-26T19:37:42.185Z"
   },
   {
    "duration": 187,
    "start_time": "2022-04-26T19:37:43.405Z"
   },
   {
    "duration": 0,
    "start_time": "2022-04-26T19:37:43.594Z"
   },
   {
    "duration": 10,
    "start_time": "2022-04-26T19:37:43.936Z"
   },
   {
    "duration": 9,
    "start_time": "2022-04-26T19:37:44.654Z"
   },
   {
    "duration": 9,
    "start_time": "2022-04-26T19:37:46.012Z"
   },
   {
    "duration": 3,
    "start_time": "2022-04-26T19:37:53.132Z"
   },
   {
    "duration": 109,
    "start_time": "2022-04-26T19:37:54.072Z"
   },
   {
    "duration": 198,
    "start_time": "2022-04-26T19:37:54.968Z"
   },
   {
    "duration": 23,
    "start_time": "2022-04-26T19:37:56.346Z"
   },
   {
    "duration": 21,
    "start_time": "2022-04-26T19:37:57.118Z"
   },
   {
    "duration": 28,
    "start_time": "2022-04-26T19:37:57.344Z"
   },
   {
    "duration": 16,
    "start_time": "2022-04-26T19:37:59.394Z"
   },
   {
    "duration": 9,
    "start_time": "2022-04-26T19:38:03.128Z"
   },
   {
    "duration": 6,
    "start_time": "2022-04-26T19:38:05.045Z"
   },
   {
    "duration": 4,
    "start_time": "2022-04-26T19:38:38.809Z"
   },
   {
    "duration": 4,
    "start_time": "2022-04-26T19:38:41.825Z"
   },
   {
    "duration": 24,
    "start_time": "2022-04-26T19:38:45.128Z"
   },
   {
    "duration": 47,
    "start_time": "2022-04-26T19:38:53.229Z"
   },
   {
    "duration": 8,
    "start_time": "2022-04-26T19:39:20.498Z"
   },
   {
    "duration": 11,
    "start_time": "2022-04-26T19:39:22.702Z"
   },
   {
    "duration": 42,
    "start_time": "2022-04-26T19:39:42.199Z"
   },
   {
    "duration": 10,
    "start_time": "2022-04-26T20:08:21.964Z"
   },
   {
    "duration": 3,
    "start_time": "2022-04-26T20:08:33.572Z"
   },
   {
    "duration": 111,
    "start_time": "2022-04-26T20:08:33.577Z"
   },
   {
    "duration": 0,
    "start_time": "2022-04-26T20:08:33.691Z"
   },
   {
    "duration": 0,
    "start_time": "2022-04-26T20:08:33.692Z"
   },
   {
    "duration": 0,
    "start_time": "2022-04-26T20:08:33.694Z"
   },
   {
    "duration": 0,
    "start_time": "2022-04-26T20:08:33.695Z"
   },
   {
    "duration": 0,
    "start_time": "2022-04-26T20:08:33.696Z"
   },
   {
    "duration": 0,
    "start_time": "2022-04-26T20:08:33.698Z"
   },
   {
    "duration": 0,
    "start_time": "2022-04-26T20:08:33.699Z"
   },
   {
    "duration": 0,
    "start_time": "2022-04-26T20:08:33.700Z"
   },
   {
    "duration": 0,
    "start_time": "2022-04-26T20:08:33.701Z"
   },
   {
    "duration": 0,
    "start_time": "2022-04-26T20:08:33.703Z"
   },
   {
    "duration": 1,
    "start_time": "2022-04-26T20:08:33.704Z"
   },
   {
    "duration": 0,
    "start_time": "2022-04-26T20:08:33.706Z"
   },
   {
    "duration": 0,
    "start_time": "2022-04-26T20:08:33.707Z"
   },
   {
    "duration": 0,
    "start_time": "2022-04-26T20:08:33.708Z"
   },
   {
    "duration": 0,
    "start_time": "2022-04-26T20:08:33.710Z"
   },
   {
    "duration": 0,
    "start_time": "2022-04-26T20:08:33.711Z"
   },
   {
    "duration": 0,
    "start_time": "2022-04-26T20:08:33.713Z"
   },
   {
    "duration": 0,
    "start_time": "2022-04-26T20:08:33.714Z"
   },
   {
    "duration": 0,
    "start_time": "2022-04-26T20:08:33.715Z"
   },
   {
    "duration": 0,
    "start_time": "2022-04-26T20:08:33.717Z"
   },
   {
    "duration": 4,
    "start_time": "2022-04-26T20:08:45.446Z"
   },
   {
    "duration": 1270,
    "start_time": "2022-04-26T20:08:56.999Z"
   },
   {
    "duration": 208,
    "start_time": "2022-04-26T20:08:59.182Z"
   },
   {
    "duration": 162,
    "start_time": "2022-04-26T20:08:59.519Z"
   },
   {
    "duration": 32,
    "start_time": "2022-04-26T20:09:00.550Z"
   },
   {
    "duration": 31,
    "start_time": "2022-04-26T20:09:01.275Z"
   },
   {
    "duration": 40,
    "start_time": "2022-04-26T20:09:01.456Z"
   },
   {
    "duration": 24,
    "start_time": "2022-04-26T20:09:02.369Z"
   },
   {
    "duration": 11,
    "start_time": "2022-04-26T20:09:02.699Z"
   },
   {
    "duration": 7,
    "start_time": "2022-04-26T20:09:02.854Z"
   },
   {
    "duration": 15,
    "start_time": "2022-04-26T20:09:03.176Z"
   },
   {
    "duration": 6,
    "start_time": "2022-04-26T20:09:03.561Z"
   },
   {
    "duration": 16,
    "start_time": "2022-04-26T20:09:03.969Z"
   },
   {
    "duration": 12,
    "start_time": "2022-04-26T20:09:05.307Z"
   },
   {
    "duration": 20,
    "start_time": "2022-04-26T20:09:06.958Z"
   },
   {
    "duration": 84,
    "start_time": "2022-04-26T20:09:07.567Z"
   },
   {
    "duration": 46,
    "start_time": "2022-04-26T20:09:08.624Z"
   },
   {
    "duration": 30,
    "start_time": "2022-04-26T20:09:09.196Z"
   },
   {
    "duration": 13,
    "start_time": "2022-04-26T20:09:09.742Z"
   },
   {
    "duration": 56,
    "start_time": "2022-04-26T20:09:10.190Z"
   },
   {
    "duration": 119,
    "start_time": "2022-04-26T20:09:11.571Z"
   },
   {
    "duration": 12,
    "start_time": "2022-04-26T20:09:24.918Z"
   },
   {
    "duration": 13,
    "start_time": "2022-04-26T20:09:25.350Z"
   },
   {
    "duration": 7,
    "start_time": "2022-04-26T20:09:26.685Z"
   },
   {
    "duration": 6,
    "start_time": "2022-04-26T20:20:35.755Z"
   },
   {
    "duration": 5,
    "start_time": "2022-04-26T20:39:58.281Z"
   },
   {
    "duration": 2149,
    "start_time": "2022-04-26T20:40:23.332Z"
   },
   {
    "duration": 222,
    "start_time": "2022-04-26T20:40:27.562Z"
   },
   {
    "duration": 183,
    "start_time": "2022-04-26T20:40:28.497Z"
   },
   {
    "duration": 26,
    "start_time": "2022-04-26T20:40:29.554Z"
   },
   {
    "duration": 26,
    "start_time": "2022-04-26T20:40:30.144Z"
   },
   {
    "duration": 39,
    "start_time": "2022-04-26T20:40:30.416Z"
   },
   {
    "duration": 17,
    "start_time": "2022-04-26T20:40:32.754Z"
   },
   {
    "duration": 8,
    "start_time": "2022-04-26T20:40:32.773Z"
   },
   {
    "duration": 9,
    "start_time": "2022-04-26T20:40:32.783Z"
   },
   {
    "duration": 15,
    "start_time": "2022-04-26T20:40:32.794Z"
   },
   {
    "duration": 6,
    "start_time": "2022-04-26T20:40:33.058Z"
   },
   {
    "duration": 23,
    "start_time": "2022-04-26T20:40:34.030Z"
   },
   {
    "duration": 11,
    "start_time": "2022-04-26T20:40:34.306Z"
   },
   {
    "duration": 21,
    "start_time": "2022-04-26T20:40:35.266Z"
   },
   {
    "duration": 87,
    "start_time": "2022-04-26T20:40:35.981Z"
   },
   {
    "duration": 50,
    "start_time": "2022-04-26T20:40:36.634Z"
   },
   {
    "duration": 48,
    "start_time": "2022-04-26T20:40:37.059Z"
   },
   {
    "duration": 19,
    "start_time": "2022-04-26T20:40:37.434Z"
   },
   {
    "duration": 69,
    "start_time": "2022-04-26T20:40:37.730Z"
   },
   {
    "duration": 76,
    "start_time": "2022-04-26T20:40:38.525Z"
   },
   {
    "duration": 14,
    "start_time": "2022-04-26T20:40:39.163Z"
   },
   {
    "duration": 14,
    "start_time": "2022-04-26T20:40:39.506Z"
   },
   {
    "duration": 12,
    "start_time": "2022-04-26T20:40:40.723Z"
   },
   {
    "duration": 45,
    "start_time": "2022-04-26T20:40:41.565Z"
   },
   {
    "duration": 13,
    "start_time": "2022-04-26T20:40:42.162Z"
   },
   {
    "duration": 13,
    "start_time": "2022-04-26T20:40:43.593Z"
   },
   {
    "duration": 6,
    "start_time": "2022-04-26T20:40:46.218Z"
   },
   {
    "duration": 6,
    "start_time": "2022-04-26T20:40:47.451Z"
   },
   {
    "duration": 8,
    "start_time": "2022-04-26T20:43:14.542Z"
   },
   {
    "duration": 5,
    "start_time": "2022-04-26T20:43:20.355Z"
   },
   {
    "duration": 5,
    "start_time": "2022-04-26T20:47:08.855Z"
   },
   {
    "duration": 26,
    "start_time": "2022-04-26T20:47:09.573Z"
   },
   {
    "duration": 7,
    "start_time": "2022-04-26T20:47:10.903Z"
   },
   {
    "duration": 33,
    "start_time": "2022-04-26T20:47:12.295Z"
   },
   {
    "duration": 9,
    "start_time": "2022-04-26T20:47:32.903Z"
   },
   {
    "duration": 8,
    "start_time": "2022-04-26T21:19:20.833Z"
   },
   {
    "duration": 3104,
    "start_time": "2022-04-26T21:22:24.970Z"
   },
   {
    "duration": 10,
    "start_time": "2022-04-26T21:22:41.155Z"
   },
   {
    "duration": 415,
    "start_time": "2022-04-26T21:22:42.505Z"
   },
   {
    "duration": 250,
    "start_time": "2022-04-26T21:22:42.923Z"
   },
   {
    "duration": 284,
    "start_time": "2022-04-26T21:22:43.509Z"
   },
   {
    "duration": 4,
    "start_time": "2022-04-26T21:22:44.304Z"
   },
   {
    "duration": 2631,
    "start_time": "2022-04-26T21:22:44.904Z"
   },
   {
    "duration": 261,
    "start_time": "2022-04-26T21:22:47.540Z"
   },
   {
    "duration": 6,
    "start_time": "2022-04-26T21:22:47.803Z"
   },
   {
    "duration": 148,
    "start_time": "2022-04-26T21:22:47.812Z"
   },
   {
    "duration": 9,
    "start_time": "2022-04-26T21:22:47.962Z"
   },
   {
    "duration": 20,
    "start_time": "2022-04-26T21:31:17.295Z"
   },
   {
    "duration": 11,
    "start_time": "2022-04-26T21:31:18.066Z"
   },
   {
    "duration": 4596,
    "start_time": "2022-04-26T21:31:18.080Z"
   },
   {
    "duration": 4778,
    "start_time": "2022-04-26T21:31:54.889Z"
   },
   {
    "duration": 10,
    "start_time": "2022-04-26T21:33:12.205Z"
   },
   {
    "duration": 4929,
    "start_time": "2022-04-26T21:33:37.215Z"
   },
   {
    "duration": 4671,
    "start_time": "2022-04-26T21:35:44.958Z"
   },
   {
    "duration": 5243,
    "start_time": "2022-04-26T21:37:09.073Z"
   },
   {
    "duration": 19,
    "start_time": "2022-04-26T21:38:18.008Z"
   },
   {
    "duration": 10,
    "start_time": "2022-04-26T21:38:27.567Z"
   },
   {
    "duration": 11,
    "start_time": "2022-04-26T21:38:35.281Z"
   },
   {
    "duration": 6827,
    "start_time": "2022-04-26T21:39:05.319Z"
   },
   {
    "duration": 7903,
    "start_time": "2022-04-26T21:39:36.591Z"
   },
   {
    "duration": 1433,
    "start_time": "2022-04-26T21:39:59.564Z"
   },
   {
    "duration": 624,
    "start_time": "2022-04-26T21:40:14.574Z"
   },
   {
    "duration": 0,
    "start_time": "2022-04-26T21:40:15.201Z"
   },
   {
    "duration": 12,
    "start_time": "2022-04-26T21:40:15.526Z"
   },
   {
    "duration": 9,
    "start_time": "2022-04-26T21:40:15.885Z"
   },
   {
    "duration": 9,
    "start_time": "2022-04-26T21:40:16.323Z"
   },
   {
    "duration": 3,
    "start_time": "2022-04-26T21:40:21.412Z"
   },
   {
    "duration": 131,
    "start_time": "2022-04-26T21:40:22.460Z"
   },
   {
    "duration": 203,
    "start_time": "2022-04-26T21:40:22.902Z"
   },
   {
    "duration": 33,
    "start_time": "2022-04-26T21:40:23.641Z"
   },
   {
    "duration": 36,
    "start_time": "2022-04-26T21:40:24.157Z"
   },
   {
    "duration": 38,
    "start_time": "2022-04-26T21:40:24.612Z"
   },
   {
    "duration": 25,
    "start_time": "2022-04-26T21:40:25.653Z"
   },
   {
    "duration": 12,
    "start_time": "2022-04-26T21:40:25.961Z"
   },
   {
    "duration": 6,
    "start_time": "2022-04-26T21:40:26.266Z"
   },
   {
    "duration": 11,
    "start_time": "2022-04-26T21:40:28.076Z"
   },
   {
    "duration": 12,
    "start_time": "2022-04-26T21:40:28.089Z"
   },
   {
    "duration": 19,
    "start_time": "2022-04-26T21:40:28.103Z"
   },
   {
    "duration": 19,
    "start_time": "2022-04-26T21:40:28.124Z"
   },
   {
    "duration": 21,
    "start_time": "2022-04-26T21:40:28.814Z"
   },
   {
    "duration": 91,
    "start_time": "2022-04-26T21:40:29.162Z"
   },
   {
    "duration": 40,
    "start_time": "2022-04-26T21:40:29.789Z"
   },
   {
    "duration": 47,
    "start_time": "2022-04-26T21:40:29.908Z"
   },
   {
    "duration": 11,
    "start_time": "2022-04-26T21:40:30.110Z"
   },
   {
    "duration": 71,
    "start_time": "2022-04-26T21:40:30.308Z"
   },
   {
    "duration": 110,
    "start_time": "2022-04-26T21:40:32.608Z"
   },
   {
    "duration": 27,
    "start_time": "2022-04-26T21:40:32.720Z"
   },
   {
    "duration": 37,
    "start_time": "2022-04-26T21:40:32.749Z"
   },
   {
    "duration": 15,
    "start_time": "2022-04-26T21:40:32.788Z"
   },
   {
    "duration": 48,
    "start_time": "2022-04-26T21:40:32.806Z"
   },
   {
    "duration": 11,
    "start_time": "2022-04-26T21:40:33.382Z"
   },
   {
    "duration": 13,
    "start_time": "2022-04-26T21:40:33.972Z"
   },
   {
    "duration": 6,
    "start_time": "2022-04-26T21:40:34.402Z"
   },
   {
    "duration": 37,
    "start_time": "2022-04-26T21:40:34.721Z"
   },
   {
    "duration": 7,
    "start_time": "2022-04-26T21:40:35.021Z"
   },
   {
    "duration": 40,
    "start_time": "2022-04-26T21:40:36.005Z"
   },
   {
    "duration": 227,
    "start_time": "2022-04-26T21:40:36.924Z"
   },
   {
    "duration": 11,
    "start_time": "2022-04-26T21:40:37.753Z"
   },
   {
    "duration": 442,
    "start_time": "2022-04-26T21:40:38.060Z"
   },
   {
    "duration": 279,
    "start_time": "2022-04-26T21:40:38.667Z"
   },
   {
    "duration": 343,
    "start_time": "2022-04-26T21:40:39.261Z"
   },
   {
    "duration": 5,
    "start_time": "2022-04-26T21:40:39.861Z"
   },
   {
    "duration": 2946,
    "start_time": "2022-04-26T21:40:40.649Z"
   },
   {
    "duration": 313,
    "start_time": "2022-04-26T21:40:43.597Z"
   },
   {
    "duration": 7,
    "start_time": "2022-04-26T21:40:43.911Z"
   },
   {
    "duration": 153,
    "start_time": "2022-04-26T21:40:43.920Z"
   },
   {
    "duration": 22,
    "start_time": "2022-04-26T21:40:44.077Z"
   },
   {
    "duration": 14,
    "start_time": "2022-04-26T21:40:44.101Z"
   },
   {
    "duration": 5164,
    "start_time": "2022-04-26T21:40:44.117Z"
   },
   {
    "duration": 0,
    "start_time": "2022-04-26T21:40:49.283Z"
   },
   {
    "duration": 7640,
    "start_time": "2022-04-26T21:41:15.714Z"
   },
   {
    "duration": 1487,
    "start_time": "2022-04-26T21:54:48.617Z"
   },
   {
    "duration": 6,
    "start_time": "2022-04-26T21:54:54.209Z"
   },
   {
    "duration": 232,
    "start_time": "2022-04-26T21:54:55.948Z"
   },
   {
    "duration": 0,
    "start_time": "2022-04-26T21:54:56.181Z"
   },
   {
    "duration": 9,
    "start_time": "2022-04-26T21:54:57.109Z"
   },
   {
    "duration": 9,
    "start_time": "2022-04-26T21:54:57.884Z"
   },
   {
    "duration": 0,
    "start_time": "2022-04-26T21:54:57.895Z"
   },
   {
    "duration": 1231,
    "start_time": "2022-04-26T21:55:07.899Z"
   },
   {
    "duration": 205,
    "start_time": "2022-04-26T21:55:10.846Z"
   },
   {
    "duration": 167,
    "start_time": "2022-04-26T21:55:12.121Z"
   },
   {
    "duration": 26,
    "start_time": "2022-04-26T21:55:13.961Z"
   },
   {
    "duration": 21,
    "start_time": "2022-04-26T21:55:14.751Z"
   },
   {
    "duration": 33,
    "start_time": "2022-04-26T21:55:14.929Z"
   },
   {
    "duration": 18,
    "start_time": "2022-04-26T21:55:15.905Z"
   },
   {
    "duration": 10,
    "start_time": "2022-04-26T21:55:16.594Z"
   },
   {
    "duration": 7,
    "start_time": "2022-04-26T21:55:16.607Z"
   },
   {
    "duration": 15,
    "start_time": "2022-04-26T21:55:17.087Z"
   },
   {
    "duration": 8,
    "start_time": "2022-04-26T21:55:17.287Z"
   },
   {
    "duration": 16,
    "start_time": "2022-04-26T21:55:17.752Z"
   },
   {
    "duration": 12,
    "start_time": "2022-04-26T21:55:18.505Z"
   },
   {
    "duration": 19,
    "start_time": "2022-04-26T21:55:19.857Z"
   },
   {
    "duration": 94,
    "start_time": "2022-04-26T21:55:19.878Z"
   },
   {
    "duration": 38,
    "start_time": "2022-04-26T21:55:20.387Z"
   },
   {
    "duration": 31,
    "start_time": "2022-04-26T21:55:20.546Z"
   },
   {
    "duration": 10,
    "start_time": "2022-04-26T21:55:20.689Z"
   },
   {
    "duration": 47,
    "start_time": "2022-04-26T21:55:21.191Z"
   },
   {
    "duration": 76,
    "start_time": "2022-04-26T21:55:21.548Z"
   },
   {
    "duration": 14,
    "start_time": "2022-04-26T21:55:21.846Z"
   },
   {
    "duration": 29,
    "start_time": "2022-04-26T21:55:21.862Z"
   },
   {
    "duration": 10,
    "start_time": "2022-04-26T21:55:22.603Z"
   },
   {
    "duration": 31,
    "start_time": "2022-04-26T21:55:23.199Z"
   },
   {
    "duration": 9,
    "start_time": "2022-04-26T21:55:23.958Z"
   },
   {
    "duration": 13,
    "start_time": "2022-04-26T21:55:24.679Z"
   },
   {
    "duration": 6,
    "start_time": "2022-04-26T21:55:25.527Z"
   },
   {
    "duration": 37,
    "start_time": "2022-04-26T21:55:25.994Z"
   },
   {
    "duration": 9,
    "start_time": "2022-04-26T21:55:26.265Z"
   },
   {
    "duration": 48,
    "start_time": "2022-04-26T21:55:26.696Z"
   },
   {
    "duration": 191,
    "start_time": "2022-04-26T21:55:28.063Z"
   },
   {
    "duration": 9,
    "start_time": "2022-04-26T21:55:28.256Z"
   },
   {
    "duration": 366,
    "start_time": "2022-04-26T21:55:28.698Z"
   },
   {
    "duration": 208,
    "start_time": "2022-04-26T21:55:29.350Z"
   },
   {
    "duration": 255,
    "start_time": "2022-04-26T21:55:29.988Z"
   },
   {
    "duration": 4,
    "start_time": "2022-04-26T21:55:31.092Z"
   },
   {
    "duration": 2275,
    "start_time": "2022-04-26T21:55:31.449Z"
   },
   {
    "duration": 251,
    "start_time": "2022-04-26T21:55:33.726Z"
   },
   {
    "duration": 5,
    "start_time": "2022-04-26T21:55:33.979Z"
   },
   {
    "duration": 119,
    "start_time": "2022-04-26T21:55:33.986Z"
   },
   {
    "duration": 21,
    "start_time": "2022-04-26T21:55:34.746Z"
   },
   {
    "duration": 11,
    "start_time": "2022-04-26T21:55:35.290Z"
   },
   {
    "duration": 4121,
    "start_time": "2022-04-26T21:55:35.619Z"
   },
   {
    "duration": 1381,
    "start_time": "2022-05-06T06:27:12.318Z"
   },
   {
    "duration": 2,
    "start_time": "2022-05-06T06:27:13.701Z"
   },
   {
    "duration": 6,
    "start_time": "2022-05-06T06:27:13.705Z"
   },
   {
    "duration": 77,
    "start_time": "2022-05-06T06:27:13.713Z"
   },
   {
    "duration": 20,
    "start_time": "2022-05-06T06:27:13.792Z"
   },
   {
    "duration": 20,
    "start_time": "2022-05-06T06:27:13.814Z"
   },
   {
    "duration": 19,
    "start_time": "2022-05-06T06:27:13.836Z"
   },
   {
    "duration": 23,
    "start_time": "2022-05-06T06:27:13.856Z"
   },
   {
    "duration": 22,
    "start_time": "2022-05-06T06:27:13.880Z"
   },
   {
    "duration": 36,
    "start_time": "2022-05-06T06:27:13.905Z"
   },
   {
    "duration": 14,
    "start_time": "2022-05-06T06:27:13.943Z"
   },
   {
    "duration": 12,
    "start_time": "2022-05-06T06:27:13.959Z"
   },
   {
    "duration": 12,
    "start_time": "2022-05-06T06:27:13.972Z"
   },
   {
    "duration": 23,
    "start_time": "2022-05-06T06:27:13.986Z"
   },
   {
    "duration": 6,
    "start_time": "2022-05-06T06:27:14.011Z"
   },
   {
    "duration": 16,
    "start_time": "2022-05-06T06:27:14.024Z"
   },
   {
    "duration": 12,
    "start_time": "2022-05-06T06:27:14.042Z"
   },
   {
    "duration": 20,
    "start_time": "2022-05-06T06:27:14.056Z"
   },
   {
    "duration": 9,
    "start_time": "2022-05-06T06:27:14.077Z"
   },
   {
    "duration": 16,
    "start_time": "2022-05-06T06:27:14.087Z"
   },
   {
    "duration": 62,
    "start_time": "2022-05-06T06:27:14.105Z"
   },
   {
    "duration": 29,
    "start_time": "2022-05-06T06:27:14.169Z"
   },
   {
    "duration": 48,
    "start_time": "2022-05-06T06:27:14.199Z"
   },
   {
    "duration": 8,
    "start_time": "2022-05-06T06:27:14.248Z"
   },
   {
    "duration": 34,
    "start_time": "2022-05-06T06:27:14.258Z"
   },
   {
    "duration": 85,
    "start_time": "2022-05-06T06:27:14.294Z"
   },
   {
    "duration": 10,
    "start_time": "2022-05-06T06:27:14.381Z"
   },
   {
    "duration": 35,
    "start_time": "2022-05-06T06:27:14.394Z"
   },
   {
    "duration": 5,
    "start_time": "2022-05-06T06:27:14.431Z"
   },
   {
    "duration": 26,
    "start_time": "2022-05-06T06:27:14.437Z"
   },
   {
    "duration": 8,
    "start_time": "2022-05-06T06:27:14.464Z"
   },
   {
    "duration": 18,
    "start_time": "2022-05-06T06:27:14.473Z"
   },
   {
    "duration": 35,
    "start_time": "2022-05-06T06:27:14.492Z"
   },
   {
    "duration": 16,
    "start_time": "2022-05-06T06:27:14.529Z"
   },
   {
    "duration": 24,
    "start_time": "2022-05-06T06:27:14.546Z"
   },
   {
    "duration": 153,
    "start_time": "2022-05-06T06:27:14.572Z"
   },
   {
    "duration": 13,
    "start_time": "2022-05-06T06:27:14.727Z"
   },
   {
    "duration": 130,
    "start_time": "2022-05-06T06:27:14.741Z"
   },
   {
    "duration": 10,
    "start_time": "2022-05-06T06:27:14.873Z"
   },
   {
    "duration": 17,
    "start_time": "2022-05-06T06:27:14.885Z"
   },
   {
    "duration": 135,
    "start_time": "2022-05-06T06:27:14.904Z"
   },
   {
    "duration": 8,
    "start_time": "2022-05-06T06:27:15.041Z"
   },
   {
    "duration": 11,
    "start_time": "2022-05-06T06:27:15.051Z"
   },
   {
    "duration": 122,
    "start_time": "2022-05-06T06:27:15.064Z"
   },
   {
    "duration": 9,
    "start_time": "2022-05-06T06:27:15.188Z"
   },
   {
    "duration": 127,
    "start_time": "2022-05-06T06:27:15.198Z"
   },
   {
    "duration": 9,
    "start_time": "2022-05-06T06:27:15.327Z"
   },
   {
    "duration": 121,
    "start_time": "2022-05-06T06:27:15.338Z"
   },
   {
    "duration": 9,
    "start_time": "2022-05-06T06:27:15.460Z"
   },
   {
    "duration": 6,
    "start_time": "2022-05-06T06:27:15.471Z"
   },
   {
    "duration": 20,
    "start_time": "2022-05-06T06:27:15.479Z"
   },
   {
    "duration": 25,
    "start_time": "2022-05-06T06:27:15.501Z"
   },
   {
    "duration": 26,
    "start_time": "2022-05-06T06:27:15.527Z"
   },
   {
    "duration": 145,
    "start_time": "2022-05-06T06:27:15.554Z"
   },
   {
    "duration": 6,
    "start_time": "2022-05-06T06:27:15.701Z"
   },
   {
    "duration": 359,
    "start_time": "2022-05-06T06:27:15.709Z"
   },
   {
    "duration": 175,
    "start_time": "2022-05-06T06:27:16.070Z"
   },
   {
    "duration": 233,
    "start_time": "2022-05-06T06:27:16.247Z"
   },
   {
    "duration": 4,
    "start_time": "2022-05-06T06:27:16.482Z"
   },
   {
    "duration": 1652,
    "start_time": "2022-05-06T06:27:16.487Z"
   },
   {
    "duration": 187,
    "start_time": "2022-05-06T06:27:18.140Z"
   },
   {
    "duration": 5,
    "start_time": "2022-05-06T06:27:18.328Z"
   },
   {
    "duration": 92,
    "start_time": "2022-05-06T06:27:18.334Z"
   },
   {
    "duration": 12,
    "start_time": "2022-05-06T06:27:18.428Z"
   },
   {
    "duration": 12,
    "start_time": "2022-05-06T06:27:18.441Z"
   },
   {
    "duration": 4898,
    "start_time": "2022-05-06T06:27:18.454Z"
   },
   {
    "duration": 5,
    "start_time": "2022-05-06T06:32:32.849Z"
   },
   {
    "duration": 3,
    "start_time": "2022-05-06T06:34:00.997Z"
   },
   {
    "duration": 4,
    "start_time": "2022-05-06T06:34:48.998Z"
   },
   {
    "duration": 5,
    "start_time": "2022-05-06T06:41:11.023Z"
   },
   {
    "duration": 5,
    "start_time": "2022-05-06T06:43:27.224Z"
   },
   {
    "duration": 1065,
    "start_time": "2022-05-06T06:49:58.854Z"
   },
   {
    "duration": 2,
    "start_time": "2022-05-06T06:50:01.133Z"
   },
   {
    "duration": 3,
    "start_time": "2022-05-06T06:50:01.788Z"
   },
   {
    "duration": 67,
    "start_time": "2022-05-06T06:50:01.998Z"
   },
   {
    "duration": 20,
    "start_time": "2022-05-06T06:50:02.206Z"
   },
   {
    "duration": 22,
    "start_time": "2022-05-06T06:50:02.644Z"
   },
   {
    "duration": 20,
    "start_time": "2022-05-06T06:50:03.492Z"
   },
   {
    "duration": 18,
    "start_time": "2022-05-06T06:50:04.004Z"
   },
   {
    "duration": 26,
    "start_time": "2022-05-06T06:50:04.222Z"
   },
   {
    "duration": 23,
    "start_time": "2022-05-06T06:50:04.428Z"
   },
   {
    "duration": 16,
    "start_time": "2022-05-06T06:50:07.308Z"
   },
   {
    "duration": 8,
    "start_time": "2022-05-06T06:50:11.388Z"
   },
   {
    "duration": 5,
    "start_time": "2022-05-06T06:50:12.774Z"
   },
   {
    "duration": 10,
    "start_time": "2022-05-06T06:50:15.118Z"
   },
   {
    "duration": 7,
    "start_time": "2022-05-06T06:50:23.031Z"
   },
   {
    "duration": 5,
    "start_time": "2022-05-06T06:50:32.141Z"
   },
   {
    "duration": 19,
    "start_time": "2022-05-06T06:50:40.789Z"
   },
   {
    "duration": 1100,
    "start_time": "2022-05-06T06:51:39.700Z"
   },
   {
    "duration": 2,
    "start_time": "2022-05-06T06:51:40.802Z"
   },
   {
    "duration": 2,
    "start_time": "2022-05-06T06:51:41.283Z"
   },
   {
    "duration": 63,
    "start_time": "2022-05-06T06:51:41.605Z"
   },
   {
    "duration": 20,
    "start_time": "2022-05-06T06:51:42.141Z"
   },
   {
    "duration": 21,
    "start_time": "2022-05-06T06:51:42.589Z"
   },
   {
    "duration": 20,
    "start_time": "2022-05-06T06:51:44.291Z"
   },
   {
    "duration": 17,
    "start_time": "2022-05-06T06:51:47.923Z"
   },
   {
    "duration": 22,
    "start_time": "2022-05-06T06:51:48.461Z"
   },
   {
    "duration": 19,
    "start_time": "2022-05-06T06:51:49.141Z"
   },
   {
    "duration": 12,
    "start_time": "2022-05-06T06:51:54.644Z"
   },
   {
    "duration": 7,
    "start_time": "2022-05-06T06:51:57.868Z"
   },
   {
    "duration": 4,
    "start_time": "2022-05-06T06:51:58.660Z"
   },
   {
    "duration": 10,
    "start_time": "2022-05-06T06:52:01.172Z"
   },
   {
    "duration": 5,
    "start_time": "2022-05-06T06:52:07.835Z"
   },
   {
    "duration": 573,
    "start_time": "2022-05-06T06:52:08.774Z"
   },
   {
    "duration": 14,
    "start_time": "2022-05-06T06:52:18.772Z"
   },
   {
    "duration": 9,
    "start_time": "2022-05-06T07:17:50.463Z"
   },
   {
    "duration": 1172,
    "start_time": "2022-05-06T07:17:59.166Z"
   },
   {
    "duration": 3,
    "start_time": "2022-05-06T07:18:00.341Z"
   },
   {
    "duration": 10,
    "start_time": "2022-05-06T07:18:00.345Z"
   },
   {
    "duration": 96,
    "start_time": "2022-05-06T07:18:00.357Z"
   },
   {
    "duration": 20,
    "start_time": "2022-05-06T07:18:00.455Z"
   },
   {
    "duration": 23,
    "start_time": "2022-05-06T07:18:00.477Z"
   },
   {
    "duration": 26,
    "start_time": "2022-05-06T07:18:00.502Z"
   },
   {
    "duration": 24,
    "start_time": "2022-05-06T07:18:00.530Z"
   },
   {
    "duration": 25,
    "start_time": "2022-05-06T07:18:00.555Z"
   },
   {
    "duration": 50,
    "start_time": "2022-05-06T07:18:00.582Z"
   },
   {
    "duration": 14,
    "start_time": "2022-05-06T07:18:00.635Z"
   },
   {
    "duration": 7,
    "start_time": "2022-05-06T07:18:00.651Z"
   },
   {
    "duration": 21,
    "start_time": "2022-05-06T07:18:00.659Z"
   },
   {
    "duration": 19,
    "start_time": "2022-05-06T07:18:00.683Z"
   },
   {
    "duration": 36,
    "start_time": "2022-05-06T07:18:00.704Z"
   },
   {
    "duration": 8,
    "start_time": "2022-05-06T07:18:00.742Z"
   },
   {
    "duration": 11,
    "start_time": "2022-05-06T07:18:00.752Z"
   },
   {
    "duration": 17,
    "start_time": "2022-05-06T07:18:00.765Z"
   },
   {
    "duration": 9,
    "start_time": "2022-05-06T07:18:00.783Z"
   },
   {
    "duration": 18,
    "start_time": "2022-05-06T07:18:00.794Z"
   },
   {
    "duration": 65,
    "start_time": "2022-05-06T07:18:00.814Z"
   },
   {
    "duration": 43,
    "start_time": "2022-05-06T07:18:00.881Z"
   },
   {
    "duration": 33,
    "start_time": "2022-05-06T07:18:00.925Z"
   },
   {
    "duration": 9,
    "start_time": "2022-05-06T07:18:00.959Z"
   },
   {
    "duration": 62,
    "start_time": "2022-05-06T07:18:00.970Z"
   },
   {
    "duration": 67,
    "start_time": "2022-05-06T07:18:01.033Z"
   },
   {
    "duration": 14,
    "start_time": "2022-05-06T07:18:01.124Z"
   },
   {
    "duration": 22,
    "start_time": "2022-05-06T07:18:01.140Z"
   },
   {
    "duration": 17,
    "start_time": "2022-05-06T07:18:01.163Z"
   },
   {
    "duration": 31,
    "start_time": "2022-05-06T07:18:01.182Z"
   },
   {
    "duration": 15,
    "start_time": "2022-05-06T07:18:01.215Z"
   },
   {
    "duration": 40,
    "start_time": "2022-05-06T07:18:01.232Z"
   },
   {
    "duration": 8,
    "start_time": "2022-05-06T07:18:01.274Z"
   },
   {
    "duration": 25,
    "start_time": "2022-05-06T07:18:01.284Z"
   },
   {
    "duration": 31,
    "start_time": "2022-05-06T07:18:01.310Z"
   },
   {
    "duration": 151,
    "start_time": "2022-05-06T07:18:01.342Z"
   },
   {
    "duration": 14,
    "start_time": "2022-05-06T07:18:01.495Z"
   },
   {
    "duration": 150,
    "start_time": "2022-05-06T07:18:01.510Z"
   },
   {
    "duration": 9,
    "start_time": "2022-05-06T07:18:01.662Z"
   },
   {
    "duration": 25,
    "start_time": "2022-05-06T07:18:01.673Z"
   },
   {
    "duration": 139,
    "start_time": "2022-05-06T07:18:01.702Z"
   },
   {
    "duration": 9,
    "start_time": "2022-05-06T07:18:01.843Z"
   },
   {
    "duration": 26,
    "start_time": "2022-05-06T07:18:01.853Z"
   },
   {
    "duration": 112,
    "start_time": "2022-05-06T07:18:01.881Z"
   },
   {
    "duration": 9,
    "start_time": "2022-05-06T07:18:01.994Z"
   },
   {
    "duration": 155,
    "start_time": "2022-05-06T07:18:02.005Z"
   },
   {
    "duration": 8,
    "start_time": "2022-05-06T07:18:02.162Z"
   },
   {
    "duration": 137,
    "start_time": "2022-05-06T07:18:02.172Z"
   },
   {
    "duration": 14,
    "start_time": "2022-05-06T07:18:02.310Z"
   },
   {
    "duration": 22,
    "start_time": "2022-05-06T07:18:02.326Z"
   },
   {
    "duration": 41,
    "start_time": "2022-05-06T07:18:02.350Z"
   },
   {
    "duration": 16,
    "start_time": "2022-05-06T07:18:02.392Z"
   },
   {
    "duration": 50,
    "start_time": "2022-05-06T07:18:02.409Z"
   },
   {
    "duration": 8,
    "start_time": "2022-05-06T07:18:02.460Z"
   },
   {
    "duration": 141,
    "start_time": "2022-05-06T07:18:02.469Z"
   },
   {
    "duration": 14,
    "start_time": "2022-05-06T07:18:02.611Z"
   },
   {
    "duration": 404,
    "start_time": "2022-05-06T07:18:02.626Z"
   },
   {
    "duration": 181,
    "start_time": "2022-05-06T07:18:03.032Z"
   },
   {
    "duration": 242,
    "start_time": "2022-05-06T07:18:03.214Z"
   },
   {
    "duration": 4,
    "start_time": "2022-05-06T07:18:03.457Z"
   },
   {
    "duration": 1710,
    "start_time": "2022-05-06T07:18:03.463Z"
   },
   {
    "duration": 202,
    "start_time": "2022-05-06T07:18:05.174Z"
   },
   {
    "duration": 4,
    "start_time": "2022-05-06T07:18:05.378Z"
   },
   {
    "duration": 101,
    "start_time": "2022-05-06T07:18:05.384Z"
   },
   {
    "duration": 13,
    "start_time": "2022-05-06T07:18:05.487Z"
   },
   {
    "duration": 26,
    "start_time": "2022-05-06T07:18:05.502Z"
   },
   {
    "duration": 4830,
    "start_time": "2022-05-06T07:18:05.530Z"
   },
   {
    "duration": 1157,
    "start_time": "2022-05-06T07:32:01.239Z"
   },
   {
    "duration": 2,
    "start_time": "2022-05-06T07:32:02.398Z"
   },
   {
    "duration": 9,
    "start_time": "2022-05-06T07:32:02.401Z"
   },
   {
    "duration": 72,
    "start_time": "2022-05-06T07:32:02.412Z"
   },
   {
    "duration": 20,
    "start_time": "2022-05-06T07:32:02.486Z"
   },
   {
    "duration": 21,
    "start_time": "2022-05-06T07:32:02.507Z"
   },
   {
    "duration": 22,
    "start_time": "2022-05-06T07:32:02.529Z"
   },
   {
    "duration": 19,
    "start_time": "2022-05-06T07:32:02.552Z"
   },
   {
    "duration": 21,
    "start_time": "2022-05-06T07:32:02.573Z"
   },
   {
    "duration": 46,
    "start_time": "2022-05-06T07:32:02.596Z"
   },
   {
    "duration": 15,
    "start_time": "2022-05-06T07:32:02.643Z"
   },
   {
    "duration": 8,
    "start_time": "2022-05-06T07:32:02.659Z"
   },
   {
    "duration": 6,
    "start_time": "2022-05-06T07:32:02.668Z"
   },
   {
    "duration": 11,
    "start_time": "2022-05-06T07:32:02.676Z"
   },
   {
    "duration": 3,
    "start_time": "2022-05-06T07:32:02.688Z"
   },
   {
    "duration": 7,
    "start_time": "2022-05-06T07:32:02.724Z"
   },
   {
    "duration": 5,
    "start_time": "2022-05-06T07:32:02.732Z"
   },
   {
    "duration": 17,
    "start_time": "2022-05-06T07:32:02.739Z"
   },
   {
    "duration": 10,
    "start_time": "2022-05-06T07:32:02.757Z"
   },
   {
    "duration": 16,
    "start_time": "2022-05-06T07:32:02.769Z"
   },
   {
    "duration": 94,
    "start_time": "2022-05-06T07:32:02.787Z"
   },
   {
    "duration": 53,
    "start_time": "2022-05-06T07:32:02.883Z"
   },
   {
    "duration": 28,
    "start_time": "2022-05-06T07:32:02.938Z"
   },
   {
    "duration": 9,
    "start_time": "2022-05-06T07:32:02.968Z"
   },
   {
    "duration": 57,
    "start_time": "2022-05-06T07:32:02.978Z"
   },
   {
    "duration": 61,
    "start_time": "2022-05-06T07:32:03.037Z"
   },
   {
    "duration": 12,
    "start_time": "2022-05-06T07:32:03.124Z"
   },
   {
    "duration": 12,
    "start_time": "2022-05-06T07:32:03.137Z"
   },
   {
    "duration": 2,
    "start_time": "2022-05-06T07:32:03.151Z"
   },
   {
    "duration": 26,
    "start_time": "2022-05-06T07:32:03.155Z"
   },
   {
    "duration": 9,
    "start_time": "2022-05-06T07:32:03.183Z"
   },
   {
    "duration": 46,
    "start_time": "2022-05-06T07:32:03.194Z"
   },
   {
    "duration": 9,
    "start_time": "2022-05-06T07:32:03.241Z"
   },
   {
    "duration": 18,
    "start_time": "2022-05-06T07:32:03.252Z"
   },
   {
    "duration": 54,
    "start_time": "2022-05-06T07:32:03.271Z"
   },
   {
    "duration": 136,
    "start_time": "2022-05-06T07:32:03.327Z"
   },
   {
    "duration": 14,
    "start_time": "2022-05-06T07:32:03.465Z"
   },
   {
    "duration": 133,
    "start_time": "2022-05-06T07:32:03.481Z"
   },
   {
    "duration": 14,
    "start_time": "2022-05-06T07:32:03.616Z"
   },
   {
    "duration": 13,
    "start_time": "2022-05-06T07:32:03.631Z"
   },
   {
    "duration": 134,
    "start_time": "2022-05-06T07:32:03.648Z"
   },
   {
    "duration": 10,
    "start_time": "2022-05-06T07:32:03.784Z"
   },
   {
    "duration": 31,
    "start_time": "2022-05-06T07:32:03.795Z"
   },
   {
    "duration": 110,
    "start_time": "2022-05-06T07:32:03.828Z"
   },
   {
    "duration": 10,
    "start_time": "2022-05-06T07:32:03.939Z"
   },
   {
    "duration": 132,
    "start_time": "2022-05-06T07:32:03.950Z"
   },
   {
    "duration": 9,
    "start_time": "2022-05-06T07:32:04.084Z"
   },
   {
    "duration": 119,
    "start_time": "2022-05-06T07:32:04.094Z"
   },
   {
    "duration": 16,
    "start_time": "2022-05-06T07:32:04.215Z"
   },
   {
    "duration": 5,
    "start_time": "2022-05-06T07:32:04.233Z"
   },
   {
    "duration": 24,
    "start_time": "2022-05-06T07:32:04.240Z"
   },
   {
    "duration": 11,
    "start_time": "2022-05-06T07:32:04.267Z"
   },
   {
    "duration": 55,
    "start_time": "2022-05-06T07:32:04.280Z"
   },
   {
    "duration": 149,
    "start_time": "2022-05-06T07:32:04.337Z"
   },
   {
    "duration": 8,
    "start_time": "2022-05-06T07:32:04.488Z"
   },
   {
    "duration": 388,
    "start_time": "2022-05-06T07:32:04.498Z"
   },
   {
    "duration": 183,
    "start_time": "2022-05-06T07:32:04.887Z"
   },
   {
    "duration": 244,
    "start_time": "2022-05-06T07:32:05.072Z"
   },
   {
    "duration": 3,
    "start_time": "2022-05-06T07:32:05.318Z"
   },
   {
    "duration": 1663,
    "start_time": "2022-05-06T07:32:05.324Z"
   },
   {
    "duration": 211,
    "start_time": "2022-05-06T07:32:06.989Z"
   },
   {
    "duration": 4,
    "start_time": "2022-05-06T07:32:07.202Z"
   },
   {
    "duration": 99,
    "start_time": "2022-05-06T07:32:07.208Z"
   },
   {
    "duration": 26,
    "start_time": "2022-05-06T07:32:07.308Z"
   },
   {
    "duration": 21,
    "start_time": "2022-05-06T07:32:07.336Z"
   },
   {
    "duration": 6025,
    "start_time": "2022-05-06T07:32:07.359Z"
   },
   {
    "duration": 72,
    "start_time": "2022-05-10T13:17:38.205Z"
   },
   {
    "duration": 110,
    "start_time": "2022-05-10T13:17:58.173Z"
   },
   {
    "duration": 2509,
    "start_time": "2022-05-10T13:18:01.773Z"
   },
   {
    "duration": 143,
    "start_time": "2022-05-10T13:18:04.286Z"
   },
   {
    "duration": 27,
    "start_time": "2022-05-10T13:18:04.433Z"
   },
   {
    "duration": 35,
    "start_time": "2022-05-10T13:18:04.463Z"
   },
   {
    "duration": 60,
    "start_time": "2022-05-10T13:18:04.500Z"
   },
   {
    "duration": 71,
    "start_time": "2022-05-10T13:18:04.563Z"
   },
   {
    "duration": 58,
    "start_time": "2022-05-10T13:18:04.638Z"
   },
   {
    "duration": 66,
    "start_time": "2022-05-10T13:18:04.699Z"
   },
   {
    "duration": 29,
    "start_time": "2022-05-10T13:18:04.767Z"
   },
   {
    "duration": 35,
    "start_time": "2022-05-10T13:18:04.799Z"
   },
   {
    "duration": 14,
    "start_time": "2022-05-10T13:18:04.837Z"
   },
   {
    "duration": 19,
    "start_time": "2022-05-10T13:18:04.853Z"
   },
   {
    "duration": 24,
    "start_time": "2022-05-10T13:18:04.874Z"
   },
   {
    "duration": 30,
    "start_time": "2022-05-10T13:18:04.901Z"
   },
   {
    "duration": 533,
    "start_time": "2022-05-10T13:18:11.014Z"
   },
   {
    "duration": 478,
    "start_time": "2022-05-10T13:19:09.536Z"
   },
   {
    "duration": 2196,
    "start_time": "2022-05-10T13:19:18.556Z"
   },
   {
    "duration": 3,
    "start_time": "2022-05-10T13:22:10.372Z"
   },
   {
    "duration": 1643,
    "start_time": "2022-05-10T13:31:46.835Z"
   },
   {
    "duration": 108,
    "start_time": "2022-05-10T13:31:48.482Z"
   },
   {
    "duration": 28,
    "start_time": "2022-05-10T13:31:48.593Z"
   },
   {
    "duration": 58,
    "start_time": "2022-05-10T13:31:48.627Z"
   },
   {
    "duration": 45,
    "start_time": "2022-05-10T13:31:48.687Z"
   },
   {
    "duration": 31,
    "start_time": "2022-05-10T13:31:48.735Z"
   },
   {
    "duration": 72,
    "start_time": "2022-05-10T13:31:48.769Z"
   },
   {
    "duration": 39,
    "start_time": "2022-05-10T13:31:48.844Z"
   },
   {
    "duration": 53,
    "start_time": "2022-05-10T13:31:48.885Z"
   },
   {
    "duration": 11,
    "start_time": "2022-05-10T13:31:48.942Z"
   },
   {
    "duration": 11,
    "start_time": "2022-05-10T13:31:48.956Z"
   },
   {
    "duration": 58,
    "start_time": "2022-05-10T13:31:48.971Z"
   },
   {
    "duration": 8,
    "start_time": "2022-05-10T13:31:49.032Z"
   },
   {
    "duration": 29,
    "start_time": "2022-05-10T13:31:49.043Z"
   },
   {
    "duration": 5,
    "start_time": "2022-05-10T13:31:49.075Z"
   },
   {
    "duration": 59,
    "start_time": "2022-05-10T13:31:49.083Z"
   },
   {
    "duration": 15,
    "start_time": "2022-05-10T13:31:49.145Z"
   },
   {
    "duration": 66,
    "start_time": "2022-05-10T13:31:49.163Z"
   },
   {
    "duration": 140,
    "start_time": "2022-05-10T13:31:49.233Z"
   },
   {
    "duration": 73,
    "start_time": "2022-05-10T13:31:49.376Z"
   },
   {
    "duration": 88,
    "start_time": "2022-05-10T13:31:49.451Z"
   },
   {
    "duration": 14,
    "start_time": "2022-05-10T13:31:49.541Z"
   },
   {
    "duration": 113,
    "start_time": "2022-05-10T13:31:49.558Z"
   },
   {
    "duration": 193,
    "start_time": "2022-05-10T13:31:49.674Z"
   },
   {
    "duration": 25,
    "start_time": "2022-05-10T13:31:49.870Z"
   },
   {
    "duration": 19,
    "start_time": "2022-05-10T13:31:49.925Z"
   },
   {
    "duration": 10,
    "start_time": "2022-05-10T13:31:49.947Z"
   },
   {
    "duration": 68,
    "start_time": "2022-05-10T13:31:49.965Z"
   },
   {
    "duration": 17,
    "start_time": "2022-05-10T13:31:50.036Z"
   },
   {
    "duration": 39,
    "start_time": "2022-05-10T13:31:50.055Z"
   },
   {
    "duration": 34,
    "start_time": "2022-05-10T13:31:50.097Z"
   },
   {
    "duration": 30,
    "start_time": "2022-05-10T13:31:50.133Z"
   },
   {
    "duration": 60,
    "start_time": "2022-05-10T13:31:50.166Z"
   },
   {
    "duration": 270,
    "start_time": "2022-05-10T13:31:50.230Z"
   },
   {
    "duration": 32,
    "start_time": "2022-05-10T13:31:50.503Z"
   },
   {
    "duration": 248,
    "start_time": "2022-05-10T13:31:50.537Z"
   },
   {
    "duration": 14,
    "start_time": "2022-05-10T13:31:50.787Z"
   },
   {
    "duration": 42,
    "start_time": "2022-05-10T13:31:50.804Z"
   },
   {
    "duration": 233,
    "start_time": "2022-05-10T13:31:50.848Z"
   },
   {
    "duration": 14,
    "start_time": "2022-05-10T13:31:51.083Z"
   },
   {
    "duration": 47,
    "start_time": "2022-05-10T13:31:51.100Z"
   },
   {
    "duration": 224,
    "start_time": "2022-05-10T13:31:51.149Z"
   },
   {
    "duration": 13,
    "start_time": "2022-05-10T13:31:51.376Z"
   },
   {
    "duration": 253,
    "start_time": "2022-05-10T13:31:51.392Z"
   },
   {
    "duration": 14,
    "start_time": "2022-05-10T13:31:51.648Z"
   },
   {
    "duration": 250,
    "start_time": "2022-05-10T13:31:51.665Z"
   },
   {
    "duration": 17,
    "start_time": "2022-05-10T13:31:51.925Z"
   },
   {
    "duration": 11,
    "start_time": "2022-05-10T13:31:51.945Z"
   },
   {
    "duration": 86,
    "start_time": "2022-05-10T13:31:51.959Z"
   },
   {
    "duration": 10,
    "start_time": "2022-05-10T13:31:52.048Z"
   },
   {
    "duration": 97,
    "start_time": "2022-05-10T13:31:52.062Z"
   },
   {
    "duration": 365,
    "start_time": "2022-05-10T13:31:52.163Z"
   },
   {
    "duration": 14,
    "start_time": "2022-05-10T13:31:52.532Z"
   },
   {
    "duration": 664,
    "start_time": "2022-05-10T13:31:52.550Z"
   },
   {
    "duration": 320,
    "start_time": "2022-05-10T13:31:53.217Z"
   },
   {
    "duration": 664,
    "start_time": "2022-05-10T13:31:53.539Z"
   },
   {
    "duration": 19,
    "start_time": "2022-05-10T13:31:54.205Z"
   },
   {
    "duration": 3513,
    "start_time": "2022-05-10T13:31:54.228Z"
   },
   {
    "duration": 386,
    "start_time": "2022-05-10T13:31:57.744Z"
   },
   {
    "duration": 12,
    "start_time": "2022-05-10T13:31:58.132Z"
   },
   {
    "duration": 165,
    "start_time": "2022-05-10T13:31:58.147Z"
   },
   {
    "duration": 32,
    "start_time": "2022-05-10T13:31:58.315Z"
   },
   {
    "duration": 25,
    "start_time": "2022-05-10T13:31:58.350Z"
   },
   {
    "duration": 10805,
    "start_time": "2022-05-10T13:31:58.378Z"
   },
   {
    "duration": 664,
    "start_time": "2022-05-10T13:32:45.198Z"
   },
   {
    "duration": 4,
    "start_time": "2022-05-10T13:32:53.173Z"
   },
   {
    "duration": 643,
    "start_time": "2022-05-10T13:33:02.700Z"
   },
   {
    "duration": 536,
    "start_time": "2022-05-10T13:33:09.257Z"
   },
   {
    "duration": 2521,
    "start_time": "2022-05-10T13:34:00.742Z"
   },
   {
    "duration": 108,
    "start_time": "2022-05-10T13:34:03.266Z"
   },
   {
    "duration": 24,
    "start_time": "2022-05-10T13:34:03.376Z"
   },
   {
    "duration": 38,
    "start_time": "2022-05-10T13:34:03.404Z"
   },
   {
    "duration": 44,
    "start_time": "2022-05-10T13:34:03.444Z"
   },
   {
    "duration": 117,
    "start_time": "2022-05-10T13:34:03.491Z"
   },
   {
    "duration": 58,
    "start_time": "2022-05-10T13:34:03.613Z"
   },
   {
    "duration": 60,
    "start_time": "2022-05-10T13:34:03.675Z"
   },
   {
    "duration": 30,
    "start_time": "2022-05-10T13:34:03.738Z"
   },
   {
    "duration": 14,
    "start_time": "2022-05-10T13:34:03.773Z"
   },
   {
    "duration": 44,
    "start_time": "2022-05-10T13:34:03.790Z"
   },
   {
    "duration": 28,
    "start_time": "2022-05-10T13:34:03.837Z"
   },
   {
    "duration": 5,
    "start_time": "2022-05-10T13:34:03.867Z"
   },
   {
    "duration": 20,
    "start_time": "2022-05-10T13:34:03.875Z"
   },
   {
    "duration": 63,
    "start_time": "2022-05-10T13:34:03.898Z"
   },
   {
    "duration": 29,
    "start_time": "2022-05-10T13:34:03.964Z"
   },
   {
    "duration": 46,
    "start_time": "2022-05-10T13:34:03.996Z"
   },
   {
    "duration": 42,
    "start_time": "2022-05-10T13:34:04.046Z"
   },
   {
    "duration": 299,
    "start_time": "2022-05-10T13:34:04.090Z"
   },
   {
    "duration": 90,
    "start_time": "2022-05-10T13:34:04.393Z"
   },
   {
    "duration": 95,
    "start_time": "2022-05-10T13:34:04.486Z"
   },
   {
    "duration": 20,
    "start_time": "2022-05-10T13:34:04.584Z"
   },
   {
    "duration": 81,
    "start_time": "2022-05-10T13:34:04.607Z"
   },
   {
    "duration": 191,
    "start_time": "2022-05-10T13:34:04.692Z"
   },
   {
    "duration": 48,
    "start_time": "2022-05-10T13:34:04.887Z"
   },
   {
    "duration": 26,
    "start_time": "2022-05-10T13:34:04.938Z"
   },
   {
    "duration": 5,
    "start_time": "2022-05-10T13:34:04.967Z"
   },
   {
    "duration": 115,
    "start_time": "2022-05-10T13:34:04.982Z"
   },
   {
    "duration": 25,
    "start_time": "2022-05-10T13:34:05.099Z"
   },
   {
    "duration": 39,
    "start_time": "2022-05-10T13:34:05.127Z"
   },
   {
    "duration": 19,
    "start_time": "2022-05-10T13:34:05.170Z"
   },
   {
    "duration": 42,
    "start_time": "2022-05-10T13:34:05.224Z"
   },
   {
    "duration": 77,
    "start_time": "2022-05-10T13:34:05.269Z"
   },
   {
    "duration": 365,
    "start_time": "2022-05-10T13:34:05.349Z"
   },
   {
    "duration": 31,
    "start_time": "2022-05-10T13:34:05.717Z"
   },
   {
    "duration": 342,
    "start_time": "2022-05-10T13:34:05.750Z"
   },
   {
    "duration": 30,
    "start_time": "2022-05-10T13:34:06.095Z"
   },
   {
    "duration": 26,
    "start_time": "2022-05-10T13:34:06.128Z"
   },
   {
    "duration": 329,
    "start_time": "2022-05-10T13:34:06.157Z"
   },
   {
    "duration": 35,
    "start_time": "2022-05-10T13:34:06.490Z"
   },
   {
    "duration": 26,
    "start_time": "2022-05-10T13:34:06.528Z"
   },
   {
    "duration": 315,
    "start_time": "2022-05-10T13:34:06.557Z"
   },
   {
    "duration": 19,
    "start_time": "2022-05-10T13:34:06.875Z"
   },
   {
    "duration": 341,
    "start_time": "2022-05-10T13:34:06.898Z"
   },
   {
    "duration": 18,
    "start_time": "2022-05-10T13:34:07.242Z"
   },
   {
    "duration": 319,
    "start_time": "2022-05-10T13:34:07.263Z"
   },
   {
    "duration": 14,
    "start_time": "2022-05-10T13:34:07.584Z"
   },
   {
    "duration": 27,
    "start_time": "2022-05-10T13:34:07.600Z"
   },
   {
    "duration": 49,
    "start_time": "2022-05-10T13:34:07.630Z"
   },
   {
    "duration": 43,
    "start_time": "2022-05-10T13:34:07.682Z"
   },
   {
    "duration": 47,
    "start_time": "2022-05-10T13:34:07.729Z"
   },
   {
    "duration": 266,
    "start_time": "2022-05-10T13:34:07.780Z"
   },
   {
    "duration": 12,
    "start_time": "2022-05-10T13:34:08.049Z"
   },
   {
    "duration": 877,
    "start_time": "2022-05-10T13:34:08.064Z"
   },
   {
    "duration": 315,
    "start_time": "2022-05-10T13:34:08.944Z"
   },
   {
    "duration": 414,
    "start_time": "2022-05-10T13:34:09.261Z"
   },
   {
    "duration": 6,
    "start_time": "2022-05-10T13:34:09.678Z"
   },
   {
    "duration": 3122,
    "start_time": "2022-05-10T13:34:09.687Z"
   },
   {
    "duration": 380,
    "start_time": "2022-05-10T13:34:12.812Z"
   },
   {
    "duration": 8,
    "start_time": "2022-05-10T13:34:13.194Z"
   },
   {
    "duration": 238,
    "start_time": "2022-05-10T13:34:13.206Z"
   },
   {
    "duration": 28,
    "start_time": "2022-05-10T13:34:13.449Z"
   },
   {
    "duration": 45,
    "start_time": "2022-05-10T13:34:13.480Z"
   },
   {
    "duration": 11473,
    "start_time": "2022-05-10T13:34:13.528Z"
   },
   {
    "duration": 97,
    "start_time": "2022-05-10T13:39:18.903Z"
   },
   {
    "duration": 1602,
    "start_time": "2022-05-10T13:41:04.702Z"
   },
   {
    "duration": 99,
    "start_time": "2022-05-10T13:41:06.307Z"
   },
   {
    "duration": 23,
    "start_time": "2022-05-10T13:41:06.408Z"
   },
   {
    "duration": 32,
    "start_time": "2022-05-10T13:41:06.434Z"
   },
   {
    "duration": 33,
    "start_time": "2022-05-10T13:41:06.468Z"
   },
   {
    "duration": 50,
    "start_time": "2022-05-10T13:41:06.503Z"
   },
   {
    "duration": 75,
    "start_time": "2022-05-10T13:41:06.555Z"
   },
   {
    "duration": 46,
    "start_time": "2022-05-10T13:41:06.633Z"
   },
   {
    "duration": 51,
    "start_time": "2022-05-10T13:41:06.682Z"
   },
   {
    "duration": 12,
    "start_time": "2022-05-10T13:41:06.738Z"
   },
   {
    "duration": 8,
    "start_time": "2022-05-10T13:41:06.752Z"
   },
   {
    "duration": 15,
    "start_time": "2022-05-10T13:41:06.763Z"
   },
   {
    "duration": 43,
    "start_time": "2022-05-10T13:41:06.781Z"
   },
   {
    "duration": 14,
    "start_time": "2022-05-10T13:41:06.827Z"
   },
   {
    "duration": 31,
    "start_time": "2022-05-10T13:41:06.844Z"
   },
   {
    "duration": 49,
    "start_time": "2022-05-10T13:41:06.877Z"
   },
   {
    "duration": 15,
    "start_time": "2022-05-10T13:41:06.928Z"
   },
   {
    "duration": 28,
    "start_time": "2022-05-10T13:41:06.945Z"
   },
   {
    "duration": 151,
    "start_time": "2022-05-10T13:41:06.975Z"
   },
   {
    "duration": 51,
    "start_time": "2022-05-10T13:41:07.129Z"
   },
   {
    "duration": 73,
    "start_time": "2022-05-10T13:41:07.182Z"
   },
   {
    "duration": 16,
    "start_time": "2022-05-10T13:41:07.257Z"
   },
   {
    "duration": 90,
    "start_time": "2022-05-10T13:41:07.275Z"
   },
   {
    "duration": 131,
    "start_time": "2022-05-10T13:41:07.367Z"
   },
   {
    "duration": 48,
    "start_time": "2022-05-10T13:41:07.501Z"
   },
   {
    "duration": 29,
    "start_time": "2022-05-10T13:41:07.551Z"
   },
   {
    "duration": 10,
    "start_time": "2022-05-10T13:41:07.582Z"
   },
   {
    "duration": 59,
    "start_time": "2022-05-10T13:41:07.602Z"
   },
   {
    "duration": 14,
    "start_time": "2022-05-10T13:41:07.663Z"
   },
   {
    "duration": 60,
    "start_time": "2022-05-10T13:41:07.680Z"
   },
   {
    "duration": 18,
    "start_time": "2022-05-10T13:41:07.743Z"
   },
   {
    "duration": 76,
    "start_time": "2022-05-10T13:41:07.764Z"
   },
   {
    "duration": 53,
    "start_time": "2022-05-10T13:41:07.843Z"
   },
   {
    "duration": 281,
    "start_time": "2022-05-10T13:41:07.899Z"
   },
   {
    "duration": 20,
    "start_time": "2022-05-10T13:41:08.183Z"
   },
   {
    "duration": 253,
    "start_time": "2022-05-10T13:41:08.205Z"
   },
   {
    "duration": 14,
    "start_time": "2022-05-10T13:41:08.461Z"
   },
   {
    "duration": 47,
    "start_time": "2022-05-10T13:41:08.479Z"
   },
   {
    "duration": 259,
    "start_time": "2022-05-10T13:41:08.529Z"
   },
   {
    "duration": 13,
    "start_time": "2022-05-10T13:41:08.791Z"
   },
   {
    "duration": 20,
    "start_time": "2022-05-10T13:41:08.824Z"
   },
   {
    "duration": 218,
    "start_time": "2022-05-10T13:41:08.846Z"
   },
   {
    "duration": 15,
    "start_time": "2022-05-10T13:41:09.066Z"
   },
   {
    "duration": 244,
    "start_time": "2022-05-10T13:41:09.083Z"
   },
   {
    "duration": 18,
    "start_time": "2022-05-10T13:41:09.329Z"
   },
   {
    "duration": 239,
    "start_time": "2022-05-10T13:41:09.350Z"
   },
   {
    "duration": 16,
    "start_time": "2022-05-10T13:41:09.592Z"
   },
   {
    "duration": 9,
    "start_time": "2022-05-10T13:41:09.625Z"
   },
   {
    "duration": 40,
    "start_time": "2022-05-10T13:41:09.637Z"
   },
   {
    "duration": 11,
    "start_time": "2022-05-10T13:41:09.680Z"
   },
   {
    "duration": 47,
    "start_time": "2022-05-10T13:41:09.725Z"
   },
   {
    "duration": 392,
    "start_time": "2022-05-10T13:41:09.775Z"
   },
   {
    "duration": 13,
    "start_time": "2022-05-10T13:41:10.170Z"
   },
   {
    "duration": 908,
    "start_time": "2022-05-10T13:41:10.186Z"
   },
   {
    "duration": 455,
    "start_time": "2022-05-10T13:41:11.097Z"
   },
   {
    "duration": 618,
    "start_time": "2022-05-10T13:41:11.555Z"
   },
   {
    "duration": 17,
    "start_time": "2022-05-10T13:41:12.176Z"
   },
   {
    "duration": 4000,
    "start_time": "2022-05-10T13:41:12.196Z"
   },
   {
    "duration": 537,
    "start_time": "2022-05-10T13:41:16.199Z"
   },
   {
    "duration": 8,
    "start_time": "2022-05-10T13:41:16.738Z"
   },
   {
    "duration": 167,
    "start_time": "2022-05-10T13:41:16.748Z"
   },
   {
    "duration": 26,
    "start_time": "2022-05-10T13:41:16.925Z"
   },
   {
    "duration": 19,
    "start_time": "2022-05-10T13:41:16.953Z"
   },
   {
    "duration": 8943,
    "start_time": "2022-05-10T13:41:16.975Z"
   },
   {
    "duration": 1380,
    "start_time": "2022-05-10T20:29:29.092Z"
   },
   {
    "duration": 205,
    "start_time": "2022-05-10T20:29:30.473Z"
   },
   {
    "duration": 17,
    "start_time": "2022-05-10T20:29:30.680Z"
   },
   {
    "duration": 27,
    "start_time": "2022-05-10T20:29:30.699Z"
   },
   {
    "duration": 32,
    "start_time": "2022-05-10T20:29:30.727Z"
   },
   {
    "duration": 27,
    "start_time": "2022-05-10T20:29:30.761Z"
   },
   {
    "duration": 28,
    "start_time": "2022-05-10T20:29:30.790Z"
   },
   {
    "duration": 20,
    "start_time": "2022-05-10T20:29:30.819Z"
   },
   {
    "duration": 33,
    "start_time": "2022-05-10T20:29:30.841Z"
   },
   {
    "duration": 23,
    "start_time": "2022-05-10T20:29:30.877Z"
   },
   {
    "duration": 10,
    "start_time": "2022-05-10T20:29:30.902Z"
   },
   {
    "duration": 31,
    "start_time": "2022-05-10T20:29:30.914Z"
   },
   {
    "duration": 33,
    "start_time": "2022-05-10T20:29:30.947Z"
   },
   {
    "duration": 33,
    "start_time": "2022-05-10T20:29:30.982Z"
   },
   {
    "duration": 27,
    "start_time": "2022-05-10T20:29:31.017Z"
   },
   {
    "duration": 21,
    "start_time": "2022-05-10T20:29:31.046Z"
   },
   {
    "duration": 23,
    "start_time": "2022-05-10T20:29:31.068Z"
   },
   {
    "duration": 30,
    "start_time": "2022-05-10T20:29:31.093Z"
   },
   {
    "duration": 63,
    "start_time": "2022-05-10T20:29:31.125Z"
   },
   {
    "duration": 66,
    "start_time": "2022-05-10T20:29:31.190Z"
   },
   {
    "duration": 30,
    "start_time": "2022-05-10T20:29:31.258Z"
   },
   {
    "duration": 11,
    "start_time": "2022-05-10T20:29:31.290Z"
   },
   {
    "duration": 75,
    "start_time": "2022-05-10T20:29:31.303Z"
   },
   {
    "duration": 84,
    "start_time": "2022-05-10T20:29:31.380Z"
   },
   {
    "duration": 11,
    "start_time": "2022-05-10T20:29:31.465Z"
   },
   {
    "duration": 12,
    "start_time": "2022-05-10T20:29:31.477Z"
   },
   {
    "duration": 6,
    "start_time": "2022-05-10T20:29:31.491Z"
   },
   {
    "duration": 24,
    "start_time": "2022-05-10T20:29:31.500Z"
   },
   {
    "duration": 35,
    "start_time": "2022-05-10T20:29:31.525Z"
   },
   {
    "duration": 26,
    "start_time": "2022-05-10T20:29:31.563Z"
   },
   {
    "duration": 8,
    "start_time": "2022-05-10T20:29:31.590Z"
   },
   {
    "duration": 26,
    "start_time": "2022-05-10T20:29:31.600Z"
   },
   {
    "duration": 44,
    "start_time": "2022-05-10T20:29:31.627Z"
   },
   {
    "duration": 141,
    "start_time": "2022-05-10T20:29:31.672Z"
   },
   {
    "duration": 13,
    "start_time": "2022-05-10T20:29:31.814Z"
   },
   {
    "duration": 143,
    "start_time": "2022-05-10T20:29:31.828Z"
   },
   {
    "duration": 9,
    "start_time": "2022-05-10T20:29:31.973Z"
   },
   {
    "duration": 12,
    "start_time": "2022-05-10T20:29:31.984Z"
   },
   {
    "duration": 156,
    "start_time": "2022-05-10T20:29:31.998Z"
   },
   {
    "duration": 11,
    "start_time": "2022-05-10T20:29:32.156Z"
   },
   {
    "duration": 15,
    "start_time": "2022-05-10T20:29:32.168Z"
   },
   {
    "duration": 118,
    "start_time": "2022-05-10T20:29:32.185Z"
   },
   {
    "duration": 8,
    "start_time": "2022-05-10T20:29:32.305Z"
   },
   {
    "duration": 133,
    "start_time": "2022-05-10T20:29:32.314Z"
   },
   {
    "duration": 16,
    "start_time": "2022-05-10T20:29:32.449Z"
   },
   {
    "duration": 129,
    "start_time": "2022-05-10T20:29:32.466Z"
   },
   {
    "duration": 9,
    "start_time": "2022-05-10T20:29:32.596Z"
   },
   {
    "duration": 9,
    "start_time": "2022-05-10T20:29:32.607Z"
   },
   {
    "duration": 32,
    "start_time": "2022-05-10T20:29:32.617Z"
   },
   {
    "duration": 17,
    "start_time": "2022-05-10T20:29:32.650Z"
   },
   {
    "duration": 27,
    "start_time": "2022-05-10T20:29:32.669Z"
   },
   {
    "duration": 147,
    "start_time": "2022-05-10T20:29:32.697Z"
   },
   {
    "duration": 10,
    "start_time": "2022-05-10T20:29:32.850Z"
   },
   {
    "duration": 374,
    "start_time": "2022-05-10T20:29:32.862Z"
   },
   {
    "duration": 200,
    "start_time": "2022-05-10T20:29:33.237Z"
   },
   {
    "duration": 247,
    "start_time": "2022-05-10T20:29:33.439Z"
   },
   {
    "duration": 4,
    "start_time": "2022-05-10T20:29:33.688Z"
   },
   {
    "duration": 1859,
    "start_time": "2022-05-10T20:29:33.694Z"
   },
   {
    "duration": 208,
    "start_time": "2022-05-10T20:29:35.556Z"
   },
   {
    "duration": 6,
    "start_time": "2022-05-10T20:29:35.766Z"
   },
   {
    "duration": 100,
    "start_time": "2022-05-10T20:29:35.773Z"
   },
   {
    "duration": 13,
    "start_time": "2022-05-10T20:29:35.875Z"
   },
   {
    "duration": 9,
    "start_time": "2022-05-10T20:29:35.890Z"
   },
   {
    "duration": 5008,
    "start_time": "2022-05-10T20:29:35.900Z"
   }
  ],
  "colab": {
   "name": "DA+. Сборный проект 1. Шаблон (1).ipynb",
   "provenance": []
  },
  "kernelspec": {
   "display_name": "Python 3 (ipykernel)",
   "language": "python",
   "name": "python3"
  },
  "language_info": {
   "codemirror_mode": {
    "name": "ipython",
    "version": 3
   },
   "file_extension": ".py",
   "mimetype": "text/x-python",
   "name": "python",
   "nbconvert_exporter": "python",
   "pygments_lexer": "ipython3",
   "version": "3.9.7"
  },
  "toc": {
   "base_numbering": 1,
   "nav_menu": {},
   "number_sections": true,
   "sideBar": true,
   "skip_h1_title": true,
   "title_cell": "Table of Contents",
   "title_sidebar": "Contents",
   "toc_cell": false,
   "toc_position": {
    "height": "calc(100% - 180px)",
    "left": "10px",
    "top": "150px",
    "width": "375.391px"
   },
   "toc_section_display": true,
   "toc_window_display": false
  }
 },
 "nbformat": 4,
 "nbformat_minor": 1
}
